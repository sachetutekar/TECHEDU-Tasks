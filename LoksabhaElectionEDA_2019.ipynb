{
  "nbformat": 4,
  "nbformat_minor": 0,
  "metadata": {
    "colab": {
      "name": "LoksabhaElectionEDA_2019.ipynb",
      "provenance": [],
      "collapsed_sections": []
    },
    "kernelspec": {
      "name": "python3",
      "display_name": "Python 3"
    },
    "language_info": {
      "name": "python"
    }
  },
  "cells": [
    {
      "cell_type": "markdown",
      "metadata": {
        "id": "e_qa0-smet2D"
      },
      "source": [
        "#**Name: Sachet Utekar**"
      ]
    },
    {
      "cell_type": "markdown",
      "metadata": {
        "id": "yM90EGeGetqU"
      },
      "source": [
        "##**TECHEDU(TIP21) Task 3: Exploratory Data Analysis on provided Loksabha Election 2019 dataset.**"
      ]
    },
    {
      "cell_type": "markdown",
      "metadata": {
        "id": "5Ju_YfF7fbWZ"
      },
      "source": [
        "##**Dataset Link: https://drive.google.com/file/d/1vkZq96YSLrn6ywOGfI3TOyUTMgVtXbp-/view**"
      ]
    },
    {
      "cell_type": "markdown",
      "metadata": {
        "id": "5v8VBaxzaZIL"
      },
      "source": [
        "##**Importing Necessary Libraries and taking care of warnings**"
      ]
    },
    {
      "cell_type": "code",
      "metadata": {
        "colab": {
          "base_uri": "https://localhost:8080/"
        },
        "id": "lMcxUmkwF8Ae",
        "outputId": "22ab3bcb-990d-473a-d792-eea681131231"
      },
      "source": [
        "import numpy as np\n",
        "import pandas as pd\n",
        "import matplotlib.pyplot as plt\n",
        "import seaborn as sb\n",
        "import warnings\n",
        "import matplotlib.pyplot as plt\n",
        "from plotly import tools\n",
        "!pip install chart_studio\n",
        "import chart_studio.plotly as py\n",
        "!pip install plotly\n",
        "import plotly.graph_objs as go\n",
        "import plotly.figure_factory as ff\n",
        "import plotly.express as px\n",
        "from plotly.subplots import make_subplots\n",
        "from plotly.offline import download_plotlyjs, init_notebook_mode\n",
        "import seaborn as sb\n",
        "warnings.filterwarnings(\"ignore\")\n",
        "%matplotlib inline"
      ],
      "execution_count": null,
      "outputs": [
        {
          "output_type": "stream",
          "name": "stdout",
          "text": [
            "Requirement already satisfied: chart_studio in /usr/local/lib/python3.7/dist-packages (1.1.0)\n",
            "Requirement already satisfied: requests in /usr/local/lib/python3.7/dist-packages (from chart_studio) (2.23.0)\n",
            "Requirement already satisfied: plotly in /usr/local/lib/python3.7/dist-packages (from chart_studio) (5.3.1)\n",
            "Requirement already satisfied: retrying>=1.3.3 in /usr/local/lib/python3.7/dist-packages (from chart_studio) (1.3.3)\n",
            "Requirement already satisfied: six in /usr/local/lib/python3.7/dist-packages (from chart_studio) (1.15.0)\n",
            "Requirement already satisfied: tenacity>=6.2.0 in /usr/local/lib/python3.7/dist-packages (from plotly->chart_studio) (8.0.1)\n",
            "Requirement already satisfied: urllib3!=1.25.0,!=1.25.1,<1.26,>=1.21.1 in /usr/local/lib/python3.7/dist-packages (from requests->chart_studio) (1.24.3)\n",
            "Requirement already satisfied: certifi>=2017.4.17 in /usr/local/lib/python3.7/dist-packages (from requests->chart_studio) (2021.5.30)\n",
            "Requirement already satisfied: chardet<4,>=3.0.2 in /usr/local/lib/python3.7/dist-packages (from requests->chart_studio) (3.0.4)\n",
            "Requirement already satisfied: idna<3,>=2.5 in /usr/local/lib/python3.7/dist-packages (from requests->chart_studio) (2.10)\n",
            "Requirement already satisfied: plotly in /usr/local/lib/python3.7/dist-packages (5.3.1)\n",
            "Requirement already satisfied: tenacity>=6.2.0 in /usr/local/lib/python3.7/dist-packages (from plotly) (8.0.1)\n",
            "Requirement already satisfied: six in /usr/local/lib/python3.7/dist-packages (from plotly) (1.15.0)\n"
          ]
        }
      ]
    },
    {
      "cell_type": "markdown",
      "metadata": {
        "id": "6kNwwsf6a5C0"
      },
      "source": [
        "##**Importing Dataset**"
      ]
    },
    {
      "cell_type": "code",
      "metadata": {
        "colab": {
          "base_uri": "https://localhost:8080/",
          "height": 483
        },
        "id": "TW8H89GhG50n",
        "outputId": "0c083fc3-71f7-4a1e-b7d3-e0364412f736"
      },
      "source": [
        "dataset = pd.read_csv('/content/LS_2.0.csv')\n",
        "dataset.head(6)"
      ],
      "execution_count": null,
      "outputs": [
        {
          "output_type": "execute_result",
          "data": {
            "text/html": [
              "<div>\n",
              "<style scoped>\n",
              "    .dataframe tbody tr th:only-of-type {\n",
              "        vertical-align: middle;\n",
              "    }\n",
              "\n",
              "    .dataframe tbody tr th {\n",
              "        vertical-align: top;\n",
              "    }\n",
              "\n",
              "    .dataframe thead th {\n",
              "        text-align: right;\n",
              "    }\n",
              "</style>\n",
              "<table border=\"1\" class=\"dataframe\">\n",
              "  <thead>\n",
              "    <tr style=\"text-align: right;\">\n",
              "      <th></th>\n",
              "      <th>STATE</th>\n",
              "      <th>CONSTITUENCY</th>\n",
              "      <th>NAME</th>\n",
              "      <th>WINNER</th>\n",
              "      <th>PARTY</th>\n",
              "      <th>SYMBOL</th>\n",
              "      <th>GENDER</th>\n",
              "      <th>CRIMINAL\\nCASES</th>\n",
              "      <th>AGE</th>\n",
              "      <th>CATEGORY</th>\n",
              "      <th>EDUCATION</th>\n",
              "      <th>ASSETS</th>\n",
              "      <th>LIABILITIES</th>\n",
              "      <th>GENERAL\\nVOTES</th>\n",
              "      <th>POSTAL\\nVOTES</th>\n",
              "      <th>TOTAL\\nVOTES</th>\n",
              "      <th>OVER TOTAL ELECTORS \\nIN CONSTITUENCY</th>\n",
              "      <th>OVER TOTAL VOTES POLLED \\nIN CONSTITUENCY</th>\n",
              "      <th>TOTAL ELECTORS</th>\n",
              "    </tr>\n",
              "  </thead>\n",
              "  <tbody>\n",
              "    <tr>\n",
              "      <th>0</th>\n",
              "      <td>Telangana</td>\n",
              "      <td>ADILABAD</td>\n",
              "      <td>SOYAM BAPU RAO</td>\n",
              "      <td>1</td>\n",
              "      <td>BJP</td>\n",
              "      <td>Lotus</td>\n",
              "      <td>MALE</td>\n",
              "      <td>52</td>\n",
              "      <td>52.0</td>\n",
              "      <td>ST</td>\n",
              "      <td>12th Pass</td>\n",
              "      <td>Rs 30,99,414\\n ~ 30 Lacs+</td>\n",
              "      <td>Rs 2,31,450\\n ~ 2 Lacs+</td>\n",
              "      <td>376892</td>\n",
              "      <td>482</td>\n",
              "      <td>377374</td>\n",
              "      <td>25.330684</td>\n",
              "      <td>35.468248</td>\n",
              "      <td>1489790</td>\n",
              "    </tr>\n",
              "    <tr>\n",
              "      <th>1</th>\n",
              "      <td>Telangana</td>\n",
              "      <td>ADILABAD</td>\n",
              "      <td>Godam Nagesh</td>\n",
              "      <td>0</td>\n",
              "      <td>TRS</td>\n",
              "      <td>Car</td>\n",
              "      <td>MALE</td>\n",
              "      <td>0</td>\n",
              "      <td>54.0</td>\n",
              "      <td>ST</td>\n",
              "      <td>Post Graduate</td>\n",
              "      <td>Rs 1,84,77,888\\n ~ 1 Crore+</td>\n",
              "      <td>Rs 8,47,000\\n ~ 8 Lacs+</td>\n",
              "      <td>318665</td>\n",
              "      <td>149</td>\n",
              "      <td>318814</td>\n",
              "      <td>21.399929</td>\n",
              "      <td>29.964370</td>\n",
              "      <td>1489790</td>\n",
              "    </tr>\n",
              "    <tr>\n",
              "      <th>2</th>\n",
              "      <td>Telangana</td>\n",
              "      <td>ADILABAD</td>\n",
              "      <td>RATHOD RAMESH</td>\n",
              "      <td>0</td>\n",
              "      <td>INC</td>\n",
              "      <td>Hand</td>\n",
              "      <td>MALE</td>\n",
              "      <td>3</td>\n",
              "      <td>52.0</td>\n",
              "      <td>ST</td>\n",
              "      <td>12th Pass</td>\n",
              "      <td>Rs 3,64,91,000\\n ~ 3 Crore+</td>\n",
              "      <td>Rs 1,53,00,000\\n ~ 1 Crore+</td>\n",
              "      <td>314057</td>\n",
              "      <td>181</td>\n",
              "      <td>314238</td>\n",
              "      <td>21.092771</td>\n",
              "      <td>29.534285</td>\n",
              "      <td>1489790</td>\n",
              "    </tr>\n",
              "    <tr>\n",
              "      <th>3</th>\n",
              "      <td>Telangana</td>\n",
              "      <td>ADILABAD</td>\n",
              "      <td>NOTA</td>\n",
              "      <td>0</td>\n",
              "      <td>NOTA</td>\n",
              "      <td>NaN</td>\n",
              "      <td>NaN</td>\n",
              "      <td>NaN</td>\n",
              "      <td>NaN</td>\n",
              "      <td>NaN</td>\n",
              "      <td>NaN</td>\n",
              "      <td>NaN</td>\n",
              "      <td>NaN</td>\n",
              "      <td>13030</td>\n",
              "      <td>6</td>\n",
              "      <td>13036</td>\n",
              "      <td>0.875023</td>\n",
              "      <td>1.225214</td>\n",
              "      <td>1489790</td>\n",
              "    </tr>\n",
              "    <tr>\n",
              "      <th>4</th>\n",
              "      <td>Uttar Pradesh</td>\n",
              "      <td>AGRA</td>\n",
              "      <td>Satyapal Singh Baghel</td>\n",
              "      <td>1</td>\n",
              "      <td>BJP</td>\n",
              "      <td>Lotus</td>\n",
              "      <td>MALE</td>\n",
              "      <td>5</td>\n",
              "      <td>58.0</td>\n",
              "      <td>SC</td>\n",
              "      <td>Doctorate</td>\n",
              "      <td>Rs 7,42,74,036\\n ~ 7 Crore+</td>\n",
              "      <td>Rs 86,06,522\\n ~ 86 Lacs+</td>\n",
              "      <td>644459</td>\n",
              "      <td>2416</td>\n",
              "      <td>646875</td>\n",
              "      <td>33.383823</td>\n",
              "      <td>56.464615</td>\n",
              "      <td>1937690</td>\n",
              "    </tr>\n",
              "    <tr>\n",
              "      <th>5</th>\n",
              "      <td>Uttar Pradesh</td>\n",
              "      <td>AGRA</td>\n",
              "      <td>Manoj Kumar Soni</td>\n",
              "      <td>0</td>\n",
              "      <td>BSP</td>\n",
              "      <td>Elephant</td>\n",
              "      <td>MALE</td>\n",
              "      <td>0</td>\n",
              "      <td>47.0</td>\n",
              "      <td>SC</td>\n",
              "      <td>Post Graduate</td>\n",
              "      <td>Rs 13,37,84,385\\n ~ 13 Crore+</td>\n",
              "      <td>Rs 2,22,51,891\\n ~ 2 Crore+</td>\n",
              "      <td>434199</td>\n",
              "      <td>1130</td>\n",
              "      <td>435329</td>\n",
              "      <td>22.466390</td>\n",
              "      <td>37.999125</td>\n",
              "      <td>1937690</td>\n",
              "    </tr>\n",
              "  </tbody>\n",
              "</table>\n",
              "</div>"
            ],
            "text/plain": [
              "           STATE  ... TOTAL ELECTORS\n",
              "0      Telangana  ...        1489790\n",
              "1      Telangana  ...        1489790\n",
              "2      Telangana  ...        1489790\n",
              "3      Telangana  ...        1489790\n",
              "4  Uttar Pradesh  ...        1937690\n",
              "5  Uttar Pradesh  ...        1937690\n",
              "\n",
              "[6 rows x 19 columns]"
            ]
          },
          "metadata": {},
          "execution_count": 2
        }
      ]
    },
    {
      "cell_type": "code",
      "metadata": {
        "colab": {
          "base_uri": "https://localhost:8080/"
        },
        "id": "sAknuRXmbC1d",
        "outputId": "ab8d6f03-5b95-47b1-a9d5-d75afb0cc1e1"
      },
      "source": [
        "#Taking a peek at the first row of the data:\n",
        "!head -n 1 /content/LS_2.0.csv"
      ],
      "execution_count": null,
      "outputs": [
        {
          "output_type": "stream",
          "name": "stdout",
          "text": [
            "STATE,CONSTITUENCY,NAME,WINNER,PARTY,SYMBOL,GENDER,\"CRIMINAL\n"
          ]
        }
      ]
    },
    {
      "cell_type": "markdown",
      "metadata": {
        "id": "gQn2fN5zbJmT"
      },
      "source": [
        "##**Data Cleaning/Analysis**"
      ]
    },
    {
      "cell_type": "code",
      "metadata": {
        "id": "o1G23brjKSIB"
      },
      "source": [
        "dataset.replace({'Not Available': np.nan}, inplace = True) #cleaning the data"
      ],
      "execution_count": null,
      "outputs": []
    },
    {
      "cell_type": "code",
      "metadata": {
        "id": "KWULs8g0M0Te"
      },
      "source": [
        "#cleaning the data\n",
        "dataset = dataset.replace('\\r','')\n",
        "dataset = dataset.replace('\\n','')"
      ],
      "execution_count": null,
      "outputs": []
    },
    {
      "cell_type": "code",
      "metadata": {
        "colab": {
          "base_uri": "https://localhost:8080/"
        },
        "id": "0T0eAlpHHkHG",
        "outputId": "d18c8ff7-f5b4-4d4c-d1b7-67f7673910fa"
      },
      "source": [
        "#getting the shape of the data\n",
        "#(rows * columns)\n",
        "dataset.shape"
      ],
      "execution_count": null,
      "outputs": [
        {
          "output_type": "execute_result",
          "data": {
            "text/plain": [
              "(2263, 19)"
            ]
          },
          "metadata": {},
          "execution_count": 6
        }
      ]
    },
    {
      "cell_type": "code",
      "metadata": {
        "colab": {
          "base_uri": "https://localhost:8080/",
          "height": 372
        },
        "id": "cUtX9-KJIU8U",
        "outputId": "164f7288-3781-481c-db74-390cab79d6c0"
      },
      "source": [
        "dataset.describe() #describing the dataset"
      ],
      "execution_count": null,
      "outputs": [
        {
          "output_type": "execute_result",
          "data": {
            "text/html": [
              "<div>\n",
              "<style scoped>\n",
              "    .dataframe tbody tr th:only-of-type {\n",
              "        vertical-align: middle;\n",
              "    }\n",
              "\n",
              "    .dataframe tbody tr th {\n",
              "        vertical-align: top;\n",
              "    }\n",
              "\n",
              "    .dataframe thead th {\n",
              "        text-align: right;\n",
              "    }\n",
              "</style>\n",
              "<table border=\"1\" class=\"dataframe\">\n",
              "  <thead>\n",
              "    <tr style=\"text-align: right;\">\n",
              "      <th></th>\n",
              "      <th>WINNER</th>\n",
              "      <th>AGE</th>\n",
              "      <th>GENERAL\\nVOTES</th>\n",
              "      <th>POSTAL\\nVOTES</th>\n",
              "      <th>TOTAL\\nVOTES</th>\n",
              "      <th>OVER TOTAL ELECTORS \\nIN CONSTITUENCY</th>\n",
              "      <th>OVER TOTAL VOTES POLLED \\nIN CONSTITUENCY</th>\n",
              "      <th>TOTAL ELECTORS</th>\n",
              "    </tr>\n",
              "  </thead>\n",
              "  <tbody>\n",
              "    <tr>\n",
              "      <th>count</th>\n",
              "      <td>2263.000000</td>\n",
              "      <td>2018.000000</td>\n",
              "      <td>2.263000e+03</td>\n",
              "      <td>2263.000000</td>\n",
              "      <td>2.263000e+03</td>\n",
              "      <td>2263.000000</td>\n",
              "      <td>2263.000000</td>\n",
              "      <td>2.263000e+03</td>\n",
              "    </tr>\n",
              "    <tr>\n",
              "      <th>mean</th>\n",
              "      <td>0.238179</td>\n",
              "      <td>52.273538</td>\n",
              "      <td>2.615991e+05</td>\n",
              "      <td>990.710561</td>\n",
              "      <td>2.625898e+05</td>\n",
              "      <td>15.811412</td>\n",
              "      <td>23.190525</td>\n",
              "      <td>1.658016e+06</td>\n",
              "    </tr>\n",
              "    <tr>\n",
              "      <th>std</th>\n",
              "      <td>0.426064</td>\n",
              "      <td>11.869373</td>\n",
              "      <td>2.549906e+05</td>\n",
              "      <td>1602.839174</td>\n",
              "      <td>2.559822e+05</td>\n",
              "      <td>14.962861</td>\n",
              "      <td>21.564758</td>\n",
              "      <td>3.145187e+05</td>\n",
              "    </tr>\n",
              "    <tr>\n",
              "      <th>min</th>\n",
              "      <td>0.000000</td>\n",
              "      <td>25.000000</td>\n",
              "      <td>1.339000e+03</td>\n",
              "      <td>0.000000</td>\n",
              "      <td>1.342000e+03</td>\n",
              "      <td>0.097941</td>\n",
              "      <td>1.000039</td>\n",
              "      <td>5.518900e+04</td>\n",
              "    </tr>\n",
              "    <tr>\n",
              "      <th>25%</th>\n",
              "      <td>0.000000</td>\n",
              "      <td>43.250000</td>\n",
              "      <td>2.103450e+04</td>\n",
              "      <td>57.000000</td>\n",
              "      <td>2.116250e+04</td>\n",
              "      <td>1.296518</td>\n",
              "      <td>1.899502</td>\n",
              "      <td>1.530014e+06</td>\n",
              "    </tr>\n",
              "    <tr>\n",
              "      <th>50%</th>\n",
              "      <td>0.000000</td>\n",
              "      <td>52.000000</td>\n",
              "      <td>1.539340e+05</td>\n",
              "      <td>316.000000</td>\n",
              "      <td>1.544890e+05</td>\n",
              "      <td>10.510553</td>\n",
              "      <td>16.221721</td>\n",
              "      <td>1.679030e+06</td>\n",
              "    </tr>\n",
              "    <tr>\n",
              "      <th>75%</th>\n",
              "      <td>0.000000</td>\n",
              "      <td>61.000000</td>\n",
              "      <td>4.858040e+05</td>\n",
              "      <td>1385.000000</td>\n",
              "      <td>4.872315e+05</td>\n",
              "      <td>29.468185</td>\n",
              "      <td>42.590233</td>\n",
              "      <td>1.816857e+06</td>\n",
              "    </tr>\n",
              "    <tr>\n",
              "      <th>max</th>\n",
              "      <td>1.000000</td>\n",
              "      <td>86.000000</td>\n",
              "      <td>1.066824e+06</td>\n",
              "      <td>19367.000000</td>\n",
              "      <td>1.068569e+06</td>\n",
              "      <td>51.951012</td>\n",
              "      <td>74.411856</td>\n",
              "      <td>3.150313e+06</td>\n",
              "    </tr>\n",
              "  </tbody>\n",
              "</table>\n",
              "</div>"
            ],
            "text/plain": [
              "            WINNER  ...  TOTAL ELECTORS\n",
              "count  2263.000000  ...    2.263000e+03\n",
              "mean      0.238179  ...    1.658016e+06\n",
              "std       0.426064  ...    3.145187e+05\n",
              "min       0.000000  ...    5.518900e+04\n",
              "25%       0.000000  ...    1.530014e+06\n",
              "50%       0.000000  ...    1.679030e+06\n",
              "75%       0.000000  ...    1.816857e+06\n",
              "max       1.000000  ...    3.150313e+06\n",
              "\n",
              "[8 rows x 8 columns]"
            ]
          },
          "metadata": {},
          "execution_count": 7
        }
      ]
    },
    {
      "cell_type": "code",
      "metadata": {
        "colab": {
          "base_uri": "https://localhost:8080/"
        },
        "id": "AdHePfdgIRJs",
        "outputId": "2460b01e-12f3-431e-caa6-bdd263be25e7"
      },
      "source": [
        "dataset.info() #information regarding the dataset"
      ],
      "execution_count": null,
      "outputs": [
        {
          "output_type": "stream",
          "name": "stdout",
          "text": [
            "<class 'pandas.core.frame.DataFrame'>\n",
            "RangeIndex: 2263 entries, 0 to 2262\n",
            "Data columns (total 19 columns):\n",
            " #   Column                                    Non-Null Count  Dtype  \n",
            "---  ------                                    --------------  -----  \n",
            " 0   STATE                                     2263 non-null   object \n",
            " 1   CONSTITUENCY                              2263 non-null   object \n",
            " 2   NAME                                      2263 non-null   object \n",
            " 3   WINNER                                    2263 non-null   int64  \n",
            " 4   PARTY                                     2263 non-null   object \n",
            " 5   SYMBOL                                    2018 non-null   object \n",
            " 6   GENDER                                    2018 non-null   object \n",
            " 7   CRIMINAL\n",
            "CASES                            1996 non-null   object \n",
            " 8   AGE                                       2018 non-null   float64\n",
            " 9   CATEGORY                                  2018 non-null   object \n",
            " 10  EDUCATION                                 1996 non-null   object \n",
            " 11  ASSETS                                    1996 non-null   object \n",
            " 12  LIABILITIES                               1996 non-null   object \n",
            " 13  GENERAL\n",
            "VOTES                             2263 non-null   int64  \n",
            " 14  POSTAL\n",
            "VOTES                              2263 non-null   int64  \n",
            " 15  TOTAL\n",
            "VOTES                               2263 non-null   int64  \n",
            " 16  OVER TOTAL ELECTORS \n",
            "IN CONSTITUENCY      2263 non-null   float64\n",
            " 17  OVER TOTAL VOTES POLLED \n",
            "IN CONSTITUENCY  2263 non-null   float64\n",
            " 18  TOTAL ELECTORS                            2263 non-null   int64  \n",
            "dtypes: float64(3), int64(5), object(11)\n",
            "memory usage: 336.0+ KB\n"
          ]
        }
      ]
    },
    {
      "cell_type": "code",
      "metadata": {
        "colab": {
          "base_uri": "https://localhost:8080/"
        },
        "id": "3hZP1QuIIrI6",
        "outputId": "a9af3b7b-c159-4f98-d2ea-be01c1f22504"
      },
      "source": [
        "dataset.nunique() #finding out unique records"
      ],
      "execution_count": null,
      "outputs": [
        {
          "output_type": "execute_result",
          "data": {
            "text/plain": [
              "STATE                                          36\n",
              "CONSTITUENCY                                  539\n",
              "NAME                                         2014\n",
              "WINNER                                          2\n",
              "PARTY                                         133\n",
              "SYMBOL                                        126\n",
              "GENDER                                          2\n",
              "CRIMINAL\\nCASES                                28\n",
              "AGE                                            60\n",
              "CATEGORY                                        3\n",
              "EDUCATION                                      12\n",
              "ASSETS                                       1978\n",
              "LIABILITIES                                  1225\n",
              "GENERAL\\nVOTES                               2244\n",
              "POSTAL\\nVOTES                                1217\n",
              "TOTAL\\nVOTES                                 2247\n",
              "OVER TOTAL ELECTORS \\nIN CONSTITUENCY        2263\n",
              "OVER TOTAL VOTES POLLED \\nIN CONSTITUENCY    2263\n",
              "TOTAL ELECTORS                                542\n",
              "dtype: int64"
            ]
          },
          "metadata": {},
          "execution_count": 9
        }
      ]
    },
    {
      "cell_type": "code",
      "metadata": {
        "colab": {
          "base_uri": "https://localhost:8080/"
        },
        "id": "rpmIfK1IIbUJ",
        "outputId": "96ad504c-10ef-4604-b851-18501d1263f9"
      },
      "source": [
        "dataset.isna().any() #checking for missing values"
      ],
      "execution_count": null,
      "outputs": [
        {
          "output_type": "execute_result",
          "data": {
            "text/plain": [
              "STATE                                        False\n",
              "CONSTITUENCY                                 False\n",
              "NAME                                         False\n",
              "WINNER                                       False\n",
              "PARTY                                        False\n",
              "SYMBOL                                        True\n",
              "GENDER                                        True\n",
              "CRIMINAL\\nCASES                               True\n",
              "AGE                                           True\n",
              "CATEGORY                                      True\n",
              "EDUCATION                                     True\n",
              "ASSETS                                        True\n",
              "LIABILITIES                                   True\n",
              "GENERAL\\nVOTES                               False\n",
              "POSTAL\\nVOTES                                False\n",
              "TOTAL\\nVOTES                                 False\n",
              "OVER TOTAL ELECTORS \\nIN CONSTITUENCY        False\n",
              "OVER TOTAL VOTES POLLED \\nIN CONSTITUENCY    False\n",
              "TOTAL ELECTORS                               False\n",
              "dtype: bool"
            ]
          },
          "metadata": {},
          "execution_count": 10
        }
      ]
    },
    {
      "cell_type": "code",
      "metadata": {
        "colab": {
          "base_uri": "https://localhost:8080/"
        },
        "id": "tFa2ud-MIwRB",
        "outputId": "7c9e33d7-9deb-4262-8126-f442461e3bd2"
      },
      "source": [
        "dataset.isna().sum() #sum of missing values per record"
      ],
      "execution_count": null,
      "outputs": [
        {
          "output_type": "execute_result",
          "data": {
            "text/plain": [
              "STATE                                          0\n",
              "CONSTITUENCY                                   0\n",
              "NAME                                           0\n",
              "WINNER                                         0\n",
              "PARTY                                          0\n",
              "SYMBOL                                       245\n",
              "GENDER                                       245\n",
              "CRIMINAL\\nCASES                              267\n",
              "AGE                                          245\n",
              "CATEGORY                                     245\n",
              "EDUCATION                                    267\n",
              "ASSETS                                       267\n",
              "LIABILITIES                                  267\n",
              "GENERAL\\nVOTES                                 0\n",
              "POSTAL\\nVOTES                                  0\n",
              "TOTAL\\nVOTES                                   0\n",
              "OVER TOTAL ELECTORS \\nIN CONSTITUENCY          0\n",
              "OVER TOTAL VOTES POLLED \\nIN CONSTITUENCY      0\n",
              "TOTAL ELECTORS                                 0\n",
              "dtype: int64"
            ]
          },
          "metadata": {},
          "execution_count": 11
        }
      ]
    },
    {
      "cell_type": "code",
      "metadata": {
        "id": "Dj4bs0ZDc_0L"
      },
      "source": [
        "#Alternate method\n",
        "#from numpy import NaN\n",
        "#dataset = dataset.replace('', NaN)"
      ],
      "execution_count": null,
      "outputs": []
    },
    {
      "cell_type": "code",
      "metadata": {
        "id": "_Wh9ICgWde7r"
      },
      "source": [
        "dataset['AGE'].fillna(dataset['AGE'].mean(), inplace = True)"
      ],
      "execution_count": null,
      "outputs": []
    },
    {
      "cell_type": "code",
      "metadata": {
        "colab": {
          "base_uri": "https://localhost:8080/"
        },
        "id": "md9tbMcKemgZ",
        "outputId": "6f182b81-8c59-493e-d3a3-6d2e9d84bf7d"
      },
      "source": [
        "dataset.isna().sum()"
      ],
      "execution_count": null,
      "outputs": [
        {
          "output_type": "execute_result",
          "data": {
            "text/plain": [
              "STATE                                          0\n",
              "CONSTITUENCY                                   0\n",
              "NAME                                           0\n",
              "WINNER                                         0\n",
              "PARTY                                          0\n",
              "SYMBOL                                       245\n",
              "GENDER                                       245\n",
              "CRIMINAL\\nCASES                              267\n",
              "AGE                                            0\n",
              "CATEGORY                                     245\n",
              "EDUCATION                                    267\n",
              "ASSETS                                       267\n",
              "LIABILITIES                                  267\n",
              "GENERAL\\nVOTES                                 0\n",
              "POSTAL\\nVOTES                                  0\n",
              "TOTAL\\nVOTES                                   0\n",
              "OVER TOTAL ELECTORS \\nIN CONSTITUENCY          0\n",
              "OVER TOTAL VOTES POLLED \\nIN CONSTITUENCY      0\n",
              "TOTAL ELECTORS                                 0\n",
              "dtype: int64"
            ]
          },
          "metadata": {},
          "execution_count": 14
        }
      ]
    },
    {
      "cell_type": "code",
      "metadata": {
        "colab": {
          "base_uri": "https://localhost:8080/"
        },
        "id": "AgcP1RpwgglN",
        "outputId": "41d8e866-ad48-4c8d-b40f-91b3a9e41cef"
      },
      "source": [
        "#cleaned the data by eliminating missing/null values\n",
        "dataset = dataset[dataset['PARTY']!= 'NOTA']\n",
        "dataset = dataset.dropna()\n",
        "dataset.isna().sum()"
      ],
      "execution_count": null,
      "outputs": [
        {
          "output_type": "execute_result",
          "data": {
            "text/plain": [
              "STATE                                        0\n",
              "CONSTITUENCY                                 0\n",
              "NAME                                         0\n",
              "WINNER                                       0\n",
              "PARTY                                        0\n",
              "SYMBOL                                       0\n",
              "GENDER                                       0\n",
              "CRIMINAL\\nCASES                              0\n",
              "AGE                                          0\n",
              "CATEGORY                                     0\n",
              "EDUCATION                                    0\n",
              "ASSETS                                       0\n",
              "LIABILITIES                                  0\n",
              "GENERAL\\nVOTES                               0\n",
              "POSTAL\\nVOTES                                0\n",
              "TOTAL\\nVOTES                                 0\n",
              "OVER TOTAL ELECTORS \\nIN CONSTITUENCY        0\n",
              "OVER TOTAL VOTES POLLED \\nIN CONSTITUENCY    0\n",
              "TOTAL ELECTORS                               0\n",
              "dtype: int64"
            ]
          },
          "metadata": {},
          "execution_count": 15
        }
      ]
    },
    {
      "cell_type": "code",
      "metadata": {
        "id": "ZKtbA4JIzsFt"
      },
      "source": [
        "#Cleaning of dataset(Step2)\n",
        "dataset.columns = dataset.columns.str.replace('\\r','')\n",
        "dataset.columns = dataset.columns.str.replace('\\n','')"
      ],
      "execution_count": null,
      "outputs": []
    },
    {
      "cell_type": "code",
      "metadata": {
        "id": "e5TDg-fxky4M"
      },
      "source": [
        "#dataset['ASSETS'] = dataset['ASSETS'].str.replace('\\n','')"
      ],
      "execution_count": null,
      "outputs": []
    },
    {
      "cell_type": "code",
      "metadata": {
        "id": "BA5nXKlflXY-"
      },
      "source": [
        "#dataset['LIABILITIES'] = dataset['LIABILITIES'].str.replace('\\n','')"
      ],
      "execution_count": null,
      "outputs": []
    },
    {
      "cell_type": "code",
      "metadata": {
        "id": "xmX2fCl6l7VG"
      },
      "source": [
        "#created a function\n",
        "#cleaning of dataset(Step3)\n",
        "def value_cleaner(x):\n",
        "    try:\n",
        "        str_temp = (x.split('Rs')[1].split('\\n')[0].strip())\n",
        "        str_temp_2 = ''\n",
        "        for i in str_temp.split(\",\"):\n",
        "            str_temp_2 = str_temp_2+i\n",
        "        return str_temp_2\n",
        "    except:\n",
        "        x = 0\n",
        "        return x\n",
        "dataset['ASSETS'] = dataset['ASSETS'].apply((value_cleaner))\n",
        "dataset['LIABILITIES'] = dataset['LIABILITIES'].apply((value_cleaner))"
      ],
      "execution_count": null,
      "outputs": []
    },
    {
      "cell_type": "code",
      "metadata": {
        "colab": {
          "base_uri": "https://localhost:8080/",
          "height": 660
        },
        "id": "L8_EUPGnjY3H",
        "outputId": "e761b9ff-fa9c-4238-a5f6-dd7adeeeb286"
      },
      "source": [
        "dataset.head(10)"
      ],
      "execution_count": null,
      "outputs": [
        {
          "output_type": "execute_result",
          "data": {
            "text/html": [
              "<div>\n",
              "<style scoped>\n",
              "    .dataframe tbody tr th:only-of-type {\n",
              "        vertical-align: middle;\n",
              "    }\n",
              "\n",
              "    .dataframe tbody tr th {\n",
              "        vertical-align: top;\n",
              "    }\n",
              "\n",
              "    .dataframe thead th {\n",
              "        text-align: right;\n",
              "    }\n",
              "</style>\n",
              "<table border=\"1\" class=\"dataframe\">\n",
              "  <thead>\n",
              "    <tr style=\"text-align: right;\">\n",
              "      <th></th>\n",
              "      <th>STATE</th>\n",
              "      <th>CONSTITUENCY</th>\n",
              "      <th>NAME</th>\n",
              "      <th>WINNER</th>\n",
              "      <th>PARTY</th>\n",
              "      <th>SYMBOL</th>\n",
              "      <th>GENDER</th>\n",
              "      <th>CRIMINALCASES</th>\n",
              "      <th>AGE</th>\n",
              "      <th>CATEGORY</th>\n",
              "      <th>EDUCATION</th>\n",
              "      <th>ASSETS</th>\n",
              "      <th>LIABILITIES</th>\n",
              "      <th>GENERALVOTES</th>\n",
              "      <th>POSTALVOTES</th>\n",
              "      <th>TOTALVOTES</th>\n",
              "      <th>OVER TOTAL ELECTORS IN CONSTITUENCY</th>\n",
              "      <th>OVER TOTAL VOTES POLLED IN CONSTITUENCY</th>\n",
              "      <th>TOTAL ELECTORS</th>\n",
              "    </tr>\n",
              "  </thead>\n",
              "  <tbody>\n",
              "    <tr>\n",
              "      <th>0</th>\n",
              "      <td>Telangana</td>\n",
              "      <td>ADILABAD</td>\n",
              "      <td>SOYAM BAPU RAO</td>\n",
              "      <td>1</td>\n",
              "      <td>BJP</td>\n",
              "      <td>Lotus</td>\n",
              "      <td>MALE</td>\n",
              "      <td>52</td>\n",
              "      <td>52.0</td>\n",
              "      <td>ST</td>\n",
              "      <td>12th Pass</td>\n",
              "      <td>3099414</td>\n",
              "      <td>231450</td>\n",
              "      <td>376892</td>\n",
              "      <td>482</td>\n",
              "      <td>377374</td>\n",
              "      <td>25.330684</td>\n",
              "      <td>35.468248</td>\n",
              "      <td>1489790</td>\n",
              "    </tr>\n",
              "    <tr>\n",
              "      <th>1</th>\n",
              "      <td>Telangana</td>\n",
              "      <td>ADILABAD</td>\n",
              "      <td>Godam Nagesh</td>\n",
              "      <td>0</td>\n",
              "      <td>TRS</td>\n",
              "      <td>Car</td>\n",
              "      <td>MALE</td>\n",
              "      <td>0</td>\n",
              "      <td>54.0</td>\n",
              "      <td>ST</td>\n",
              "      <td>Post Graduate</td>\n",
              "      <td>18477888</td>\n",
              "      <td>847000</td>\n",
              "      <td>318665</td>\n",
              "      <td>149</td>\n",
              "      <td>318814</td>\n",
              "      <td>21.399929</td>\n",
              "      <td>29.964370</td>\n",
              "      <td>1489790</td>\n",
              "    </tr>\n",
              "    <tr>\n",
              "      <th>2</th>\n",
              "      <td>Telangana</td>\n",
              "      <td>ADILABAD</td>\n",
              "      <td>RATHOD RAMESH</td>\n",
              "      <td>0</td>\n",
              "      <td>INC</td>\n",
              "      <td>Hand</td>\n",
              "      <td>MALE</td>\n",
              "      <td>3</td>\n",
              "      <td>52.0</td>\n",
              "      <td>ST</td>\n",
              "      <td>12th Pass</td>\n",
              "      <td>36491000</td>\n",
              "      <td>15300000</td>\n",
              "      <td>314057</td>\n",
              "      <td>181</td>\n",
              "      <td>314238</td>\n",
              "      <td>21.092771</td>\n",
              "      <td>29.534285</td>\n",
              "      <td>1489790</td>\n",
              "    </tr>\n",
              "    <tr>\n",
              "      <th>4</th>\n",
              "      <td>Uttar Pradesh</td>\n",
              "      <td>AGRA</td>\n",
              "      <td>Satyapal Singh Baghel</td>\n",
              "      <td>1</td>\n",
              "      <td>BJP</td>\n",
              "      <td>Lotus</td>\n",
              "      <td>MALE</td>\n",
              "      <td>5</td>\n",
              "      <td>58.0</td>\n",
              "      <td>SC</td>\n",
              "      <td>Doctorate</td>\n",
              "      <td>74274036</td>\n",
              "      <td>8606522</td>\n",
              "      <td>644459</td>\n",
              "      <td>2416</td>\n",
              "      <td>646875</td>\n",
              "      <td>33.383823</td>\n",
              "      <td>56.464615</td>\n",
              "      <td>1937690</td>\n",
              "    </tr>\n",
              "    <tr>\n",
              "      <th>5</th>\n",
              "      <td>Uttar Pradesh</td>\n",
              "      <td>AGRA</td>\n",
              "      <td>Manoj Kumar Soni</td>\n",
              "      <td>0</td>\n",
              "      <td>BSP</td>\n",
              "      <td>Elephant</td>\n",
              "      <td>MALE</td>\n",
              "      <td>0</td>\n",
              "      <td>47.0</td>\n",
              "      <td>SC</td>\n",
              "      <td>Post Graduate</td>\n",
              "      <td>133784385</td>\n",
              "      <td>22251891</td>\n",
              "      <td>434199</td>\n",
              "      <td>1130</td>\n",
              "      <td>435329</td>\n",
              "      <td>22.466390</td>\n",
              "      <td>37.999125</td>\n",
              "      <td>1937690</td>\n",
              "    </tr>\n",
              "    <tr>\n",
              "      <th>6</th>\n",
              "      <td>Uttar Pradesh</td>\n",
              "      <td>AGRA</td>\n",
              "      <td>Preeta Harit</td>\n",
              "      <td>0</td>\n",
              "      <td>INC</td>\n",
              "      <td>Hand</td>\n",
              "      <td>FEMALE</td>\n",
              "      <td>0</td>\n",
              "      <td>54.0</td>\n",
              "      <td>SC</td>\n",
              "      <td>Post Graduate</td>\n",
              "      <td>55075753</td>\n",
              "      <td>0</td>\n",
              "      <td>44877</td>\n",
              "      <td>272</td>\n",
              "      <td>45149</td>\n",
              "      <td>2.330042</td>\n",
              "      <td>3.940979</td>\n",
              "      <td>1937690</td>\n",
              "    </tr>\n",
              "    <tr>\n",
              "      <th>7</th>\n",
              "      <td>Maharashtra</td>\n",
              "      <td>AHMADNAGAR</td>\n",
              "      <td>Dr. SUJAY RADHAKRISHNA VIKHEPATIL</td>\n",
              "      <td>1</td>\n",
              "      <td>BJP</td>\n",
              "      <td>Lotus</td>\n",
              "      <td>MALE</td>\n",
              "      <td>0</td>\n",
              "      <td>37.0</td>\n",
              "      <td>GENERAL</td>\n",
              "      <td>Doctorate</td>\n",
              "      <td>168664576</td>\n",
              "      <td>2623964</td>\n",
              "      <td>696961</td>\n",
              "      <td>7699</td>\n",
              "      <td>704660</td>\n",
              "      <td>37.856533</td>\n",
              "      <td>58.425159</td>\n",
              "      <td>1861396</td>\n",
              "    </tr>\n",
              "    <tr>\n",
              "      <th>8</th>\n",
              "      <td>Maharashtra</td>\n",
              "      <td>AHMADNAGAR</td>\n",
              "      <td>SANGRAM ARUNKAKA JAGTAP</td>\n",
              "      <td>0</td>\n",
              "      <td>NCP</td>\n",
              "      <td>Clock</td>\n",
              "      <td>MALE</td>\n",
              "      <td>1</td>\n",
              "      <td>34.0</td>\n",
              "      <td>GENERAL</td>\n",
              "      <td>Graduate</td>\n",
              "      <td>94488381</td>\n",
              "      <td>32549132</td>\n",
              "      <td>419364</td>\n",
              "      <td>3822</td>\n",
              "      <td>423186</td>\n",
              "      <td>22.734872</td>\n",
              "      <td>35.087431</td>\n",
              "      <td>1861396</td>\n",
              "    </tr>\n",
              "    <tr>\n",
              "      <th>9</th>\n",
              "      <td>Maharashtra</td>\n",
              "      <td>AHMADNAGAR</td>\n",
              "      <td>SUDHAKAR LAXMAN AVHAD</td>\n",
              "      <td>0</td>\n",
              "      <td>VBA</td>\n",
              "      <td>Cup &amp; Saucer</td>\n",
              "      <td>MALE</td>\n",
              "      <td>0</td>\n",
              "      <td>62.0</td>\n",
              "      <td>GENERAL</td>\n",
              "      <td>Graduate</td>\n",
              "      <td>13949000</td>\n",
              "      <td>1400000</td>\n",
              "      <td>31644</td>\n",
              "      <td>163</td>\n",
              "      <td>31807</td>\n",
              "      <td>1.708771</td>\n",
              "      <td>2.637200</td>\n",
              "      <td>1861396</td>\n",
              "    </tr>\n",
              "    <tr>\n",
              "      <th>10</th>\n",
              "      <td>Gujarat</td>\n",
              "      <td>AHMEDABAD EAST</td>\n",
              "      <td>Patel Hasmukhbhai Somabhai</td>\n",
              "      <td>1</td>\n",
              "      <td>BJP</td>\n",
              "      <td>Lotus</td>\n",
              "      <td>MALE</td>\n",
              "      <td>0</td>\n",
              "      <td>58.0</td>\n",
              "      <td>GENERAL</td>\n",
              "      <td>Others</td>\n",
              "      <td>74699690</td>\n",
              "      <td>6252577</td>\n",
              "      <td>745810</td>\n",
              "      <td>4024</td>\n",
              "      <td>749834</td>\n",
              "      <td>41.384970</td>\n",
              "      <td>67.005462</td>\n",
              "      <td>1811851</td>\n",
              "    </tr>\n",
              "  </tbody>\n",
              "</table>\n",
              "</div>"
            ],
            "text/plain": [
              "            STATE  ... TOTAL ELECTORS\n",
              "0       Telangana  ...        1489790\n",
              "1       Telangana  ...        1489790\n",
              "2       Telangana  ...        1489790\n",
              "4   Uttar Pradesh  ...        1937690\n",
              "5   Uttar Pradesh  ...        1937690\n",
              "6   Uttar Pradesh  ...        1937690\n",
              "7     Maharashtra  ...        1861396\n",
              "8     Maharashtra  ...        1861396\n",
              "9     Maharashtra  ...        1861396\n",
              "10        Gujarat  ...        1811851\n",
              "\n",
              "[10 rows x 19 columns]"
            ]
          },
          "metadata": {},
          "execution_count": 20
        }
      ]
    },
    {
      "cell_type": "code",
      "metadata": {
        "colab": {
          "base_uri": "https://localhost:8080/"
        },
        "id": "PwcDpJfnzgza",
        "outputId": "0ad78b61-4f3b-415b-9816-c16611e2b5fa"
      },
      "source": [
        "dataset['EDUCATION'].value_counts()"
      ],
      "execution_count": null,
      "outputs": [
        {
          "output_type": "execute_result",
          "data": {
            "text/plain": [
              "Post Graduate            502\n",
              "Graduate                 441\n",
              "Graduate Professional    336\n",
              "12th Pass                256\n",
              "10th Pass                196\n",
              "8th Pass                  78\n",
              "Doctorate                 73\n",
              "Others                    50\n",
              "Literate                  30\n",
              "5th Pass                  28\n",
              "Illiterate                 5\n",
              "Post Graduate\\n            1\n",
              "Name: EDUCATION, dtype: int64"
            ]
          },
          "metadata": {},
          "execution_count": 21
        }
      ]
    },
    {
      "cell_type": "code",
      "metadata": {
        "id": "sih9mvcfjs8d"
      },
      "source": [
        "# Removing the \\n from 'Post Graduate\\n'\n",
        "dataset['EDUCATION'].replace(to_replace='Post Graduate\\r\\n', value='Post Graduate', inplace=True)\n",
        "\n",
        "# 'Graduate Professional' are Graduates, so replacing 'Graduate Professional' with 'Graduate'\n",
        "dataset['EDUCATION'].replace(to_replace='Graduate Professional', value='Graduate', inplace=True)\n",
        "\n",
        "# 'Literate' = 8th Pass in our society\n",
        "dataset['EDUCATION'].replace(to_replace='Literate', value='8th Pass', inplace=True)\n",
        "\n",
        "# Any education level below 8th pass is illiterate\n",
        "dataset['EDUCATION'].replace(to_replace='5th Pass', value='Illiterate', inplace=True)"
      ],
      "execution_count": null,
      "outputs": []
    },
    {
      "cell_type": "markdown",
      "metadata": {
        "id": "j-4c3DTObbQV"
      },
      "source": [
        "##**Data Analysis & Data Visualization**"
      ]
    },
    {
      "cell_type": "code",
      "metadata": {
        "colab": {
          "base_uri": "https://localhost:8080/"
        },
        "id": "eoueW4Q_qOGg",
        "outputId": "1562f0eb-988f-4196-eb88-645192af803a"
      },
      "source": [
        "!pip install --upgrade plotly"
      ],
      "execution_count": null,
      "outputs": [
        {
          "output_type": "stream",
          "name": "stdout",
          "text": [
            "Requirement already satisfied: plotly in /usr/local/lib/python3.7/dist-packages (5.3.1)\n",
            "Requirement already satisfied: six in /usr/local/lib/python3.7/dist-packages (from plotly) (1.15.0)\n",
            "Requirement already satisfied: tenacity>=6.2.0 in /usr/local/lib/python3.7/dist-packages (from plotly) (8.0.1)\n"
          ]
        }
      ]
    },
    {
      "cell_type": "markdown",
      "metadata": {
        "id": "1AneH98Nb4k4"
      },
      "source": [
        "##**State and Constituency by total electors**"
      ]
    },
    {
      "cell_type": "code",
      "metadata": {
        "colab": {
          "base_uri": "https://localhost:8080/",
          "height": 559
        },
        "id": "kbpmULPipiiH",
        "outputId": "a9c45db5-ccef-42d1-e126-51df27dbce60"
      },
      "source": [
        "state_dataset = dataset[['STATE','CONSTITUENCY','TOTAL ELECTORS']];\n",
        "state_fig = px.sunburst(state_dataset, \n",
        "                        path = ['STATE','CONSTITUENCY'], \n",
        "                        values ='TOTAL ELECTORS',\n",
        "                        color ='TOTAL ELECTORS',\n",
        "                        color_continuous_scale='Oryel')\n",
        "state_fig.update_layout(title_text='State and Constituency by total electors',\n",
        "                       font_family=\"Courier New\",\n",
        "                         font_color=\"#351f39\",\n",
        "                         title_font_family=\"Courier New\",\n",
        "                         title_font_color=\"#351f39\",\n",
        "                         xaxis_title=\"Party\",\n",
        "                         yaxis_title=\"Seats\")\n",
        "state_fig.show();\n",
        "plt.savefig('State&Constituency.png')"
      ],
      "execution_count": null,
      "outputs": [
        {
          "output_type": "display_data",
          "data": {
            "text/html": [
              "<html>\n",
              "<head><meta charset=\"utf-8\" /></head>\n",
              "<body>\n",
              "    <div>            <script src=\"https://cdnjs.cloudflare.com/ajax/libs/mathjax/2.7.5/MathJax.js?config=TeX-AMS-MML_SVG\"></script><script type=\"text/javascript\">if (window.MathJax) {MathJax.Hub.Config({SVG: {font: \"STIX-Web\"}});}</script>                <script type=\"text/javascript\">window.PlotlyConfig = {MathJaxConfig: 'local'};</script>\n",
              "        <script src=\"https://cdn.plot.ly/plotly-2.4.2.min.js\"></script>                <div id=\"980943f3-43f4-44f9-98f1-a0a937a05bd5\" class=\"plotly-graph-div\" style=\"height:525px; width:100%;\"></div>            <script type=\"text/javascript\">                                    window.PLOTLYENV=window.PLOTLYENV || {};                                    if (document.getElementById(\"980943f3-43f4-44f9-98f1-a0a937a05bd5\")) {                    Plotly.newPlot(                        \"980943f3-43f4-44f9-98f1-a0a937a05bd5\",                        [{\"branchvalues\":\"total\",\"customdata\":[[1489790.0],[1937690.0],[1861396.0],[1811851.0],[1643317.0],[1876346.0],[1766121.0],[1865169.0],[1356701.0],[1266794.0],[1887127.0],[1648383.0],[1716160.0],[1337808.0],[1888524.0],[1459556.0],[1853711.0],[1785657.0],[1743515.0],[1833091.0],[1628451.0],[1507875.0],[1646435.0],[1521363.0],[1655870.0],[1698876.0],[1664160.0],[1397779.0],[318471.0],[1785605.0],[1500016.0],[1764726.0],[1449150.0],[1805439.0],[2089353.0],[1451418.0],[339788.0],[463775.0],[1615865.0],[1541145.0],[1350710.0],[1742883.0],[1886284.0],[795945.0],[1789168.0],[1891576.0],[1704010.0],[1616476.0],[1638378.0],[1729908.0],[1767725.0],[1531781.0],[1822625.0],[1431704.0],[1697384.0],[1702024.0],[2204817.0],[2849250.0],[2497458.0],[2215489.0],[1704632.0],[1699394.0],[1648906.0],[1751258.0],[1975368.0],[1468671.0],[1816830.0],[2114663.0],[1317738.0],[1718252.0],[1733578.0],[1698089.0],[1826526.0],[1797655.0],[1596290.0],[1941231.0],[1685149.0],[1436431.0],[1678357.0],[1379122.0],[1845223.0],[1621671.0],[2045405.0],[1958382.0],[1779350.0],[1751734.0],[1502455.0],[1737437.0],[1942514.0],[1661661.0],[1823820.0],[1811556.0],[1943794.0],[1564519.0],[1768297.0],[1997328.0],[1765334.0],[1890100.0],[1654317.0],[1628033.0],[2142861.0],[1699678.0],[1775095.0],[1797587.0],[1664125.0],[1851628.0],[1876953.0],[1699219.0],[1627199.0],[1744446.0],[1705073.0],[1787925.0],[1762918.0],[1829373.0],[1230197.0],[1686333.0],[1756837.0],[646729.0],[1562283.0],[1910188.0],[1425218.0],[1332300.0],[1487681.0],[1973533.0],[2443112.0],[1514783.0],[1671253.0],[1480222.0],[1808780.0],[1612556.0],[1760633.0],[1566499.0],[2015911.0],[2019104.0],[1958904.0],[1814200.0],[1364038.0],[1518996.0],[250029.0],[1598939.0],[1724976.0],[121740.0],[1768777.0],[1654811.0],[1611317.0],[1730289.0],[1633064.0],[1754195.0],[1760503.0],[2072634.0],[1786151.0],[1485804.0],[1727311.0],[1644674.0],[1504403.0],[1858566.0],[1908173.0],[1719190.0],[1314319.0],[1541881.0],[1732936.0],[1885433.0],[1566196.0],[1397253.0],[1940269.0],[2039302.0],[1594950.0],[1245972.0],[1462246.0],[1621295.0],[1757984.0],[1821785.0],[2071816.0],[1541971.0],[1708585.0],[1502861.0],[1839312.0],[1718837.0],[1790510.0],[1618419.0],[1581366.0],[1945772.0],[1943486.0],[1355796.0],[2181319.0],[2302960.0],[1704596.0],[1800002.0],[2728978.0],[1881077.0],[1991651.0],[1649413.0],[1716766.0],[1770248.0],[1839514.0],[1981197.0],[1945765.0],[1675724.0],[1706119.0],[1595284.0],[2150728.0],[2000744.0],[1823664.0],[1362269.0],[1749100.0],[1807119.0],[1840738.0],[1652999.0],[1864320.0],[1776555.0],[1708510.0],[1667465.0],[1578218.0],[1733729.0],[1631817.0],[1766601.0],[1706141.0],[1597500.0],[1633925.0],[1957931.0],[1204191.0],[2350580.0],[937464.0],[1819893.0],[1816857.0],[1643595.0],[1588454.0],[2127021.0],[1952542.0],[1475007.0],[1617018.0],[1933358.0],[1931400.0],[1867220.0],[2071244.0],[1735464.0],[2047302.0],[1657166.0],[1703279.0],[1718814.0],[1616213.0],[1897134.0],[1867976.0],[1648355.0],[1903870.0],[1852417.0],[2040739.0],[1641868.0],[1937882.0],[1956755.0],[1365035.0],[1642864.0],[1744321.0],[1570330.0],[1666703.0],[1805946.0],[1563930.0],[1611056.0],[1734938.0],[1528938.0],[1965676.0],[1643992.0],[1288666.0],[1427338.0],[1558952.0],[1874824.0],[1501250.0],[1266550.0],[1632983.0],[1660147.0],[1771254.0],[1810574.0],[1340173.0],[1651543.0],[1904193.0],[1387286.0],[1363937.0],[1653353.0],[1787120.0],[1710916.0],[1516688.0],[1638842.0],[1676454.0],[1842095.0],[1513809.0],[1909055.0],[1834385.0],[1804028.0],[1770699.0],[1202664.0],[1659651.0],[1814125.0],[1776358.0],[1629961.0],[1880496.0],[1728851.0],[1444082.0],[1296720.0],[1736693.0],[1434384.0],[1508840.0],[1948010.0],[1206698.0],[1318024.0],[1530404.0],[1631698.0],[1573009.0],[1657335.0],[1761564.0],[179232.0],[1708013.0],[55189.0],[1751980.0],[1886657.0],[1234286.0],[2040367.0],[1683325.0],[1848306.0],[1473347.0],[1909574.0],[1884883.0],[1792798.0],[1539026.0],[1424385.0],[1807768.0],[1915408.0],[1637951.0],[1506102.0],[1648869.0],[1723236.0],[1370544.0],[1575590.0],[1685955.0],[3150313.0],[1281462.0],[1951267.0],[1760875.0],[1712004.0],[1800237.0],[1807893.0],[1652096.0],[2298080.0],[1308102.0],[1484842.0],[1493205.0],[1603318.0],[1674236.0],[1892931.0],[1845150.0],[1796932.0],[792464.0],[2023431.0],[1958939.0],[1837723.0],[1647350.0],[1679891.0],[1588693.0],[1732263.0],[1554176.0],[1440380.0],[1888025.0],[1725187.0],[1698003.0],[1730553.0],[1896333.0],[1461004.0],[1213777.0],[1303649.0],[1588111.0],[1933169.0],[1586117.0],[2161096.0],[1828433.0],[2114809.0],[1585980.0],[1413599.0],[1719322.0],[1871099.0],[1603220.0],[1670391.0],[1439691.0],[1885064.0],[1971658.0],[1899747.0],[1672845.0],[1617470.0],[1366060.0],[1553385.0],[2290492.0],[556761.0],[2378995.0],[1794648.0],[1556469.0],[1889740.0],[1022099.0],[1323010.0],[1881441.0],[1885600.0],[2161663.0],[1744762.0],[1985228.0],[1633824.0],[1925479.0],[1807043.0],[1382741.0],[1739600.0],[2146008.0],[1479091.0],[1391853.0],[2010477.0],[1761207.0],[1520504.0],[1356803.0],[1662368.0],[1708759.0],[973410.0],[2075824.0],[1562331.0],[1765312.0],[1645884.0],[1658672.0],[1702248.0],[1928204.0],[1652965.0],[1601220.0],[1733805.0],[2111738.0],[1534256.0],[1546938.0],[1694329.0],[1884339.0],[1454436.0],[1716459.0],[1912911.0],[1559740.0],[1679506.0],[1922764.0],[1762252.0],[1915959.0],[1851112.0],[1455577.0],[1775051.0],[1679534.0],[1723538.0],[1737133.0],[1801717.0],[1583129.0],[1739082.0],[1612512.0],[1667282.0],[1679030.0],[1468530.0],[1828764.0],[1809109.0],[1529431.0],[1962903.0],[1667253.0],[1655239.0],[1787878.0],[1848489.0],[1575064.0],[1968276.0],[1656474.0],[2114201.0],[1686215.0],[1197806.0],[1259085.0],[1676668.0],[1587079.0],[2175529.0],[1914739.0],[1845547.0],[2041612.0],[434128.0],[1195720.0],[1269917.0],[1803349.0],[1752454.0],[1666126.0],[1552019.0],[1799551.0],[1851654.0],[1592611.0],[2067463.0],[579352.0],[1785472.0],[1553860.0],[1294671.0],[2253448.0],[1775196.0],[1531525.0],[1690620.0],[1655704.0],[1849429.0],[1694646.0],[1493543.0],[1492317.0],[1499639.0],[2370903.0],[1461052.0],[1561040.0],[1946870.0],[1371427.0],[1427783.0],[1337110.0],[1647399.0],[1508963.0],[1547800.0],[1650453.0],[1530014.0],[1473862.0],[1945992.0],[1261861.0],[1352857.0],[1608545.0],[716990.0],[2069559.0],[1685816.0],[1513806.0],[1612300.0],[1661229.0],[1614988.0],[2191465.0],[1556599.0],[1288926.0],[1794896.0],[1735983.0],[1665502.0],[1671030.0],[1856791.0],[1741604.0],[1652994.0],[1444335.0],[1484256.0],[1829300.0],[1503980.0],[1666770.0],[1743283.0],[1359679.0],[2371644.0],[1916185.0],[1498666.0],[318471.0],[1582400.9717934993],[411346.8832798424],[1644353.1150737212],[1772123.4583131715],[646729.0],[1698986.6878278088],[250029.0],[121740.0],[568281.104982515],[1731423.3247479957],[1805054.9374463586],[1330051.2265762947],[1479420.1213534693],[1592357.041634522],[1864447.0147089066],[1313543.2125966665],[55189.0],[1792314.1201794483],[1854902.7101187361],[981609.2246572323],[1017765.7952784527],[792464.0],[2100878.067652333],[1213777.0],[1550561.8931075688],[973410.0],[1608761.8167242955],[1959342.8479804182],[434128.0],[1567181.864860669],[1815183.074099372],[1308942.396759421],[1843504.556146671],[1617600.669871884],[1670124.3478314995]],\"domain\":{\"x\":[0.0,1.0],\"y\":[0.0,1.0]},\"hovertemplate\":\"labels=%{label}<br>TOTAL ELECTORS_sum=%{value}<br>parent=%{parent}<br>id=%{id}<br>TOTAL ELECTORS=%{color}<extra></extra>\",\"ids\":[\"Telangana/ADILABAD\",\"Uttar Pradesh/AGRA\",\"Maharashtra/AHMADNAGAR\",\"Gujarat/AHMEDABAD EAST\",\"Gujarat/AHMEDABAD WEST\",\"Rajasthan/AJMER\",\"Uttar Pradesh/AKBARPUR\",\"Maharashtra/AKOLA\",\"Kerala/ALAPPUZHA\",\"Kerala/ALATHUR\",\"Uttar Pradesh/ALIGARH\",\"West Bengal/ALIPURDUARS\",\"Uttar Pradesh/ALLAHABAD\",\"Uttarakhand/ALMORA\",\"Rajasthan/ALWAR\",\"Andhra Pradesh/AMALAPURAM\",\"Haryana/AMBALA\",\"Uttar Pradesh/AMBEDKAR NAGAR\",\"Uttar Pradesh/AMETHI\",\"Maharashtra/AMRAVATI\",\"Gujarat/AMRELI\",\"Punjab/AMRITSAR\",\"Uttar Pradesh/AMROHA\",\"Andhra Pradesh/ANAKAPALLI\",\"Gujarat/ANAND\",\"Punjab/ANANDPUR SAHIB\",\"Andhra Pradesh/ANANTAPUR\",\"Jammu & Kashmir/ANANTNAG\",\"Andaman & Nicobar Islands/ANDAMAN & NICOBAR ISLANDS\",\"Uttar Pradesh/AONLA\",\"Tamil Nadu/ARAKKONAM\",\"West Bengal/ARAMBAGH\",\"Tamil Nadu/ARANI\",\"Bihar/ARARIA\",\"Bihar/ARRAH\",\"Andhra Pradesh/ARUKU\",\"Arunachal Pradesh/ARUNACHAL EAST\",\"Arunachal Pradesh/ARUNACHAL WEST\",\"West Bengal/ASANSOL\",\"Odisha/ASKA\",\"Kerala/ATTINGAL\",\"Bihar/AURANGABAD\",\"Maharashtra/AURANGABAD\",\"Assam/AUTONOMOUS DISTRICT\",\"Uttar Pradesh/AZAMGARH\",\"Uttar Pradesh/BADAUN\",\"Karnataka/BAGALKOT\",\"Uttar Pradesh/BAGHPAT\",\"West Bengal/BAHARAMPUR\",\"Uttar Pradesh/BAHRAICH\",\"Madhya Pradesh/BALAGHAT\",\"Odisha/BALASORE\",\"Uttar Pradesh/BALLIA\",\"West Bengal/BALURGHAT\",\"Gujarat/BANASKANTHA\",\"Uttar Pradesh/BANDA\",\"Karnataka/BANGALORE CENTRAL\",\"Karnataka/BANGALORE NORTH\",\"Karnataka/BANGALORE RURAL\",\"Karnataka/BANGALORE SOUTH\",\"West Bengal/BANGAON\",\"Bihar/BANKA\",\"West Bengal/BANKURA\",\"Uttar Pradesh/BANSGAON\",\"Rajasthan/BANSWARA\",\"Andhra Pradesh/BAPATLA\",\"Uttar Pradesh/BARABANKI\",\"Maharashtra/BARAMATI\",\"Jammu & Kashmir/BARAMULLA\",\"West Bengal/BARASAT\",\"West Bengal/BARDHAMAN DURGAPUR\",\"West Bengal/BARDHAMAN PURBA\",\"Gujarat/BARDOLI\",\"Uttar Pradesh/BAREILLY\",\"Odisha/BARGARH\",\"Rajasthan/BARMER\",\"Assam/BARPETA\",\"West Bengal/BARRACKPORE\",\"West Bengal/BASIRHAT\",\"Chhattisgarh/BASTAR\",\"Uttar Pradesh/BASTI\",\"Punjab/BATHINDA\",\"Maharashtra/BEED\",\"Bihar/BEGUSARAI\",\"Karnataka/BELGAUM\",\"Karnataka/BELLARY\",\"Odisha/BERHAMPUR\",\"Madhya Pradesh/BETUL\",\"Uttar Pradesh/BHADOHI\",\"Odisha/BHADRAK\",\"Bihar/BHAGALPUR\",\"Maharashtra/BHANDARA - GONDIYA\",\"Rajasthan/BHARATPUR\",\"Gujarat/BHARUCH\",\"Gujarat/BHAVNAGAR\",\"Rajasthan/BHILWARA\",\"Madhya Pradesh/BHIND\",\"Maharashtra/BHIWANDI\",\"Haryana/BHIWANI-MAHENDRAGARH\",\"Telangana/BHONGIR\",\"Madhya Pradesh/BHOPAL\",\"Odisha/BHUBANESWAR\",\"Karnataka/BIDAR\",\"Karnataka/BIJAPUR\",\"Uttar Pradesh/BIJNOR\",\"Rajasthan/BIKANER (SC)\",\"Chhattisgarh/BILASPUR\",\"West Bengal/BIRBHUM\",\"West Bengal/BISHNUPUR\",\"Odisha/BOLANGIR\",\"West Bengal/BOLPUR\",\"Uttar Pradesh/BULANDSHAHR\",\"Maharashtra/BULDHANA\",\"Bihar/BUXAR\",\"Kerala/CHALAKUDY\",\"Karnataka/CHAMARAJANAGAR\",\"Uttar Pradesh/CHANDAULI\",\"Chandigarh/CHANDIGARH\",\"NCT OF Delhi/CHANDNI CHOWK\",\"Maharashtra/CHANDRAPUR\",\"Jharkhand/CHATRA\",\"Tamil Nadu/CHENNAI CENTRAL\",\"Tamil Nadu/CHENNAI NORTH\",\"Tamil Nadu/CHENNAI SOUTH\",\"Telangana/CHEVELLA\",\"Madhya Pradesh/CHHINDWARA\",\"Gujarat/CHHOTA UDAIPUR\",\"Tamil Nadu/CHIDAMBARAM\",\"Karnataka/CHIKKBALLAPUR\",\"Karnataka/CHIKKODI\",\"Karnataka/CHITRADURGA\",\"Andhra Pradesh/CHITTOOR\",\"Rajasthan/CHITTORGARH\",\"Rajasthan/CHURU\",\"Tamil Nadu/COIMBATORE\",\"West Bengal/COOCH BEHAR\",\"Tamil Nadu/CUDDALORE\",\"Odisha/CUTTACK\",\"Dadra & Nagar Haveli/DADRA AND NAGAR HAVELI\",\"Gujarat/DAHOD\",\"Karnataka/DAKSHINA KANNADA\",\"Daman & Diu/DAMAN & DIU\",\"Madhya Pradesh/DAMOH\",\"Bihar/DARBHANGA\",\"West Bengal/DARJEELING\",\"Rajasthan/DAUSA\",\"Karnataka/DAVANAGERE\",\"Uttar Pradesh/DEORIA\",\"Madhya Pradesh/DEWAS\",\"Jharkhand/DHANBAD\",\"Madhya Pradesh/DHAR\",\"Tamil Nadu/DHARMAPURI\",\"Karnataka/DHARWAD\",\"Uttar Pradesh/DHAURAHRA\",\"Odisha/DHENKANAL\",\"Assam/DHUBRI\",\"Maharashtra/DHULE\",\"West Bengal/DIAMOND HARBOUR\",\"Assam/DIBRUGARH\",\"Tamil Nadu/DINDIGUL\",\"Maharashtra/DINDORI\",\"Uttar Pradesh/DOMARIYAGANJ\",\"West Bengal/DUM DUM\",\"Jharkhand/DUMKA\",\"Chhattisgarh/DURG\",\"NCT OF Delhi/EAST DELHI\",\"Andhra Pradesh/ELURU\",\"Kerala/ERNAKULAM\",\"Tamil Nadu/ERODE\",\"Uttar Pradesh/ETAH\",\"Uttar Pradesh/ETAWAH\",\"Uttar Pradesh/FAIZABAD\",\"Haryana/FARIDABAD\",\"Punjab/FARIDKOT\",\"Uttar Pradesh/FARRUKHABAD\",\"Punjab/FATEHGARH SAHIB\",\"Uttar Pradesh/FATEHPUR\",\"Uttar Pradesh/FATEHPUR SIKRI\",\"Uttar Pradesh/FIROZABAD\",\"Punjab/FIROZPUR\",\"Maharashtra/GADCHIROLI-CHIMUR\",\"Gujarat/GANDHINAGAR\",\"Rajasthan/GANGANAGAR\",\"Uttarakhand/GARHWAL\",\"Assam/GAUHATI\",\"Uttar Pradesh/GAUTAM BUDDHA NAGAR\",\"Bihar/GAYA (SC)\",\"West Bengal/GHATAL\",\"Uttar Pradesh/GHAZIABAD\",\"Uttar Pradesh/GHAZIPUR\",\"Uttar Pradesh/GHOSI\",\"Jharkhand/GIRIDIH\",\"Jharkhand/GODDA\",\"Uttar Pradesh/GONDA\",\"Bihar/GOPALGANJ (SC)\",\"Uttar Pradesh/GORAKHPUR\",\"Karnataka/GULBARGA\",\"Madhya Pradesh/GUNA\",\"Andhra Pradesh/GUNTUR\",\"Punjab/GURDASPUR\",\"Haryana/GURGAON\",\"Madhya Pradesh/GWALIOR\",\"Bihar/HAJIPUR (SC)\",\"Himachal Pradesh/HAMIRPUR\",\"Uttar Pradesh/HAMIRPUR\",\"Uttar Pradesh/HARDOI\",\"Uttarakhand/HARDWAR\",\"Karnataka/HASSAN\",\"Uttar Pradesh/HATHRAS\",\"Maharashtra/HATKANANGLE\",\"Karnataka/HAVERI\",\"Jharkhand/HAZARIBAGH\",\"Andhra Pradesh/HINDUPUR\",\"Maharashtra/HINGOLI\",\"Haryana/HISAR\",\"West Bengal/HOOGHLY\",\"Madhya Pradesh/HOSHANGABAD\",\"Punjab/HOSHIARPUR\",\"West Bengal/HOWRAH\",\"Telangana/HYDERABAD\",\"Kerala/IDUKKI\",\"Madhya Pradesh/INDORE\",\"Manipur/INNER MANIPUR\",\"Madhya Pradesh/JABALPUR\",\"West Bengal/JADAVPUR\",\"Odisha/JAGATSINGHPUR\",\"Bihar/JAHANABAD\",\"Rajasthan/JAIPUR\",\"Rajasthan/JAIPUR RURAL\",\"Odisha/JAJPUR\",\"Punjab/JALANDHAR\",\"Uttar Pradesh/JALAUN\",\"Maharashtra/JALGAON\",\"Maharashtra/JALNA\",\"Rajasthan/JALORE\",\"West Bengal/JALPAIGURI\",\"Jammu & Kashmir/JAMMU\",\"Gujarat/JAMNAGAR\",\"Jharkhand/JAMSHEDPUR\",\"Bihar/JAMUI (SC)\",\"West Bengal/JANGIPUR\",\"Chhattisgarh/JANJGIR-CHAMPA\",\"Uttar Pradesh/JAUNPUR\",\"West Bengal/JAYNAGAR\",\"Rajasthan/JHALAWAR-BARAN\",\"Bihar/JHANJHARPUR\",\"Uttar Pradesh/JHANSI\",\"West Bengal/JHARGRAM\",\"Rajasthan/JHUNJHUNU\",\"Rajasthan/JODHPUR\",\"Assam/JORHAT\",\"Gujarat/JUNAGADH\",\"Gujarat/KACHCHH\",\"Andhra Pradesh/KADAPA\",\"Uttar Pradesh/KAIRANA\",\"Uttar Pradesh/KAISERGANJ\",\"Andhra Pradesh/KAKINADA\",\"Odisha/KALAHANDI\",\"Assam/KALIABOR\",\"Tamil Nadu/KALLAKURICHI\",\"Maharashtra/KALYAN\",\"Tamil Nadu/KANCHEEPURAM\",\"Odisha/KANDHAMAL\",\"Himachal Pradesh/KANGRA\",\"Chhattisgarh/KANKER\",\"Uttar Pradesh/KANNAUJ\",\"Tamil Nadu/KANNIYAKUMARI\",\"Kerala/KANNUR\",\"Uttar Pradesh/KANPUR\",\"West Bengal/KANTHI\",\"Bihar/KARAKAT\",\"Rajasthan/KARAULI-DHOLPUR\",\"Assam/KARIMGANJ\",\"Telangana/KARIMNAGAR\",\"Haryana/KARNAL\",\"Tamil Nadu/KARUR\",\"Kerala/KASARAGOD\",\"Bihar/KATIHAR\",\"Uttar Pradesh/KAUSHAMBI\",\"Odisha/KENDRAPARA\",\"Odisha/KEONJHAR\",\"Punjab/KHADOOR SAHIB\",\"Bihar/KHAGARIA\",\"Madhya Pradesh/KHAJURAHO\",\"Telangana/KHAMMAM\",\"Madhya Pradesh/KHANDWA\",\"Madhya Pradesh/KHARGONE\",\"Gujarat/KHEDA\",\"Uttar Pradesh/KHERI\",\"Jharkhand/KHUNTI\",\"Bihar/KISHANGANJ\",\"Jharkhand/KODARMA\",\"Assam/KOKRAJHAR\",\"Karnataka/KOLAR\",\"Maharashtra/KOLHAPUR\",\"West Bengal/KOLKATA DAKSHIN\",\"West Bengal/KOLKATA UTTAR\",\"Kerala/KOLLAM\",\"Karnataka/KOPPAL\",\"Odisha/KORAPUT\",\"Chhattisgarh/KORBA\",\"Rajasthan/KOTA\",\"Kerala/KOTTAYAM\",\"Kerala/KOZHIKODE\",\"Tamil Nadu/KRISHNAGIRI\",\"West Bengal/KRISHNANAGAR\",\"Andhra Pradesh/KURNOOL\",\"Haryana/KURUKSHETRA\",\"Uttar Pradesh/KUSHI NAGAR\",\"Jammu & Kashmir/LADAKH\",\"Assam/LAKHIMPUR\",\"Lakshadweep/LAKSHADWEEP\",\"Uttar Pradesh/LALGANJ\",\"Maharashtra/LATUR\",\"Jharkhand/LOHARDAGA\",\"Uttar Pradesh/LUCKNOW\",\"Punjab/LUDHIANA\",\"Uttar Pradesh/MACHHLISHAHR\",\"Andhra Pradesh/MACHILIPATNAM\",\"Maharashtra/MADHA\",\"Bihar/MADHEPURA\",\"Bihar/MADHUBANI\",\"Tamil Nadu/MADURAI\",\"Telangana/MAHABUBABAD\",\"Bihar/MAHARAJGANJ\",\"Uttar Pradesh/MAHARAJGANJ\",\"Chhattisgarh/MAHASAMUND\",\"Telangana/MAHBUBNAGAR\",\"Gujarat/MAHESANA\",\"Uttar Pradesh/MAINPURI\",\"Kerala/MALAPPURAM\",\"West Bengal/MALDAHA DAKSHIN\",\"West Bengal/MALDAHA UTTAR\",\"Telangana/MALKAJGIRI\",\"Himachal Pradesh/MANDI\",\"Madhya Pradesh/MANDLA\",\"Madhya Pradesh/MANDSOUR\",\"Karnataka/MANDYA\",\"Assam/MANGALDOI\",\"Uttar Pradesh/MATHURA\",\"West Bengal/MATHURAPUR\",\"Maharashtra/MAVAL\",\"Kerala/MAVELIKKARA\",\"Tamil Nadu/MAYILADUTHURAI\",\"Odisha/MAYURBHANJ\",\"Telangana/MEDAK\",\"West Bengal/MEDINIPUR\",\"Uttar Pradesh/MEERUT\",\"Uttar Pradesh/MIRZAPUR\",\"Uttar Pradesh/MISRIKH\",\"Mizoram/MIZORAM\",\"Uttar Pradesh/MOHANLALGANJ\",\"Uttar Pradesh/MORADABAD\",\"Madhya Pradesh/MORENA\",\"Maharashtra/MUMBAI NORTH\",\"Maharashtra/MUMBAI NORTH CENTRAL\",\"Maharashtra/MUMBAI NORTH EAST\",\"Maharashtra/MUMBAI NORTH WEST\",\"Maharashtra/MUMBAI SOUTH\",\"Maharashtra/MUMBAI SOUTH CENTRAL\",\"Bihar/MUNGER\",\"West Bengal/MURSHIDABAD\",\"Uttar Pradesh/MUZAFFARNAGAR\",\"Bihar/MUZAFFARPUR\",\"Karnataka/MYSORE\",\"Odisha/NABARANGPUR\",\"Nagaland/NAGALAND\",\"Tamil Nadu/NAGAPATTINAM\",\"Telangana/NAGARKURNOOL\",\"Rajasthan/NAGAUR\",\"Uttar Pradesh/NAGINA\",\"Maharashtra/NAGPUR\",\"Uttarakhand/NAINITAL-UDHAMSINGH NAGAR\",\"Bihar/NALANDA\",\"Telangana/NALGONDA\",\"Tamil Nadu/NAMAKKAL\",\"Maharashtra/NANDED\",\"Maharashtra/NANDURBAR\",\"Andhra Pradesh/NANDYAL\",\"Andhra Pradesh/NARASARAOPET\",\"Andhra Pradesh/NARSAPURAM\",\"Maharashtra/NASHIK\",\"Gujarat/NAVSARI\",\"Bihar/NAWADA\",\"Andhra Pradesh/NELLORE\",\"NCT OF Delhi/NEW DELHI\",\"Tamil Nadu/NILGIRIS\",\"Telangana/NIZAMABAD\",\"NCT OF Delhi/NORTH EAST DELHI\",\"Goa/NORTH GOA\",\"NCT OF Delhi/NORTH WEST DELHI\",\"Assam/NOWGONG\",\"Andhra Pradesh/ONGOLE\",\"Maharashtra/OSMANABAD\",\"Manipur/OUTER MANIPUR\",\"Kerala/PALAKKAD\",\"Jharkhand/PALAMAU\",\"Maharashtra/PALGHAR\",\"Rajasthan/PALI\",\"Gujarat/PANCHMAHAL\",\"Maharashtra/PARBHANI\",\"Bihar/PASCHIM CHAMPARAN\",\"Bihar/PATALIPUTRA\",\"Gujarat/PATAN\",\"Kerala/PATHANAMTHITTA\",\"Punjab/PATIALA\",\"Bihar/PATNA SAHIB\",\"Telangana/PEDDAPALLE\",\"Tamil Nadu/PERAMBALUR\",\"Uttar Pradesh/PHULPUR\",\"Uttar Pradesh/PILIBHIT\",\"Tamil Nadu/POLLACHI\",\"Kerala/PONNANI\",\"Gujarat/PORBANDAR\",\"Uttar Pradesh/PRATAPGARH\",\"Puducherry/PUDUCHERRY\",\"Maharashtra/PUNE\",\"Odisha/PURI\",\"Bihar/PURNIA\",\"West Bengal/PURULIA\",\"Bihar/PURVI CHAMPARAN\",\"Uttar Pradesh/RAE BARELI\",\"Karnataka/RAICHUR\",\"Maharashtra/RAIGAD\",\"West Bengal/RAIGANJ\",\"Chhattisgarh/RAIGARH\",\"Chhattisgarh/RAIPUR\",\"Andhra Pradesh/RAJAHMUNDRY\",\"Andhra Pradesh/RAJAMPET\",\"Madhya Pradesh/RAJGARH\",\"Gujarat/RAJKOT\",\"Jharkhand/RAJMAHAL\",\"Chhattisgarh/RAJNANDGAON\",\"Rajasthan/RAJSAMAND\",\"Tamil Nadu/RAMANATHAPURAM\",\"Uttar Pradesh/RAMPUR\",\"Maharashtra/RAMTEK\",\"West Bengal/RANAGHAT\",\"Jharkhand/RANCHI\",\"Madhya Pradesh/RATLAM\",\"Maharashtra/RATNAGIRI - SINDHUDURG\",\"Maharashtra/RAVER\",\"Madhya Pradesh/REWA\",\"Uttar Pradesh/ROBERTSGANJ\",\"Haryana/ROHTAK\",\"Gujarat/SABARKANTHA\",\"Madhya Pradesh/SAGAR\",\"Uttar Pradesh/SAHARANPUR\",\"Tamil Nadu/SALEM\",\"Uttar Pradesh/SALEMPUR\",\"Bihar/SAMASTIPUR (SC)\",\"Odisha/SAMBALPUR\",\"Uttar Pradesh/SAMBHAL\",\"Maharashtra/SANGLI\",\"Punjab/SANGRUR\",\"Uttar Pradesh/SANT KABIR NAGAR\",\"Bihar/SARAN\",\"Chhattisgarh/SARGUJA\",\"Bihar/SASARAM (SC)\",\"Maharashtra/SATARA\",\"Madhya Pradesh/SATNA\",\"Telangana/SECUNDRABAD\",\"Madhya Pradesh/SHAHDOL\",\"Uttar Pradesh/SHAHJAHANPUR\",\"Bihar/SHEOHAR\",\"Meghalaya/SHILLONG\",\"Himachal Pradesh/SHIMLA\",\"Karnataka/SHIMOGA\",\"Maharashtra/SHIRDI\",\"Maharashtra/SHIRUR\",\"Uttar Pradesh/SHRAWASTI\",\"Madhya Pradesh/SIDHI\",\"Rajasthan/SIKAR\",\"Sikkim/SIKKIM\",\"Assam/SILCHAR\",\"Jharkhand/SINGHBHUM\",\"Haryana/SIRSA\",\"Bihar/SITAMARHI\",\"Uttar Pradesh/SITAPUR\",\"Tamil Nadu/SIVAGANGA\",\"Bihar/SIWAN\",\"Maharashtra/SOLAPUR\",\"Haryana/SONIPAT\",\"NCT OF Delhi/SOUTH DELHI\",\"Goa/SOUTH GOA\",\"West Bengal/SRERAMPUR\",\"Andhra Pradesh/SRIKAKULAM\",\"Jammu & Kashmir/SRINAGAR\",\"Tamil Nadu/SRIPERUMBUDUR\",\"Uttar Pradesh/SULTANPUR\",\"Odisha/SUNDARGARH\",\"Bihar/SUPAUL\",\"Gujarat/SURAT\",\"Gujarat/SURENDRANAGAR\",\"West Bengal/TAMLUK\",\"Uttarakhand/TEHRI GARHWAL\",\"Tamil Nadu/TENKASI\",\"Assam/TEZPUR\",\"Maharashtra/THANE\",\"Tamil Nadu/THANJAVUR\",\"Tamil Nadu/THENI\",\"Tamil Nadu/THIRUVALLUR\",\"Kerala/THIRUVANANTHAPURAM\",\"Tamil Nadu/THOOTHUKKUDI\",\"Kerala/THRISSUR\",\"Madhya Pradesh/TIKAMGARH\",\"Tamil Nadu/TIRUCHIRAPPALLI\",\"Tamil Nadu/TIRUNELVELI\",\"Andhra Pradesh/TIRUPATI\",\"Tamil Nadu/TIRUPPUR\",\"Tamil Nadu/TIRUVANNAMALAI\",\"Rajasthan/TONK-SAWAI MADHOPUR\",\"Tripura/TRIPURA EAST\",\"Tripura/TRIPURA WEST\",\"Karnataka/TUMKUR\",\"Meghalaya/TURA\",\"Rajasthan/UDAIPUR\",\"Jammu & Kashmir/UDHAMPUR\",\"Karnataka/UDUPI CHIKMAGALUR\",\"Bihar/UJIARPUR\",\"Madhya Pradesh/UJJAIN\",\"West Bengal/ULUBERIA\",\"Uttar Pradesh/UNNAO\",\"Karnataka/UTTARA KANNADA\",\"Kerala/VADAKARA\",\"Gujarat/VADODARA\",\"Bihar/VAISHALI\",\"Bihar/VALMIKI NAGAR\",\"Gujarat/VALSAD\",\"Uttar Pradesh/VARANASI\",\"Madhya Pradesh/VIDISHA\",\"Andhra Pradesh/VIJAYAWADA\",\"Tamil Nadu/VILUPPURAM\",\"Tamil Nadu/VIRUDHUNAGAR\",\"Andhra Pradesh/VISAKHAPATNAM\",\"Andhra Pradesh/VIZIANAGARAM\",\"Telangana/WARANGAL\",\"Maharashtra/WARDHA\",\"Kerala/WAYANAD\",\"NCT OF Delhi/WEST DELHI\",\"Maharashtra/YAVATMAL-WASHIM\",\"Telangana/ZAHIRABAD\",\"Andaman & Nicobar Islands\",\"Andhra Pradesh\",\"Arunachal Pradesh\",\"Assam\",\"Bihar\",\"Chandigarh\",\"Chhattisgarh\",\"Dadra & Nagar Haveli\",\"Daman & Diu\",\"Goa\",\"Gujarat\",\"Haryana\",\"Himachal Pradesh\",\"Jammu & Kashmir\",\"Jharkhand\",\"Karnataka\",\"Kerala\",\"Lakshadweep\",\"Madhya Pradesh\",\"Maharashtra\",\"Manipur\",\"Meghalaya\",\"Mizoram\",\"NCT OF Delhi\",\"Nagaland\",\"Odisha\",\"Puducherry\",\"Punjab\",\"Rajasthan\",\"Sikkim\",\"Tamil Nadu\",\"Telangana\",\"Tripura\",\"Uttar Pradesh\",\"Uttarakhand\",\"West Bengal\"],\"labels\":[\"ADILABAD\",\"AGRA\",\"AHMADNAGAR\",\"AHMEDABAD EAST\",\"AHMEDABAD WEST\",\"AJMER\",\"AKBARPUR\",\"AKOLA\",\"ALAPPUZHA\",\"ALATHUR\",\"ALIGARH\",\"ALIPURDUARS\",\"ALLAHABAD\",\"ALMORA\",\"ALWAR\",\"AMALAPURAM\",\"AMBALA\",\"AMBEDKAR NAGAR\",\"AMETHI\",\"AMRAVATI\",\"AMRELI\",\"AMRITSAR\",\"AMROHA\",\"ANAKAPALLI\",\"ANAND\",\"ANANDPUR SAHIB\",\"ANANTAPUR\",\"ANANTNAG\",\"ANDAMAN & NICOBAR ISLANDS\",\"AONLA\",\"ARAKKONAM\",\"ARAMBAGH\",\"ARANI\",\"ARARIA\",\"ARRAH\",\"ARUKU\",\"ARUNACHAL EAST\",\"ARUNACHAL WEST\",\"ASANSOL\",\"ASKA\",\"ATTINGAL\",\"AURANGABAD\",\"AURANGABAD\",\"AUTONOMOUS DISTRICT\",\"AZAMGARH\",\"BADAUN\",\"BAGALKOT\",\"BAGHPAT\",\"BAHARAMPUR\",\"BAHRAICH\",\"BALAGHAT\",\"BALASORE\",\"BALLIA\",\"BALURGHAT\",\"BANASKANTHA\",\"BANDA\",\"BANGALORE CENTRAL\",\"BANGALORE NORTH\",\"BANGALORE RURAL\",\"BANGALORE SOUTH\",\"BANGAON\",\"BANKA\",\"BANKURA\",\"BANSGAON\",\"BANSWARA\",\"BAPATLA\",\"BARABANKI\",\"BARAMATI\",\"BARAMULLA\",\"BARASAT\",\"BARDHAMAN DURGAPUR\",\"BARDHAMAN PURBA\",\"BARDOLI\",\"BAREILLY\",\"BARGARH\",\"BARMER\",\"BARPETA\",\"BARRACKPORE\",\"BASIRHAT\",\"BASTAR\",\"BASTI\",\"BATHINDA\",\"BEED\",\"BEGUSARAI\",\"BELGAUM\",\"BELLARY\",\"BERHAMPUR\",\"BETUL\",\"BHADOHI\",\"BHADRAK\",\"BHAGALPUR\",\"BHANDARA - GONDIYA\",\"BHARATPUR\",\"BHARUCH\",\"BHAVNAGAR\",\"BHILWARA\",\"BHIND\",\"BHIWANDI\",\"BHIWANI-MAHENDRAGARH\",\"BHONGIR\",\"BHOPAL\",\"BHUBANESWAR\",\"BIDAR\",\"BIJAPUR\",\"BIJNOR\",\"BIKANER (SC)\",\"BILASPUR\",\"BIRBHUM\",\"BISHNUPUR\",\"BOLANGIR\",\"BOLPUR\",\"BULANDSHAHR\",\"BULDHANA\",\"BUXAR\",\"CHALAKUDY\",\"CHAMARAJANAGAR\",\"CHANDAULI\",\"CHANDIGARH\",\"CHANDNI CHOWK\",\"CHANDRAPUR\",\"CHATRA\",\"CHENNAI CENTRAL\",\"CHENNAI NORTH\",\"CHENNAI SOUTH\",\"CHEVELLA\",\"CHHINDWARA\",\"CHHOTA UDAIPUR\",\"CHIDAMBARAM\",\"CHIKKBALLAPUR\",\"CHIKKODI\",\"CHITRADURGA\",\"CHITTOOR\",\"CHITTORGARH\",\"CHURU\",\"COIMBATORE\",\"COOCH BEHAR\",\"CUDDALORE\",\"CUTTACK\",\"DADRA AND NAGAR HAVELI\",\"DAHOD\",\"DAKSHINA KANNADA\",\"DAMAN & DIU\",\"DAMOH\",\"DARBHANGA\",\"DARJEELING\",\"DAUSA\",\"DAVANAGERE\",\"DEORIA\",\"DEWAS\",\"DHANBAD\",\"DHAR\",\"DHARMAPURI\",\"DHARWAD\",\"DHAURAHRA\",\"DHENKANAL\",\"DHUBRI\",\"DHULE\",\"DIAMOND HARBOUR\",\"DIBRUGARH\",\"DINDIGUL\",\"DINDORI\",\"DOMARIYAGANJ\",\"DUM DUM\",\"DUMKA\",\"DURG\",\"EAST DELHI\",\"ELURU\",\"ERNAKULAM\",\"ERODE\",\"ETAH\",\"ETAWAH\",\"FAIZABAD\",\"FARIDABAD\",\"FARIDKOT\",\"FARRUKHABAD\",\"FATEHGARH SAHIB\",\"FATEHPUR\",\"FATEHPUR SIKRI\",\"FIROZABAD\",\"FIROZPUR\",\"GADCHIROLI-CHIMUR\",\"GANDHINAGAR\",\"GANGANAGAR\",\"GARHWAL\",\"GAUHATI\",\"GAUTAM BUDDHA NAGAR\",\"GAYA (SC)\",\"GHATAL\",\"GHAZIABAD\",\"GHAZIPUR\",\"GHOSI\",\"GIRIDIH\",\"GODDA\",\"GONDA\",\"GOPALGANJ (SC)\",\"GORAKHPUR\",\"GULBARGA\",\"GUNA\",\"GUNTUR\",\"GURDASPUR\",\"GURGAON\",\"GWALIOR\",\"HAJIPUR (SC)\",\"HAMIRPUR\",\"HAMIRPUR\",\"HARDOI\",\"HARDWAR\",\"HASSAN\",\"HATHRAS\",\"HATKANANGLE\",\"HAVERI\",\"HAZARIBAGH\",\"HINDUPUR\",\"HINGOLI\",\"HISAR\",\"HOOGHLY\",\"HOSHANGABAD\",\"HOSHIARPUR\",\"HOWRAH\",\"HYDERABAD\",\"IDUKKI\",\"INDORE\",\"INNER MANIPUR\",\"JABALPUR\",\"JADAVPUR\",\"JAGATSINGHPUR\",\"JAHANABAD\",\"JAIPUR\",\"JAIPUR RURAL\",\"JAJPUR\",\"JALANDHAR\",\"JALAUN\",\"JALGAON\",\"JALNA\",\"JALORE\",\"JALPAIGURI\",\"JAMMU\",\"JAMNAGAR\",\"JAMSHEDPUR\",\"JAMUI (SC)\",\"JANGIPUR\",\"JANJGIR-CHAMPA\",\"JAUNPUR\",\"JAYNAGAR\",\"JHALAWAR-BARAN\",\"JHANJHARPUR\",\"JHANSI\",\"JHARGRAM\",\"JHUNJHUNU\",\"JODHPUR\",\"JORHAT\",\"JUNAGADH\",\"KACHCHH\",\"KADAPA\",\"KAIRANA\",\"KAISERGANJ\",\"KAKINADA\",\"KALAHANDI\",\"KALIABOR\",\"KALLAKURICHI\",\"KALYAN\",\"KANCHEEPURAM\",\"KANDHAMAL\",\"KANGRA\",\"KANKER\",\"KANNAUJ\",\"KANNIYAKUMARI\",\"KANNUR\",\"KANPUR\",\"KANTHI\",\"KARAKAT\",\"KARAULI-DHOLPUR\",\"KARIMGANJ\",\"KARIMNAGAR\",\"KARNAL\",\"KARUR\",\"KASARAGOD\",\"KATIHAR\",\"KAUSHAMBI\",\"KENDRAPARA\",\"KEONJHAR\",\"KHADOOR SAHIB\",\"KHAGARIA\",\"KHAJURAHO\",\"KHAMMAM\",\"KHANDWA\",\"KHARGONE\",\"KHEDA\",\"KHERI\",\"KHUNTI\",\"KISHANGANJ\",\"KODARMA\",\"KOKRAJHAR\",\"KOLAR\",\"KOLHAPUR\",\"KOLKATA DAKSHIN\",\"KOLKATA UTTAR\",\"KOLLAM\",\"KOPPAL\",\"KORAPUT\",\"KORBA\",\"KOTA\",\"KOTTAYAM\",\"KOZHIKODE\",\"KRISHNAGIRI\",\"KRISHNANAGAR\",\"KURNOOL\",\"KURUKSHETRA\",\"KUSHI NAGAR\",\"LADAKH\",\"LAKHIMPUR\",\"LAKSHADWEEP\",\"LALGANJ\",\"LATUR\",\"LOHARDAGA\",\"LUCKNOW\",\"LUDHIANA\",\"MACHHLISHAHR\",\"MACHILIPATNAM\",\"MADHA\",\"MADHEPURA\",\"MADHUBANI\",\"MADURAI\",\"MAHABUBABAD\",\"MAHARAJGANJ\",\"MAHARAJGANJ\",\"MAHASAMUND\",\"MAHBUBNAGAR\",\"MAHESANA\",\"MAINPURI\",\"MALAPPURAM\",\"MALDAHA DAKSHIN\",\"MALDAHA UTTAR\",\"MALKAJGIRI\",\"MANDI\",\"MANDLA\",\"MANDSOUR\",\"MANDYA\",\"MANGALDOI\",\"MATHURA\",\"MATHURAPUR\",\"MAVAL\",\"MAVELIKKARA\",\"MAYILADUTHURAI\",\"MAYURBHANJ\",\"MEDAK\",\"MEDINIPUR\",\"MEERUT\",\"MIRZAPUR\",\"MISRIKH\",\"MIZORAM\",\"MOHANLALGANJ\",\"MORADABAD\",\"MORENA\",\"MUMBAI NORTH\",\"MUMBAI NORTH CENTRAL\",\"MUMBAI NORTH EAST\",\"MUMBAI NORTH WEST\",\"MUMBAI SOUTH\",\"MUMBAI SOUTH CENTRAL\",\"MUNGER\",\"MURSHIDABAD\",\"MUZAFFARNAGAR\",\"MUZAFFARPUR\",\"MYSORE\",\"NABARANGPUR\",\"NAGALAND\",\"NAGAPATTINAM\",\"NAGARKURNOOL\",\"NAGAUR\",\"NAGINA\",\"NAGPUR\",\"NAINITAL-UDHAMSINGH NAGAR\",\"NALANDA\",\"NALGONDA\",\"NAMAKKAL\",\"NANDED\",\"NANDURBAR\",\"NANDYAL\",\"NARASARAOPET\",\"NARSAPURAM\",\"NASHIK\",\"NAVSARI\",\"NAWADA\",\"NELLORE\",\"NEW DELHI\",\"NILGIRIS\",\"NIZAMABAD\",\"NORTH EAST DELHI\",\"NORTH GOA\",\"NORTH WEST DELHI\",\"NOWGONG\",\"ONGOLE\",\"OSMANABAD\",\"OUTER MANIPUR\",\"PALAKKAD\",\"PALAMAU\",\"PALGHAR\",\"PALI\",\"PANCHMAHAL\",\"PARBHANI\",\"PASCHIM CHAMPARAN\",\"PATALIPUTRA\",\"PATAN\",\"PATHANAMTHITTA\",\"PATIALA\",\"PATNA SAHIB\",\"PEDDAPALLE\",\"PERAMBALUR\",\"PHULPUR\",\"PILIBHIT\",\"POLLACHI\",\"PONNANI\",\"PORBANDAR\",\"PRATAPGARH\",\"PUDUCHERRY\",\"PUNE\",\"PURI\",\"PURNIA\",\"PURULIA\",\"PURVI CHAMPARAN\",\"RAE BARELI\",\"RAICHUR\",\"RAIGAD\",\"RAIGANJ\",\"RAIGARH\",\"RAIPUR\",\"RAJAHMUNDRY\",\"RAJAMPET\",\"RAJGARH\",\"RAJKOT\",\"RAJMAHAL\",\"RAJNANDGAON\",\"RAJSAMAND\",\"RAMANATHAPURAM\",\"RAMPUR\",\"RAMTEK\",\"RANAGHAT\",\"RANCHI\",\"RATLAM\",\"RATNAGIRI - SINDHUDURG\",\"RAVER\",\"REWA\",\"ROBERTSGANJ\",\"ROHTAK\",\"SABARKANTHA\",\"SAGAR\",\"SAHARANPUR\",\"SALEM\",\"SALEMPUR\",\"SAMASTIPUR (SC)\",\"SAMBALPUR\",\"SAMBHAL\",\"SANGLI\",\"SANGRUR\",\"SANT KABIR NAGAR\",\"SARAN\",\"SARGUJA\",\"SASARAM (SC)\",\"SATARA\",\"SATNA\",\"SECUNDRABAD\",\"SHAHDOL\",\"SHAHJAHANPUR\",\"SHEOHAR\",\"SHILLONG\",\"SHIMLA\",\"SHIMOGA\",\"SHIRDI\",\"SHIRUR\",\"SHRAWASTI\",\"SIDHI\",\"SIKAR\",\"SIKKIM\",\"SILCHAR\",\"SINGHBHUM\",\"SIRSA\",\"SITAMARHI\",\"SITAPUR\",\"SIVAGANGA\",\"SIWAN\",\"SOLAPUR\",\"SONIPAT\",\"SOUTH DELHI\",\"SOUTH GOA\",\"SRERAMPUR\",\"SRIKAKULAM\",\"SRINAGAR\",\"SRIPERUMBUDUR\",\"SULTANPUR\",\"SUNDARGARH\",\"SUPAUL\",\"SURAT\",\"SURENDRANAGAR\",\"TAMLUK\",\"TEHRI GARHWAL\",\"TENKASI\",\"TEZPUR\",\"THANE\",\"THANJAVUR\",\"THENI\",\"THIRUVALLUR\",\"THIRUVANANTHAPURAM\",\"THOOTHUKKUDI\",\"THRISSUR\",\"TIKAMGARH\",\"TIRUCHIRAPPALLI\",\"TIRUNELVELI\",\"TIRUPATI\",\"TIRUPPUR\",\"TIRUVANNAMALAI\",\"TONK-SAWAI MADHOPUR\",\"TRIPURA EAST\",\"TRIPURA WEST\",\"TUMKUR\",\"TURA\",\"UDAIPUR\",\"UDHAMPUR\",\"UDUPI CHIKMAGALUR\",\"UJIARPUR\",\"UJJAIN\",\"ULUBERIA\",\"UNNAO\",\"UTTARA KANNADA\",\"VADAKARA\",\"VADODARA\",\"VAISHALI\",\"VALMIKI NAGAR\",\"VALSAD\",\"VARANASI\",\"VIDISHA\",\"VIJAYAWADA\",\"VILUPPURAM\",\"VIRUDHUNAGAR\",\"VISAKHAPATNAM\",\"VIZIANAGARAM\",\"WARANGAL\",\"WARDHA\",\"WAYANAD\",\"WEST DELHI\",\"YAVATMAL-WASHIM\",\"ZAHIRABAD\",\"Andaman & Nicobar Islands\",\"Andhra Pradesh\",\"Arunachal Pradesh\",\"Assam\",\"Bihar\",\"Chandigarh\",\"Chhattisgarh\",\"Dadra & Nagar Haveli\",\"Daman & Diu\",\"Goa\",\"Gujarat\",\"Haryana\",\"Himachal Pradesh\",\"Jammu & Kashmir\",\"Jharkhand\",\"Karnataka\",\"Kerala\",\"Lakshadweep\",\"Madhya Pradesh\",\"Maharashtra\",\"Manipur\",\"Meghalaya\",\"Mizoram\",\"NCT OF Delhi\",\"Nagaland\",\"Odisha\",\"Puducherry\",\"Punjab\",\"Rajasthan\",\"Sikkim\",\"Tamil Nadu\",\"Telangana\",\"Tripura\",\"Uttar Pradesh\",\"Uttarakhand\",\"West Bengal\"],\"marker\":{\"coloraxis\":\"coloraxis\",\"colors\":[1489790.0,1937690.0,1861396.0,1811851.0,1643317.0,1876346.0,1766121.0,1865169.0,1356701.0,1266794.0,1887127.0,1648383.0,1716160.0,1337808.0,1888524.0,1459556.0,1853711.0,1785657.0,1743515.0,1833091.0,1628451.0,1507875.0,1646435.0,1521363.0,1655870.0,1698876.0,1664160.0,1397779.0,318471.0,1785605.0,1500016.0,1764726.0,1449150.0,1805439.0,2089353.0,1451418.0,339788.0,463775.0,1615865.0,1541145.0,1350710.0,1742883.0,1886284.0,795945.0,1789168.0,1891576.0,1704010.0,1616476.0,1638378.0,1729908.0,1767725.0,1531781.0,1822625.0,1431704.0,1697384.0,1702024.0,2204817.0,2849250.0,2497458.0,2215489.0,1704632.0,1699394.0,1648906.0,1751258.0,1975368.0,1468671.0,1816830.0,2114663.0,1317738.0,1718252.0,1733578.0,1698089.0,1826526.0,1797655.0,1596290.0,1941231.0,1685149.0,1436431.0,1678357.0,1379122.0,1845223.0,1621671.0,2045405.0,1958382.0,1779350.0,1751734.0,1502455.0,1737437.0,1942514.0,1661661.0,1823820.0,1811556.0,1943794.0,1564519.0,1768297.0,1997328.0,1765334.0,1890100.0,1654317.0,1628033.0,2142861.0,1699678.0,1775095.0,1797587.0,1664125.0,1851628.0,1876953.0,1699219.0,1627199.0,1744446.0,1705073.0,1787925.0,1762918.0,1829373.0,1230197.0,1686333.0,1756837.0,646729.0,1562283.0,1910188.0,1425218.0,1332300.0,1487681.0,1973533.0,2443112.0,1514783.0,1671253.0,1480222.0,1808780.0,1612556.0,1760633.0,1566499.0,2015911.0,2019104.0,1958904.0,1814200.0,1364038.0,1518996.0,250029.0,1598939.0,1724976.0,121740.0,1768777.0,1654811.0,1611317.0,1730289.0,1633064.0,1754195.0,1760503.0,2072634.0,1786151.0,1485804.0,1727311.0,1644674.0,1504403.0,1858566.0,1908173.0,1719190.0,1314319.0,1541881.0,1732936.0,1885433.0,1566196.0,1397253.0,1940269.0,2039302.0,1594950.0,1245972.0,1462246.0,1621295.0,1757984.0,1821785.0,2071816.0,1541971.0,1708585.0,1502861.0,1839312.0,1718837.0,1790510.0,1618419.0,1581366.0,1945772.0,1943486.0,1355796.0,2181319.0,2302960.0,1704596.0,1800002.0,2728978.0,1881077.0,1991651.0,1649413.0,1716766.0,1770248.0,1839514.0,1981197.0,1945765.0,1675724.0,1706119.0,1595284.0,2150728.0,2000744.0,1823664.0,1362269.0,1749100.0,1807119.0,1840738.0,1652999.0,1864320.0,1776555.0,1708510.0,1667465.0,1578218.0,1733729.0,1631817.0,1766601.0,1706141.0,1597500.0,1633925.0,1957931.0,1204191.0,2350580.0,937464.0,1819893.0,1816857.0,1643595.0,1588454.0,2127021.0,1952542.0,1475007.0,1617018.0,1933358.0,1931400.0,1867220.0,2071244.0,1735464.0,2047302.0,1657166.0,1703279.0,1718814.0,1616213.0,1897134.0,1867976.0,1648355.0,1903870.0,1852417.0,2040739.0,1641868.0,1937882.0,1956755.0,1365035.0,1642864.0,1744321.0,1570330.0,1666703.0,1805946.0,1563930.0,1611056.0,1734938.0,1528938.0,1965676.0,1643992.0,1288666.0,1427338.0,1558952.0,1874824.0,1501250.0,1266550.0,1632983.0,1660147.0,1771254.0,1810574.0,1340173.0,1651543.0,1904193.0,1387286.0,1363937.0,1653353.0,1787120.0,1710916.0,1516688.0,1638842.0,1676454.0,1842095.0,1513809.0,1909055.0,1834385.0,1804028.0,1770699.0,1202664.0,1659651.0,1814125.0,1776358.0,1629961.0,1880496.0,1728851.0,1444082.0,1296720.0,1736693.0,1434384.0,1508840.0,1948010.0,1206698.0,1318024.0,1530404.0,1631698.0,1573009.0,1657335.0,1761564.0,179232.0,1708013.0,55189.0,1751980.0,1886657.0,1234286.0,2040367.0,1683325.0,1848306.0,1473347.0,1909574.0,1884883.0,1792798.0,1539026.0,1424385.0,1807768.0,1915408.0,1637951.0,1506102.0,1648869.0,1723236.0,1370544.0,1575590.0,1685955.0,3150313.0,1281462.0,1951267.0,1760875.0,1712004.0,1800237.0,1807893.0,1652096.0,2298080.0,1308102.0,1484842.0,1493205.0,1603318.0,1674236.0,1892931.0,1845150.0,1796932.0,792464.0,2023431.0,1958939.0,1837723.0,1647350.0,1679891.0,1588693.0,1732263.0,1554176.0,1440380.0,1888025.0,1725187.0,1698003.0,1730553.0,1896333.0,1461004.0,1213777.0,1303649.0,1588111.0,1933169.0,1586117.0,2161096.0,1828433.0,2114809.0,1585980.0,1413599.0,1719322.0,1871099.0,1603220.0,1670391.0,1439691.0,1885064.0,1971658.0,1899747.0,1672845.0,1617470.0,1366060.0,1553385.0,2290492.0,556761.0,2378995.0,1794648.0,1556469.0,1889740.0,1022099.0,1323010.0,1881441.0,1885600.0,2161663.0,1744762.0,1985228.0,1633824.0,1925479.0,1807043.0,1382741.0,1739600.0,2146008.0,1479091.0,1391853.0,2010477.0,1761207.0,1520504.0,1356803.0,1662368.0,1708759.0,973410.0,2075824.0,1562331.0,1765312.0,1645884.0,1658672.0,1702248.0,1928204.0,1652965.0,1601220.0,1733805.0,2111738.0,1534256.0,1546938.0,1694329.0,1884339.0,1454436.0,1716459.0,1912911.0,1559740.0,1679506.0,1922764.0,1762252.0,1915959.0,1851112.0,1455577.0,1775051.0,1679534.0,1723538.0,1737133.0,1801717.0,1583129.0,1739082.0,1612512.0,1667282.0,1679030.0,1468530.0,1828764.0,1809109.0,1529431.0,1962903.0,1667253.0,1655239.0,1787878.0,1848489.0,1575064.0,1968276.0,1656474.0,2114201.0,1686215.0,1197806.0,1259085.0,1676668.0,1587079.0,2175529.0,1914739.0,1845547.0,2041612.0,434128.0,1195720.0,1269917.0,1803349.0,1752454.0,1666126.0,1552019.0,1799551.0,1851654.0,1592611.0,2067463.0,579352.0,1785472.0,1553860.0,1294671.0,2253448.0,1775196.0,1531525.0,1690620.0,1655704.0,1849429.0,1694646.0,1493543.0,1492317.0,1499639.0,2370903.0,1461052.0,1561040.0,1946870.0,1371427.0,1427783.0,1337110.0,1647399.0,1508963.0,1547800.0,1650453.0,1530014.0,1473862.0,1945992.0,1261861.0,1352857.0,1608545.0,716990.0,2069559.0,1685816.0,1513806.0,1612300.0,1661229.0,1614988.0,2191465.0,1556599.0,1288926.0,1794896.0,1735983.0,1665502.0,1671030.0,1856791.0,1741604.0,1652994.0,1444335.0,1484256.0,1829300.0,1503980.0,1666770.0,1743283.0,1359679.0,2371644.0,1916185.0,1498666.0,318471.0,1582400.9717934993,411346.8832798424,1644353.1150737212,1772123.4583131715,646729.0,1698986.6878278088,250029.0,121740.0,568281.104982515,1731423.3247479957,1805054.9374463586,1330051.2265762947,1479420.1213534693,1592357.041634522,1864447.0147089066,1313543.2125966665,55189.0,1792314.1201794483,1854902.7101187361,981609.2246572323,1017765.7952784527,792464.0,2100878.067652333,1213777.0,1550561.8931075688,973410.0,1608761.8167242955,1959342.8479804182,434128.0,1567181.864860669,1815183.074099372,1308942.396759421,1843504.556146671,1617600.669871884,1670124.3478314995]},\"name\":\"\",\"parents\":[\"Telangana\",\"Uttar Pradesh\",\"Maharashtra\",\"Gujarat\",\"Gujarat\",\"Rajasthan\",\"Uttar Pradesh\",\"Maharashtra\",\"Kerala\",\"Kerala\",\"Uttar Pradesh\",\"West Bengal\",\"Uttar Pradesh\",\"Uttarakhand\",\"Rajasthan\",\"Andhra Pradesh\",\"Haryana\",\"Uttar Pradesh\",\"Uttar Pradesh\",\"Maharashtra\",\"Gujarat\",\"Punjab\",\"Uttar Pradesh\",\"Andhra Pradesh\",\"Gujarat\",\"Punjab\",\"Andhra Pradesh\",\"Jammu & Kashmir\",\"Andaman & Nicobar Islands\",\"Uttar Pradesh\",\"Tamil Nadu\",\"West Bengal\",\"Tamil Nadu\",\"Bihar\",\"Bihar\",\"Andhra Pradesh\",\"Arunachal Pradesh\",\"Arunachal Pradesh\",\"West Bengal\",\"Odisha\",\"Kerala\",\"Bihar\",\"Maharashtra\",\"Assam\",\"Uttar Pradesh\",\"Uttar Pradesh\",\"Karnataka\",\"Uttar Pradesh\",\"West Bengal\",\"Uttar Pradesh\",\"Madhya Pradesh\",\"Odisha\",\"Uttar Pradesh\",\"West Bengal\",\"Gujarat\",\"Uttar Pradesh\",\"Karnataka\",\"Karnataka\",\"Karnataka\",\"Karnataka\",\"West Bengal\",\"Bihar\",\"West Bengal\",\"Uttar Pradesh\",\"Rajasthan\",\"Andhra Pradesh\",\"Uttar Pradesh\",\"Maharashtra\",\"Jammu & Kashmir\",\"West Bengal\",\"West Bengal\",\"West Bengal\",\"Gujarat\",\"Uttar Pradesh\",\"Odisha\",\"Rajasthan\",\"Assam\",\"West Bengal\",\"West Bengal\",\"Chhattisgarh\",\"Uttar Pradesh\",\"Punjab\",\"Maharashtra\",\"Bihar\",\"Karnataka\",\"Karnataka\",\"Odisha\",\"Madhya Pradesh\",\"Uttar Pradesh\",\"Odisha\",\"Bihar\",\"Maharashtra\",\"Rajasthan\",\"Gujarat\",\"Gujarat\",\"Rajasthan\",\"Madhya Pradesh\",\"Maharashtra\",\"Haryana\",\"Telangana\",\"Madhya Pradesh\",\"Odisha\",\"Karnataka\",\"Karnataka\",\"Uttar Pradesh\",\"Rajasthan\",\"Chhattisgarh\",\"West Bengal\",\"West Bengal\",\"Odisha\",\"West Bengal\",\"Uttar Pradesh\",\"Maharashtra\",\"Bihar\",\"Kerala\",\"Karnataka\",\"Uttar Pradesh\",\"Chandigarh\",\"NCT OF Delhi\",\"Maharashtra\",\"Jharkhand\",\"Tamil Nadu\",\"Tamil Nadu\",\"Tamil Nadu\",\"Telangana\",\"Madhya Pradesh\",\"Gujarat\",\"Tamil Nadu\",\"Karnataka\",\"Karnataka\",\"Karnataka\",\"Andhra Pradesh\",\"Rajasthan\",\"Rajasthan\",\"Tamil Nadu\",\"West Bengal\",\"Tamil Nadu\",\"Odisha\",\"Dadra & Nagar Haveli\",\"Gujarat\",\"Karnataka\",\"Daman & Diu\",\"Madhya Pradesh\",\"Bihar\",\"West Bengal\",\"Rajasthan\",\"Karnataka\",\"Uttar Pradesh\",\"Madhya Pradesh\",\"Jharkhand\",\"Madhya Pradesh\",\"Tamil Nadu\",\"Karnataka\",\"Uttar Pradesh\",\"Odisha\",\"Assam\",\"Maharashtra\",\"West Bengal\",\"Assam\",\"Tamil Nadu\",\"Maharashtra\",\"Uttar Pradesh\",\"West Bengal\",\"Jharkhand\",\"Chhattisgarh\",\"NCT OF Delhi\",\"Andhra Pradesh\",\"Kerala\",\"Tamil Nadu\",\"Uttar Pradesh\",\"Uttar Pradesh\",\"Uttar Pradesh\",\"Haryana\",\"Punjab\",\"Uttar Pradesh\",\"Punjab\",\"Uttar Pradesh\",\"Uttar Pradesh\",\"Uttar Pradesh\",\"Punjab\",\"Maharashtra\",\"Gujarat\",\"Rajasthan\",\"Uttarakhand\",\"Assam\",\"Uttar Pradesh\",\"Bihar\",\"West Bengal\",\"Uttar Pradesh\",\"Uttar Pradesh\",\"Uttar Pradesh\",\"Jharkhand\",\"Jharkhand\",\"Uttar Pradesh\",\"Bihar\",\"Uttar Pradesh\",\"Karnataka\",\"Madhya Pradesh\",\"Andhra Pradesh\",\"Punjab\",\"Haryana\",\"Madhya Pradesh\",\"Bihar\",\"Himachal Pradesh\",\"Uttar Pradesh\",\"Uttar Pradesh\",\"Uttarakhand\",\"Karnataka\",\"Uttar Pradesh\",\"Maharashtra\",\"Karnataka\",\"Jharkhand\",\"Andhra Pradesh\",\"Maharashtra\",\"Haryana\",\"West Bengal\",\"Madhya Pradesh\",\"Punjab\",\"West Bengal\",\"Telangana\",\"Kerala\",\"Madhya Pradesh\",\"Manipur\",\"Madhya Pradesh\",\"West Bengal\",\"Odisha\",\"Bihar\",\"Rajasthan\",\"Rajasthan\",\"Odisha\",\"Punjab\",\"Uttar Pradesh\",\"Maharashtra\",\"Maharashtra\",\"Rajasthan\",\"West Bengal\",\"Jammu & Kashmir\",\"Gujarat\",\"Jharkhand\",\"Bihar\",\"West Bengal\",\"Chhattisgarh\",\"Uttar Pradesh\",\"West Bengal\",\"Rajasthan\",\"Bihar\",\"Uttar Pradesh\",\"West Bengal\",\"Rajasthan\",\"Rajasthan\",\"Assam\",\"Gujarat\",\"Gujarat\",\"Andhra Pradesh\",\"Uttar Pradesh\",\"Uttar Pradesh\",\"Andhra Pradesh\",\"Odisha\",\"Assam\",\"Tamil Nadu\",\"Maharashtra\",\"Tamil Nadu\",\"Odisha\",\"Himachal Pradesh\",\"Chhattisgarh\",\"Uttar Pradesh\",\"Tamil Nadu\",\"Kerala\",\"Uttar Pradesh\",\"West Bengal\",\"Bihar\",\"Rajasthan\",\"Assam\",\"Telangana\",\"Haryana\",\"Tamil Nadu\",\"Kerala\",\"Bihar\",\"Uttar Pradesh\",\"Odisha\",\"Odisha\",\"Punjab\",\"Bihar\",\"Madhya Pradesh\",\"Telangana\",\"Madhya Pradesh\",\"Madhya Pradesh\",\"Gujarat\",\"Uttar Pradesh\",\"Jharkhand\",\"Bihar\",\"Jharkhand\",\"Assam\",\"Karnataka\",\"Maharashtra\",\"West Bengal\",\"West Bengal\",\"Kerala\",\"Karnataka\",\"Odisha\",\"Chhattisgarh\",\"Rajasthan\",\"Kerala\",\"Kerala\",\"Tamil Nadu\",\"West Bengal\",\"Andhra Pradesh\",\"Haryana\",\"Uttar Pradesh\",\"Jammu & Kashmir\",\"Assam\",\"Lakshadweep\",\"Uttar Pradesh\",\"Maharashtra\",\"Jharkhand\",\"Uttar Pradesh\",\"Punjab\",\"Uttar Pradesh\",\"Andhra Pradesh\",\"Maharashtra\",\"Bihar\",\"Bihar\",\"Tamil Nadu\",\"Telangana\",\"Bihar\",\"Uttar Pradesh\",\"Chhattisgarh\",\"Telangana\",\"Gujarat\",\"Uttar Pradesh\",\"Kerala\",\"West Bengal\",\"West Bengal\",\"Telangana\",\"Himachal Pradesh\",\"Madhya Pradesh\",\"Madhya Pradesh\",\"Karnataka\",\"Assam\",\"Uttar Pradesh\",\"West Bengal\",\"Maharashtra\",\"Kerala\",\"Tamil Nadu\",\"Odisha\",\"Telangana\",\"West Bengal\",\"Uttar Pradesh\",\"Uttar Pradesh\",\"Uttar Pradesh\",\"Mizoram\",\"Uttar Pradesh\",\"Uttar Pradesh\",\"Madhya Pradesh\",\"Maharashtra\",\"Maharashtra\",\"Maharashtra\",\"Maharashtra\",\"Maharashtra\",\"Maharashtra\",\"Bihar\",\"West Bengal\",\"Uttar Pradesh\",\"Bihar\",\"Karnataka\",\"Odisha\",\"Nagaland\",\"Tamil Nadu\",\"Telangana\",\"Rajasthan\",\"Uttar Pradesh\",\"Maharashtra\",\"Uttarakhand\",\"Bihar\",\"Telangana\",\"Tamil Nadu\",\"Maharashtra\",\"Maharashtra\",\"Andhra Pradesh\",\"Andhra Pradesh\",\"Andhra Pradesh\",\"Maharashtra\",\"Gujarat\",\"Bihar\",\"Andhra Pradesh\",\"NCT OF Delhi\",\"Tamil Nadu\",\"Telangana\",\"NCT OF Delhi\",\"Goa\",\"NCT OF Delhi\",\"Assam\",\"Andhra Pradesh\",\"Maharashtra\",\"Manipur\",\"Kerala\",\"Jharkhand\",\"Maharashtra\",\"Rajasthan\",\"Gujarat\",\"Maharashtra\",\"Bihar\",\"Bihar\",\"Gujarat\",\"Kerala\",\"Punjab\",\"Bihar\",\"Telangana\",\"Tamil Nadu\",\"Uttar Pradesh\",\"Uttar Pradesh\",\"Tamil Nadu\",\"Kerala\",\"Gujarat\",\"Uttar Pradesh\",\"Puducherry\",\"Maharashtra\",\"Odisha\",\"Bihar\",\"West Bengal\",\"Bihar\",\"Uttar Pradesh\",\"Karnataka\",\"Maharashtra\",\"West Bengal\",\"Chhattisgarh\",\"Chhattisgarh\",\"Andhra Pradesh\",\"Andhra Pradesh\",\"Madhya Pradesh\",\"Gujarat\",\"Jharkhand\",\"Chhattisgarh\",\"Rajasthan\",\"Tamil Nadu\",\"Uttar Pradesh\",\"Maharashtra\",\"West Bengal\",\"Jharkhand\",\"Madhya Pradesh\",\"Maharashtra\",\"Maharashtra\",\"Madhya Pradesh\",\"Uttar Pradesh\",\"Haryana\",\"Gujarat\",\"Madhya Pradesh\",\"Uttar Pradesh\",\"Tamil Nadu\",\"Uttar Pradesh\",\"Bihar\",\"Odisha\",\"Uttar Pradesh\",\"Maharashtra\",\"Punjab\",\"Uttar Pradesh\",\"Bihar\",\"Chhattisgarh\",\"Bihar\",\"Maharashtra\",\"Madhya Pradesh\",\"Telangana\",\"Madhya Pradesh\",\"Uttar Pradesh\",\"Bihar\",\"Meghalaya\",\"Himachal Pradesh\",\"Karnataka\",\"Maharashtra\",\"Maharashtra\",\"Uttar Pradesh\",\"Madhya Pradesh\",\"Rajasthan\",\"Sikkim\",\"Assam\",\"Jharkhand\",\"Haryana\",\"Bihar\",\"Uttar Pradesh\",\"Tamil Nadu\",\"Bihar\",\"Maharashtra\",\"Haryana\",\"NCT OF Delhi\",\"Goa\",\"West Bengal\",\"Andhra Pradesh\",\"Jammu & Kashmir\",\"Tamil Nadu\",\"Uttar Pradesh\",\"Odisha\",\"Bihar\",\"Gujarat\",\"Gujarat\",\"West Bengal\",\"Uttarakhand\",\"Tamil Nadu\",\"Assam\",\"Maharashtra\",\"Tamil Nadu\",\"Tamil Nadu\",\"Tamil Nadu\",\"Kerala\",\"Tamil Nadu\",\"Kerala\",\"Madhya Pradesh\",\"Tamil Nadu\",\"Tamil Nadu\",\"Andhra Pradesh\",\"Tamil Nadu\",\"Tamil Nadu\",\"Rajasthan\",\"Tripura\",\"Tripura\",\"Karnataka\",\"Meghalaya\",\"Rajasthan\",\"Jammu & Kashmir\",\"Karnataka\",\"Bihar\",\"Madhya Pradesh\",\"West Bengal\",\"Uttar Pradesh\",\"Karnataka\",\"Kerala\",\"Gujarat\",\"Bihar\",\"Bihar\",\"Gujarat\",\"Uttar Pradesh\",\"Madhya Pradesh\",\"Andhra Pradesh\",\"Tamil Nadu\",\"Tamil Nadu\",\"Andhra Pradesh\",\"Andhra Pradesh\",\"Telangana\",\"Maharashtra\",\"Kerala\",\"NCT OF Delhi\",\"Maharashtra\",\"Telangana\",\"\",\"\",\"\",\"\",\"\",\"\",\"\",\"\",\"\",\"\",\"\",\"\",\"\",\"\",\"\",\"\",\"\",\"\",\"\",\"\",\"\",\"\",\"\",\"\",\"\",\"\",\"\",\"\",\"\",\"\",\"\",\"\",\"\",\"\",\"\",\"\"],\"type\":\"sunburst\",\"values\":[4469370,5813070,5584188,3623702,4929951,7505384,5298363,5595507,4070103,3800382,5661381,6593532,6864640,4013424,5665572,4378668,7414844,5356971,3487030,7332364,4885353,6031500,4939305,6085452,3311740,6795504,6656640,8386674,1592355,5356815,7500080,7058904,7245750,3610878,8357412,10159926,1698940,2318875,8079325,4623435,4052130,15685947,7545136,3979725,3578336,5674728,3408020,3232952,8191890,5189724,7070900,4595343,5467875,5726816,8486920,6808096,6614451,5698500,7492374,4430978,6818528,11895758,6595624,3502516,9876840,5874684,5450490,6343989,9224166,6873008,6934312,6792356,3653052,5392965,4788870,5823693,6740596,5745724,6713428,9653854,7380892,6486684,8181620,7833528,3558700,3503468,4507365,5212311,5827542,4984983,3647640,9057780,5831382,6258076,3536594,7989312,5296002,7560400,6617268,8140165,4285722,5099034,5325285,7190348,4992375,5554884,5630859,8496095,6508796,6977784,8525365,5363775,5288754,7317492,3690591,5058999,7027348,2586916,4686849,5730564,11401744,6661500,7438405,9867665,7329336,6059132,5013759,5920888,7235120,4837668,3521266,6265996,4031822,8076416,9794520,7256800,6820190,4556988,1500174,6395756,5174928,365220,5306331,6619244,8056585,5190867,3266128,1754195,5281509,4145268,5358453,7429020,3454622,4934022,4513209,5575698,5724519,6876760,2628638,4625643,6931744,5656299,6264784,8383518,5820807,8157208,4784850,3737916,7311230,3242590,5273952,5465355,6215448,6167884,5125755,6011444,5517936,5156511,5371530,6473676,7906830,3891544,5830458,2711592,6543957,6908880,18750556,7200008,8186934,7524308,9958255,3298826,8583830,5310744,11037084,5943591,3891530,5027172,6824476,6381136,6452184,6002232,10941984,2724538,6996400,5421357,5522214,4958997,5592960,5329665,3417020,8337325,6312872,6934916,6527268,7066404,5118423,6390000,6535700,7831724,3612573,4701160,4687320,5459679,5450571,4930785,11119178,4254042,3905084,4425021,6468072,7733432,5794200,5601660,4142488,6941856,4094604,3314332,3406558,8594070,8081065,5691402,5603928,8241775,3807740,11114502,6122217,6567472,3875764,3913510,4095105,4928592,3488642,3140660,5000109,3611892,4691790,8055280,5204814,6115752,7862704,6575968,3865998,2854676,3117904,3749648,6005000,3799650,4898949,6640588,10627524,5431722,4020519,6606172,9520965,6936430,4091811,3306706,7148480,5132748,4550064,6555368,11735178,5526285,9082854,5727165,7337540,3608056,7082796,4810656,6638604,7256500,8881790,3259922,5641488,6915404,5776328,3890160,3473386,10040688,7544200,3896020,3620094,3954072,6121616,6526792,7865045,8286675,5284692,716928,5124039,165567,7007920,5659971,7405716,6121101,6733300,5544918,4420041,7638296,7539532,8963990,7695130,9970695,9038840,5746224,4913853,4518306,3297738,3446472,5482176,4726770,6743820,12601252,3844386,9756335,3521750,5136012,5400711,5423679,6608384,6894240,3924306,7424210,5972820,9619908,6696944,5678793,7380600,5390796,3962320,6070293,5876817,5513169,4942050,5039673,4766079,5196789,4662528,5761520,13216175,6900748,3396006,6922212,5688999,5844016,3641331,6518245,7940555,5799507,4758351,8644384,5485299,12688854,6343920,7067995,5157966,7484396,6412880,6681564,7198455,7540256,3943316,7598988,5018535,4852410,5464240,4660155,9161968,1670283,7136985,3589296,4669407,5669220,5110495,3969030,13170087,9428000,4323326,3489524,7940912,6535296,5776437,3614086,4148223,6958400,4292016,7395455,5567412,6031431,3522414,7602520,5427212,4987104,6835036,2920230,6227472,4686993,8826560,6583536,8293360,3404496,5784612,6611860,6404880,5201415,4223476,6137024,6187752,3388658,5653017,7272180,5149377,7651644,7798700,5038518,7691056,7049008,5747877,5553336,8733462,5325153,6718136,10341228,6948532,5405151,4749387,5217246,8062560,6669128,11753210,4405590,5486292,5427327,7647155,5888709,6669012,6620956,7151512,5545467,4725192,7873104,8282370,6342603,13489720,3593418,2518170,3353336,9522474,6526587,7658956,9227735,6124836,1736512,2391440,7619502,9016745,10514724,4998378,7760095,8997755,5554962,6370444,8269852,1738056,7141888,6215440,5178684,11267240,7100784,6126100,13524960,3311408,7397716,6778584,4480629,7461585,4498917,7112709,8766312,6244160,11681220,4114281,7138915,4011330,4942197,7544815,7739000,8252265,7650070,7369310,5837976,5047444,5411428,4825635,2150970,10347795,8429080,4541418,12898400,3322458,6459952,6574395,3113198,3866778,3589792,10415898,9993012,5013090,5570373,5224812,8264970,8666010,5937024,9146500,6015920,8333850,6973132,2719358,7114932,11497110,4495998,1592355,157661812,4017815,68675245,373933748,2586916,63568103,1500174,365220,3408339,119028011,73370373,11941770,36030136,100839587,131214920,79982176,165567,163695551,321123079,9797815,5744388,3962320,49380204,3641331,112683114,2920230,85100123,144688084,1736512,280796425,127212819,10458872,451766863,22213158,288147109]}],                        {\"coloraxis\":{\"colorbar\":{\"title\":{\"text\":\"TOTAL ELECTORS\"}},\"colorscale\":[[0.0,\"rgb(236, 218, 154)\"],[0.16666666666666666,\"rgb(239, 196, 126)\"],[0.3333333333333333,\"rgb(243, 173, 106)\"],[0.5,\"rgb(247, 148, 93)\"],[0.6666666666666666,\"rgb(249, 123, 87)\"],[0.8333333333333334,\"rgb(246, 99, 86)\"],[1.0,\"rgb(238, 77, 90)\"]]},\"font\":{\"color\":\"#351f39\",\"family\":\"Courier New\"},\"legend\":{\"tracegroupgap\":0},\"margin\":{\"t\":60},\"template\":{\"data\":{\"bar\":[{\"error_x\":{\"color\":\"#2a3f5f\"},\"error_y\":{\"color\":\"#2a3f5f\"},\"marker\":{\"line\":{\"color\":\"#E5ECF6\",\"width\":0.5},\"pattern\":{\"fillmode\":\"overlay\",\"size\":10,\"solidity\":0.2}},\"type\":\"bar\"}],\"barpolar\":[{\"marker\":{\"line\":{\"color\":\"#E5ECF6\",\"width\":0.5},\"pattern\":{\"fillmode\":\"overlay\",\"size\":10,\"solidity\":0.2}},\"type\":\"barpolar\"}],\"carpet\":[{\"aaxis\":{\"endlinecolor\":\"#2a3f5f\",\"gridcolor\":\"white\",\"linecolor\":\"white\",\"minorgridcolor\":\"white\",\"startlinecolor\":\"#2a3f5f\"},\"baxis\":{\"endlinecolor\":\"#2a3f5f\",\"gridcolor\":\"white\",\"linecolor\":\"white\",\"minorgridcolor\":\"white\",\"startlinecolor\":\"#2a3f5f\"},\"type\":\"carpet\"}],\"choropleth\":[{\"colorbar\":{\"outlinewidth\":0,\"ticks\":\"\"},\"type\":\"choropleth\"}],\"contour\":[{\"colorbar\":{\"outlinewidth\":0,\"ticks\":\"\"},\"colorscale\":[[0.0,\"#0d0887\"],[0.1111111111111111,\"#46039f\"],[0.2222222222222222,\"#7201a8\"],[0.3333333333333333,\"#9c179e\"],[0.4444444444444444,\"#bd3786\"],[0.5555555555555556,\"#d8576b\"],[0.6666666666666666,\"#ed7953\"],[0.7777777777777778,\"#fb9f3a\"],[0.8888888888888888,\"#fdca26\"],[1.0,\"#f0f921\"]],\"type\":\"contour\"}],\"contourcarpet\":[{\"colorbar\":{\"outlinewidth\":0,\"ticks\":\"\"},\"type\":\"contourcarpet\"}],\"heatmap\":[{\"colorbar\":{\"outlinewidth\":0,\"ticks\":\"\"},\"colorscale\":[[0.0,\"#0d0887\"],[0.1111111111111111,\"#46039f\"],[0.2222222222222222,\"#7201a8\"],[0.3333333333333333,\"#9c179e\"],[0.4444444444444444,\"#bd3786\"],[0.5555555555555556,\"#d8576b\"],[0.6666666666666666,\"#ed7953\"],[0.7777777777777778,\"#fb9f3a\"],[0.8888888888888888,\"#fdca26\"],[1.0,\"#f0f921\"]],\"type\":\"heatmap\"}],\"heatmapgl\":[{\"colorbar\":{\"outlinewidth\":0,\"ticks\":\"\"},\"colorscale\":[[0.0,\"#0d0887\"],[0.1111111111111111,\"#46039f\"],[0.2222222222222222,\"#7201a8\"],[0.3333333333333333,\"#9c179e\"],[0.4444444444444444,\"#bd3786\"],[0.5555555555555556,\"#d8576b\"],[0.6666666666666666,\"#ed7953\"],[0.7777777777777778,\"#fb9f3a\"],[0.8888888888888888,\"#fdca26\"],[1.0,\"#f0f921\"]],\"type\":\"heatmapgl\"}],\"histogram\":[{\"marker\":{\"pattern\":{\"fillmode\":\"overlay\",\"size\":10,\"solidity\":0.2}},\"type\":\"histogram\"}],\"histogram2d\":[{\"colorbar\":{\"outlinewidth\":0,\"ticks\":\"\"},\"colorscale\":[[0.0,\"#0d0887\"],[0.1111111111111111,\"#46039f\"],[0.2222222222222222,\"#7201a8\"],[0.3333333333333333,\"#9c179e\"],[0.4444444444444444,\"#bd3786\"],[0.5555555555555556,\"#d8576b\"],[0.6666666666666666,\"#ed7953\"],[0.7777777777777778,\"#fb9f3a\"],[0.8888888888888888,\"#fdca26\"],[1.0,\"#f0f921\"]],\"type\":\"histogram2d\"}],\"histogram2dcontour\":[{\"colorbar\":{\"outlinewidth\":0,\"ticks\":\"\"},\"colorscale\":[[0.0,\"#0d0887\"],[0.1111111111111111,\"#46039f\"],[0.2222222222222222,\"#7201a8\"],[0.3333333333333333,\"#9c179e\"],[0.4444444444444444,\"#bd3786\"],[0.5555555555555556,\"#d8576b\"],[0.6666666666666666,\"#ed7953\"],[0.7777777777777778,\"#fb9f3a\"],[0.8888888888888888,\"#fdca26\"],[1.0,\"#f0f921\"]],\"type\":\"histogram2dcontour\"}],\"mesh3d\":[{\"colorbar\":{\"outlinewidth\":0,\"ticks\":\"\"},\"type\":\"mesh3d\"}],\"parcoords\":[{\"line\":{\"colorbar\":{\"outlinewidth\":0,\"ticks\":\"\"}},\"type\":\"parcoords\"}],\"pie\":[{\"automargin\":true,\"type\":\"pie\"}],\"scatter\":[{\"marker\":{\"colorbar\":{\"outlinewidth\":0,\"ticks\":\"\"}},\"type\":\"scatter\"}],\"scatter3d\":[{\"line\":{\"colorbar\":{\"outlinewidth\":0,\"ticks\":\"\"}},\"marker\":{\"colorbar\":{\"outlinewidth\":0,\"ticks\":\"\"}},\"type\":\"scatter3d\"}],\"scattercarpet\":[{\"marker\":{\"colorbar\":{\"outlinewidth\":0,\"ticks\":\"\"}},\"type\":\"scattercarpet\"}],\"scattergeo\":[{\"marker\":{\"colorbar\":{\"outlinewidth\":0,\"ticks\":\"\"}},\"type\":\"scattergeo\"}],\"scattergl\":[{\"marker\":{\"colorbar\":{\"outlinewidth\":0,\"ticks\":\"\"}},\"type\":\"scattergl\"}],\"scattermapbox\":[{\"marker\":{\"colorbar\":{\"outlinewidth\":0,\"ticks\":\"\"}},\"type\":\"scattermapbox\"}],\"scatterpolar\":[{\"marker\":{\"colorbar\":{\"outlinewidth\":0,\"ticks\":\"\"}},\"type\":\"scatterpolar\"}],\"scatterpolargl\":[{\"marker\":{\"colorbar\":{\"outlinewidth\":0,\"ticks\":\"\"}},\"type\":\"scatterpolargl\"}],\"scatterternary\":[{\"marker\":{\"colorbar\":{\"outlinewidth\":0,\"ticks\":\"\"}},\"type\":\"scatterternary\"}],\"surface\":[{\"colorbar\":{\"outlinewidth\":0,\"ticks\":\"\"},\"colorscale\":[[0.0,\"#0d0887\"],[0.1111111111111111,\"#46039f\"],[0.2222222222222222,\"#7201a8\"],[0.3333333333333333,\"#9c179e\"],[0.4444444444444444,\"#bd3786\"],[0.5555555555555556,\"#d8576b\"],[0.6666666666666666,\"#ed7953\"],[0.7777777777777778,\"#fb9f3a\"],[0.8888888888888888,\"#fdca26\"],[1.0,\"#f0f921\"]],\"type\":\"surface\"}],\"table\":[{\"cells\":{\"fill\":{\"color\":\"#EBF0F8\"},\"line\":{\"color\":\"white\"}},\"header\":{\"fill\":{\"color\":\"#C8D4E3\"},\"line\":{\"color\":\"white\"}},\"type\":\"table\"}]},\"layout\":{\"annotationdefaults\":{\"arrowcolor\":\"#2a3f5f\",\"arrowhead\":0,\"arrowwidth\":1},\"autotypenumbers\":\"strict\",\"coloraxis\":{\"colorbar\":{\"outlinewidth\":0,\"ticks\":\"\"}},\"colorscale\":{\"diverging\":[[0,\"#8e0152\"],[0.1,\"#c51b7d\"],[0.2,\"#de77ae\"],[0.3,\"#f1b6da\"],[0.4,\"#fde0ef\"],[0.5,\"#f7f7f7\"],[0.6,\"#e6f5d0\"],[0.7,\"#b8e186\"],[0.8,\"#7fbc41\"],[0.9,\"#4d9221\"],[1,\"#276419\"]],\"sequential\":[[0.0,\"#0d0887\"],[0.1111111111111111,\"#46039f\"],[0.2222222222222222,\"#7201a8\"],[0.3333333333333333,\"#9c179e\"],[0.4444444444444444,\"#bd3786\"],[0.5555555555555556,\"#d8576b\"],[0.6666666666666666,\"#ed7953\"],[0.7777777777777778,\"#fb9f3a\"],[0.8888888888888888,\"#fdca26\"],[1.0,\"#f0f921\"]],\"sequentialminus\":[[0.0,\"#0d0887\"],[0.1111111111111111,\"#46039f\"],[0.2222222222222222,\"#7201a8\"],[0.3333333333333333,\"#9c179e\"],[0.4444444444444444,\"#bd3786\"],[0.5555555555555556,\"#d8576b\"],[0.6666666666666666,\"#ed7953\"],[0.7777777777777778,\"#fb9f3a\"],[0.8888888888888888,\"#fdca26\"],[1.0,\"#f0f921\"]]},\"colorway\":[\"#636efa\",\"#EF553B\",\"#00cc96\",\"#ab63fa\",\"#FFA15A\",\"#19d3f3\",\"#FF6692\",\"#B6E880\",\"#FF97FF\",\"#FECB52\"],\"font\":{\"color\":\"#2a3f5f\"},\"geo\":{\"bgcolor\":\"white\",\"lakecolor\":\"white\",\"landcolor\":\"#E5ECF6\",\"showlakes\":true,\"showland\":true,\"subunitcolor\":\"white\"},\"hoverlabel\":{\"align\":\"left\"},\"hovermode\":\"closest\",\"mapbox\":{\"style\":\"light\"},\"paper_bgcolor\":\"white\",\"plot_bgcolor\":\"#E5ECF6\",\"polar\":{\"angularaxis\":{\"gridcolor\":\"white\",\"linecolor\":\"white\",\"ticks\":\"\"},\"bgcolor\":\"#E5ECF6\",\"radialaxis\":{\"gridcolor\":\"white\",\"linecolor\":\"white\",\"ticks\":\"\"}},\"scene\":{\"xaxis\":{\"backgroundcolor\":\"#E5ECF6\",\"gridcolor\":\"white\",\"gridwidth\":2,\"linecolor\":\"white\",\"showbackground\":true,\"ticks\":\"\",\"zerolinecolor\":\"white\"},\"yaxis\":{\"backgroundcolor\":\"#E5ECF6\",\"gridcolor\":\"white\",\"gridwidth\":2,\"linecolor\":\"white\",\"showbackground\":true,\"ticks\":\"\",\"zerolinecolor\":\"white\"},\"zaxis\":{\"backgroundcolor\":\"#E5ECF6\",\"gridcolor\":\"white\",\"gridwidth\":2,\"linecolor\":\"white\",\"showbackground\":true,\"ticks\":\"\",\"zerolinecolor\":\"white\"}},\"shapedefaults\":{\"line\":{\"color\":\"#2a3f5f\"}},\"ternary\":{\"aaxis\":{\"gridcolor\":\"white\",\"linecolor\":\"white\",\"ticks\":\"\"},\"baxis\":{\"gridcolor\":\"white\",\"linecolor\":\"white\",\"ticks\":\"\"},\"bgcolor\":\"#E5ECF6\",\"caxis\":{\"gridcolor\":\"white\",\"linecolor\":\"white\",\"ticks\":\"\"}},\"title\":{\"x\":0.05},\"xaxis\":{\"automargin\":true,\"gridcolor\":\"white\",\"linecolor\":\"white\",\"ticks\":\"\",\"title\":{\"standoff\":15},\"zerolinecolor\":\"white\",\"zerolinewidth\":2},\"yaxis\":{\"automargin\":true,\"gridcolor\":\"white\",\"linecolor\":\"white\",\"ticks\":\"\",\"title\":{\"standoff\":15},\"zerolinecolor\":\"white\",\"zerolinewidth\":2}}},\"title\":{\"font\":{\"color\":\"#351f39\",\"family\":\"Courier New\"},\"text\":\"State and Constituency by total electors\"},\"xaxis\":{\"title\":{\"text\":\"Party\"}},\"yaxis\":{\"title\":{\"text\":\"Seats\"}}},                        {\"responsive\": true}                    ).then(function(){\n",
              "                            \n",
              "var gd = document.getElementById('980943f3-43f4-44f9-98f1-a0a937a05bd5');\n",
              "var x = new MutationObserver(function (mutations, observer) {{\n",
              "        var display = window.getComputedStyle(gd).display;\n",
              "        if (!display || display === 'none') {{\n",
              "            console.log([gd, 'removed!']);\n",
              "            Plotly.purge(gd);\n",
              "            observer.disconnect();\n",
              "        }}\n",
              "}});\n",
              "\n",
              "// Listen for the removal of the full notebook cells\n",
              "var notebookContainer = gd.closest('#notebook-container');\n",
              "if (notebookContainer) {{\n",
              "    x.observe(notebookContainer, {childList: true});\n",
              "}}\n",
              "\n",
              "// Listen for the clearing of the current output cell\n",
              "var outputEl = gd.closest('.output');\n",
              "if (outputEl) {{\n",
              "    x.observe(outputEl, {childList: true});\n",
              "}}\n",
              "\n",
              "                        })                };                            </script>        </div>\n",
              "</body>\n",
              "</html>"
            ]
          },
          "metadata": {}
        },
        {
          "output_type": "display_data",
          "data": {
            "text/plain": [
              "<Figure size 432x288 with 0 Axes>"
            ]
          },
          "metadata": {}
        }
      ]
    },
    {
      "cell_type": "markdown",
      "metadata": {
        "id": "dNhZWjtbDg7f"
      },
      "source": [
        "##**Top 20 Party-wise election results**"
      ]
    },
    {
      "cell_type": "code",
      "metadata": {
        "colab": {
          "base_uri": "https://localhost:8080/",
          "height": 535
        },
        "id": "bFx3F133BxLT",
        "outputId": "3c8424bb-4ef5-4190-f2a6-556a364e6f45"
      },
      "source": [
        "# Number of seats won by each party\n",
        "result = dataset[dataset['WINNER'] == 1].groupby('PARTY')['WINNER'].size()\n",
        "result_df = pd.DataFrame(data = result).sort_values(by = \"WINNER\", ascending = False)\n",
        "result_df.reset_index(level = 0, inplace = True)\n",
        "\n",
        "# Visualize the party-wise election results\n",
        "result_fig = px.bar(result_df, \n",
        "                    x = result_df['PARTY'][:20], \n",
        "                    y = result_df[\"WINNER\"][:20], \n",
        "                    color = result_df['WINNER'][:20], \n",
        "                    height = 500,\n",
        "                    color_continuous_scale = 'Oryel')\n",
        "result_fig.update_layout(title_text = 'Top 20 Party-wise election results',\n",
        "                         font_family = \"Courier New\",\n",
        "                         font_color = \"#351f39\",\n",
        "                         title_font_family = \"Courier New\",\n",
        "                         title_font_color = \"#351f39\",\n",
        "                         xaxis_title = \"Party\",\n",
        "                         yaxis_title = \"Seats\")\n",
        "result_fig.show()\n",
        "plt.savefig('20-Party_electionResults.png')"
      ],
      "execution_count": null,
      "outputs": [
        {
          "output_type": "display_data",
          "data": {
            "text/html": [
              "<html>\n",
              "<head><meta charset=\"utf-8\" /></head>\n",
              "<body>\n",
              "    <div>            <script src=\"https://cdnjs.cloudflare.com/ajax/libs/mathjax/2.7.5/MathJax.js?config=TeX-AMS-MML_SVG\"></script><script type=\"text/javascript\">if (window.MathJax) {MathJax.Hub.Config({SVG: {font: \"STIX-Web\"}});}</script>                <script type=\"text/javascript\">window.PlotlyConfig = {MathJaxConfig: 'local'};</script>\n",
              "        <script src=\"https://cdn.plot.ly/plotly-2.4.2.min.js\"></script>                <div id=\"86226e0f-eee5-44a0-8b14-1e18124d678c\" class=\"plotly-graph-div\" style=\"height:500px; width:100%;\"></div>            <script type=\"text/javascript\">                                    window.PLOTLYENV=window.PLOTLYENV || {};                                    if (document.getElementById(\"86226e0f-eee5-44a0-8b14-1e18124d678c\")) {                    Plotly.newPlot(                        \"86226e0f-eee5-44a0-8b14-1e18124d678c\",                        [{\"alignmentgroup\":\"True\",\"hovertemplate\":\"x=%{x}<br>y=%{y}<br>color=%{marker.color}<extra></extra>\",\"legendgroup\":\"\",\"marker\":{\"color\":[300,52,23,22,22,18,16,11,11,9,6,5,5,5,4,3,3,3,2,2],\"coloraxis\":\"coloraxis\",\"pattern\":{\"shape\":\"\"}},\"name\":\"\",\"offsetgroup\":\"\",\"orientation\":\"v\",\"showlegend\":false,\"textposition\":\"auto\",\"type\":\"bar\",\"x\":[\"BJP\",\"INC\",\"DMK\",\"AITC\",\"YSRCP\",\"SHS\",\"JD(U)\",\"BJD\",\"BSP\",\"TRS\",\"LJP\",\"NCP\",\"SP\",\"CPI(M)\",\"IND\",\"IUML\",\"TDP\",\"JKN\",\"ADAL\",\"AIMIM\"],\"xaxis\":\"x\",\"y\":[300,52,23,22,22,18,16,11,11,9,6,5,5,5,4,3,3,3,2,2],\"yaxis\":\"y\"}],                        {\"barmode\":\"relative\",\"coloraxis\":{\"colorbar\":{\"title\":{\"text\":\"color\"}},\"colorscale\":[[0.0,\"rgb(236, 218, 154)\"],[0.16666666666666666,\"rgb(239, 196, 126)\"],[0.3333333333333333,\"rgb(243, 173, 106)\"],[0.5,\"rgb(247, 148, 93)\"],[0.6666666666666666,\"rgb(249, 123, 87)\"],[0.8333333333333334,\"rgb(246, 99, 86)\"],[1.0,\"rgb(238, 77, 90)\"]]},\"font\":{\"color\":\"#351f39\",\"family\":\"Courier New\"},\"height\":500,\"legend\":{\"tracegroupgap\":0},\"margin\":{\"t\":60},\"template\":{\"data\":{\"bar\":[{\"error_x\":{\"color\":\"#2a3f5f\"},\"error_y\":{\"color\":\"#2a3f5f\"},\"marker\":{\"line\":{\"color\":\"#E5ECF6\",\"width\":0.5},\"pattern\":{\"fillmode\":\"overlay\",\"size\":10,\"solidity\":0.2}},\"type\":\"bar\"}],\"barpolar\":[{\"marker\":{\"line\":{\"color\":\"#E5ECF6\",\"width\":0.5},\"pattern\":{\"fillmode\":\"overlay\",\"size\":10,\"solidity\":0.2}},\"type\":\"barpolar\"}],\"carpet\":[{\"aaxis\":{\"endlinecolor\":\"#2a3f5f\",\"gridcolor\":\"white\",\"linecolor\":\"white\",\"minorgridcolor\":\"white\",\"startlinecolor\":\"#2a3f5f\"},\"baxis\":{\"endlinecolor\":\"#2a3f5f\",\"gridcolor\":\"white\",\"linecolor\":\"white\",\"minorgridcolor\":\"white\",\"startlinecolor\":\"#2a3f5f\"},\"type\":\"carpet\"}],\"choropleth\":[{\"colorbar\":{\"outlinewidth\":0,\"ticks\":\"\"},\"type\":\"choropleth\"}],\"contour\":[{\"colorbar\":{\"outlinewidth\":0,\"ticks\":\"\"},\"colorscale\":[[0.0,\"#0d0887\"],[0.1111111111111111,\"#46039f\"],[0.2222222222222222,\"#7201a8\"],[0.3333333333333333,\"#9c179e\"],[0.4444444444444444,\"#bd3786\"],[0.5555555555555556,\"#d8576b\"],[0.6666666666666666,\"#ed7953\"],[0.7777777777777778,\"#fb9f3a\"],[0.8888888888888888,\"#fdca26\"],[1.0,\"#f0f921\"]],\"type\":\"contour\"}],\"contourcarpet\":[{\"colorbar\":{\"outlinewidth\":0,\"ticks\":\"\"},\"type\":\"contourcarpet\"}],\"heatmap\":[{\"colorbar\":{\"outlinewidth\":0,\"ticks\":\"\"},\"colorscale\":[[0.0,\"#0d0887\"],[0.1111111111111111,\"#46039f\"],[0.2222222222222222,\"#7201a8\"],[0.3333333333333333,\"#9c179e\"],[0.4444444444444444,\"#bd3786\"],[0.5555555555555556,\"#d8576b\"],[0.6666666666666666,\"#ed7953\"],[0.7777777777777778,\"#fb9f3a\"],[0.8888888888888888,\"#fdca26\"],[1.0,\"#f0f921\"]],\"type\":\"heatmap\"}],\"heatmapgl\":[{\"colorbar\":{\"outlinewidth\":0,\"ticks\":\"\"},\"colorscale\":[[0.0,\"#0d0887\"],[0.1111111111111111,\"#46039f\"],[0.2222222222222222,\"#7201a8\"],[0.3333333333333333,\"#9c179e\"],[0.4444444444444444,\"#bd3786\"],[0.5555555555555556,\"#d8576b\"],[0.6666666666666666,\"#ed7953\"],[0.7777777777777778,\"#fb9f3a\"],[0.8888888888888888,\"#fdca26\"],[1.0,\"#f0f921\"]],\"type\":\"heatmapgl\"}],\"histogram\":[{\"marker\":{\"pattern\":{\"fillmode\":\"overlay\",\"size\":10,\"solidity\":0.2}},\"type\":\"histogram\"}],\"histogram2d\":[{\"colorbar\":{\"outlinewidth\":0,\"ticks\":\"\"},\"colorscale\":[[0.0,\"#0d0887\"],[0.1111111111111111,\"#46039f\"],[0.2222222222222222,\"#7201a8\"],[0.3333333333333333,\"#9c179e\"],[0.4444444444444444,\"#bd3786\"],[0.5555555555555556,\"#d8576b\"],[0.6666666666666666,\"#ed7953\"],[0.7777777777777778,\"#fb9f3a\"],[0.8888888888888888,\"#fdca26\"],[1.0,\"#f0f921\"]],\"type\":\"histogram2d\"}],\"histogram2dcontour\":[{\"colorbar\":{\"outlinewidth\":0,\"ticks\":\"\"},\"colorscale\":[[0.0,\"#0d0887\"],[0.1111111111111111,\"#46039f\"],[0.2222222222222222,\"#7201a8\"],[0.3333333333333333,\"#9c179e\"],[0.4444444444444444,\"#bd3786\"],[0.5555555555555556,\"#d8576b\"],[0.6666666666666666,\"#ed7953\"],[0.7777777777777778,\"#fb9f3a\"],[0.8888888888888888,\"#fdca26\"],[1.0,\"#f0f921\"]],\"type\":\"histogram2dcontour\"}],\"mesh3d\":[{\"colorbar\":{\"outlinewidth\":0,\"ticks\":\"\"},\"type\":\"mesh3d\"}],\"parcoords\":[{\"line\":{\"colorbar\":{\"outlinewidth\":0,\"ticks\":\"\"}},\"type\":\"parcoords\"}],\"pie\":[{\"automargin\":true,\"type\":\"pie\"}],\"scatter\":[{\"marker\":{\"colorbar\":{\"outlinewidth\":0,\"ticks\":\"\"}},\"type\":\"scatter\"}],\"scatter3d\":[{\"line\":{\"colorbar\":{\"outlinewidth\":0,\"ticks\":\"\"}},\"marker\":{\"colorbar\":{\"outlinewidth\":0,\"ticks\":\"\"}},\"type\":\"scatter3d\"}],\"scattercarpet\":[{\"marker\":{\"colorbar\":{\"outlinewidth\":0,\"ticks\":\"\"}},\"type\":\"scattercarpet\"}],\"scattergeo\":[{\"marker\":{\"colorbar\":{\"outlinewidth\":0,\"ticks\":\"\"}},\"type\":\"scattergeo\"}],\"scattergl\":[{\"marker\":{\"colorbar\":{\"outlinewidth\":0,\"ticks\":\"\"}},\"type\":\"scattergl\"}],\"scattermapbox\":[{\"marker\":{\"colorbar\":{\"outlinewidth\":0,\"ticks\":\"\"}},\"type\":\"scattermapbox\"}],\"scatterpolar\":[{\"marker\":{\"colorbar\":{\"outlinewidth\":0,\"ticks\":\"\"}},\"type\":\"scatterpolar\"}],\"scatterpolargl\":[{\"marker\":{\"colorbar\":{\"outlinewidth\":0,\"ticks\":\"\"}},\"type\":\"scatterpolargl\"}],\"scatterternary\":[{\"marker\":{\"colorbar\":{\"outlinewidth\":0,\"ticks\":\"\"}},\"type\":\"scatterternary\"}],\"surface\":[{\"colorbar\":{\"outlinewidth\":0,\"ticks\":\"\"},\"colorscale\":[[0.0,\"#0d0887\"],[0.1111111111111111,\"#46039f\"],[0.2222222222222222,\"#7201a8\"],[0.3333333333333333,\"#9c179e\"],[0.4444444444444444,\"#bd3786\"],[0.5555555555555556,\"#d8576b\"],[0.6666666666666666,\"#ed7953\"],[0.7777777777777778,\"#fb9f3a\"],[0.8888888888888888,\"#fdca26\"],[1.0,\"#f0f921\"]],\"type\":\"surface\"}],\"table\":[{\"cells\":{\"fill\":{\"color\":\"#EBF0F8\"},\"line\":{\"color\":\"white\"}},\"header\":{\"fill\":{\"color\":\"#C8D4E3\"},\"line\":{\"color\":\"white\"}},\"type\":\"table\"}]},\"layout\":{\"annotationdefaults\":{\"arrowcolor\":\"#2a3f5f\",\"arrowhead\":0,\"arrowwidth\":1},\"autotypenumbers\":\"strict\",\"coloraxis\":{\"colorbar\":{\"outlinewidth\":0,\"ticks\":\"\"}},\"colorscale\":{\"diverging\":[[0,\"#8e0152\"],[0.1,\"#c51b7d\"],[0.2,\"#de77ae\"],[0.3,\"#f1b6da\"],[0.4,\"#fde0ef\"],[0.5,\"#f7f7f7\"],[0.6,\"#e6f5d0\"],[0.7,\"#b8e186\"],[0.8,\"#7fbc41\"],[0.9,\"#4d9221\"],[1,\"#276419\"]],\"sequential\":[[0.0,\"#0d0887\"],[0.1111111111111111,\"#46039f\"],[0.2222222222222222,\"#7201a8\"],[0.3333333333333333,\"#9c179e\"],[0.4444444444444444,\"#bd3786\"],[0.5555555555555556,\"#d8576b\"],[0.6666666666666666,\"#ed7953\"],[0.7777777777777778,\"#fb9f3a\"],[0.8888888888888888,\"#fdca26\"],[1.0,\"#f0f921\"]],\"sequentialminus\":[[0.0,\"#0d0887\"],[0.1111111111111111,\"#46039f\"],[0.2222222222222222,\"#7201a8\"],[0.3333333333333333,\"#9c179e\"],[0.4444444444444444,\"#bd3786\"],[0.5555555555555556,\"#d8576b\"],[0.6666666666666666,\"#ed7953\"],[0.7777777777777778,\"#fb9f3a\"],[0.8888888888888888,\"#fdca26\"],[1.0,\"#f0f921\"]]},\"colorway\":[\"#636efa\",\"#EF553B\",\"#00cc96\",\"#ab63fa\",\"#FFA15A\",\"#19d3f3\",\"#FF6692\",\"#B6E880\",\"#FF97FF\",\"#FECB52\"],\"font\":{\"color\":\"#2a3f5f\"},\"geo\":{\"bgcolor\":\"white\",\"lakecolor\":\"white\",\"landcolor\":\"#E5ECF6\",\"showlakes\":true,\"showland\":true,\"subunitcolor\":\"white\"},\"hoverlabel\":{\"align\":\"left\"},\"hovermode\":\"closest\",\"mapbox\":{\"style\":\"light\"},\"paper_bgcolor\":\"white\",\"plot_bgcolor\":\"#E5ECF6\",\"polar\":{\"angularaxis\":{\"gridcolor\":\"white\",\"linecolor\":\"white\",\"ticks\":\"\"},\"bgcolor\":\"#E5ECF6\",\"radialaxis\":{\"gridcolor\":\"white\",\"linecolor\":\"white\",\"ticks\":\"\"}},\"scene\":{\"xaxis\":{\"backgroundcolor\":\"#E5ECF6\",\"gridcolor\":\"white\",\"gridwidth\":2,\"linecolor\":\"white\",\"showbackground\":true,\"ticks\":\"\",\"zerolinecolor\":\"white\"},\"yaxis\":{\"backgroundcolor\":\"#E5ECF6\",\"gridcolor\":\"white\",\"gridwidth\":2,\"linecolor\":\"white\",\"showbackground\":true,\"ticks\":\"\",\"zerolinecolor\":\"white\"},\"zaxis\":{\"backgroundcolor\":\"#E5ECF6\",\"gridcolor\":\"white\",\"gridwidth\":2,\"linecolor\":\"white\",\"showbackground\":true,\"ticks\":\"\",\"zerolinecolor\":\"white\"}},\"shapedefaults\":{\"line\":{\"color\":\"#2a3f5f\"}},\"ternary\":{\"aaxis\":{\"gridcolor\":\"white\",\"linecolor\":\"white\",\"ticks\":\"\"},\"baxis\":{\"gridcolor\":\"white\",\"linecolor\":\"white\",\"ticks\":\"\"},\"bgcolor\":\"#E5ECF6\",\"caxis\":{\"gridcolor\":\"white\",\"linecolor\":\"white\",\"ticks\":\"\"}},\"title\":{\"x\":0.05},\"xaxis\":{\"automargin\":true,\"gridcolor\":\"white\",\"linecolor\":\"white\",\"ticks\":\"\",\"title\":{\"standoff\":15},\"zerolinecolor\":\"white\",\"zerolinewidth\":2},\"yaxis\":{\"automargin\":true,\"gridcolor\":\"white\",\"linecolor\":\"white\",\"ticks\":\"\",\"title\":{\"standoff\":15},\"zerolinecolor\":\"white\",\"zerolinewidth\":2}}},\"title\":{\"font\":{\"color\":\"#351f39\",\"family\":\"Courier New\"},\"text\":\"Top 20 Party-wise election results\"},\"xaxis\":{\"anchor\":\"y\",\"domain\":[0.0,1.0],\"title\":{\"text\":\"Party\"}},\"yaxis\":{\"anchor\":\"x\",\"domain\":[0.0,1.0],\"title\":{\"text\":\"Seats\"}}},                        {\"responsive\": true}                    ).then(function(){\n",
              "                            \n",
              "var gd = document.getElementById('86226e0f-eee5-44a0-8b14-1e18124d678c');\n",
              "var x = new MutationObserver(function (mutations, observer) {{\n",
              "        var display = window.getComputedStyle(gd).display;\n",
              "        if (!display || display === 'none') {{\n",
              "            console.log([gd, 'removed!']);\n",
              "            Plotly.purge(gd);\n",
              "            observer.disconnect();\n",
              "        }}\n",
              "}});\n",
              "\n",
              "// Listen for the removal of the full notebook cells\n",
              "var notebookContainer = gd.closest('#notebook-container');\n",
              "if (notebookContainer) {{\n",
              "    x.observe(notebookContainer, {childList: true});\n",
              "}}\n",
              "\n",
              "// Listen for the clearing of the current output cell\n",
              "var outputEl = gd.closest('.output');\n",
              "if (outputEl) {{\n",
              "    x.observe(outputEl, {childList: true});\n",
              "}}\n",
              "\n",
              "                        })                };                            </script>        </div>\n",
              "</body>\n",
              "</html>"
            ]
          },
          "metadata": {}
        },
        {
          "output_type": "display_data",
          "data": {
            "text/plain": [
              "<Figure size 432x288 with 0 Axes>"
            ]
          },
          "metadata": {}
        }
      ]
    },
    {
      "cell_type": "markdown",
      "metadata": {
        "id": "3eqcbNTuLvN6"
      },
      "source": [
        "##**Party-wise Vote Share**"
      ]
    },
    {
      "cell_type": "code",
      "metadata": {
        "colab": {
          "base_uri": "https://localhost:8080/",
          "height": 559
        },
        "id": "WbNPWyV0LvZr",
        "outputId": "61677c9c-fa84-4e63-fef7-816da884530a"
      },
      "source": [
        "# Create a dataframe with total number of votes won by each party\n",
        "result = dataset[dataset['WINNER'] == 1].groupby('PARTY')['WINNER'].size()\n",
        "vote_Share = dataset.groupby('PARTY')['TOTALVOTES'].sum()\n",
        "vote_Share_df = pd.DataFrame(data=vote_Share, index=vote_Share.index).sort_values(by=\"TOTALVOTES\", ascending=False)\n",
        "vote_Share_df.reset_index(level=0, inplace=True)\n",
        "\n",
        "# Sort out the top five parties according to the total number of votes\n",
        "vote_share_top5 = dataset.groupby('PARTY')['TOTALVOTES'].sum().nlargest(5).index.tolist()\n",
        "\n",
        "# Create a method to label parties as 'Other' if they are not top five in total number of votes.\n",
        "def sort_party(data):\n",
        "    '''\n",
        "    Method to label parties as 'Other' if they are not top five in total number of votes.\n",
        "    data: input rows\n",
        "    '''\n",
        "    if data['PARTY'] not in vote_share_top5:\n",
        "        return 'Other'\n",
        "    else:\n",
        "        return data['PARTY']\n",
        "\n",
        "# Calling the method\n",
        "dataset['Party New'] = dataset.apply(sort_party, axis=1)\n",
        "\n",
        "# Visualize Party-wise vote share\n",
        "vote_count = dataset.groupby('Party New')['TOTALVOTES'].sum()\n",
        "vote_count_fig = go.Figure(go.Pie(labels=vote_count.index, \n",
        "                                  values=vote_count.values,\n",
        "                                  pull=[0.1, 0.1, 0.1, 0.1, 0.1, 0.1],\n",
        "                                  marker=dict(line=dict(color=\"#000000\", \n",
        "                                                        width=1))))\n",
        "vote_count_fig.update_layout(title_text='Party-wise Vote Share',\n",
        "                             font_family=\"Courier New\",\n",
        "                             font_color=\"#351f39\",\n",
        "                             title_font_family=\"Courier New\",\n",
        "                             title_font_color=\"#351f39\")\n",
        "vote_count_fig.show()\n",
        "plt.savefig('Partywise_voteshare.png')"
      ],
      "execution_count": null,
      "outputs": [
        {
          "output_type": "display_data",
          "data": {
            "text/html": [
              "<html>\n",
              "<head><meta charset=\"utf-8\" /></head>\n",
              "<body>\n",
              "    <div>            <script src=\"https://cdnjs.cloudflare.com/ajax/libs/mathjax/2.7.5/MathJax.js?config=TeX-AMS-MML_SVG\"></script><script type=\"text/javascript\">if (window.MathJax) {MathJax.Hub.Config({SVG: {font: \"STIX-Web\"}});}</script>                <script type=\"text/javascript\">window.PlotlyConfig = {MathJaxConfig: 'local'};</script>\n",
              "        <script src=\"https://cdn.plot.ly/plotly-2.4.2.min.js\"></script>                <div id=\"55bc93c8-860b-4251-8c0a-b380caa233be\" class=\"plotly-graph-div\" style=\"height:525px; width:100%;\"></div>            <script type=\"text/javascript\">                                    window.PLOTLYENV=window.PLOTLYENV || {};                                    if (document.getElementById(\"55bc93c8-860b-4251-8c0a-b380caa233be\")) {                    Plotly.newPlot(                        \"55bc93c8-860b-4251-8c0a-b380caa233be\",                        [{\"labels\":[\"AITC\",\"BJP\",\"BSP\",\"INC\",\"Other\",\"SP\"],\"marker\":{\"line\":{\"color\":\"#000000\",\"width\":1}},\"pull\":[0.1,0.1,0.1,0.1,0.1,0.1],\"type\":\"pie\",\"values\":[24832104,228938556,20445870,119330534,178545701,15616282]}],                        {\"font\":{\"color\":\"#351f39\",\"family\":\"Courier New\"},\"template\":{\"data\":{\"bar\":[{\"error_x\":{\"color\":\"#2a3f5f\"},\"error_y\":{\"color\":\"#2a3f5f\"},\"marker\":{\"line\":{\"color\":\"#E5ECF6\",\"width\":0.5},\"pattern\":{\"fillmode\":\"overlay\",\"size\":10,\"solidity\":0.2}},\"type\":\"bar\"}],\"barpolar\":[{\"marker\":{\"line\":{\"color\":\"#E5ECF6\",\"width\":0.5},\"pattern\":{\"fillmode\":\"overlay\",\"size\":10,\"solidity\":0.2}},\"type\":\"barpolar\"}],\"carpet\":[{\"aaxis\":{\"endlinecolor\":\"#2a3f5f\",\"gridcolor\":\"white\",\"linecolor\":\"white\",\"minorgridcolor\":\"white\",\"startlinecolor\":\"#2a3f5f\"},\"baxis\":{\"endlinecolor\":\"#2a3f5f\",\"gridcolor\":\"white\",\"linecolor\":\"white\",\"minorgridcolor\":\"white\",\"startlinecolor\":\"#2a3f5f\"},\"type\":\"carpet\"}],\"choropleth\":[{\"colorbar\":{\"outlinewidth\":0,\"ticks\":\"\"},\"type\":\"choropleth\"}],\"contour\":[{\"colorbar\":{\"outlinewidth\":0,\"ticks\":\"\"},\"colorscale\":[[0.0,\"#0d0887\"],[0.1111111111111111,\"#46039f\"],[0.2222222222222222,\"#7201a8\"],[0.3333333333333333,\"#9c179e\"],[0.4444444444444444,\"#bd3786\"],[0.5555555555555556,\"#d8576b\"],[0.6666666666666666,\"#ed7953\"],[0.7777777777777778,\"#fb9f3a\"],[0.8888888888888888,\"#fdca26\"],[1.0,\"#f0f921\"]],\"type\":\"contour\"}],\"contourcarpet\":[{\"colorbar\":{\"outlinewidth\":0,\"ticks\":\"\"},\"type\":\"contourcarpet\"}],\"heatmap\":[{\"colorbar\":{\"outlinewidth\":0,\"ticks\":\"\"},\"colorscale\":[[0.0,\"#0d0887\"],[0.1111111111111111,\"#46039f\"],[0.2222222222222222,\"#7201a8\"],[0.3333333333333333,\"#9c179e\"],[0.4444444444444444,\"#bd3786\"],[0.5555555555555556,\"#d8576b\"],[0.6666666666666666,\"#ed7953\"],[0.7777777777777778,\"#fb9f3a\"],[0.8888888888888888,\"#fdca26\"],[1.0,\"#f0f921\"]],\"type\":\"heatmap\"}],\"heatmapgl\":[{\"colorbar\":{\"outlinewidth\":0,\"ticks\":\"\"},\"colorscale\":[[0.0,\"#0d0887\"],[0.1111111111111111,\"#46039f\"],[0.2222222222222222,\"#7201a8\"],[0.3333333333333333,\"#9c179e\"],[0.4444444444444444,\"#bd3786\"],[0.5555555555555556,\"#d8576b\"],[0.6666666666666666,\"#ed7953\"],[0.7777777777777778,\"#fb9f3a\"],[0.8888888888888888,\"#fdca26\"],[1.0,\"#f0f921\"]],\"type\":\"heatmapgl\"}],\"histogram\":[{\"marker\":{\"pattern\":{\"fillmode\":\"overlay\",\"size\":10,\"solidity\":0.2}},\"type\":\"histogram\"}],\"histogram2d\":[{\"colorbar\":{\"outlinewidth\":0,\"ticks\":\"\"},\"colorscale\":[[0.0,\"#0d0887\"],[0.1111111111111111,\"#46039f\"],[0.2222222222222222,\"#7201a8\"],[0.3333333333333333,\"#9c179e\"],[0.4444444444444444,\"#bd3786\"],[0.5555555555555556,\"#d8576b\"],[0.6666666666666666,\"#ed7953\"],[0.7777777777777778,\"#fb9f3a\"],[0.8888888888888888,\"#fdca26\"],[1.0,\"#f0f921\"]],\"type\":\"histogram2d\"}],\"histogram2dcontour\":[{\"colorbar\":{\"outlinewidth\":0,\"ticks\":\"\"},\"colorscale\":[[0.0,\"#0d0887\"],[0.1111111111111111,\"#46039f\"],[0.2222222222222222,\"#7201a8\"],[0.3333333333333333,\"#9c179e\"],[0.4444444444444444,\"#bd3786\"],[0.5555555555555556,\"#d8576b\"],[0.6666666666666666,\"#ed7953\"],[0.7777777777777778,\"#fb9f3a\"],[0.8888888888888888,\"#fdca26\"],[1.0,\"#f0f921\"]],\"type\":\"histogram2dcontour\"}],\"mesh3d\":[{\"colorbar\":{\"outlinewidth\":0,\"ticks\":\"\"},\"type\":\"mesh3d\"}],\"parcoords\":[{\"line\":{\"colorbar\":{\"outlinewidth\":0,\"ticks\":\"\"}},\"type\":\"parcoords\"}],\"pie\":[{\"automargin\":true,\"type\":\"pie\"}],\"scatter\":[{\"marker\":{\"colorbar\":{\"outlinewidth\":0,\"ticks\":\"\"}},\"type\":\"scatter\"}],\"scatter3d\":[{\"line\":{\"colorbar\":{\"outlinewidth\":0,\"ticks\":\"\"}},\"marker\":{\"colorbar\":{\"outlinewidth\":0,\"ticks\":\"\"}},\"type\":\"scatter3d\"}],\"scattercarpet\":[{\"marker\":{\"colorbar\":{\"outlinewidth\":0,\"ticks\":\"\"}},\"type\":\"scattercarpet\"}],\"scattergeo\":[{\"marker\":{\"colorbar\":{\"outlinewidth\":0,\"ticks\":\"\"}},\"type\":\"scattergeo\"}],\"scattergl\":[{\"marker\":{\"colorbar\":{\"outlinewidth\":0,\"ticks\":\"\"}},\"type\":\"scattergl\"}],\"scattermapbox\":[{\"marker\":{\"colorbar\":{\"outlinewidth\":0,\"ticks\":\"\"}},\"type\":\"scattermapbox\"}],\"scatterpolar\":[{\"marker\":{\"colorbar\":{\"outlinewidth\":0,\"ticks\":\"\"}},\"type\":\"scatterpolar\"}],\"scatterpolargl\":[{\"marker\":{\"colorbar\":{\"outlinewidth\":0,\"ticks\":\"\"}},\"type\":\"scatterpolargl\"}],\"scatterternary\":[{\"marker\":{\"colorbar\":{\"outlinewidth\":0,\"ticks\":\"\"}},\"type\":\"scatterternary\"}],\"surface\":[{\"colorbar\":{\"outlinewidth\":0,\"ticks\":\"\"},\"colorscale\":[[0.0,\"#0d0887\"],[0.1111111111111111,\"#46039f\"],[0.2222222222222222,\"#7201a8\"],[0.3333333333333333,\"#9c179e\"],[0.4444444444444444,\"#bd3786\"],[0.5555555555555556,\"#d8576b\"],[0.6666666666666666,\"#ed7953\"],[0.7777777777777778,\"#fb9f3a\"],[0.8888888888888888,\"#fdca26\"],[1.0,\"#f0f921\"]],\"type\":\"surface\"}],\"table\":[{\"cells\":{\"fill\":{\"color\":\"#EBF0F8\"},\"line\":{\"color\":\"white\"}},\"header\":{\"fill\":{\"color\":\"#C8D4E3\"},\"line\":{\"color\":\"white\"}},\"type\":\"table\"}]},\"layout\":{\"annotationdefaults\":{\"arrowcolor\":\"#2a3f5f\",\"arrowhead\":0,\"arrowwidth\":1},\"autotypenumbers\":\"strict\",\"coloraxis\":{\"colorbar\":{\"outlinewidth\":0,\"ticks\":\"\"}},\"colorscale\":{\"diverging\":[[0,\"#8e0152\"],[0.1,\"#c51b7d\"],[0.2,\"#de77ae\"],[0.3,\"#f1b6da\"],[0.4,\"#fde0ef\"],[0.5,\"#f7f7f7\"],[0.6,\"#e6f5d0\"],[0.7,\"#b8e186\"],[0.8,\"#7fbc41\"],[0.9,\"#4d9221\"],[1,\"#276419\"]],\"sequential\":[[0.0,\"#0d0887\"],[0.1111111111111111,\"#46039f\"],[0.2222222222222222,\"#7201a8\"],[0.3333333333333333,\"#9c179e\"],[0.4444444444444444,\"#bd3786\"],[0.5555555555555556,\"#d8576b\"],[0.6666666666666666,\"#ed7953\"],[0.7777777777777778,\"#fb9f3a\"],[0.8888888888888888,\"#fdca26\"],[1.0,\"#f0f921\"]],\"sequentialminus\":[[0.0,\"#0d0887\"],[0.1111111111111111,\"#46039f\"],[0.2222222222222222,\"#7201a8\"],[0.3333333333333333,\"#9c179e\"],[0.4444444444444444,\"#bd3786\"],[0.5555555555555556,\"#d8576b\"],[0.6666666666666666,\"#ed7953\"],[0.7777777777777778,\"#fb9f3a\"],[0.8888888888888888,\"#fdca26\"],[1.0,\"#f0f921\"]]},\"colorway\":[\"#636efa\",\"#EF553B\",\"#00cc96\",\"#ab63fa\",\"#FFA15A\",\"#19d3f3\",\"#FF6692\",\"#B6E880\",\"#FF97FF\",\"#FECB52\"],\"font\":{\"color\":\"#2a3f5f\"},\"geo\":{\"bgcolor\":\"white\",\"lakecolor\":\"white\",\"landcolor\":\"#E5ECF6\",\"showlakes\":true,\"showland\":true,\"subunitcolor\":\"white\"},\"hoverlabel\":{\"align\":\"left\"},\"hovermode\":\"closest\",\"mapbox\":{\"style\":\"light\"},\"paper_bgcolor\":\"white\",\"plot_bgcolor\":\"#E5ECF6\",\"polar\":{\"angularaxis\":{\"gridcolor\":\"white\",\"linecolor\":\"white\",\"ticks\":\"\"},\"bgcolor\":\"#E5ECF6\",\"radialaxis\":{\"gridcolor\":\"white\",\"linecolor\":\"white\",\"ticks\":\"\"}},\"scene\":{\"xaxis\":{\"backgroundcolor\":\"#E5ECF6\",\"gridcolor\":\"white\",\"gridwidth\":2,\"linecolor\":\"white\",\"showbackground\":true,\"ticks\":\"\",\"zerolinecolor\":\"white\"},\"yaxis\":{\"backgroundcolor\":\"#E5ECF6\",\"gridcolor\":\"white\",\"gridwidth\":2,\"linecolor\":\"white\",\"showbackground\":true,\"ticks\":\"\",\"zerolinecolor\":\"white\"},\"zaxis\":{\"backgroundcolor\":\"#E5ECF6\",\"gridcolor\":\"white\",\"gridwidth\":2,\"linecolor\":\"white\",\"showbackground\":true,\"ticks\":\"\",\"zerolinecolor\":\"white\"}},\"shapedefaults\":{\"line\":{\"color\":\"#2a3f5f\"}},\"ternary\":{\"aaxis\":{\"gridcolor\":\"white\",\"linecolor\":\"white\",\"ticks\":\"\"},\"baxis\":{\"gridcolor\":\"white\",\"linecolor\":\"white\",\"ticks\":\"\"},\"bgcolor\":\"#E5ECF6\",\"caxis\":{\"gridcolor\":\"white\",\"linecolor\":\"white\",\"ticks\":\"\"}},\"title\":{\"x\":0.05},\"xaxis\":{\"automargin\":true,\"gridcolor\":\"white\",\"linecolor\":\"white\",\"ticks\":\"\",\"title\":{\"standoff\":15},\"zerolinecolor\":\"white\",\"zerolinewidth\":2},\"yaxis\":{\"automargin\":true,\"gridcolor\":\"white\",\"linecolor\":\"white\",\"ticks\":\"\",\"title\":{\"standoff\":15},\"zerolinecolor\":\"white\",\"zerolinewidth\":2}}},\"title\":{\"font\":{\"color\":\"#351f39\",\"family\":\"Courier New\"},\"text\":\"Party-wise Vote Share\"}},                        {\"responsive\": true}                    ).then(function(){\n",
              "                            \n",
              "var gd = document.getElementById('55bc93c8-860b-4251-8c0a-b380caa233be');\n",
              "var x = new MutationObserver(function (mutations, observer) {{\n",
              "        var display = window.getComputedStyle(gd).display;\n",
              "        if (!display || display === 'none') {{\n",
              "            console.log([gd, 'removed!']);\n",
              "            Plotly.purge(gd);\n",
              "            observer.disconnect();\n",
              "        }}\n",
              "}});\n",
              "\n",
              "// Listen for the removal of the full notebook cells\n",
              "var notebookContainer = gd.closest('#notebook-container');\n",
              "if (notebookContainer) {{\n",
              "    x.observe(notebookContainer, {childList: true});\n",
              "}}\n",
              "\n",
              "// Listen for the clearing of the current output cell\n",
              "var outputEl = gd.closest('.output');\n",
              "if (outputEl) {{\n",
              "    x.observe(outputEl, {childList: true});\n",
              "}}\n",
              "\n",
              "                        })                };                            </script>        </div>\n",
              "</body>\n",
              "</html>"
            ]
          },
          "metadata": {}
        },
        {
          "output_type": "display_data",
          "data": {
            "text/plain": [
              "<Figure size 432x288 with 0 Axes>"
            ]
          },
          "metadata": {}
        }
      ]
    },
    {
      "cell_type": "code",
      "metadata": {
        "colab": {
          "base_uri": "https://localhost:8080/"
        },
        "id": "i5zH5M0vhuxJ",
        "outputId": "724e4538-b082-47a1-f664-c294f679d18c"
      },
      "source": [
        "dataset['Party New'].value_counts()"
      ],
      "execution_count": null,
      "outputs": [
        {
          "output_type": "execute_result",
          "data": {
            "text/plain": [
              "Other    918\n",
              "BJP      420\n",
              "INC      411\n",
              "BSP      161\n",
              "AITC      47\n",
              "SP        39\n",
              "Name: Party New, dtype: int64"
            ]
          },
          "metadata": {},
          "execution_count": 27
        }
      ]
    },
    {
      "cell_type": "markdown",
      "metadata": {
        "id": "3aEqPB0Jh5wo"
      },
      "source": [
        "The Bharatiya Janata Party garnered 38.8% of the votes in the 2019 Lok Sabha elections. This is the highest vote share received by the party nation-wide in any Lok Sabha election since the party was (re)formed in 1980. In contrast, the Congress party failed to improve on its vote share from 2014 and gathered 20.2% of the total votes. The dominant victory of the BJP and its allies — by repeating the 2014 win, and then some — suggests that the era of coalitions (and/or a central government with a relatively weak national party in power) determining the balance of power at Delhi has decisively come to an end."
      ]
    },
    {
      "cell_type": "markdown",
      "metadata": {
        "id": "pXAKFZ29FCND"
      },
      "source": [
        "##**Age Distribution of Candidates**"
      ]
    },
    {
      "cell_type": "code",
      "metadata": {
        "colab": {
          "base_uri": "https://localhost:8080/",
          "height": 559
        },
        "id": "_iEx-UYLFCSW",
        "outputId": "33be2c03-6a8e-4561-991f-c981313a3c13"
      },
      "source": [
        "#Visualize the age distribution of candidates\n",
        "age_distribution_fig = px.histogram(dataset, \n",
        "                                    x = \"AGE\",\n",
        "                                    color_discrete_sequence = ['SlateBlue'])\n",
        "age_distribution_fig.update_layout(title_text = 'Age Distribution of Candidates',\n",
        "                                   xaxis_title = \"Distribution\",\n",
        "                                   yaxis_title = \"Age\")\n",
        "age_distribution_fig.update_layout(font_family = \"Courier New\",\n",
        "                                   font_color = \"#351f39\",\n",
        "                                   title_font_family = \"Courier New\",\n",
        "                                   title_font_color = \"#351f39\")\n",
        "age_distribution_fig.show();\n",
        "plt.savefig('Age_distributionofcandidates')"
      ],
      "execution_count": null,
      "outputs": [
        {
          "output_type": "display_data",
          "data": {
            "text/html": [
              "<html>\n",
              "<head><meta charset=\"utf-8\" /></head>\n",
              "<body>\n",
              "    <div>            <script src=\"https://cdnjs.cloudflare.com/ajax/libs/mathjax/2.7.5/MathJax.js?config=TeX-AMS-MML_SVG\"></script><script type=\"text/javascript\">if (window.MathJax) {MathJax.Hub.Config({SVG: {font: \"STIX-Web\"}});}</script>                <script type=\"text/javascript\">window.PlotlyConfig = {MathJaxConfig: 'local'};</script>\n",
              "        <script src=\"https://cdn.plot.ly/plotly-2.4.2.min.js\"></script>                <div id=\"df575065-ccb8-457f-a31f-3d60941703e7\" class=\"plotly-graph-div\" style=\"height:525px; width:100%;\"></div>            <script type=\"text/javascript\">                                    window.PLOTLYENV=window.PLOTLYENV || {};                                    if (document.getElementById(\"df575065-ccb8-457f-a31f-3d60941703e7\")) {                    Plotly.newPlot(                        \"df575065-ccb8-457f-a31f-3d60941703e7\",                        [{\"alignmentgroup\":\"True\",\"bingroup\":\"x\",\"hovertemplate\":\"AGE=%{x}<br>count=%{y}<extra></extra>\",\"legendgroup\":\"\",\"marker\":{\"color\":\"SlateBlue\",\"pattern\":{\"shape\":\"\"}},\"name\":\"\",\"offsetgroup\":\"\",\"orientation\":\"v\",\"showlegend\":false,\"type\":\"histogram\",\"x\":[52.0,54.0,52.0,58.0,47.0,54.0,37.0,34.0,62.0,58.0,38.0,69.0,68.0,66.0,64.0,40.0,60.0,60.0,64.0,46.0,58.0,60.0,64.0,60.0,54.0,52.0,64.0,32.0,44.0,61.0,46.0,51.0,62.0,43.0,52.0,42.0,44.0,69.0,63.0,49.0,77.0,46.0,60.0,41.0,35.0,47.0,31.0,46.0,28.0,59.0,67.0,56.0,55.0,61.0,38.0,71.0,36.0,43.0,48.0,33.0,71.0,47.0,56.0,64.0,42.0,47.0,46.0,67.0,58.0,55.0,43.0,58.0,35.0,52.0,43.0,56.0,65.0,54.0,65.0,53.0,69.0,62.0,51.0,48.0,45.0,29.0,58.0,65.0,60.0,59.0,53.0,60.0,45.0,52.0,46.0,61.0,49.0,43.0,50.0,57.0,64.0,71.0,55.0,43.0,40.0,61.0,33.0,55.0,59.0,41.0,46.0,63.0,55.0,37.0,41.0,52.0,50.0,66.0,36.0,81.0,70.0,26.0,72.0,49.0,54.0,46.0,61.0,37.0,54.0,69.0,47.0,38.0,68.0,47.0,51.0,56.0,42.0,45.0,48.0,65.0,59.0,37.0,62.0,70.0,47.0,47.0,63.0,56.0,49.0,53.0,50.0,34.0,55.0,67.0,41.0,56.0,62.0,42.0,43.0,35.0,58.0,46.0,49.0,76.0,68.0,61.0,39.0,45.0,40.0,34.0,40.0,66.0,68.0,38.0,63.0,40.0,63.0,55.0,55.0,38.0,66.0,73.0,60.0,38.0,66.0,53.0,68.0,62.0,64.0,51.0,46.0,62.0,56.0,51.0,39.0,52.0,50.0,40.0,70.0,75.0,39.0,49.0,33.0,59.0,74.0,59.0,37.0,55.0,39.0,53.0,66.0,46.0,52.0,59.0,43.0,28.0,64.0,37.0,51.0,55.0,28.0,58.0,65.0,61.0,44.0,46.0,38.0,50.0,65.0,72.0,67.0,40.0,42.0,62.0,62.0,65.0,43.0,31.0,26.0,42.0,65.0,64.0,65.0,51.0,68.0,34.0,49.0,34.0,43.0,71.0,67.0,54.0,59.0,55.0,65.0,48.0,60.0,68.0,61.0,57.0,67.0,73.0,50.0,39.0,61.0,61.0,58.0,37.0,49.0,53.0,70.0,63.0,61.0,59.0,69.0,51.0,45.0,55.0,39.0,44.0,66.0,44.0,65.0,57.0,68.0,47.0,44.0,28.0,42.0,51.0,70.0,38.0,46.0,42.0,55.0,38.0,29.0,40.0,45.0,65.0,50.0,42.0,52.0,41.0,33.0,54.0,36.0,48.0,62.0,57.0,66.0,32.0,59.0,27.0,63.0,69.0,67.0,65.0,68.0,44.0,52.0,55.0,31.0,44.0,44.0,59.0,59.0,42.0,49.0,42.0,41.0,43.0,50.0,64.0,37.0,68.0,56.0,39.0,59.0,56.0,61.0,37.0,73.0,40.0,55.0,50.0,62.0,52.0,40.0,42.0,45.0,28.0,67.0,58.0,62.0,69.0,27.0,64.0,43.0,30.0,46.0,55.0,60.0,46.0,54.0,44.0,49.0,71.0,49.0,63.0,71.0,50.0,57.0,65.0,66.0,42.0,33.0,36.0,53.0,55.0,59.0,65.0,55.0,47.0,51.0,51.0,47.0,49.0,63.0,54.0,51.0,49.0,38.0,39.0,72.0,67.0,57.0,45.0,45.0,49.0,63.0,53.0,61.0,47.0,44.0,42.0,50.0,58.0,58.0,58.0,57.0,66.0,75.0,50.0,34.0,66.0,71.0,59.0,71.0,58.0,42.0,62.0,43.0,52.0,32.0,66.0,70.0,78.0,44.0,64.0,74.0,52.0,43.0,64.0,48.0,55.0,62.0,52.0,40.0,36.0,43.0,66.0,41.0,52.0,41.0,54.0,31.0,48.0,49.0,65.0,62.0,33.0,44.0,56.0,31.0,40.0,26.0,55.0,54.0,59.0,58.0,44.0,57.0,56.0,45.0,47.0,53.0,48.0,56.0,46.0,55.0,49.0,76.0,79.0,65.0,48.0,55.0,72.0,49.0,62.0,64.0,68.0,67.0,60.0,45.0,43.0,68.0,42.0,58.0,41.0,57.0,68.0,61.0,55.0,36.0,68.0,33.0,66.0,61.0,38.0,48.0,69.0,49.0,40.0,44.0,62.0,63.0,67.0,56.0,46.0,40.0,35.0,33.0,31.0,52.0,58.0,64.0,51.0,52.0,34.0,57.0,63.0,44.0,42.0,59.0,57.0,34.0,49.0,67.0,58.0,64.0,33.0,71.0,65.0,46.0,49.0,71.0,54.0,36.0,67.0,51.0,69.0,35.0,65.0,43.0,69.0,58.0,65.0,38.0,61.0,41.0,50.0,57.0,30.0,43.0,56.0,52.0,45.0,63.0,42.0,58.0,59.0,77.0,63.0,52.0,50.0,66.0,45.0,46.0,31.0,43.0,48.0,49.0,48.0,67.0,52.0,42.0,52.0,40.0,44.0,70.0,53.0,68.0,37.0,37.0,71.0,53.0,67.0,37.0,39.0,72.0,60.0,45.0,44.0,45.0,59.0,61.0,25.0,37.0,50.0,37.0,48.0,46.0,59.0,55.0,35.0,51.0,65.0,72.0,52.0,43.0,43.0,41.0,58.0,70.0,54.0,35.0,45.0,64.0,55.0,68.0,62.0,62.0,43.0,78.0,61.0,78.0,61.0,50.0,54.0,66.0,65.0,66.0,44.0,35.0,52.0,62.0,63.0,52.0,68.0,44.0,68.0,32.0,64.0,56.0,56.0,49.0,54.0,55.0,48.0,66.0,44.0,59.0,54.0,61.0,48.0,63.0,74.0,55.0,50.0,67.0,52.0,53.0,59.0,42.0,30.0,55.0,73.0,49.0,61.0,27.0,46.0,48.0,38.0,53.0,49.0,52.0,36.0,56.0,63.0,33.0,67.0,76.0,34.0,65.0,59.0,59.0,46.0,36.0,78.0,53.0,70.0,64.0,50.0,52.0,47.0,53.0,46.0,82.0,36.0,53.0,52.0,62.0,61.0,41.0,29.0,40.0,46.0,44.0,51.0,58.0,64.0,60.0,77.0,43.0,48.0,41.0,53.0,52.0,50.0,53.0,59.0,65.0,37.0,49.0,69.0,60.0,58.0,71.0,56.0,50.0,66.0,49.0,32.0,33.0,47.0,41.0,44.0,45.0,42.0,68.0,64.0,43.0,61.0,55.0,46.0,59.0,70.0,60.0,28.0,60.0,29.0,61.0,68.0,71.0,38.0,51.0,56.0,52.0,72.0,55.0,74.0,73.0,42.0,34.0,50.0,63.0,41.0,60.0,48.0,56.0,60.0,44.0,46.0,31.0,26.0,58.0,45.0,70.0,54.0,57.0,54.0,39.0,68.0,70.0,49.0,68.0,42.0,64.0,60.0,44.0,61.0,49.0,67.0,46.0,46.0,37.0,49.0,49.0,57.0,58.0,67.0,59.0,69.0,40.0,59.0,56.0,63.0,78.0,30.0,37.0,68.0,54.0,55.0,56.0,68.0,60.0,60.0,54.0,38.0,38.0,68.0,61.0,44.0,49.0,41.0,45.0,61.0,50.0,72.0,82.0,40.0,69.0,60.0,46.0,56.0,55.0,40.0,63.0,50.0,65.0,50.0,65.0,42.0,44.0,51.0,62.0,62.0,61.0,56.0,56.0,44.0,60.0,56.0,62.0,37.0,56.0,51.0,60.0,32.0,58.0,48.0,59.0,53.0,65.0,52.0,42.0,60.0,65.0,42.0,48.0,53.0,43.0,67.0,64.0,50.0,48.0,48.0,63.0,51.0,29.0,65.0,45.0,53.0,54.0,59.0,47.0,56.0,48.0,48.0,54.0,58.0,64.0,51.0,38.0,50.0,44.0,42.0,36.0,55.0,48.0,40.0,52.0,34.0,61.0,48.0,48.0,64.0,62.0,66.0,55.0,49.0,62.0,58.0,52.0,60.0,43.0,42.0,36.0,41.0,57.0,44.0,51.0,69.0,40.0,32.0,52.0,54.0,35.0,44.0,36.0,26.0,51.0,55.0,66.0,37.0,67.0,45.0,61.0,52.0,39.0,41.0,68.0,67.0,41.0,55.0,70.0,69.0,70.0,71.0,74.0,61.0,77.0,46.0,38.0,65.0,64.0,56.0,63.0,45.0,48.0,43.0,49.0,31.0,44.0,46.0,66.0,37.0,47.0,59.0,52.0,38.0,51.0,62.0,31.0,41.0,56.0,43.0,73.0,53.0,52.0,42.0,65.0,61.0,52.0,51.0,68.0,49.0,57.0,61.0,52.0,37.0,55.0,65.0,25.0,49.0,43.0,48.0,65.0,65.0,33.0,52.0,40.0,31.0,27.0,35.0,44.0,38.0,49.0,39.0,39.0,62.0,64.0,54.0,47.0,46.0,61.0,66.0,45.0,60.0,43.0,55.0,39.0,33.0,54.0,58.0,60.0,29.0,71.0,68.0,50.0,57.0,40.0,50.0,54.0,54.0,55.0,42.0,50.0,61.0,46.0,28.0,50.0,69.0,56.0,50.0,26.0,44.0,71.0,54.0,47.0,37.0,61.0,58.0,53.0,44.0,70.0,55.0,50.0,57.0,58.0,55.0,57.0,64.0,38.0,40.0,33.0,63.0,61.0,67.0,45.0,27.0,65.0,52.0,45.0,45.0,44.0,56.0,75.0,66.0,64.0,68.0,66.0,55.0,39.0,58.0,67.0,37.0,50.0,44.0,40.0,57.0,70.0,52.0,67.0,42.0,48.0,58.0,49.0,66.0,59.0,57.0,26.0,50.0,65.0,55.0,33.0,37.0,54.0,61.0,53.0,51.0,51.0,43.0,36.0,64.0,44.0,43.0,45.0,29.0,57.0,59.0,59.0,52.0,57.0,53.0,41.0,26.0,47.0,67.0,68.0,56.0,43.0,48.0,69.0,32.0,58.0,70.0,70.0,50.0,68.0,44.0,42.0,50.0,78.0,43.0,67.0,71.0,51.0,57.0,49.0,63.0,57.0,30.0,39.0,49.0,36.0,42.0,52.0,38.0,39.0,55.0,33.0,45.0,37.0,38.0,49.0,54.0,55.0,36.0,55.0,41.0,51.0,47.0,67.0,51.0,66.0,33.0,60.0,59.0,38.0,71.0,73.0,79.0,60.0,67.0,30.0,54.0,48.0,72.0,54.0,63.0,59.0,39.0,47.0,69.0,51.0,50.0,59.0,43.0,60.0,32.0,48.0,59.0,58.0,57.0,43.0,40.0,59.0,45.0,55.0,31.0,36.0,45.0,67.0,55.0,70.0,66.0,63.0,80.0,46.0,42.0,63.0,55.0,29.0,47.0,56.0,53.0,64.0,74.0,64.0,39.0,27.0,46.0,54.0,41.0,47.0,47.0,53.0,46.0,54.0,49.0,61.0,33.0,54.0,67.0,50.0,64.0,68.0,60.0,68.0,37.0,54.0,41.0,64.0,52.0,44.0,53.0,62.0,41.0,59.0,36.0,54.0,59.0,49.0,60.0,60.0,67.0,32.0,61.0,59.0,61.0,65.0,48.0,48.0,38.0,52.0,46.0,46.0,50.0,50.0,75.0,54.0,46.0,67.0,43.0,68.0,47.0,79.0,51.0,41.0,65.0,48.0,38.0,50.0,46.0,42.0,34.0,57.0,69.0,56.0,64.0,46.0,78.0,50.0,41.0,70.0,40.0,42.0,62.0,46.0,40.0,43.0,57.0,59.0,62.0,75.0,38.0,63.0,41.0,36.0,25.0,61.0,66.0,68.0,43.0,53.0,45.0,47.0,47.0,41.0,55.0,56.0,69.0,62.0,56.0,47.0,47.0,57.0,71.0,46.0,60.0,46.0,61.0,60.0,33.0,33.0,55.0,63.0,61.0,45.0,54.0,70.0,44.0,57.0,54.0,57.0,60.0,42.0,31.0,61.0,33.0,58.0,60.0,57.0,69.0,33.0,35.0,75.0,52.0,64.0,57.0,48.0,58.0,71.0,59.0,48.0,45.0,61.0,38.0,64.0,47.0,36.0,53.0,33.0,67.0,70.0,60.0,67.0,51.0,55.0,43.0,55.0,59.0,55.0,66.0,43.0,41.0,61.0,47.0,81.0,38.0,43.0,66.0,52.0,59.0,57.0,70.0,53.0,59.0,46.0,65.0,61.0,49.0,35.0,47.0,39.0,59.0,36.0,56.0,64.0,43.0,49.0,48.0,48.0,68.0,51.0,47.0,40.0,28.0,65.0,33.0,51.0,63.0,55.0,34.0,43.0,65.0,69.0,59.0,68.0,52.0,39.0,37.0,52.0,54.0,41.0,39.0,39.0,58.0,42.0,46.0,64.0,62.0,62.0,42.0,49.0,74.0,68.0,68.0,47.0,64.0,73.0,42.0,60.0,52.0,42.0,36.0,77.0,55.0,36.0,58.0,62.0,58.0,38.0,39.0,43.0,49.0,47.0,40.0,35.0,49.0,72.0,61.0,40.0,36.0,57.0,57.0,44.0,48.0,45.0,57.0,51.0,68.0,29.0,72.0,68.0,62.0,35.0,59.0,45.0,51.0,43.0,66.0,32.0,29.0,49.0,34.0,56.0,58.0,73.0,69.0,30.0,42.0,34.0,55.0,72.0,51.0,62.0,53.0,37.0,64.0,67.0,61.0,50.0,48.0,64.0,61.0,58.0,43.0,42.0,58.0,57.0,53.0,36.0,45.0,55.0,55.0,42.0,68.0,42.0,48.0,58.0,50.0,67.0,61.0,48.0,36.0,63.0,56.0,32.0,65.0,51.0,60.0,45.0,48.0,76.0,45.0,44.0,39.0,59.0,38.0,37.0,30.0,64.0,57.0,56.0,53.0,61.0,29.0,58.0,56.0,25.0,56.0,56.0,60.0,67.0,77.0,62.0,68.0,28.0,65.0,38.0,62.0,74.0,28.0,32.0,31.0,59.0,39.0,62.0,34.0,36.0,49.0,66.0,67.0,64.0,28.0,55.0,64.0,56.0,41.0,51.0,32.0,67.0,46.0,38.0,51.0,65.0,47.0,67.0,44.0,48.0,49.0,44.0,28.0,57.0,57.0,55.0,62.0,54.0,61.0,58.0,64.0,46.0,37.0,25.0,40.0,32.0,47.0,61.0,62.0,86.0,64.0,78.0,54.0,38.0,36.0,45.0,68.0,43.0,74.0,46.0,30.0,54.0,60.0,58.0,61.0,44.0,53.0,55.0,72.0,44.0,40.0,63.0,74.0,35.0,48.0,53.0,44.0,63.0,56.0,66.0,62.0,58.0,32.0,58.0,44.0,32.0,50.0,31.0,65.0,27.0,42.0,48.0,47.0,69.0,52.0,73.0,44.0,51.0,30.0,31.0,51.0,51.0,54.0,52.0,48.0,78.0,46.0,52.0,56.0,64.0,39.0,69.0,58.0,32.0,38.0,64.0,36.0,49.0,52.0,54.0,63.0,41.0,63.0,39.0,48.0,63.0,67.0,61.0,63.0,30.0,42.0,33.0,58.0,48.0,46.0,35.0,57.0,29.0,25.0,31.0,31.0,51.0,43.0,37.0,49.0,50.0,58.0,47.0,33.0,48.0,55.0,48.0,58.0,53.0,45.0,47.0,61.0,27.0,46.0,59.0,33.0,46.0,54.0,46.0,47.0,63.0,77.0,64.0,62.0,72.0,28.0,44.0,57.0,30.0,33.0,52.0,73.0,52.0,56.0,62.0,42.0,44.0,60.0,32.0,52.0,53.0,53.0,83.0,58.0,41.0,43.0,77.0,49.0,46.0,41.0,59.0,62.0,43.0,67.0,42.0,58.0,39.0,60.0,48.0,73.0,46.0,52.0,26.0,50.0,32.0,27.0,41.0,58.0,45.0,50.0,79.0,35.0,36.0,42.0,50.0,31.0,73.0,68.0,60.0,59.0,44.0,66.0,32.0,32.0,44.0,41.0,60.0,68.0,57.0,46.0,47.0,68.0,52.0,62.0,44.0,63.0,53.0,39.0,70.0,59.0,51.0,69.0,66.0,35.0,42.0,43.0,48.0,63.0,66.0,76.0,51.0,57.0,52.0,55.0,59.0,58.0,64.0,60.0,65.0,47.0,56.0,69.0,70.0,60.0,33.0,53.0,54.0,47.0,55.0,41.0,53.0,63.0,60.0,64.0,52.0,44.0,71.0,56.0,46.0,65.0,50.0,45.0,59.0,47.0,41.0,44.0,61.0,75.0,30.0,43.0,50.0,60.0,76.0,50.0,58.0,62.0,42.0,78.0,86.0,74.0,38.0,53.0,55.0,54.0,59.0,65.0,51.0,53.0,62.0,54.0,59.0,60.0,62.0,52.0,50.0,43.0,53.0,56.0,49.0,31.0,51.0,42.0,64.0,41.0,47.0,56.0,57.0,56.0,58.0,40.0,63.0,61.0,61.0,51.0,39.0,62.0,66.0,43.0,56.0,44.0,48.0,72.0,26.0,36.0,46.0,46.0,62.0,32.0,42.0,54.0,35.0,38.0,69.0,54.0,54.0,68.0,47.0,49.0,65.0,43.0,51.0,53.0,48.0,66.0,48.0,58.0,58.0,66.0,55.0,30.0,48.0,64.0,44.0,47.0,45.0,36.0,52.0,29.0,53.0,58.0,48.0,57.0,67.0,39.0,52.0,51.0,56.0,65.0,45.0,37.0,65.0,53.0,63.0,37.0,48.0,50.0,41.0,64.0,47.0,46.0,64.0,37.0,64.0,28.0,43.0,63.0,49.0,47.0],\"xaxis\":\"x\",\"yaxis\":\"y\"}],                        {\"barmode\":\"relative\",\"font\":{\"color\":\"#351f39\",\"family\":\"Courier New\"},\"legend\":{\"tracegroupgap\":0},\"margin\":{\"t\":60},\"template\":{\"data\":{\"bar\":[{\"error_x\":{\"color\":\"#2a3f5f\"},\"error_y\":{\"color\":\"#2a3f5f\"},\"marker\":{\"line\":{\"color\":\"#E5ECF6\",\"width\":0.5},\"pattern\":{\"fillmode\":\"overlay\",\"size\":10,\"solidity\":0.2}},\"type\":\"bar\"}],\"barpolar\":[{\"marker\":{\"line\":{\"color\":\"#E5ECF6\",\"width\":0.5},\"pattern\":{\"fillmode\":\"overlay\",\"size\":10,\"solidity\":0.2}},\"type\":\"barpolar\"}],\"carpet\":[{\"aaxis\":{\"endlinecolor\":\"#2a3f5f\",\"gridcolor\":\"white\",\"linecolor\":\"white\",\"minorgridcolor\":\"white\",\"startlinecolor\":\"#2a3f5f\"},\"baxis\":{\"endlinecolor\":\"#2a3f5f\",\"gridcolor\":\"white\",\"linecolor\":\"white\",\"minorgridcolor\":\"white\",\"startlinecolor\":\"#2a3f5f\"},\"type\":\"carpet\"}],\"choropleth\":[{\"colorbar\":{\"outlinewidth\":0,\"ticks\":\"\"},\"type\":\"choropleth\"}],\"contour\":[{\"colorbar\":{\"outlinewidth\":0,\"ticks\":\"\"},\"colorscale\":[[0.0,\"#0d0887\"],[0.1111111111111111,\"#46039f\"],[0.2222222222222222,\"#7201a8\"],[0.3333333333333333,\"#9c179e\"],[0.4444444444444444,\"#bd3786\"],[0.5555555555555556,\"#d8576b\"],[0.6666666666666666,\"#ed7953\"],[0.7777777777777778,\"#fb9f3a\"],[0.8888888888888888,\"#fdca26\"],[1.0,\"#f0f921\"]],\"type\":\"contour\"}],\"contourcarpet\":[{\"colorbar\":{\"outlinewidth\":0,\"ticks\":\"\"},\"type\":\"contourcarpet\"}],\"heatmap\":[{\"colorbar\":{\"outlinewidth\":0,\"ticks\":\"\"},\"colorscale\":[[0.0,\"#0d0887\"],[0.1111111111111111,\"#46039f\"],[0.2222222222222222,\"#7201a8\"],[0.3333333333333333,\"#9c179e\"],[0.4444444444444444,\"#bd3786\"],[0.5555555555555556,\"#d8576b\"],[0.6666666666666666,\"#ed7953\"],[0.7777777777777778,\"#fb9f3a\"],[0.8888888888888888,\"#fdca26\"],[1.0,\"#f0f921\"]],\"type\":\"heatmap\"}],\"heatmapgl\":[{\"colorbar\":{\"outlinewidth\":0,\"ticks\":\"\"},\"colorscale\":[[0.0,\"#0d0887\"],[0.1111111111111111,\"#46039f\"],[0.2222222222222222,\"#7201a8\"],[0.3333333333333333,\"#9c179e\"],[0.4444444444444444,\"#bd3786\"],[0.5555555555555556,\"#d8576b\"],[0.6666666666666666,\"#ed7953\"],[0.7777777777777778,\"#fb9f3a\"],[0.8888888888888888,\"#fdca26\"],[1.0,\"#f0f921\"]],\"type\":\"heatmapgl\"}],\"histogram\":[{\"marker\":{\"pattern\":{\"fillmode\":\"overlay\",\"size\":10,\"solidity\":0.2}},\"type\":\"histogram\"}],\"histogram2d\":[{\"colorbar\":{\"outlinewidth\":0,\"ticks\":\"\"},\"colorscale\":[[0.0,\"#0d0887\"],[0.1111111111111111,\"#46039f\"],[0.2222222222222222,\"#7201a8\"],[0.3333333333333333,\"#9c179e\"],[0.4444444444444444,\"#bd3786\"],[0.5555555555555556,\"#d8576b\"],[0.6666666666666666,\"#ed7953\"],[0.7777777777777778,\"#fb9f3a\"],[0.8888888888888888,\"#fdca26\"],[1.0,\"#f0f921\"]],\"type\":\"histogram2d\"}],\"histogram2dcontour\":[{\"colorbar\":{\"outlinewidth\":0,\"ticks\":\"\"},\"colorscale\":[[0.0,\"#0d0887\"],[0.1111111111111111,\"#46039f\"],[0.2222222222222222,\"#7201a8\"],[0.3333333333333333,\"#9c179e\"],[0.4444444444444444,\"#bd3786\"],[0.5555555555555556,\"#d8576b\"],[0.6666666666666666,\"#ed7953\"],[0.7777777777777778,\"#fb9f3a\"],[0.8888888888888888,\"#fdca26\"],[1.0,\"#f0f921\"]],\"type\":\"histogram2dcontour\"}],\"mesh3d\":[{\"colorbar\":{\"outlinewidth\":0,\"ticks\":\"\"},\"type\":\"mesh3d\"}],\"parcoords\":[{\"line\":{\"colorbar\":{\"outlinewidth\":0,\"ticks\":\"\"}},\"type\":\"parcoords\"}],\"pie\":[{\"automargin\":true,\"type\":\"pie\"}],\"scatter\":[{\"marker\":{\"colorbar\":{\"outlinewidth\":0,\"ticks\":\"\"}},\"type\":\"scatter\"}],\"scatter3d\":[{\"line\":{\"colorbar\":{\"outlinewidth\":0,\"ticks\":\"\"}},\"marker\":{\"colorbar\":{\"outlinewidth\":0,\"ticks\":\"\"}},\"type\":\"scatter3d\"}],\"scattercarpet\":[{\"marker\":{\"colorbar\":{\"outlinewidth\":0,\"ticks\":\"\"}},\"type\":\"scattercarpet\"}],\"scattergeo\":[{\"marker\":{\"colorbar\":{\"outlinewidth\":0,\"ticks\":\"\"}},\"type\":\"scattergeo\"}],\"scattergl\":[{\"marker\":{\"colorbar\":{\"outlinewidth\":0,\"ticks\":\"\"}},\"type\":\"scattergl\"}],\"scattermapbox\":[{\"marker\":{\"colorbar\":{\"outlinewidth\":0,\"ticks\":\"\"}},\"type\":\"scattermapbox\"}],\"scatterpolar\":[{\"marker\":{\"colorbar\":{\"outlinewidth\":0,\"ticks\":\"\"}},\"type\":\"scatterpolar\"}],\"scatterpolargl\":[{\"marker\":{\"colorbar\":{\"outlinewidth\":0,\"ticks\":\"\"}},\"type\":\"scatterpolargl\"}],\"scatterternary\":[{\"marker\":{\"colorbar\":{\"outlinewidth\":0,\"ticks\":\"\"}},\"type\":\"scatterternary\"}],\"surface\":[{\"colorbar\":{\"outlinewidth\":0,\"ticks\":\"\"},\"colorscale\":[[0.0,\"#0d0887\"],[0.1111111111111111,\"#46039f\"],[0.2222222222222222,\"#7201a8\"],[0.3333333333333333,\"#9c179e\"],[0.4444444444444444,\"#bd3786\"],[0.5555555555555556,\"#d8576b\"],[0.6666666666666666,\"#ed7953\"],[0.7777777777777778,\"#fb9f3a\"],[0.8888888888888888,\"#fdca26\"],[1.0,\"#f0f921\"]],\"type\":\"surface\"}],\"table\":[{\"cells\":{\"fill\":{\"color\":\"#EBF0F8\"},\"line\":{\"color\":\"white\"}},\"header\":{\"fill\":{\"color\":\"#C8D4E3\"},\"line\":{\"color\":\"white\"}},\"type\":\"table\"}]},\"layout\":{\"annotationdefaults\":{\"arrowcolor\":\"#2a3f5f\",\"arrowhead\":0,\"arrowwidth\":1},\"autotypenumbers\":\"strict\",\"coloraxis\":{\"colorbar\":{\"outlinewidth\":0,\"ticks\":\"\"}},\"colorscale\":{\"diverging\":[[0,\"#8e0152\"],[0.1,\"#c51b7d\"],[0.2,\"#de77ae\"],[0.3,\"#f1b6da\"],[0.4,\"#fde0ef\"],[0.5,\"#f7f7f7\"],[0.6,\"#e6f5d0\"],[0.7,\"#b8e186\"],[0.8,\"#7fbc41\"],[0.9,\"#4d9221\"],[1,\"#276419\"]],\"sequential\":[[0.0,\"#0d0887\"],[0.1111111111111111,\"#46039f\"],[0.2222222222222222,\"#7201a8\"],[0.3333333333333333,\"#9c179e\"],[0.4444444444444444,\"#bd3786\"],[0.5555555555555556,\"#d8576b\"],[0.6666666666666666,\"#ed7953\"],[0.7777777777777778,\"#fb9f3a\"],[0.8888888888888888,\"#fdca26\"],[1.0,\"#f0f921\"]],\"sequentialminus\":[[0.0,\"#0d0887\"],[0.1111111111111111,\"#46039f\"],[0.2222222222222222,\"#7201a8\"],[0.3333333333333333,\"#9c179e\"],[0.4444444444444444,\"#bd3786\"],[0.5555555555555556,\"#d8576b\"],[0.6666666666666666,\"#ed7953\"],[0.7777777777777778,\"#fb9f3a\"],[0.8888888888888888,\"#fdca26\"],[1.0,\"#f0f921\"]]},\"colorway\":[\"#636efa\",\"#EF553B\",\"#00cc96\",\"#ab63fa\",\"#FFA15A\",\"#19d3f3\",\"#FF6692\",\"#B6E880\",\"#FF97FF\",\"#FECB52\"],\"font\":{\"color\":\"#2a3f5f\"},\"geo\":{\"bgcolor\":\"white\",\"lakecolor\":\"white\",\"landcolor\":\"#E5ECF6\",\"showlakes\":true,\"showland\":true,\"subunitcolor\":\"white\"},\"hoverlabel\":{\"align\":\"left\"},\"hovermode\":\"closest\",\"mapbox\":{\"style\":\"light\"},\"paper_bgcolor\":\"white\",\"plot_bgcolor\":\"#E5ECF6\",\"polar\":{\"angularaxis\":{\"gridcolor\":\"white\",\"linecolor\":\"white\",\"ticks\":\"\"},\"bgcolor\":\"#E5ECF6\",\"radialaxis\":{\"gridcolor\":\"white\",\"linecolor\":\"white\",\"ticks\":\"\"}},\"scene\":{\"xaxis\":{\"backgroundcolor\":\"#E5ECF6\",\"gridcolor\":\"white\",\"gridwidth\":2,\"linecolor\":\"white\",\"showbackground\":true,\"ticks\":\"\",\"zerolinecolor\":\"white\"},\"yaxis\":{\"backgroundcolor\":\"#E5ECF6\",\"gridcolor\":\"white\",\"gridwidth\":2,\"linecolor\":\"white\",\"showbackground\":true,\"ticks\":\"\",\"zerolinecolor\":\"white\"},\"zaxis\":{\"backgroundcolor\":\"#E5ECF6\",\"gridcolor\":\"white\",\"gridwidth\":2,\"linecolor\":\"white\",\"showbackground\":true,\"ticks\":\"\",\"zerolinecolor\":\"white\"}},\"shapedefaults\":{\"line\":{\"color\":\"#2a3f5f\"}},\"ternary\":{\"aaxis\":{\"gridcolor\":\"white\",\"linecolor\":\"white\",\"ticks\":\"\"},\"baxis\":{\"gridcolor\":\"white\",\"linecolor\":\"white\",\"ticks\":\"\"},\"bgcolor\":\"#E5ECF6\",\"caxis\":{\"gridcolor\":\"white\",\"linecolor\":\"white\",\"ticks\":\"\"}},\"title\":{\"x\":0.05},\"xaxis\":{\"automargin\":true,\"gridcolor\":\"white\",\"linecolor\":\"white\",\"ticks\":\"\",\"title\":{\"standoff\":15},\"zerolinecolor\":\"white\",\"zerolinewidth\":2},\"yaxis\":{\"automargin\":true,\"gridcolor\":\"white\",\"linecolor\":\"white\",\"ticks\":\"\",\"title\":{\"standoff\":15},\"zerolinecolor\":\"white\",\"zerolinewidth\":2}}},\"title\":{\"font\":{\"color\":\"#351f39\",\"family\":\"Courier New\"},\"text\":\"Age Distribution of Candidates\"},\"xaxis\":{\"anchor\":\"y\",\"domain\":[0.0,1.0],\"title\":{\"text\":\"Distribution\"}},\"yaxis\":{\"anchor\":\"x\",\"domain\":[0.0,1.0],\"title\":{\"text\":\"Age\"}}},                        {\"responsive\": true}                    ).then(function(){\n",
              "                            \n",
              "var gd = document.getElementById('df575065-ccb8-457f-a31f-3d60941703e7');\n",
              "var x = new MutationObserver(function (mutations, observer) {{\n",
              "        var display = window.getComputedStyle(gd).display;\n",
              "        if (!display || display === 'none') {{\n",
              "            console.log([gd, 'removed!']);\n",
              "            Plotly.purge(gd);\n",
              "            observer.disconnect();\n",
              "        }}\n",
              "}});\n",
              "\n",
              "// Listen for the removal of the full notebook cells\n",
              "var notebookContainer = gd.closest('#notebook-container');\n",
              "if (notebookContainer) {{\n",
              "    x.observe(notebookContainer, {childList: true});\n",
              "}}\n",
              "\n",
              "// Listen for the clearing of the current output cell\n",
              "var outputEl = gd.closest('.output');\n",
              "if (outputEl) {{\n",
              "    x.observe(outputEl, {childList: true});\n",
              "}}\n",
              "\n",
              "                        })                };                            </script>        </div>\n",
              "</body>\n",
              "</html>"
            ]
          },
          "metadata": {}
        },
        {
          "output_type": "display_data",
          "data": {
            "text/plain": [
              "<Figure size 432x288 with 0 Axes>"
            ]
          },
          "metadata": {}
        }
      ]
    },
    {
      "cell_type": "markdown",
      "metadata": {
        "id": "El2lpcuribUv"
      },
      "source": [
        "##**Caste distribution of candidates**"
      ]
    },
    {
      "cell_type": "code",
      "metadata": {
        "id": "j2xIFSpBQKth",
        "colab": {
          "base_uri": "https://localhost:8080/",
          "height": 559
        },
        "outputId": "bcd84a00-756f-4ce3-aca3-1b3d6cdd7443"
      },
      "source": [
        "# Create a dataframe containing the caste distribution of winners\n",
        "winner_caste = dataset[dataset['WINNER'] == 1].groupby('CATEGORY')['WINNER'].size()\n",
        "winner_caste_df = pd.DataFrame(data = winner_caste)\n",
        "winner_caste_df.reset_index(level = 0, inplace = True)\n",
        "winner_caste_df['Category'] = 'Winner'\n",
        "\n",
        "# Create a dataframe containing the caste distribution of total number of candidates\n",
        "total_caste = dataset.groupby('CATEGORY').size()\n",
        "total_caste_df = pd.DataFrame(data = total_caste)\n",
        "total_caste_df.reset_index(level = 0, inplace = True)\n",
        "total_caste_df['Category'] = 'Total'\n",
        "total_caste_df.rename(columns = {0: \"WINNER\"}, inplace = True)\n",
        "\n",
        "#Concatenate the two dataframes\n",
        "winner_caste_df = pd.concat((winner_caste_df, total_caste_df))\n",
        "\n",
        "#Visualize the results\n",
        "caste_fig = px.bar(winner_caste_df, \n",
        "                   x = 'CATEGORY', \n",
        "                   y = 'WINNER',\n",
        "                   color = 'Category', \n",
        "                   barmode = 'group')\n",
        "caste_fig.update_layout(font_family = \"Courier New\",\n",
        "                        font_color = \"#351f39\",\n",
        "                        title_text = 'Caste distribution of candidates',\n",
        "                        title_font_family = \"Arial\",\n",
        "                        title_font_color = \"#351f39\",\n",
        "                        xaxis_title = 'Caste',\n",
        "                        yaxis_title = 'Count')\n",
        "caste_fig.show();\n",
        "plt.savefig('CasteDistributionofCandidates.png')"
      ],
      "execution_count": null,
      "outputs": [
        {
          "output_type": "display_data",
          "data": {
            "text/html": [
              "<html>\n",
              "<head><meta charset=\"utf-8\" /></head>\n",
              "<body>\n",
              "    <div>            <script src=\"https://cdnjs.cloudflare.com/ajax/libs/mathjax/2.7.5/MathJax.js?config=TeX-AMS-MML_SVG\"></script><script type=\"text/javascript\">if (window.MathJax) {MathJax.Hub.Config({SVG: {font: \"STIX-Web\"}});}</script>                <script type=\"text/javascript\">window.PlotlyConfig = {MathJaxConfig: 'local'};</script>\n",
              "        <script src=\"https://cdn.plot.ly/plotly-2.4.2.min.js\"></script>                <div id=\"7a53da81-3f3e-4fd1-9e66-885df91a23f5\" class=\"plotly-graph-div\" style=\"height:525px; width:100%;\"></div>            <script type=\"text/javascript\">                                    window.PLOTLYENV=window.PLOTLYENV || {};                                    if (document.getElementById(\"7a53da81-3f3e-4fd1-9e66-885df91a23f5\")) {                    Plotly.newPlot(                        \"7a53da81-3f3e-4fd1-9e66-885df91a23f5\",                        [{\"alignmentgroup\":\"True\",\"hovertemplate\":\"Category=Winner<br>CATEGORY=%{x}<br>WINNER=%{y}<extra></extra>\",\"legendgroup\":\"Winner\",\"marker\":{\"color\":\"#636efa\",\"pattern\":{\"shape\":\"\"}},\"name\":\"Winner\",\"offsetgroup\":\"Winner\",\"orientation\":\"v\",\"showlegend\":true,\"textposition\":\"auto\",\"type\":\"bar\",\"x\":[\"GENERAL\",\"SC\",\"ST\"],\"xaxis\":\"x\",\"y\":[399,85,55],\"yaxis\":\"y\"},{\"alignmentgroup\":\"True\",\"hovertemplate\":\"Category=Total<br>CATEGORY=%{x}<br>WINNER=%{y}<extra></extra>\",\"legendgroup\":\"Total\",\"marker\":{\"color\":\"#EF553B\",\"pattern\":{\"shape\":\"\"}},\"name\":\"Total\",\"offsetgroup\":\"Total\",\"orientation\":\"v\",\"showlegend\":true,\"textposition\":\"auto\",\"type\":\"bar\",\"x\":[\"GENERAL\",\"SC\",\"ST\"],\"xaxis\":\"x\",\"y\":[1373,380,243],\"yaxis\":\"y\"}],                        {\"barmode\":\"group\",\"font\":{\"color\":\"#351f39\",\"family\":\"Courier New\"},\"legend\":{\"title\":{\"text\":\"Category\"},\"tracegroupgap\":0},\"margin\":{\"t\":60},\"template\":{\"data\":{\"bar\":[{\"error_x\":{\"color\":\"#2a3f5f\"},\"error_y\":{\"color\":\"#2a3f5f\"},\"marker\":{\"line\":{\"color\":\"#E5ECF6\",\"width\":0.5},\"pattern\":{\"fillmode\":\"overlay\",\"size\":10,\"solidity\":0.2}},\"type\":\"bar\"}],\"barpolar\":[{\"marker\":{\"line\":{\"color\":\"#E5ECF6\",\"width\":0.5},\"pattern\":{\"fillmode\":\"overlay\",\"size\":10,\"solidity\":0.2}},\"type\":\"barpolar\"}],\"carpet\":[{\"aaxis\":{\"endlinecolor\":\"#2a3f5f\",\"gridcolor\":\"white\",\"linecolor\":\"white\",\"minorgridcolor\":\"white\",\"startlinecolor\":\"#2a3f5f\"},\"baxis\":{\"endlinecolor\":\"#2a3f5f\",\"gridcolor\":\"white\",\"linecolor\":\"white\",\"minorgridcolor\":\"white\",\"startlinecolor\":\"#2a3f5f\"},\"type\":\"carpet\"}],\"choropleth\":[{\"colorbar\":{\"outlinewidth\":0,\"ticks\":\"\"},\"type\":\"choropleth\"}],\"contour\":[{\"colorbar\":{\"outlinewidth\":0,\"ticks\":\"\"},\"colorscale\":[[0.0,\"#0d0887\"],[0.1111111111111111,\"#46039f\"],[0.2222222222222222,\"#7201a8\"],[0.3333333333333333,\"#9c179e\"],[0.4444444444444444,\"#bd3786\"],[0.5555555555555556,\"#d8576b\"],[0.6666666666666666,\"#ed7953\"],[0.7777777777777778,\"#fb9f3a\"],[0.8888888888888888,\"#fdca26\"],[1.0,\"#f0f921\"]],\"type\":\"contour\"}],\"contourcarpet\":[{\"colorbar\":{\"outlinewidth\":0,\"ticks\":\"\"},\"type\":\"contourcarpet\"}],\"heatmap\":[{\"colorbar\":{\"outlinewidth\":0,\"ticks\":\"\"},\"colorscale\":[[0.0,\"#0d0887\"],[0.1111111111111111,\"#46039f\"],[0.2222222222222222,\"#7201a8\"],[0.3333333333333333,\"#9c179e\"],[0.4444444444444444,\"#bd3786\"],[0.5555555555555556,\"#d8576b\"],[0.6666666666666666,\"#ed7953\"],[0.7777777777777778,\"#fb9f3a\"],[0.8888888888888888,\"#fdca26\"],[1.0,\"#f0f921\"]],\"type\":\"heatmap\"}],\"heatmapgl\":[{\"colorbar\":{\"outlinewidth\":0,\"ticks\":\"\"},\"colorscale\":[[0.0,\"#0d0887\"],[0.1111111111111111,\"#46039f\"],[0.2222222222222222,\"#7201a8\"],[0.3333333333333333,\"#9c179e\"],[0.4444444444444444,\"#bd3786\"],[0.5555555555555556,\"#d8576b\"],[0.6666666666666666,\"#ed7953\"],[0.7777777777777778,\"#fb9f3a\"],[0.8888888888888888,\"#fdca26\"],[1.0,\"#f0f921\"]],\"type\":\"heatmapgl\"}],\"histogram\":[{\"marker\":{\"pattern\":{\"fillmode\":\"overlay\",\"size\":10,\"solidity\":0.2}},\"type\":\"histogram\"}],\"histogram2d\":[{\"colorbar\":{\"outlinewidth\":0,\"ticks\":\"\"},\"colorscale\":[[0.0,\"#0d0887\"],[0.1111111111111111,\"#46039f\"],[0.2222222222222222,\"#7201a8\"],[0.3333333333333333,\"#9c179e\"],[0.4444444444444444,\"#bd3786\"],[0.5555555555555556,\"#d8576b\"],[0.6666666666666666,\"#ed7953\"],[0.7777777777777778,\"#fb9f3a\"],[0.8888888888888888,\"#fdca26\"],[1.0,\"#f0f921\"]],\"type\":\"histogram2d\"}],\"histogram2dcontour\":[{\"colorbar\":{\"outlinewidth\":0,\"ticks\":\"\"},\"colorscale\":[[0.0,\"#0d0887\"],[0.1111111111111111,\"#46039f\"],[0.2222222222222222,\"#7201a8\"],[0.3333333333333333,\"#9c179e\"],[0.4444444444444444,\"#bd3786\"],[0.5555555555555556,\"#d8576b\"],[0.6666666666666666,\"#ed7953\"],[0.7777777777777778,\"#fb9f3a\"],[0.8888888888888888,\"#fdca26\"],[1.0,\"#f0f921\"]],\"type\":\"histogram2dcontour\"}],\"mesh3d\":[{\"colorbar\":{\"outlinewidth\":0,\"ticks\":\"\"},\"type\":\"mesh3d\"}],\"parcoords\":[{\"line\":{\"colorbar\":{\"outlinewidth\":0,\"ticks\":\"\"}},\"type\":\"parcoords\"}],\"pie\":[{\"automargin\":true,\"type\":\"pie\"}],\"scatter\":[{\"marker\":{\"colorbar\":{\"outlinewidth\":0,\"ticks\":\"\"}},\"type\":\"scatter\"}],\"scatter3d\":[{\"line\":{\"colorbar\":{\"outlinewidth\":0,\"ticks\":\"\"}},\"marker\":{\"colorbar\":{\"outlinewidth\":0,\"ticks\":\"\"}},\"type\":\"scatter3d\"}],\"scattercarpet\":[{\"marker\":{\"colorbar\":{\"outlinewidth\":0,\"ticks\":\"\"}},\"type\":\"scattercarpet\"}],\"scattergeo\":[{\"marker\":{\"colorbar\":{\"outlinewidth\":0,\"ticks\":\"\"}},\"type\":\"scattergeo\"}],\"scattergl\":[{\"marker\":{\"colorbar\":{\"outlinewidth\":0,\"ticks\":\"\"}},\"type\":\"scattergl\"}],\"scattermapbox\":[{\"marker\":{\"colorbar\":{\"outlinewidth\":0,\"ticks\":\"\"}},\"type\":\"scattermapbox\"}],\"scatterpolar\":[{\"marker\":{\"colorbar\":{\"outlinewidth\":0,\"ticks\":\"\"}},\"type\":\"scatterpolar\"}],\"scatterpolargl\":[{\"marker\":{\"colorbar\":{\"outlinewidth\":0,\"ticks\":\"\"}},\"type\":\"scatterpolargl\"}],\"scatterternary\":[{\"marker\":{\"colorbar\":{\"outlinewidth\":0,\"ticks\":\"\"}},\"type\":\"scatterternary\"}],\"surface\":[{\"colorbar\":{\"outlinewidth\":0,\"ticks\":\"\"},\"colorscale\":[[0.0,\"#0d0887\"],[0.1111111111111111,\"#46039f\"],[0.2222222222222222,\"#7201a8\"],[0.3333333333333333,\"#9c179e\"],[0.4444444444444444,\"#bd3786\"],[0.5555555555555556,\"#d8576b\"],[0.6666666666666666,\"#ed7953\"],[0.7777777777777778,\"#fb9f3a\"],[0.8888888888888888,\"#fdca26\"],[1.0,\"#f0f921\"]],\"type\":\"surface\"}],\"table\":[{\"cells\":{\"fill\":{\"color\":\"#EBF0F8\"},\"line\":{\"color\":\"white\"}},\"header\":{\"fill\":{\"color\":\"#C8D4E3\"},\"line\":{\"color\":\"white\"}},\"type\":\"table\"}]},\"layout\":{\"annotationdefaults\":{\"arrowcolor\":\"#2a3f5f\",\"arrowhead\":0,\"arrowwidth\":1},\"autotypenumbers\":\"strict\",\"coloraxis\":{\"colorbar\":{\"outlinewidth\":0,\"ticks\":\"\"}},\"colorscale\":{\"diverging\":[[0,\"#8e0152\"],[0.1,\"#c51b7d\"],[0.2,\"#de77ae\"],[0.3,\"#f1b6da\"],[0.4,\"#fde0ef\"],[0.5,\"#f7f7f7\"],[0.6,\"#e6f5d0\"],[0.7,\"#b8e186\"],[0.8,\"#7fbc41\"],[0.9,\"#4d9221\"],[1,\"#276419\"]],\"sequential\":[[0.0,\"#0d0887\"],[0.1111111111111111,\"#46039f\"],[0.2222222222222222,\"#7201a8\"],[0.3333333333333333,\"#9c179e\"],[0.4444444444444444,\"#bd3786\"],[0.5555555555555556,\"#d8576b\"],[0.6666666666666666,\"#ed7953\"],[0.7777777777777778,\"#fb9f3a\"],[0.8888888888888888,\"#fdca26\"],[1.0,\"#f0f921\"]],\"sequentialminus\":[[0.0,\"#0d0887\"],[0.1111111111111111,\"#46039f\"],[0.2222222222222222,\"#7201a8\"],[0.3333333333333333,\"#9c179e\"],[0.4444444444444444,\"#bd3786\"],[0.5555555555555556,\"#d8576b\"],[0.6666666666666666,\"#ed7953\"],[0.7777777777777778,\"#fb9f3a\"],[0.8888888888888888,\"#fdca26\"],[1.0,\"#f0f921\"]]},\"colorway\":[\"#636efa\",\"#EF553B\",\"#00cc96\",\"#ab63fa\",\"#FFA15A\",\"#19d3f3\",\"#FF6692\",\"#B6E880\",\"#FF97FF\",\"#FECB52\"],\"font\":{\"color\":\"#2a3f5f\"},\"geo\":{\"bgcolor\":\"white\",\"lakecolor\":\"white\",\"landcolor\":\"#E5ECF6\",\"showlakes\":true,\"showland\":true,\"subunitcolor\":\"white\"},\"hoverlabel\":{\"align\":\"left\"},\"hovermode\":\"closest\",\"mapbox\":{\"style\":\"light\"},\"paper_bgcolor\":\"white\",\"plot_bgcolor\":\"#E5ECF6\",\"polar\":{\"angularaxis\":{\"gridcolor\":\"white\",\"linecolor\":\"white\",\"ticks\":\"\"},\"bgcolor\":\"#E5ECF6\",\"radialaxis\":{\"gridcolor\":\"white\",\"linecolor\":\"white\",\"ticks\":\"\"}},\"scene\":{\"xaxis\":{\"backgroundcolor\":\"#E5ECF6\",\"gridcolor\":\"white\",\"gridwidth\":2,\"linecolor\":\"white\",\"showbackground\":true,\"ticks\":\"\",\"zerolinecolor\":\"white\"},\"yaxis\":{\"backgroundcolor\":\"#E5ECF6\",\"gridcolor\":\"white\",\"gridwidth\":2,\"linecolor\":\"white\",\"showbackground\":true,\"ticks\":\"\",\"zerolinecolor\":\"white\"},\"zaxis\":{\"backgroundcolor\":\"#E5ECF6\",\"gridcolor\":\"white\",\"gridwidth\":2,\"linecolor\":\"white\",\"showbackground\":true,\"ticks\":\"\",\"zerolinecolor\":\"white\"}},\"shapedefaults\":{\"line\":{\"color\":\"#2a3f5f\"}},\"ternary\":{\"aaxis\":{\"gridcolor\":\"white\",\"linecolor\":\"white\",\"ticks\":\"\"},\"baxis\":{\"gridcolor\":\"white\",\"linecolor\":\"white\",\"ticks\":\"\"},\"bgcolor\":\"#E5ECF6\",\"caxis\":{\"gridcolor\":\"white\",\"linecolor\":\"white\",\"ticks\":\"\"}},\"title\":{\"x\":0.05},\"xaxis\":{\"automargin\":true,\"gridcolor\":\"white\",\"linecolor\":\"white\",\"ticks\":\"\",\"title\":{\"standoff\":15},\"zerolinecolor\":\"white\",\"zerolinewidth\":2},\"yaxis\":{\"automargin\":true,\"gridcolor\":\"white\",\"linecolor\":\"white\",\"ticks\":\"\",\"title\":{\"standoff\":15},\"zerolinecolor\":\"white\",\"zerolinewidth\":2}}},\"title\":{\"font\":{\"color\":\"#351f39\",\"family\":\"Arial\"},\"text\":\"Caste distribution of candidates\"},\"xaxis\":{\"anchor\":\"y\",\"domain\":[0.0,1.0],\"title\":{\"text\":\"Caste\"}},\"yaxis\":{\"anchor\":\"x\",\"domain\":[0.0,1.0],\"title\":{\"text\":\"Count\"}}},                        {\"responsive\": true}                    ).then(function(){\n",
              "                            \n",
              "var gd = document.getElementById('7a53da81-3f3e-4fd1-9e66-885df91a23f5');\n",
              "var x = new MutationObserver(function (mutations, observer) {{\n",
              "        var display = window.getComputedStyle(gd).display;\n",
              "        if (!display || display === 'none') {{\n",
              "            console.log([gd, 'removed!']);\n",
              "            Plotly.purge(gd);\n",
              "            observer.disconnect();\n",
              "        }}\n",
              "}});\n",
              "\n",
              "// Listen for the removal of the full notebook cells\n",
              "var notebookContainer = gd.closest('#notebook-container');\n",
              "if (notebookContainer) {{\n",
              "    x.observe(notebookContainer, {childList: true});\n",
              "}}\n",
              "\n",
              "// Listen for the clearing of the current output cell\n",
              "var outputEl = gd.closest('.output');\n",
              "if (outputEl) {{\n",
              "    x.observe(outputEl, {childList: true});\n",
              "}}\n",
              "\n",
              "                        })                };                            </script>        </div>\n",
              "</body>\n",
              "</html>"
            ]
          },
          "metadata": {}
        },
        {
          "output_type": "display_data",
          "data": {
            "text/plain": [
              "<Figure size 432x288 with 0 Axes>"
            ]
          },
          "metadata": {}
        }
      ]
    },
    {
      "cell_type": "markdown",
      "metadata": {
        "id": "58WEBmQpcTc1"
      },
      "source": [
        "##**Key Battlegrounds of the election**"
      ]
    },
    {
      "cell_type": "markdown",
      "metadata": {
        "id": "urKS-j8Piif2"
      },
      "source": [
        "***Amethi (Uttar Pradesh)***: Known to be a traditional Congress bastion, BJP had fielded Union Minister Smriti Irani against Congress president Rahul Gandhi. The voting day in Amethi in the fifth phase was marked by charges of 'booth-rigging' by Irani and Congress president Rahul Gandhi being absent from the constituency. In 2014, Irani lost to Rahul Gandhi from the same seat with a vote-margin of 1.07 lakh votes or a vote-ratio of about 3:4. This time, her challenge has forced Rahul Gandhi to also seek election from Wayanad."
      ]
    },
    {
      "cell_type": "markdown",
      "metadata": {
        "id": "GmGBa6WAikRg"
      },
      "source": [
        "------------------------------"
      ]
    },
    {
      "cell_type": "markdown",
      "metadata": {
        "id": "3ndzzL31ikoT"
      },
      "source": [
        "***Varanasi (Uttar Pradesh)***: Given the significance of the seat, mid-polls rumours had emerged that the Congress' General Secretary for Uttar Pradesh East Priyanka Gandhi Vadra could contest the seat. However, the speculations were put to rest as Congress fielded Ajay Rai, hours before PM Modi addressed a massive road-show ahead of his nomination-filing. In the 2014 Parliamentary elections, PM Modi swept the seat by receiving 56.40% of votes and defeated Arvind Kejriwal by a by 3.37 lakh vote margin."
      ]
    },
    {
      "cell_type": "code",
      "metadata": {
        "colab": {
          "base_uri": "https://localhost:8080/",
          "height": 439
        },
        "id": "6jS1k-i2CfLO",
        "outputId": "aae6f3aa-ef84-4195-bc5e-1e215eb01547"
      },
      "source": [
        "#Battleground Amethi\n",
        "amethi_df = dataset[dataset['CONSTITUENCY'] == 'AMETHI'][['NAME','TOTALVOTES']]\n",
        "\n",
        "# Battleground Varanasi\n",
        "varanasi_df = dataset[dataset['CONSTITUENCY'] == 'VARANASI'][['NAME','TOTALVOTES']]\n",
        "\n",
        "fig, axes = plt.subplots(nrows=1, ncols=2, figsize=(15,7))\n",
        "amethi_df.plot(kind='bar',color = 'teal', ax=axes[0], alpha=0.75, rot=0, legend=True, title='Battleground Amethi: Smriti Irani vs Rahul Gandhi', x='NAME')\n",
        "varanasi_df.plot(kind='bar', color = 'red', ax=axes[1], alpha=0.75, rot=0, legend=True, title=\"Battleground Varanasi: Narendra Modi's Constituency\", x='NAME')\n",
        "plt.savefig('AmethiXVaranasi.png')"
      ],
      "execution_count": null,
      "outputs": [
        {
          "output_type": "display_data",
          "data": {
            "image/png": "[encoded data removed]",
            "text/plain": [
              "<Figure size 1080x504 with 2 Axes>"
            ]
          },
          "metadata": {
            "needs_background": "light"
          }
        }
      ]
    },
    {
      "cell_type": "markdown",
      "metadata": {
        "id": "CkSejY0jjDpi"
      },
      "source": [
        "\n",
        "*   This time things were different in Amethi. Smriti Irani defeated Rahul Gandhi by a substantial margin.\n",
        "*   In Varanasi however the picture was similar with Narendra Modi winning the seat by a landslide.\n"
      ]
    },
    {
      "cell_type": "markdown",
      "metadata": {
        "id": "DCnCU_zZKOwP"
      },
      "source": [
        "##**West Bengal : Party-wise Vote Share**"
      ]
    },
    {
      "cell_type": "code",
      "metadata": {
        "colab": {
          "base_uri": "https://localhost:8080/",
          "height": 559
        },
        "id": "5H_VRfIcKO8h",
        "outputId": "d367db4a-2608-4c33-cf31-3bbf3e6ba7bd"
      },
      "source": [
        "# Battleground West Bengal\n",
        "bengal_df = pd.DataFrame(data=dataset[dataset['STATE'] == 'West Bengal'])\n",
        "bengal_df_vote = pd.DataFrame(data = bengal_df.groupby('PARTY')['TOTALVOTES'].sum())\n",
        "bengal_df_vote.sort_values(by='TOTALVOTES', ascending=False, inplace=True)\n",
        "bengal_df_vote.reset_index(level=0, inplace=True)\n",
        "bengal_df_vote['Category'] = bengal_df_vote.apply(sort_party, axis=1)\n",
        "bengal_vote_count = bengal_df_vote.groupby('Category')['TOTALVOTES'].sum()\n",
        "\n",
        "vote_share_top5 = bengal_df_vote.groupby('PARTY')['TOTALVOTES'].sum().nlargest(5).index.tolist()\n",
        "# Visualize Party-wise vote share\n",
        "bengal_fig = go.Figure(go.Pie(labels=bengal_vote_count.index, \n",
        "                                  values=bengal_vote_count.values,\n",
        "                                  pull=[0.1, 0.1, 0.1, 0.1, 0.1, 0.1],\n",
        "                                  marker=dict(line=dict(color=\"#000000\", \n",
        "                                                        width=2))))\n",
        "bengal_fig.update_layout(title_text='West Bengal : Party-wise Vote Share',\n",
        "                             font_family=\"Courier New\",\n",
        "                             font_color=\"#351f39\",\n",
        "                             title_font_family=\"Courier New\",\n",
        "                             title_font_color=\"#351f39\")\n",
        "bengal_fig.show();\n",
        "plt.savefig('WestBengal-Partywise_VoteShare.png')"
      ],
      "execution_count": null,
      "outputs": [
        {
          "output_type": "display_data",
          "data": {
            "text/html": [
              "<html>\n",
              "<head><meta charset=\"utf-8\" /></head>\n",
              "<body>\n",
              "    <div>            <script src=\"https://cdnjs.cloudflare.com/ajax/libs/mathjax/2.7.5/MathJax.js?config=TeX-AMS-MML_SVG\"></script><script type=\"text/javascript\">if (window.MathJax) {MathJax.Hub.Config({SVG: {font: \"STIX-Web\"}});}</script>                <script type=\"text/javascript\">window.PlotlyConfig = {MathJaxConfig: 'local'};</script>\n",
              "        <script src=\"https://cdn.plot.ly/plotly-2.4.2.min.js\"></script>                <div id=\"6c986827-8660-48e1-9ea0-d17ae91056cc\" class=\"plotly-graph-div\" style=\"height:525px; width:100%;\"></div>            <script type=\"text/javascript\">                                    window.PLOTLYENV=window.PLOTLYENV || {};                                    if (document.getElementById(\"6c986827-8660-48e1-9ea0-d17ae91056cc\")) {                    Plotly.newPlot(                        \"6c986827-8660-48e1-9ea0-d17ae91056cc\",                        [{\"labels\":[\"AITC\",\"BJP\",\"INC\",\"Other\"],\"marker\":{\"line\":{\"color\":\"#000000\",\"width\":2}},\"pull\":[0.1,0.1,0.1,0.1,0.1,0.1],\"type\":\"pie\",\"values\":[24757345,23028517,3210491,4418586]}],                        {\"font\":{\"color\":\"#351f39\",\"family\":\"Courier New\"},\"template\":{\"data\":{\"bar\":[{\"error_x\":{\"color\":\"#2a3f5f\"},\"error_y\":{\"color\":\"#2a3f5f\"},\"marker\":{\"line\":{\"color\":\"#E5ECF6\",\"width\":0.5},\"pattern\":{\"fillmode\":\"overlay\",\"size\":10,\"solidity\":0.2}},\"type\":\"bar\"}],\"barpolar\":[{\"marker\":{\"line\":{\"color\":\"#E5ECF6\",\"width\":0.5},\"pattern\":{\"fillmode\":\"overlay\",\"size\":10,\"solidity\":0.2}},\"type\":\"barpolar\"}],\"carpet\":[{\"aaxis\":{\"endlinecolor\":\"#2a3f5f\",\"gridcolor\":\"white\",\"linecolor\":\"white\",\"minorgridcolor\":\"white\",\"startlinecolor\":\"#2a3f5f\"},\"baxis\":{\"endlinecolor\":\"#2a3f5f\",\"gridcolor\":\"white\",\"linecolor\":\"white\",\"minorgridcolor\":\"white\",\"startlinecolor\":\"#2a3f5f\"},\"type\":\"carpet\"}],\"choropleth\":[{\"colorbar\":{\"outlinewidth\":0,\"ticks\":\"\"},\"type\":\"choropleth\"}],\"contour\":[{\"colorbar\":{\"outlinewidth\":0,\"ticks\":\"\"},\"colorscale\":[[0.0,\"#0d0887\"],[0.1111111111111111,\"#46039f\"],[0.2222222222222222,\"#7201a8\"],[0.3333333333333333,\"#9c179e\"],[0.4444444444444444,\"#bd3786\"],[0.5555555555555556,\"#d8576b\"],[0.6666666666666666,\"#ed7953\"],[0.7777777777777778,\"#fb9f3a\"],[0.8888888888888888,\"#fdca26\"],[1.0,\"#f0f921\"]],\"type\":\"contour\"}],\"contourcarpet\":[{\"colorbar\":{\"outlinewidth\":0,\"ticks\":\"\"},\"type\":\"contourcarpet\"}],\"heatmap\":[{\"colorbar\":{\"outlinewidth\":0,\"ticks\":\"\"},\"colorscale\":[[0.0,\"#0d0887\"],[0.1111111111111111,\"#46039f\"],[0.2222222222222222,\"#7201a8\"],[0.3333333333333333,\"#9c179e\"],[0.4444444444444444,\"#bd3786\"],[0.5555555555555556,\"#d8576b\"],[0.6666666666666666,\"#ed7953\"],[0.7777777777777778,\"#fb9f3a\"],[0.8888888888888888,\"#fdca26\"],[1.0,\"#f0f921\"]],\"type\":\"heatmap\"}],\"heatmapgl\":[{\"colorbar\":{\"outlinewidth\":0,\"ticks\":\"\"},\"colorscale\":[[0.0,\"#0d0887\"],[0.1111111111111111,\"#46039f\"],[0.2222222222222222,\"#7201a8\"],[0.3333333333333333,\"#9c179e\"],[0.4444444444444444,\"#bd3786\"],[0.5555555555555556,\"#d8576b\"],[0.6666666666666666,\"#ed7953\"],[0.7777777777777778,\"#fb9f3a\"],[0.8888888888888888,\"#fdca26\"],[1.0,\"#f0f921\"]],\"type\":\"heatmapgl\"}],\"histogram\":[{\"marker\":{\"pattern\":{\"fillmode\":\"overlay\",\"size\":10,\"solidity\":0.2}},\"type\":\"histogram\"}],\"histogram2d\":[{\"colorbar\":{\"outlinewidth\":0,\"ticks\":\"\"},\"colorscale\":[[0.0,\"#0d0887\"],[0.1111111111111111,\"#46039f\"],[0.2222222222222222,\"#7201a8\"],[0.3333333333333333,\"#9c179e\"],[0.4444444444444444,\"#bd3786\"],[0.5555555555555556,\"#d8576b\"],[0.6666666666666666,\"#ed7953\"],[0.7777777777777778,\"#fb9f3a\"],[0.8888888888888888,\"#fdca26\"],[1.0,\"#f0f921\"]],\"type\":\"histogram2d\"}],\"histogram2dcontour\":[{\"colorbar\":{\"outlinewidth\":0,\"ticks\":\"\"},\"colorscale\":[[0.0,\"#0d0887\"],[0.1111111111111111,\"#46039f\"],[0.2222222222222222,\"#7201a8\"],[0.3333333333333333,\"#9c179e\"],[0.4444444444444444,\"#bd3786\"],[0.5555555555555556,\"#d8576b\"],[0.6666666666666666,\"#ed7953\"],[0.7777777777777778,\"#fb9f3a\"],[0.8888888888888888,\"#fdca26\"],[1.0,\"#f0f921\"]],\"type\":\"histogram2dcontour\"}],\"mesh3d\":[{\"colorbar\":{\"outlinewidth\":0,\"ticks\":\"\"},\"type\":\"mesh3d\"}],\"parcoords\":[{\"line\":{\"colorbar\":{\"outlinewidth\":0,\"ticks\":\"\"}},\"type\":\"parcoords\"}],\"pie\":[{\"automargin\":true,\"type\":\"pie\"}],\"scatter\":[{\"marker\":{\"colorbar\":{\"outlinewidth\":0,\"ticks\":\"\"}},\"type\":\"scatter\"}],\"scatter3d\":[{\"line\":{\"colorbar\":{\"outlinewidth\":0,\"ticks\":\"\"}},\"marker\":{\"colorbar\":{\"outlinewidth\":0,\"ticks\":\"\"}},\"type\":\"scatter3d\"}],\"scattercarpet\":[{\"marker\":{\"colorbar\":{\"outlinewidth\":0,\"ticks\":\"\"}},\"type\":\"scattercarpet\"}],\"scattergeo\":[{\"marker\":{\"colorbar\":{\"outlinewidth\":0,\"ticks\":\"\"}},\"type\":\"scattergeo\"}],\"scattergl\":[{\"marker\":{\"colorbar\":{\"outlinewidth\":0,\"ticks\":\"\"}},\"type\":\"scattergl\"}],\"scattermapbox\":[{\"marker\":{\"colorbar\":{\"outlinewidth\":0,\"ticks\":\"\"}},\"type\":\"scattermapbox\"}],\"scatterpolar\":[{\"marker\":{\"colorbar\":{\"outlinewidth\":0,\"ticks\":\"\"}},\"type\":\"scatterpolar\"}],\"scatterpolargl\":[{\"marker\":{\"colorbar\":{\"outlinewidth\":0,\"ticks\":\"\"}},\"type\":\"scatterpolargl\"}],\"scatterternary\":[{\"marker\":{\"colorbar\":{\"outlinewidth\":0,\"ticks\":\"\"}},\"type\":\"scatterternary\"}],\"surface\":[{\"colorbar\":{\"outlinewidth\":0,\"ticks\":\"\"},\"colorscale\":[[0.0,\"#0d0887\"],[0.1111111111111111,\"#46039f\"],[0.2222222222222222,\"#7201a8\"],[0.3333333333333333,\"#9c179e\"],[0.4444444444444444,\"#bd3786\"],[0.5555555555555556,\"#d8576b\"],[0.6666666666666666,\"#ed7953\"],[0.7777777777777778,\"#fb9f3a\"],[0.8888888888888888,\"#fdca26\"],[1.0,\"#f0f921\"]],\"type\":\"surface\"}],\"table\":[{\"cells\":{\"fill\":{\"color\":\"#EBF0F8\"},\"line\":{\"color\":\"white\"}},\"header\":{\"fill\":{\"color\":\"#C8D4E3\"},\"line\":{\"color\":\"white\"}},\"type\":\"table\"}]},\"layout\":{\"annotationdefaults\":{\"arrowcolor\":\"#2a3f5f\",\"arrowhead\":0,\"arrowwidth\":1},\"autotypenumbers\":\"strict\",\"coloraxis\":{\"colorbar\":{\"outlinewidth\":0,\"ticks\":\"\"}},\"colorscale\":{\"diverging\":[[0,\"#8e0152\"],[0.1,\"#c51b7d\"],[0.2,\"#de77ae\"],[0.3,\"#f1b6da\"],[0.4,\"#fde0ef\"],[0.5,\"#f7f7f7\"],[0.6,\"#e6f5d0\"],[0.7,\"#b8e186\"],[0.8,\"#7fbc41\"],[0.9,\"#4d9221\"],[1,\"#276419\"]],\"sequential\":[[0.0,\"#0d0887\"],[0.1111111111111111,\"#46039f\"],[0.2222222222222222,\"#7201a8\"],[0.3333333333333333,\"#9c179e\"],[0.4444444444444444,\"#bd3786\"],[0.5555555555555556,\"#d8576b\"],[0.6666666666666666,\"#ed7953\"],[0.7777777777777778,\"#fb9f3a\"],[0.8888888888888888,\"#fdca26\"],[1.0,\"#f0f921\"]],\"sequentialminus\":[[0.0,\"#0d0887\"],[0.1111111111111111,\"#46039f\"],[0.2222222222222222,\"#7201a8\"],[0.3333333333333333,\"#9c179e\"],[0.4444444444444444,\"#bd3786\"],[0.5555555555555556,\"#d8576b\"],[0.6666666666666666,\"#ed7953\"],[0.7777777777777778,\"#fb9f3a\"],[0.8888888888888888,\"#fdca26\"],[1.0,\"#f0f921\"]]},\"colorway\":[\"#636efa\",\"#EF553B\",\"#00cc96\",\"#ab63fa\",\"#FFA15A\",\"#19d3f3\",\"#FF6692\",\"#B6E880\",\"#FF97FF\",\"#FECB52\"],\"font\":{\"color\":\"#2a3f5f\"},\"geo\":{\"bgcolor\":\"white\",\"lakecolor\":\"white\",\"landcolor\":\"#E5ECF6\",\"showlakes\":true,\"showland\":true,\"subunitcolor\":\"white\"},\"hoverlabel\":{\"align\":\"left\"},\"hovermode\":\"closest\",\"mapbox\":{\"style\":\"light\"},\"paper_bgcolor\":\"white\",\"plot_bgcolor\":\"#E5ECF6\",\"polar\":{\"angularaxis\":{\"gridcolor\":\"white\",\"linecolor\":\"white\",\"ticks\":\"\"},\"bgcolor\":\"#E5ECF6\",\"radialaxis\":{\"gridcolor\":\"white\",\"linecolor\":\"white\",\"ticks\":\"\"}},\"scene\":{\"xaxis\":{\"backgroundcolor\":\"#E5ECF6\",\"gridcolor\":\"white\",\"gridwidth\":2,\"linecolor\":\"white\",\"showbackground\":true,\"ticks\":\"\",\"zerolinecolor\":\"white\"},\"yaxis\":{\"backgroundcolor\":\"#E5ECF6\",\"gridcolor\":\"white\",\"gridwidth\":2,\"linecolor\":\"white\",\"showbackground\":true,\"ticks\":\"\",\"zerolinecolor\":\"white\"},\"zaxis\":{\"backgroundcolor\":\"#E5ECF6\",\"gridcolor\":\"white\",\"gridwidth\":2,\"linecolor\":\"white\",\"showbackground\":true,\"ticks\":\"\",\"zerolinecolor\":\"white\"}},\"shapedefaults\":{\"line\":{\"color\":\"#2a3f5f\"}},\"ternary\":{\"aaxis\":{\"gridcolor\":\"white\",\"linecolor\":\"white\",\"ticks\":\"\"},\"baxis\":{\"gridcolor\":\"white\",\"linecolor\":\"white\",\"ticks\":\"\"},\"bgcolor\":\"#E5ECF6\",\"caxis\":{\"gridcolor\":\"white\",\"linecolor\":\"white\",\"ticks\":\"\"}},\"title\":{\"x\":0.05},\"xaxis\":{\"automargin\":true,\"gridcolor\":\"white\",\"linecolor\":\"white\",\"ticks\":\"\",\"title\":{\"standoff\":15},\"zerolinecolor\":\"white\",\"zerolinewidth\":2},\"yaxis\":{\"automargin\":true,\"gridcolor\":\"white\",\"linecolor\":\"white\",\"ticks\":\"\",\"title\":{\"standoff\":15},\"zerolinecolor\":\"white\",\"zerolinewidth\":2}}},\"title\":{\"font\":{\"color\":\"#351f39\",\"family\":\"Courier New\"},\"text\":\"West Bengal : Party-wise Vote Share\"}},                        {\"responsive\": true}                    ).then(function(){\n",
              "                            \n",
              "var gd = document.getElementById('6c986827-8660-48e1-9ea0-d17ae91056cc');\n",
              "var x = new MutationObserver(function (mutations, observer) {{\n",
              "        var display = window.getComputedStyle(gd).display;\n",
              "        if (!display || display === 'none') {{\n",
              "            console.log([gd, 'removed!']);\n",
              "            Plotly.purge(gd);\n",
              "            observer.disconnect();\n",
              "        }}\n",
              "}});\n",
              "\n",
              "// Listen for the removal of the full notebook cells\n",
              "var notebookContainer = gd.closest('#notebook-container');\n",
              "if (notebookContainer) {{\n",
              "    x.observe(notebookContainer, {childList: true});\n",
              "}}\n",
              "\n",
              "// Listen for the clearing of the current output cell\n",
              "var outputEl = gd.closest('.output');\n",
              "if (outputEl) {{\n",
              "    x.observe(outputEl, {childList: true});\n",
              "}}\n",
              "\n",
              "                        })                };                            </script>        </div>\n",
              "</body>\n",
              "</html>"
            ]
          },
          "metadata": {}
        },
        {
          "output_type": "display_data",
          "data": {
            "text/plain": [
              "<Figure size 432x288 with 0 Axes>"
            ]
          },
          "metadata": {}
        }
      ]
    },
    {
      "cell_type": "markdown",
      "metadata": {
        "id": "us6hFircMdZJ"
      },
      "source": [
        "##**How people voted in Bengal?**"
      ]
    },
    {
      "cell_type": "code",
      "metadata": {
        "colab": {
          "base_uri": "https://localhost:8080/",
          "height": 451
        },
        "id": "X46FTadxMdmg",
        "outputId": "903d4a9f-3000-4cbc-c095-778fa8c2f311"
      },
      "source": [
        "# Create a dataframe containing the caste distribution of winners\n",
        "winner_caste_bengal = bengal_df[bengal_df['WINNER'] == 1].groupby('CATEGORY')['WINNER'].size()\n",
        "winner_caste_bengal_df= pd.DataFrame(data=winner_caste_bengal)\n",
        "winner_caste_bengal_df.reset_index(level=0, inplace=True)\n",
        "\n",
        "def education(data):\n",
        "    if data['EDUCATION'] in ['5th Pass', 'Others', 'Illiterate', 'Not Available']:\n",
        "        return 'Uneducated'\n",
        "    elif data['EDUCATION'] in ['Graduate', 'Doctorate', 'Post Graduate']:\n",
        "        return 'Highly Educated'\n",
        "    else:\n",
        "        return 'Educated'\n",
        "    \n",
        "bengal_df['Education Level'] = bengal_df.apply(education, axis=1)\n",
        "\n",
        "winner_edu_bengal = bengal_df[bengal_df['WINNER'] == 1].groupby('Education Level')['WINNER'].size()\n",
        "winner_edu_bengal_df= pd.DataFrame(data=winner_edu_bengal)\n",
        "winner_edu_bengal_df.reset_index(level=0, inplace=True)\n",
        "\n",
        "fig, axes = plt.subplots(nrows=1, ncols=2, figsize=(15,7))\n",
        "winner_caste_bengal_df.plot(kind='bar',color = 'goldenrod', ax=axes[0], alpha=0.75, rot=0, legend=False, title='West Bengal: Caste of winning candidates', x='CATEGORY')\n",
        "winner_edu_bengal_df.plot(kind='bar',color = 'red', ax=axes[1], alpha=0.75, rot=0, legend=False, title='West Bengal: Education of winning candidates', x='Education Level')\n",
        "plt.savefig('WestBengal_CasteXEducation.png')"
      ],
      "execution_count": null,
      "outputs": [
        {
          "output_type": "display_data",
          "data": {
            "image/png": "[encoded data removed]",
            "text/plain": [
              "<Figure size 1080x504 with 2 Axes>"
            ]
          },
          "metadata": {
            "needs_background": "light"
          }
        }
      ]
    },
    {
      "cell_type": "markdown",
      "metadata": {
        "id": "rj1cPCVadHYQ"
      },
      "source": [
        "##**Names of Winners who dominated in resp cities**"
      ]
    },
    {
      "cell_type": "code",
      "metadata": {
        "colab": {
          "base_uri": "https://localhost:8080/",
          "height": 855
        },
        "id": "nD757gCXhj5w",
        "outputId": "0c837aa3-d990-4fe2-f79c-9bea3db16b1d"
      },
      "source": [
        "begusarai_df = dataset[dataset['CONSTITUENCY'] == 'BEGUSARAI'][['NAME','TOTALVOTES']]\n",
        "bangalore_df = dataset[dataset['CONSTITUENCY'] == 'BANGALORE SOUTH'][['NAME','TOTALVOTES']]\n",
        "wayanad_df = dataset[dataset['CONSTITUENCY'] == 'WAYANAD'][['NAME','TOTALVOTES']]\n",
        "bhopal_df = dataset[dataset['CONSTITUENCY'] == 'BHOPAL'][['NAME','TOTALVOTES']]\n",
        "\n",
        "fig, axes = plt.subplots(nrows=2, ncols=2, figsize=(15,15))\n",
        "begusarai_df.plot(kind='bar',color = 'turquoise', ax=axes[0,0], alpha=0.75, rot=0, legend=False, title='Battleground Begusarai', x ='NAME')\n",
        "bangalore_df.plot(kind='bar',color = 'salmon', ax=axes[0,1], alpha=0.75, rot=0, legend=False, title=\"Battleground Bangalore South\", x ='NAME')\n",
        "wayanad_df.plot(kind='bar',color = 'magenta', ax = axes[1,0], alpha=0.75, rot=0, legend=False, title='Battleground Wayanad', x ='NAME')\n",
        "bhopal_df.plot(kind='bar',color = 'chartreuse', ax = axes[1,1], alpha=0.75, rot=0, legend=False, title=\"Battleground Bhopal\", x ='NAME')\n",
        "plt.savefig('Domination.png')"
      ],
      "execution_count": null,
      "outputs": [
        {
          "output_type": "display_data",
          "data": {
            "image/png": "[encoded data removed]",
            "text/plain": [
              "<Figure size 1080x1080 with 4 Axes>"
            ]
          },
          "metadata": {
            "needs_background": "light"
          }
        }
      ]
    },
    {
      "cell_type": "markdown",
      "metadata": {
        "id": "WUCy7z-Fjq-3"
      },
      "source": [
        "\n",
        "***Begusarai (Bihar):*** The Begusarai constituency, which is among the most talked about seats in Bihar, recorded a comparatively high turnout of 61.27%, as per the EC. The constituency has been under a microscope as it is witnessing the electoral debut of CPI candidate Kanhaiya Kumar, the controversial former JNUSU president who is pitted against BJP leader and union minister Giriraj Singh. The Mahagathbandhan's nominee is Tanweer Hasan (RJD)"
      ]
    },
    {
      "cell_type": "markdown",
      "metadata": {
        "id": "rU7CfMcajy56"
      },
      "source": [
        "***Bangalore South (Karnataka)***: The saffron bastion will see BJP's Tejasvi Surya take on Congress’ BK Hariprasad. After the untimely death of BJP leader and union minister Ananth Kumar who had held the constituency since 1996, BJP has fielded a young face in Tejasvi Surya. The late Ananth Kumar had beaten Infosys co-founder Nandan Nilekani, then a Congress candidate, in 2014."
      ]
    },
    {
      "cell_type": "markdown",
      "metadata": {
        "id": "hahT7BOfjzKv"
      },
      "source": [
        "***Wayanad (Kerala)***: Congress chief Rahul Gandhi contesting from this constituency apart from Congress' bastion in Amethi has made the relatively new seat becoming a national talking point. Against him are PP Suneer of CPI(M) and Thushar Vellappally of Bharath Dharma Jana Sena (an ally of BJP). Interestingly, Congress chief will be fighting with three namesakes: two Independent candidates, K.E. Rahul Gandhi and K.M. Shivprasad Gandhi, and K. Raghul Gandhi of the Agila India Makkal Kazhagam party."
      ]
    },
    {
      "cell_type": "markdown",
      "metadata": {
        "id": "7-KG0Hl-jzPr"
      },
      "source": [
        "***Bhopal (Madhya Pradesh)***: A BJP bastion, this constituency has taken centrestage ever since the BJP fielded Malegaon blast-accused Sadhvi Pragya from the seat against Congress veteran Digvijaya Singh. Singh has been CM of Madhya Pradesh and is contesting an election after a gap of almost 19 years, the last being the assembly election he contested in 2003. He was nominated to the Rajya Sabha in 2014 from Madhya Pradesh. The BJP however has consistently been winning the seat of Bhopal since 1989. BJP's Alok Sanjar is the sitting MP from the Bhopal Lok Sabha seat. What makes the contest especially interesting, however, is the fact that Digvijaya Singh was one of the most significant proposers of 'Saffron terror/Hindu terror' which cited the Malegaon blasts among others."
      ]
    },
    {
      "cell_type": "markdown",
      "metadata": {
        "id": "MBThCVNfd6WJ"
      },
      "source": [
        "##**Naming parties with less than 10 candidates**"
      ]
    },
    {
      "cell_type": "code",
      "metadata": {
        "colab": {
          "base_uri": "https://localhost:8080/"
        },
        "id": "VhbD23Ydi-XX",
        "outputId": "1b0fe950-35b2-4bf6-86c1-3d97b8994371"
      },
      "source": [
        "# Labeling parties with less than 10 candidates as others\n",
        "less_candidates = []\n",
        "for i, j in dataset['PARTY'].value_counts().items():\n",
        "    if j <= 10:\n",
        "        less_candidates.append(i)\n",
        "len(less_candidates)\n",
        "\n",
        "def small_party(data):\n",
        "    if data in less_candidates:\n",
        "        return 'Other'\n",
        "    return data\n",
        "dataset['PARTY'] = dataset['PARTY'].apply(small_party)\n",
        "dataset['PARTY'].value_counts()"
      ],
      "execution_count": null,
      "outputs": [
        {
          "output_type": "execute_result",
          "data": {
            "text/plain": [
              "BJP       420\n",
              "INC       411\n",
              "Other     247\n",
              "IND       193\n",
              "BSP       161\n",
              "CPI(M)    100\n",
              "VBA        47\n",
              "AITC       47\n",
              "SP         39\n",
              "MNM        35\n",
              "NTK        34\n",
              "SHS        26\n",
              "TDP        25\n",
              "AAP        25\n",
              "YSRCP      25\n",
              "DMK        23\n",
              "AIADMK     21\n",
              "NCP        21\n",
              "BJD        21\n",
              "RJD        21\n",
              "JnP        19\n",
              "JD(U)      18\n",
              "TRS        17\n",
              "Name: PARTY, dtype: int64"
            ]
          },
          "metadata": {},
          "execution_count": 34
        }
      ]
    },
    {
      "cell_type": "code",
      "metadata": {
        "colab": {
          "base_uri": "https://localhost:8080/",
          "height": 275
        },
        "id": "QuRire9rjt2c",
        "outputId": "2bc40bbe-7702-447c-bb81-c7045792fa46"
      },
      "source": [
        "X = dataset.drop(['NAME', 'SYMBOL', 'WINNER', 'GENERALVOTES', 'POSTALVOTES', 'TOTALVOTES', 'OVER TOTAL ELECTORS IN CONSTITUENCY', \n",
        "             'OVER TOTAL VOTES POLLED IN CONSTITUENCY', 'Party New', 'CONSTITUENCY'], axis=1)\n",
        "y = dataset['WINNER']\n",
        "X.head()"
      ],
      "execution_count": null,
      "outputs": [
        {
          "output_type": "execute_result",
          "data": {
            "text/html": [
              "<div>\n",
              "<style scoped>\n",
              "    .dataframe tbody tr th:only-of-type {\n",
              "        vertical-align: middle;\n",
              "    }\n",
              "\n",
              "    .dataframe tbody tr th {\n",
              "        vertical-align: top;\n",
              "    }\n",
              "\n",
              "    .dataframe thead th {\n",
              "        text-align: right;\n",
              "    }\n",
              "</style>\n",
              "<table border=\"1\" class=\"dataframe\">\n",
              "  <thead>\n",
              "    <tr style=\"text-align: right;\">\n",
              "      <th></th>\n",
              "      <th>STATE</th>\n",
              "      <th>PARTY</th>\n",
              "      <th>GENDER</th>\n",
              "      <th>CRIMINALCASES</th>\n",
              "      <th>AGE</th>\n",
              "      <th>CATEGORY</th>\n",
              "      <th>EDUCATION</th>\n",
              "      <th>ASSETS</th>\n",
              "      <th>LIABILITIES</th>\n",
              "      <th>TOTAL ELECTORS</th>\n",
              "    </tr>\n",
              "  </thead>\n",
              "  <tbody>\n",
              "    <tr>\n",
              "      <th>0</th>\n",
              "      <td>Telangana</td>\n",
              "      <td>BJP</td>\n",
              "      <td>MALE</td>\n",
              "      <td>52</td>\n",
              "      <td>52.0</td>\n",
              "      <td>ST</td>\n",
              "      <td>12th Pass</td>\n",
              "      <td>3099414</td>\n",
              "      <td>231450</td>\n",
              "      <td>1489790</td>\n",
              "    </tr>\n",
              "    <tr>\n",
              "      <th>1</th>\n",
              "      <td>Telangana</td>\n",
              "      <td>TRS</td>\n",
              "      <td>MALE</td>\n",
              "      <td>0</td>\n",
              "      <td>54.0</td>\n",
              "      <td>ST</td>\n",
              "      <td>Post Graduate</td>\n",
              "      <td>18477888</td>\n",
              "      <td>847000</td>\n",
              "      <td>1489790</td>\n",
              "    </tr>\n",
              "    <tr>\n",
              "      <th>2</th>\n",
              "      <td>Telangana</td>\n",
              "      <td>INC</td>\n",
              "      <td>MALE</td>\n",
              "      <td>3</td>\n",
              "      <td>52.0</td>\n",
              "      <td>ST</td>\n",
              "      <td>12th Pass</td>\n",
              "      <td>36491000</td>\n",
              "      <td>15300000</td>\n",
              "      <td>1489790</td>\n",
              "    </tr>\n",
              "    <tr>\n",
              "      <th>4</th>\n",
              "      <td>Uttar Pradesh</td>\n",
              "      <td>BJP</td>\n",
              "      <td>MALE</td>\n",
              "      <td>5</td>\n",
              "      <td>58.0</td>\n",
              "      <td>SC</td>\n",
              "      <td>Doctorate</td>\n",
              "      <td>74274036</td>\n",
              "      <td>8606522</td>\n",
              "      <td>1937690</td>\n",
              "    </tr>\n",
              "    <tr>\n",
              "      <th>5</th>\n",
              "      <td>Uttar Pradesh</td>\n",
              "      <td>BSP</td>\n",
              "      <td>MALE</td>\n",
              "      <td>0</td>\n",
              "      <td>47.0</td>\n",
              "      <td>SC</td>\n",
              "      <td>Post Graduate</td>\n",
              "      <td>133784385</td>\n",
              "      <td>22251891</td>\n",
              "      <td>1937690</td>\n",
              "    </tr>\n",
              "  </tbody>\n",
              "</table>\n",
              "</div>"
            ],
            "text/plain": [
              "           STATE PARTY GENDER  ...     ASSETS  LIABILITIES TOTAL ELECTORS\n",
              "0      Telangana   BJP   MALE  ...    3099414       231450        1489790\n",
              "1      Telangana   TRS   MALE  ...   18477888       847000        1489790\n",
              "2      Telangana   INC   MALE  ...   36491000     15300000        1489790\n",
              "4  Uttar Pradesh   BJP   MALE  ...   74274036      8606522        1937690\n",
              "5  Uttar Pradesh   BSP   MALE  ...  133784385     22251891        1937690\n",
              "\n",
              "[5 rows x 10 columns]"
            ]
          },
          "metadata": {},
          "execution_count": 35
        }
      ]
    },
    {
      "cell_type": "markdown",
      "metadata": {
        "id": "0uNn4DkSeIUg"
      },
      "source": [
        "##**Installing & Importing Tabulate Package/Module**"
      ]
    },
    {
      "cell_type": "code",
      "metadata": {
        "colab": {
          "base_uri": "https://localhost:8080/"
        },
        "id": "N-tNAhwunbi_",
        "outputId": "f4fa7957-c93a-4571-a600-8806e8adde2c"
      },
      "source": [
        "#Tabulate is an open-source python package/module which is used to print tabular data in nicely formatted tables.\n",
        "!pip install tabulate "
      ],
      "execution_count": null,
      "outputs": [
        {
          "output_type": "stream",
          "name": "stdout",
          "text": [
            "Requirement already satisfied: tabulate in /usr/local/lib/python3.7/dist-packages (0.8.9)\n"
          ]
        }
      ]
    },
    {
      "cell_type": "code",
      "metadata": {
        "id": "Nh0Y9G2lneFi"
      },
      "source": [
        "from tabulate import tabulate"
      ],
      "execution_count": null,
      "outputs": []
    },
    {
      "cell_type": "code",
      "metadata": {
        "id": "rhlKbyUlmWI4"
      },
      "source": [
        "z = [dataset['STATE'], dataset['NAME'], dataset['WINNER']]"
      ],
      "execution_count": null,
      "outputs": []
    },
    {
      "cell_type": "code",
      "metadata": {
        "colab": {
          "base_uri": "https://localhost:8080/"
        },
        "id": "PnwpomHpn1PI",
        "outputId": "c6e41010-551c-48cb-a3ae-75b97d60552a"
      },
      "source": [
        "print(tabulate(z))\n",
        "#format -->\n",
        "#----------------\n",
        "#State\n",
        "#Name\n",
        "#Winner Status\n",
        "#----------------"
      ],
      "execution_count": null,
      "outputs": [
        {
          "output_type": "stream",
          "name": "stdout",
          "text": [
            "--------------  ------------  -------------  ---------------------  ----------------  -------------  ---------------------------------  -----------------------  ---------------------  --------------------------  -------------  --------------------  -----------  ------------------------------  -------------------  -----------------  ---------------  ------------  ----------------------  -------------  -------------  ---------------------  -------------------------------  -------------------------------  --------------  -------------------  -----------------------  -------------  ------------  --------  -------------------  -----------------  ------------------------  -----------  --------------  -----------  -----------------  -------------------  --------------------  -------------  ----------------------  -----------  -------------  -----------------------  ----------  ----------------------  ----------  ---------------  ------------------------------  --------------  ------------------  -------  ------------  -------  -------------  -------------  -------------  -------------  -------------  ----------------  ----------------------  ---------------  -----------------------  -------------------------------  --------------  --------------------------  -------------------  ------------------  ---------------------  --------------  -----------------  -------------------  ----------------  ------------------------------  -----------------  -----------------------  -----------------------------------------------  ----------------------------------  -----------------------------  -------------  --------------------------------  ------------------  -----------------------  ---------------  ----------------  --------------  --------------  ---------------  ----------------  ---------------  ---------------  ---------------  ---------------  -------------------------  -------------------------  -------------------------  -------------------------  -------------------------  ------------------  -------------  ---------------------  ------------------  ------------  --------------  --------------  -------------  --------------------------  ---------------  -----------------  ----------------  -----------------  ----------  --------------  -------------  ----------  -------------------  -------------  -----------  ----------  --------------  ---------------  ----------------  -------------------  -------------------  ------------------------------------------------------------  ----------------------  ----------------  -----------------  -----------------  -----------------  -----------------  -----------------  -----------------  -----------------  -----------------  -----------------  -----------------  -----------------  -------------  -------------  -------------------  ---------------  --------------  --------------  -------------------  ------------------  ------------------  --------------  --------------  ------------------  ------------------  ------------  --------------  ------------------  ---------------------------------  -------------------------  ---------------------  -------------------  -------------------  -------------  ------------  -----------  --------------  -----------------  ------------------  --------------  -----------  --------------  ------------------------  ---------------------  ----------------  ---------------------  --------------------------------------  -------------------  ------------------  ----------------  ----------------------  ---------------------  ----------------  ------------  -----------  -------------  ---------------  -----------------  -------------------  --------------  --------------  ----------------  ----------------------  -------------------  -----------------  --------------  --------------  -------------  ----------------  ------------  ------------  ------------------  -------------------------  ---------------------------  ------------------------  -------------------------  ---------------------------  ----------------  -------------------  --------------  -------------  -----------  -------------  -----------  --------------------  -----------------  -----------  -------------------  ---------------------------  -------------  --------------  ---------------  -------------  -----------  -------------  ---------------  -------------------------  ------------  ---------------  ----------------  -------------  ---------------  -----------------  -----------------  -----------  -----------  --------------  -------------  ---------------  -----------------  -------------  ---------  ------------  ---------------  ---------------  --------------  --------------  -------------------  ---------------  -------------  ------------  ------------------  -----------------  -------------------  ---------------  ---------------  -----------------  ---------------------  ----------------  ----------------------  ------------------------  --------------------  ---------------  -------------  -------------  ---------------------  -------------------  -----------------  ------------------  ------------------  -----------------  -------------------  ---------------------------  -------------------------------------  ---------------------  ---------------------  ------------------  -------------  ----------------  -------------------  -----------------  ---------------  --------------------  --------------  ----------------  -------------  -----------------  -----------  --------------  ----------------  -----------  -----------------  -------------  -----------------  ---------------  ------------  -----------------  ---------------  -----------------  -------------  ------------------  ----------------  -----------------------------------  --------------------  ----------------  -------------------  --------------------  ---------------------------  --------------------  --------------------  ------------------------  -----------------------  ------------------  ----------------------  -------------  --------------  ------------------  -------  ---------------------------  -------------  --------------  -------------  -------------------  ----------------  ---------------------  ----------------------  ---------------------  --------------  -------------  ---------------  -------------  ----------------  --------------  ---------------  -----------------  --------------------------------  --------------------  -----------------------  ---------------------------  -----------  -----------------------  -------------  --------------------  -------------------  -----------------------------  --------------------------  --------------------------  ------------------------------------------  ------------------------------  -----------------------------------  -----------------------  --------------  --------------  ------------------  --------------  --------------  --------------  ---------------------  -----------------------  -----------------------  -----------------------  -----------------------------  ---------------  -----------  ----------------  -------------------------  -----------------------  ---------------------  ---------------  ----------------  --------------------------  ---------------  -----------------  ------------------  -------------  ---------------  -----------------  ------------  ---------------------------  --------------------------  -------------------------  ------------------------  -------------  ----------------------  -------------------  -----------------  -------------------  ----------  ------------  ---------------  ---------------------  -----------  -----------------  ------------  ------------  ------------  -------------  --------------  -----------  --------------------  -------------------------  --------------------------  -----------------  ----------  --------------  -------------  ----------------  ------------  --------------  -------------  -------------  -------------  --------------------------  -------------------------------  ------------------------  ---------------------  ----------------  ------------------  --------------------------------  -------------  --------  -----------------  ------------------  -----------------  ---------------  ------------------------  --------------------  ------------------  -------------  -----------  ------------------  ---------------  -------------  -------------  -------------------  ------------------  ---------------------------------------  ---------------------  --------------------------------  -----------------  -----------------  --------------------  -----------  ----------------  --------------  --------------  -------------  ---------------  --------------  --------------  -----------------  ------------------------------  ------------------------  -----------------------  ------------  ------------  -------------------  ---------------------------------------  ----------------  ------------  -----------  -----------------------------  --------------------  -----------------------  ------------------  ----------------  ------------------  -------------------  -------------------  ---------------------------  ----------------------------  ----------------------------  --------------------  --------------  ------------  ----------  ---------------  ----------------  -------------------  -------------  -----------------------  -----------------------  -------------------------  ---------------  --------------  --------------  ---------------------  ------------------  --------------  ---------------------  ---------------------  ------------  ----------------  -------------  ----------  --------------  ------------------  ------------  -------------------  ----------------  ---------------  -----------------------  -------------------  ------------------  ------------------  ------------------  ------------  ----------  ------------  ------------------  --------------  -----------------  --------------------------  ------------------------  --------------------  ----------------------  --------------------  --------------------  ------------------------------  -------------------------  --------------------------  ----------------------------  ------------------  ------------  ---------------  -----------------------  ---------------------  ------------------------  --------------------  --------------  -------------------  ----------------  -------------------  ----------  -----------  -----------  --------------  --------------  ------------  ------------  -------------  ------------  ------------------------  --------------  ------------  ---------------------  ----------------------  ---------------------  ----------------  --------------------  ----------  -------------------  --------------  -------------------------  --------------------  -----------------  ---------------  ---------------  -------------  -------------  --------------  -------------  ----------------------  --------------------  ------------  ------------------  ------------------------------  ---------------  ----------------  -----------  ---------------------  -----------------------  ----------------------  -----------------  ------------  --------------  ---------------  -------------  --------------------  ------------  ----------------  ------------------  ------------------------  -----------------------  -----------------  ---------------  --------------  -------------  ----------------------------------------  -----------  ------------------  ---------------------  -----------  -----------  -----------  -----------------  --------------  ------------  -----------  ------------  ------------------  ----------------  --------------  ---------------------  ------------  ------------  ----------------  ------------------------------  -------------------  ---------  --------  --------------------  ---------------  -----------  ---------------  -----------------  ----------------  ---------------------------  ------------------------  -----------------------  -------------  ------------------  -------------  -------------  -------------  -----------  -------------------  ------------  ----------------  -------------------  -----------------  -------------------  -------------  -------------  ---------------  ----------  ------------------  ------------------------  -------------  --------------  --------------------  -------------  ---------------  -------------  -------------------  ---------------------  -------------  -------------------  -------------------  ------------------  -------------------------  ---------------  ---------------------  -------------------------  -------------------------------  -------------------------  ----------------------  ---------  ----------------  -----------  ------------------  ---------  ------------------  ---------------  ---------  ---------------  -----------------  -----------------  -------------  ----------------------  -----------  ----------------  ---------------------  ------------  ------------------  ----------------  -----------  -------------------  ---------------  -----------  ------------  ---------------------  -------------  -------------  --------------------------------  -----------------  -------------  -------------  -------------  -------------  -------------  ---------------------  ----------------  -------------  -------------  -------------  ----------------  -------------------------  ---------------  ---------------  -------------  ------------  -----------  --------------  -------------------------------------  ------------------------------  -----------------  --------------------  ------------  ------------------  ---------------  ------------  ------------------  ----------------------------------------------  ---------------  -------------------  ------------------  ------------------  -----------------------------------  -----------------------  -----------------------------  --------------  -------------------------  -----------------------------------------------------  ----------------  ----------  ------------  -----------  ---------------------  ------------------  ----------------  --------------------  ------------------------  --------------  ---------------------------  ----------------------  ----------------  --------------  -------------  ---------  -------------  -------------------  -------------------------------  -----------------  ----------------  -------------------------  -----------------  -------------  -------------  --------------  --------------------------  -------------  ------------------  ---------------  ---------  ------------  -------------  ---------------  -------------  -----------------------------  ----------------  -----------------------  -----------  ----------  ------------  -----------------  ------------------------  --------------------  --------------  ----------------------  -------------------  -------------------------------------------------  -------------------  ------------  ---------------------------  ----------------------  -------------------------  ---------------  -----------------  --------------  ---------------  -----------------  ------------------  -----------  -------------------  -----------------  ----------------------------------  --------------  -----------  -----------------------  ----------  ----------------  ---------------  -----------------  ----------------  -----------  ----------------  ------------------  ---------------  -------------------  -------------------  -----------------  -------------  ---------------  --------------  ------------------------  -----------------------  ----------------------  -------------------------------  ----------  --------------  ------------------------  --------------  ----------------  ------------  ---------------------------  -----------------  ------------------  ---------------  ------------------  ---------------------  ----------  ----------  ----------------  -----------  ------------  ---------------  ----------------  -------------------------  --------------  ---------------  -------------------  ----------  -----------------------  ---------------------  ---------------  --------------------------  ------------------------  -------------------  --------------  -----------------  -------------------------  -----------------------  ------------------------  ----------------------  ----------------------  --------------------------  ------------  ------------  ---------------------  --------------------  ---------------------  -----------------  ---------------  ---------------  --------------------------  -----------------------------  -------------------  -------------  -------------------  ----------------  --------------  --------------  ------------  ----------------  -------------  -----------------  ----------------  ----------------  ----------------  ----------------------  ---------------  -----------------  -------------------------  ---------------  --------------  -----------------  -------------  -----------------  ------------  --------------  -------------  --------------  -----------  ----------------------  ---------------------  -----------------  -----------  -------------  ------------------  -------------  -------------  -------------  ---------------  ----------------  --------------  ---------------------------  ------------------------  --------------  -----------------  ------------------  -----------  ------------------------------  -------------------------  ----------------------  ----------------------  ---------------------------  -----------------  ------------------------------  -------------  --------------  --------------------  -----------------------  --------------------  ---------------------  --------------------  -------------------------  -------------------  -------------------  -----------------  --------------  --------------  ------------  -------------------  ---------------  --------------------  -----------  ----------------  ----------  --------------------------  --------------------  -------------  ---------------------  ----------  ------------  -------------  ----------  --------------------  -----------------------------------  -------------------  ----------------  ----------------  -------------  -------------  -------------  -------------  ----------------  ----------------  -----------  -------------  -------------  -----------------------  -----------------  -----------------  ------------------  -------------  --------------  -------------------  -------------------  ---------------  --------------  ----------------  --------------  ------------------  ----------------------  ------------  -------------  ------------  ---------  ----------------  -----------------  ----------  ------------------  -----------------------  ----------------  --------------------  -------------  -------------  -------  ----------------------  --------------  -----------  -------------  ------------  ---------------  --------------  -----------------  ---------------------  -----------------------  ---------------------  -----------  ------------------  ---------------  ---------------------  -------------  ---------------  ---------------  -----------------  ---------------  ------------  -------------------  -------------------------  ---------------  --------------------  ---------------------  ----------------------------  -------------  -----------------  ------------------  ----------  --------------------  -------------------  --------------------------------  ------------------------------  ----------------  ----------------  ----------------  -----------  -------------------  --------------------  ---------------------------  --------------------------------------  --------------------------  ---------------------------  --------------------------  -------------------------  --------------------------  ----------------  ----------------  ----------  -------------  ---------------  ---------------  --------------  -----------  -----------------  ---------------  ----------  ------------------  -------------------  -------------  ------------------  -------------  ----------------  ---------------  --------------  ------------------  -------------------  ------------------  ---------------  ----------  ------------  --------------  --------------------------  -----------------  --------------------  -----------  ------------------  -----------------  ----------------  -------------------  ----------------------  ---------------------  ----------------  -----------------  -------------  ------------  ------------------------  -----------------------------  ----------------------  ---------------  -------------  --------------  --------------  --------------  -----------------  ------------------------  ----------------  --------------------------  ------------  -------------------  ---------  ---------------  ------------------  ------------  ---------------  ------------  ---------------  ----------------  ----------------  ------------  ----------------  ------------------------  ------------  --------------  ------------  --------------  -----------------------------  ------------------------------  --------------  -------------------------  -------------------  -----------  ------------  -------  -----------------------  --------------------  -----------------  -------------------------------------------  ------------------------------------  -----------------------  ---------------  ------------------  ---------------  -------------  --------------  -----------  ------------------  ----------------  -----------------------  -------------  -------------  ----------------------  -------------------  --------------------------  ----------------------------  -----------  ----------------  --------------  -------------  ------------  ------------  ---------------  -------------  -----------------------  -----------------------  -------------------  ---------------------  ------------------------  ------------------------  ----------------------  ---------------------  -------------  -----------------------  ----------------------  ---------------------  -------------------------------------  ----------------------------  ------------------  --------------------  --------------------  ------------  ---------------------------  ---------------  -----------------  -----------------  --------  ----------------  ---------------  ------------  ----------------  -----------------  ----------  ------------  ---------------  -------------------  ------------------  --------------------------  ---------------  -----------------  ------------  ----------------  -------------------------  -------------------  -------------  ----------------  --------------------------------  ------------------  -----------------------  ---------------  --------------  ------------------------------  --------------------  ---------  -------------------------  ------------------------  -----------  -------------------  -----------------  -----------------  ---------  ------------  ------------------  -------------------------------  ------------------------  -------------------  ------------  -----------  -------------------  ---------------  ---------------------  ----------------------  -------------------------  -------------------------  ------------------  ----------------  ------------------  --------------------  ------------------  -------------------  ---------------------  -------------------  --------------  -------------------  -------------------  ------------------  ----------------  ------------  ------------------  ---------------------  -------------  ---------------------  -------------  ---------------------  -------------------  ------------------------  ----------------  --------------------------  ----------------  ---------------------  -----------------  -------------------  ------------------  -------------  -----------  ---------------  -------------  -------------  ---------------  ------------------  ------------  -------------  ---------------------  ---------------  --------------------------  ------------------------  --------------------  ---------------  -----------  -------------------  -------------  ------------------------  ----------------  --------------------  ----------------  --------------------  ------------------  ----------------------  -----------------  -----------------  ------------------  -------------  ------------  ------------------  --------------  -----------------  -----------------------  ---------------  -------------  ---------------  --------------  --------------------  -----------------  --------------------  --------------  --------------------  ------------  ----------------  ---------------------  --------------  ----------------  --------------------  -----------  -----------------  ---------------------------------  ----------------  --------------  --------------------  --------------------  ------------------  --------------  --------------------  -----------------  ---------------------  -------------------------------  ------------------------------------  ----------  -------------  --------  -----------  -------------------------  ----------------------  --------------  ---------------------------------  -------------  ----------------  --------------------  -------------  -----------  ---------------------  --------------  ----------------  -------------  -----------------  -----------------------------  --------------------  -------------------  ----------------  ------------------  ----------------  ----------  ----------------  ----------  -----------  ----------  ----------  ----------  -----------------  -------------  -------------------------------------  ---------  ----------------  ---------------  ----------------  --------------  --------------  ------------------  -------------  --------------------  -----------  --------------  --------------------------------------  -----------  ------------  -------------------  -----------------  ----------------  ---------------  ----------------  ------------  -------------  --------------------------  -------------------------  -------------------------  -----------  -------------  -----------  ----------  ------------  --------------  ---------------------------  -----------------------  -------------------------  --------------------------  -----------------  ------------------------  ---------------------------  -------------------------  ----------------------  --------------  -------------------------------  ---------------------------  ---------------------  -----------------  ----------------------  --------------------------------  -------------------------------------  -----------------  -----------------  -------------------------  --------------------  --------------------  -------------------------------  -----------------------  -----------  ---------------------------  -------------  ----------  ------------  ----------------  ----------------------  -----------------  -----------------  ----------------  ------------  -------------  ----------  ----------------  ---------------  -------------  -----------------  -------------------  -----------------  ------------  --------------  ------------  -------------  ------------------  ---------------------  ---------------------  -------------  ------------  ---------------  ----------------  ----------------  --------------------------  -----------------  -------------------  ----------------------------------------------  --------------------------------  -------------------  --------------  ---------------------  --------  -------------------  ------------  --------------  ----------  --------------  ----------------  ----------  --------------  ----------  -----------  -------------  --------------  ---------------------  --------------------  ----------------------  -------------------  --------------------  ---------------  ---------------  --------------------------  --------------------------  ------------------------------  -----------------------  ------------------  ---------------------  ------------------  ----------------------  ------------  ------------------  ----------------  ------------  --------------  ----------------------------  --------------  -----------  ------------  -----------  ------------  -------------------  ------------------  ------------  -------------------  ----------------  --------------------------  ------------------  ---------  ----------------  -----------------  ---------------------  --------------  -----------  ---------------  ------------------  --------------  -------------  -------------------  -------------  --------------------  ------------  -------------  ----------  -------------  ----------------------  ------  ----------------  ----------  ---------------------------  ------------  ---------------------------  ----------------  --------------  ---------------------  ----------------------------------  ----------------  ------------------------  ---------------------  ------------------------  -----------  -------------------  ------------  ---------------  -------------------  -------------  ----------------------------  ---------------------  ------------  -------------  ----------------------  -------------------  ------------  ----------------  -----------------  ------------  -----------  -------------  -----------------  -------------  -------------------  ---------------------  ---------  ----------------------  -----------------------  -----------  ------------------  ----------------------  ------------------  -----------------  -----------  --------------  ------------  --------------------  --------------  ----------------  ------------  --------------  --------------  -------------------  ----------------------------  ----------------  -----------------  --------------  -----------------------  --------------  --------------  -------------------------------  -------------------  ------------  -------------------  ------------  -----------  ------------  -------------  --------------  --------------  --------------------  -----------  ------------------  ---------  ----------------------  ------------  -----------------  --------------------  ---------------  -------------  ------------------  ----------------  -------------  --------------------  -------------------------  --------------------------  --------------------------------  ----------------  -------------  -----------  -------------  -----------  -----------------  -------------------  -----------------  ---------------  ---------------  ------------  -------------------  -------------------------------------  -----------------------  ----------------------  ------------------------  --------------------  ----------------------  -----------------------  ---------------  ----------------------  ------------------  ---------------------  ---------------  -------------  -------------------------  -------------------  ---------------------  -------------  -------------------  ---------------------  ------------------  --------------------  --------------------------  ----------------------------  ------------------------  ----------------  -------------------  --------------  ------------------  ----------------  -------------  -------------  ---------------  -------------------  ----------  ----------  -------------  -------------  -------------  -------------------  -----------------  ---------------  --------------  ---------------  ---------  -------------  ---------------  ----------------  --------------------  ----------------  ------------------------  ---------------------  ---------------------  ----------------  ------------------------  --------------------------  -------------  -------------------  -----------------------  --------------------  -------------------  --------------------  ----------------  ------------------  -----------------  -------------  -----------  ---------------  -------------------  --------------  --------------  ------------  -------------  -----------  -----------  ------------  --------------------------------------------------  ------------------------  ----------------------  --------------  ----------------  -------------------  ----------------  ------------------------  --------------------  ----------------  --------------  --------------  ------------------  ----------------  ------------------  ----------------  -------------------  -------------------  ---------  ---------------  -----------------  ----------------  -----------  ----------------  -------------------  -----------------  ---------------  --------------  --------------  --------------------  -----------------  ----------------  -----------------  -----------------------  ------------------------  ---------------------  ---------------------------  --------------------------  -------------------  ----------------------  --------------------------  -----------  -------------  -------------  ----------------------  -------------  --------------  ----------------  ------------------  --------------  --------------------------  ---------------------  ---------------  ---------  ----------------  ------------------  ---------------------  --------------  -----------  ------------  ----------  -------------  ------------  -------------------  ------------------  ----------  -------------  ------------  ------------------  ---------------------  ---------------  -----------------  ---------  ----------------  ---------  -------------------  -------------------  -------------  -------------  -------------  -------------------  ----------  --------------  ----------------  -------------  ------------  -----------  ---------------  ------------------  --------------  ---------------------------------------------------------  ------------------------------  -------------------------  ----------------------  ---------------------  -----------------------  --------------  --------------  -------------  ------------  ---------------  --------------------------------  ----------------------  -----------  ---------------  -------------  --------------  ----------------  -------------------------  ----------------  --------------  --------------  ---------------  ---------------  -----------------  ----------------------  ----------  --------------  ----------  -----------  --------------------  --------------------  ----------------------------  ---------------  -------------  ---------  -------------  -------------  -----------------  ----------------  --------------  -------------------  -------------------------------  ----------------  ------------  -------------------  ------------------  -----------------------  ----------------------  --------------------------  ----------------------------  ----------------------------  --------  -----------------  -----------------------  --------------  ---------------------  ---------------------  ------------  -----------  ---------------  ----------------  ------------  --------------  --------------  -----------------  --------------  ----------------  ---------------------  ----------------------  ---------------------------  -------------------  ---------------  -------------  ---------------  ------------  ----------------  ----------------------  -------------------  -------------  -----------------  --------------  --------------  ------------  ------------  ----------  --------------  ------------------  ---------------------  ------------  ---------------------  ---------------------------  ---------------------  --------------------------  -------------------  ---------------  --------------------  -----------  -----------------  --------------  --------------  ---------------------  ---------------  -----------------------  ----------  --------------  ----------------  ------------------  ------------------  ----------  ------------  ----------------------  ----------------  --------------  -----------------------------  -----------------  --------------  ---------------  -------------------  ------------  --------------  -------------  ----------------------  ------------  ------------  ----------  ------------------------  -----------  -----------------  --------------  -------------------------------  ------------------  -------------------------  ---------------  -------------  -------------------  -------------------  ---------------  ---------------  -----------  ----------------  ----------------  -------------------  --------------  --------------------  -------------------  ---------------------  -------------  ------------------  ------------------  ---------------  ---------------  ----------------  -----------------  ----------------  ---------------  -------------  ----------------  ----------  ------------  ------------------------------  ---------  ---------------------  -----------  --------------  ---------------  -----------  ------------  --------------  ------------------  -----------------------  -------------------  -------------  ----------------  ---------------  ----------------  -----------  ----------------  ---------------  ---------------------  ------------------------------------  -----------------------  --------  -------------------------  -------------  ------------  -----------------------  --------------  ------------  ----------  ------------  -----------  ------------  ----------------------------  -------------------------------------  -------------  -------------  -------------  -----------------  ------------------------------  --------------------------  ------------------------  --------------------------  -----------------------  --------------  ----------------------------  -----------  -----------------  -----------  ------------  ------------------  ----------  -------------------  --------------  -----------------------  -------------------  -------------------  -------------------  ---------------------  ----------------------  --------------------  ----------------------  -----------------------------  ------------------  --------------  -----------------  ----------------  -------------------  -------------------  -------------------  --------------------------  -------------------  --------------------------  ----------------------------------  ------------  -----------  -------------------------  --------------  -------------------  -------------------------  -------------------------  -------------------  ----------------------  ----------------------  ------------------  ---------  ---------------  ------------------\n",
            "Telangana       Telangana     Telangana      Uttar Pradesh          Uttar Pradesh     Uttar Pradesh  Maharashtra                        Maharashtra              Maharashtra            Gujarat                     Gujarat        Gujarat               Gujarat      Gujarat                         Rajasthan            Rajasthan          Rajasthan        Rajasthan     Uttar Pradesh           Uttar Pradesh  Uttar Pradesh  Maharashtra            Maharashtra                      Maharashtra                      Kerala          Kerala               Kerala                   Kerala         Kerala        Kerala    Uttar Pradesh        Uttar Pradesh      Uttar Pradesh             West Bengal  West Bengal     West Bengal  West Bengal        Uttar Pradesh        Uttar Pradesh         Uttar Pradesh  Uttar Pradesh           Uttarakhand  Uttarakhand    Uttarakhand              Rajasthan   Rajasthan               Rajasthan   Andhra Pradesh   Andhra Pradesh                  Andhra Pradesh  Haryana             Haryana  Haryana       Haryana  Uttar Pradesh  Uttar Pradesh  Uttar Pradesh  Uttar Pradesh  Uttar Pradesh  Maharashtra       Maharashtra             Maharashtra      Maharashtra              Gujarat                          Gujarat         Gujarat                     Punjab               Punjab              Punjab                 Punjab          Uttar Pradesh      Uttar Pradesh        Uttar Pradesh     Andhra Pradesh                  Andhra Pradesh     Andhra Pradesh           Andhra Pradesh                                   Gujarat                             Gujarat                        Punjab         Punjab                            Punjab              Punjab                   Andhra Pradesh   Andhra Pradesh    Andhra Pradesh  Andhra Pradesh  Jammu & Kashmir  Jammu & Kashmir   Jammu & Kashmir  Jammu & Kashmir  Jammu & Kashmir  Jammu & Kashmir  Andaman & Nicobar Islands  Andaman & Nicobar Islands  Andaman & Nicobar Islands  Andaman & Nicobar Islands  Andaman & Nicobar Islands  Uttar Pradesh       Uttar Pradesh  Uttar Pradesh          Tamil Nadu          Tamil Nadu    Tamil Nadu      Tamil Nadu      Tamil Nadu     West Bengal                 West Bengal      West Bengal        West Bengal       Tamil Nadu         Tamil Nadu  Tamil Nadu      Tamil Nadu     Tamil Nadu  Bihar                Bihar          Bihar        Bihar       Bihar           Bihar            Andhra Pradesh    Andhra Pradesh       Andhra Pradesh       Andhra Pradesh                                                Andhra Pradesh          Andhra Pradesh    Andhra Pradesh     Arunachal Pradesh  Arunachal Pradesh  Arunachal Pradesh  Arunachal Pradesh  Arunachal Pradesh  Arunachal Pradesh  Arunachal Pradesh  Arunachal Pradesh  Arunachal Pradesh  Arunachal Pradesh  West Bengal    West Bengal    West Bengal          West Bengal      West Bengal     Odisha          Odisha               Odisha              Kerala              Kerala          Kerala          Bihar               Maharashtra         Bihar         Bihar           Maharashtra         Maharashtra                        Maharashtra                Bihar                  Bihar                Bihar                Bihar          Bihar         Bihar        Assam           Assam              Assam               Assam           Assam        Uttar Pradesh   Uttar Pradesh             Uttar Pradesh          Uttar Pradesh     Uttar Pradesh          Karnataka                               Karnataka            Uttar Pradesh       Uttar Pradesh     West Bengal             West Bengal            West Bengal       West Bengal   West Bengal  Uttar Pradesh  Uttar Pradesh    Uttar Pradesh      Madhya Pradesh       Madhya Pradesh  Madhya Pradesh  Madhya Pradesh    Odisha                  Odisha               Odisha             Uttar Pradesh   Uttar Pradesh   Uttar Pradesh  West Bengal       West Bengal   West Bengal   West Bengal         Gujarat                    Gujarat                      Gujarat                   Gujarat                    Gujarat                      Uttar Pradesh     Uttar Pradesh        Uttar Pradesh   Uttar Pradesh  Karnataka    Karnataka      Karnataka    Karnataka             Karnataka          Karnataka    Karnataka            Karnataka                    Karnataka      Karnataka       West Bengal      West Bengal    West Bengal  West Bengal    Bihar            Bihar                      Bihar         Bihar            Bihar             Bihar          Bihar            West Bengal        West Bengal        West Bengal  West Bengal  Uttar Pradesh   Uttar Pradesh  Rajasthan        Rajasthan          Rajasthan      Rajasthan  Rajasthan     Andhra Pradesh   Andhra Pradesh   Andhra Pradesh  Andhra Pradesh  Uttar Pradesh        Uttar Pradesh    Uttar Pradesh  Maharashtra   Maharashtra         Maharashtra        Jammu & Kashmir      Jammu & Kashmir  Jammu & Kashmir  Jammu & Kashmir    Jammu & Kashmir        Jammu & Kashmir   Jammu & Kashmir         West Bengal               West Bengal           West Bengal      West Bengal    West Bengal    West Bengal            West Bengal          West Bengal        West Bengal         West Bengal         West Bengal        West Bengal          Gujarat                      Gujarat                                Uttar Pradesh          Uttar Pradesh          Uttar Pradesh       Odisha         Odisha            Odisha               Rajasthan          Rajasthan        Rajasthan             Assam           Assam             Assam          Assam              West Bengal  West Bengal     West Bengal       West Bengal  West Bengal        West Bengal    West Bengal        West Bengal      Chhattisgarh  Chhattisgarh       Chhattisgarh     Chhattisgarh       Chhattisgarh   Chhattisgarh        Chhattisgarh      Uttar Pradesh                        Uttar Pradesh         Uttar Pradesh     Uttar Pradesh        Punjab                Punjab                       Punjab                Punjab                Maharashtra               Maharashtra              Maharashtra         Maharashtra             Bihar          Bihar           Bihar               Bihar    Karnataka                    Karnataka      Karnataka       Karnataka      Odisha               Odisha            Odisha                 Madhya Pradesh          Madhya Pradesh         Madhya Pradesh  Uttar Pradesh  Uttar Pradesh    Uttar Pradesh  Odisha            Odisha          Odisha           Bihar              Bihar                             Maharashtra           Maharashtra              Maharashtra                  Maharashtra  Maharashtra              Rajasthan      Rajasthan             Rajasthan            Gujarat                        Gujarat                     Gujarat                     Gujarat                                     Gujarat                         Gujarat                              Rajasthan                Rajasthan       Rajasthan       Rajasthan           Madhya Pradesh  Madhya Pradesh  Madhya Pradesh  Maharashtra            Maharashtra              Maharashtra              Maharashtra              Haryana                        Haryana          Haryana      Haryana           Telangana                  Telangana                Telangana              Telangana        Telangana         Madhya Pradesh              Madhya Pradesh   Odisha             Odisha              Odisha         Karnataka        Karnataka          Karnataka     Karnataka                    Karnataka                   Karnataka                  Karnataka                 Uttar Pradesh  Uttar Pradesh           Uttar Pradesh        Rajasthan          Rajasthan            Rajasthan   Chhattisgarh  Chhattisgarh     Chhattisgarh           West Bengal  West Bengal        West Bengal   West Bengal   West Bengal   West Bengal    West Bengal     West Bengal  West Bengal           Odisha                     Odisha                      Odisha             Odisha      West Bengal     West Bengal    West Bengal       West Bengal   West Bengal     Uttar Pradesh  Uttar Pradesh  Uttar Pradesh  Maharashtra                 Maharashtra                      Maharashtra               Bihar                  Bihar             Bihar               Bihar                             Kerala         Kerala    Kerala             Karnataka           Karnataka          Karnataka        Uttar Pradesh             Uttar Pradesh         Uttar Pradesh       Uttar Pradesh  Chandigarh   Chandigarh          Chandigarh       Chandigarh     NCT OF Delhi   NCT OF Delhi         NCT OF Delhi        Maharashtra                              Maharashtra            Maharashtra                       Jharkhand          Jharkhand          Jharkhand             Jharkhand    Jharkhand         Jharkhand       Jharkhand       Jharkhand      Tamil Nadu       Tamil Nadu      Tamil Nadu      Tamil Nadu         Tamil Nadu                      Tamil Nadu                Tamil Nadu               Tamil Nadu    Tamil Nadu    Tamil Nadu           Tamil Nadu                               Tamil Nadu        Tamil Nadu    Tamil Nadu   Tamil Nadu                     Telangana             Telangana                Telangana           Madhya Pradesh    Madhya Pradesh      Madhya Pradesh       Madhya Pradesh       Gujarat                      Gujarat                       Gujarat                       Tamil Nadu            Tamil Nadu      Tamil Nadu    Tamil Nadu  Karnataka        Karnataka         Karnataka            Karnataka      Karnataka                Karnataka                Karnataka                  Karnataka        Karnataka       Andhra Pradesh  Andhra Pradesh         Andhra Pradesh      Andhra Pradesh  Rajasthan              Rajasthan              Rajasthan     Rajasthan         Rajasthan      Rajasthan   Tamil Nadu      Tamil Nadu          Tamil Nadu    Tamil Nadu           Tamil Nadu        West Bengal      West Bengal              West Bengal          West Bengal         Tamil Nadu          Tamil Nadu          Tamil Nadu    Tamil Nadu  Tamil Nadu    Odisha              Odisha          Odisha             Dadra & Nagar Haveli        Dadra & Nagar Haveli      Dadra & Nagar Haveli  Dadra & Nagar Haveli    Dadra & Nagar Haveli  Dadra & Nagar Haveli  Gujarat                         Gujarat                    Gujarat                     Gujarat                       Karnataka           Karnataka     Karnataka        Daman & Diu              Daman & Diu            Daman & Diu               Madhya Pradesh        Madhya Pradesh  Madhya Pradesh       Bihar             Bihar                Bihar       Bihar        West Bengal  West Bengal     West Bengal     West Bengal   West Bengal   Rajasthan      Rajasthan     Rajasthan                 Karnataka       Karnataka     Uttar Pradesh          Madhya Pradesh          Madhya Pradesh         Madhya Pradesh    Jharkhand             Jharkhand   Madhya Pradesh       Madhya Pradesh  Madhya Pradesh             Tamil Nadu            Tamil Nadu         Tamil Nadu       Tamil Nadu       Tamil Nadu     Karnataka      Karnataka       Uttar Pradesh  Uttar Pradesh           Uttar Pradesh         Odisha        Odisha              Odisha                          Assam            Assam             Assam        Maharashtra            Maharashtra              Maharashtra             West Bengal        West Bengal   West Bengal     West Bengal      Assam          Assam                 Tamil Nadu    Tamil Nadu        Tamil Nadu          Maharashtra               Maharashtra              Maharashtra        Maharashtra      Uttar Pradesh   Uttar Pradesh  Uttar Pradesh                             West Bengal  West Bengal         West Bengal            West Bengal  Jharkhand    Jharkhand    Jharkhand          Jharkhand       Jharkhand     Jharkhand    Chhattisgarh  Chhattisgarh        Chhattisgarh      NCT OF Delhi    NCT OF Delhi           NCT OF Delhi  NCT OF Delhi  Andhra Pradesh    Andhra Pradesh                  Andhra Pradesh       Kerala     Kerala    Kerala                Tamil Nadu       Tamil Nadu   Tamil Nadu       Tamil Nadu         Tamil Nadu        Uttar Pradesh                Uttar Pradesh             Uttar Pradesh            Uttar Pradesh  Uttar Pradesh       Uttar Pradesh  Uttar Pradesh  Uttar Pradesh  Haryana      Haryana              Haryana       Punjab            Punjab               Punjab             Punjab               Uttar Pradesh  Uttar Pradesh  Uttar Pradesh    Punjab      Punjab              Punjab                    Punjab         Uttar Pradesh   Uttar Pradesh         Uttar Pradesh  Uttar Pradesh    Uttar Pradesh  Uttar Pradesh        Uttar Pradesh          Uttar Pradesh  Uttar Pradesh        Punjab               Punjab              Punjab                     Punjab           Maharashtra            Maharashtra                Maharashtra                      Maharashtra                Maharashtra             Gujarat    Gujarat           Rajasthan    Rajasthan           Rajasthan  Uttarakhand         Uttarakhand      Assam      Assam            Assam              Uttar Pradesh      Uttar Pradesh  Uttar Pradesh           Bihar        Bihar             Bihar                  Bihar         Bihar               Bihar             Bihar        Bihar                Bihar            Bihar        Bihar         West Bengal            West Bengal    West Bengal    West Bengal                       Uttar Pradesh      Uttar Pradesh  Uttar Pradesh  Uttar Pradesh  Uttar Pradesh  Uttar Pradesh  Uttar Pradesh          Uttar Pradesh     Uttar Pradesh  Uttar Pradesh  Uttar Pradesh  Uttar Pradesh     Jharkhand                  Jharkhand        Jharkhand        Jharkhand      Jharkhand     Jharkhand    Jharkhand       Uttar Pradesh                          Uttar Pradesh                   Uttar Pradesh      Bihar                 Bihar         Bihar               Bihar            Bihar         Bihar               Uttar Pradesh                                   Uttar Pradesh    Uttar Pradesh        Karnataka           Karnataka           Madhya Pradesh                       Madhya Pradesh           Madhya Pradesh                 Andhra Pradesh  Andhra Pradesh             Andhra Pradesh                                         Andhra Pradesh    Punjab      Punjab        Punjab       Punjab                 Haryana             Haryana           Haryana               Madhya Pradesh            Madhya Pradesh  Madhya Pradesh               Bihar                   Bihar             Bihar           Bihar          Bihar      Bihar          Himachal Pradesh     Uttar Pradesh                    Uttar Pradesh      Himachal Pradesh  Uttar Pradesh              Uttar Pradesh      Uttar Pradesh  Uttar Pradesh  Uttar Pradesh   Uttarakhand                 Uttarakhand    Uttarakhand         Karnataka        Karnataka  Karnataka     Uttar Pradesh  Uttar Pradesh    Uttar Pradesh  Maharashtra                    Maharashtra       Maharashtra              Karnataka    Karnataka   Jharkhand     Jharkhand          Jharkhand                 Jharkhand             Jharkhand       Andhra Pradesh          Andhra Pradesh       Andhra Pradesh                                     Andhra Pradesh       Maharashtra   Maharashtra                  Maharashtra             Maharashtra                Haryana          Haryana            Haryana         Haryana          West Bengal        West Bengal         West Bengal  West Bengal          Madhya Pradesh     Madhya Pradesh                      Madhya Pradesh  Punjab       Punjab                   Punjab      Punjab            West Bengal      West Bengal        West Bengal       West Bengal  Telangana         Telangana           Telangana        Telangana            Kerala               Kerala             Kerala         Madhya Pradesh   Madhya Pradesh  Manipur                   Manipur                  Manipur                 Manipur                          Manipur     Madhya Pradesh  Madhya Pradesh            Madhya Pradesh  West Bengal       West Bengal   West Bengal                  Odisha             Odisha              Odisha           Bihar               Bihar                  Bihar       Bihar       Bihar             Bihar        Bihar         Rajasthan        Rajasthan         Rajasthan                  Rajasthan       Odisha           Odisha               Odisha      Punjab                   Punjab                 Punjab           Punjab                      Uttar Pradesh             Uttar Pradesh        Uttar Pradesh   Uttar Pradesh      Maharashtra                Maharashtra              Maharashtra               Maharashtra             Maharashtra             Maharashtra                 Rajasthan     Rajasthan     West Bengal            West Bengal           West Bengal            West Bengal        Jammu & Kashmir  Jammu & Kashmir  Gujarat                     Gujarat                        Jharkhand            Jharkhand      Bihar                Bihar             Bihar           Bihar           Bihar         West Bengal       West Bengal    West Bengal        West Bengal       West Bengal       Chhattisgarh      Chhattisgarh            Chhattisgarh     Uttar Pradesh      Uttar Pradesh              Uttar Pradesh    West Bengal     West Bengal        West Bengal    West Bengal        West Bengal   Rajasthan       Rajasthan      Bihar           Bihar        Bihar                   Bihar                  Bihar              Bihar        Uttar Pradesh  Uttar Pradesh       Uttar Pradesh  West Bengal    West Bengal    West Bengal      West Bengal       Rajasthan       Rajasthan                    Rajasthan                 Rajasthan       Assam              Assam               Assam        Gujarat                         Gujarat                    Gujarat                 Gujarat                 Gujarat                      Andhra Pradesh     Andhra Pradesh                  Uttar Pradesh  Uttar Pradesh   Uttar Pradesh         Uttar Pradesh            Uttar Pradesh         Andhra Pradesh         Andhra Pradesh        Andhra Pradesh             Odisha               Odisha               Odisha             Odisha          Odisha          Assam         Assam                Assam            Tamil Nadu            Tamil Nadu   Tamil Nadu        Tamil Nadu  Maharashtra                 Maharashtra           Maharashtra    Maharashtra            Tamil Nadu  Tamil Nadu    Tamil Nadu     Tamil Nadu  Odisha                Odisha                               Odisha               Himachal Pradesh  Himachal Pradesh  Chhattisgarh   Chhattisgarh   Uttar Pradesh  Uttar Pradesh  Tamil Nadu        Tamil Nadu        Tamil Nadu   Tamil Nadu     Kerala         Kerala                   Kerala             Uttar Pradesh      Uttar Pradesh       Uttar Pradesh  West Bengal     West Bengal          West Bengal          West Bengal      Bihar           Bihar             Bihar           Bihar               Bihar                   Bihar         Rajasthan      Rajasthan     Rajasthan  Assam             Assam              Assam       Telangana           Telangana                Telangana         Telangana             Haryana        Haryana        Haryana  Haryana                 Haryana         Tamil Nadu   Tamil Nadu     Tamil Nadu    Tamil Nadu       Tamil Nadu      Kerala             Kerala                 Kerala                   Bihar                  Bihar        Uttar Pradesh       Uttar Pradesh    Uttar Pradesh          Uttar Pradesh  Odisha           Odisha           Odisha             Odisha           Odisha        Odisha               Punjab                     Punjab           Punjab                Punjab                 Bihar                         Bihar          Bihar              Bihar               Bihar       Bihar                 Bihar                Madhya Pradesh                    Madhya Pradesh                  Madhya Pradesh    Telangana         Telangana         Telangana    Telangana            Telangana             Telangana                    Madhya Pradesh                          Madhya Pradesh              Madhya Pradesh               Madhya Pradesh              Madhya Pradesh             Madhya Pradesh              Madhya Pradesh    Gujarat           Gujarat     Uttar Pradesh  Uttar Pradesh    Uttar Pradesh    Uttar Pradesh   Jharkhand    Jharkhand          Jharkhand        Jharkhand   Bihar               Bihar                Bihar          Bihar               Jharkhand      Jharkhand         Jharkhand        Jharkhand       Assam               Assam                Assam               Assam            Assam       Karnataka     Karnataka       Maharashtra                 Maharashtra        Maharashtra           West Bengal  West Bengal         West Bengal        West Bengal       West Bengal          West Bengal             West Bengal            West Bengal       Kerala             Kerala         Kerala        Karnataka                 Karnataka                      Odisha                  Odisha           Odisha         Odisha          Odisha          Odisha          Odisha             Chhattisgarh              Chhattisgarh      Chhattisgarh                Chhattisgarh  Chhattisgarh         Rajasthan  Rajasthan        Kerala              Kerala        Kerala           Kerala        Kerala           Kerala            Tamil Nadu        Tamil Nadu    Tamil Nadu        Tamil Nadu                West Bengal   West Bengal     West Bengal   West Bengal     Andhra Pradesh                 Andhra Pradesh                  Andhra Pradesh  Andhra Pradesh             Andhra Pradesh       Haryana      Haryana       Haryana  Haryana                  Haryana               Uttar Pradesh      Uttar Pradesh                                Uttar Pradesh                         Jammu & Kashmir          Jammu & Kashmir  Jammu & Kashmir     Jammu & Kashmir  Assam          Assam           Assam        Lakshadweep         Lakshadweep       Lakshadweep              Uttar Pradesh  Uttar Pradesh  Uttar Pradesh           Uttar Pradesh        Maharashtra                 Maharashtra                   Maharashtra  Jharkhand         Jharkhand       Jharkhand      Jharkhand     Jharkhand     Jharkhand        Uttar Pradesh  Uttar Pradesh            Uttar Pradesh            Punjab               Punjab                 Punjab                    Punjab                    Uttar Pradesh           Uttar Pradesh          Uttar Pradesh  Andhra Pradesh           Andhra Pradesh          Andhra Pradesh         Maharashtra                            Maharashtra                   Maharashtra         Maharashtra           Bihar                 Bihar         Bihar                        Bihar            Bihar              Bihar              Bihar     Bihar             Bihar            Tamil Nadu    Tamil Nadu        Tamil Nadu         Tamil Nadu  Tamil Nadu    Telangana        Telangana            Telangana           Telangana                   Telangana        Telangana          Telangana     Uttar Pradesh     Bihar                      Bihar                Uttar Pradesh  Uttar Pradesh     Bihar                             Bihar               Bihar                    Chhattisgarh     Chhattisgarh    Chhattisgarh                    Telangana             Telangana  Telangana                  Gujarat                   Gujarat      Uttar Pradesh        Uttar Pradesh      Kerala             Kerala     Kerala        Kerala              West Bengal                      West Bengal               West Bengal          West Bengal   West Bengal  West Bengal          West Bengal      Telangana              Telangana               Telangana                  Telangana                  Himachal Pradesh    Himachal Pradesh  Himachal Pradesh    Madhya Pradesh        Madhya Pradesh      Madhya Pradesh       Madhya Pradesh         Madhya Pradesh       Madhya Pradesh  Madhya Pradesh       Karnataka            Karnataka           Karnataka         Assam         Assam               Assam                  Uttar Pradesh  Uttar Pradesh          Uttar Pradesh  West Bengal            West Bengal          West Bengal               West Bengal       Maharashtra                 Maharashtra       Maharashtra            Kerala             Kerala               Kerala              Tamil Nadu     Tamil Nadu   Tamil Nadu       Tamil Nadu     Tamil Nadu     Odisha           Odisha              Odisha        Odisha         Telangana              Telangana        Telangana                   Telangana                 Telangana             Telangana        West Bengal  West Bengal          West Bengal    West Bengal               Uttar Pradesh     Uttar Pradesh         Uttar Pradesh     Uttar Pradesh         Uttar Pradesh       Uttar Pradesh           Uttar Pradesh      Uttar Pradesh      Uttar Pradesh       Uttar Pradesh  Mizoram       Mizoram             Mizoram         Mizoram            Mizoram                  Uttar Pradesh    Uttar Pradesh  Uttar Pradesh    Uttar Pradesh   Uttar Pradesh         Uttar Pradesh      Madhya Pradesh        Madhya Pradesh  Madhya Pradesh        Maharashtra   Maharashtra       Maharashtra            Maharashtra     Maharashtra       Maharashtra           Maharashtra  Maharashtra        Maharashtra                        Maharashtra       Maharashtra     Maharashtra           Maharashtra           Maharashtra         Maharashtra     Maharashtra           Maharashtra        Maharashtra            Maharashtra                      Bihar                                 Bihar       Bihar          Bihar     Bihar        Bihar                      Bihar                   West Bengal     West Bengal                        West Bengal    West Bengal       Uttar Pradesh         Uttar Pradesh  Bihar        Bihar                  Bihar           Bihar             Karnataka      Karnataka          Karnataka                      Odisha                Odisha               Odisha            Odisha              Nagaland          Nagaland    Nagaland          Tamil Nadu  Tamil Nadu   Tamil Nadu  Tamil Nadu  Tamil Nadu  Telangana          Telangana      Telangana                              Telangana  Telangana         Rajasthan        Rajasthan         Rajasthan       Uttar Pradesh   Uttar Pradesh       Uttar Pradesh  Maharashtra           Maharashtra  Maharashtra     Maharashtra                             Uttarakhand  Uttarakhand   Uttarakhand          Bihar              Bihar             Bihar            Bihar             Bihar         Bihar          Telangana                   Telangana                  Telangana                  Telangana    Tamil Nadu     Tamil Nadu   Tamil Nadu  Tamil Nadu    Tamil Nadu      Maharashtra                  Maharashtra              Maharashtra                Maharashtra                 Maharashtra        Maharashtra               Maharashtra                  Andhra Pradesh             Andhra Pradesh          Andhra Pradesh  Andhra Pradesh                   Andhra Pradesh               Andhra Pradesh         Andhra Pradesh     Andhra Pradesh          Andhra Pradesh                    Andhra Pradesh                         Andhra Pradesh     Andhra Pradesh     Andhra Pradesh             Maharashtra           Maharashtra           Maharashtra                      Maharashtra              Gujarat      Gujarat                      Bihar          Bihar       Bihar         Bihar             Andhra Pradesh          Andhra Pradesh     Andhra Pradesh     NCT OF Delhi      NCT OF Delhi  NCT OF Delhi   Tamil Nadu  Tamil Nadu        Tamil Nadu       Tamil Nadu     Telangana          Telangana            Telangana          NCT OF Delhi  NCT OF Delhi    NCT OF Delhi  NCT OF Delhi   Goa                 Goa                    Goa                    NCT OF Delhi   NCT OF Delhi  NCT OF Delhi     Assam             Assam             Andhra Pradesh              Andhra Pradesh     Andhra Pradesh       Maharashtra                                     Maharashtra                       Maharashtra          Manipur         Manipur                Manipur   Manipur              Manipur       Kerala          Kerala      Kerala          Jharkhand         Jharkhand   Jharkhand       Jharkhand   Jharkhand    Jharkhand      Jharkhand       Maharashtra            Maharashtra           Maharashtra             Maharashtra          Maharashtra           Rajasthan        Rajasthan        Gujarat                     Gujarat                     Maharashtra                     Maharashtra              Maharashtra         Maharashtra            Bihar               Bihar                   Bihar         Bihar               Bihar             Bihar         Bihar           Gujarat                       Gujarat         Kerala       Kerala        Kerala       Punjab        Punjab               Punjab              Punjab        Bihar                Bihar             Telangana                   Telangana           Telangana  Telangana         Telangana          Tamil Nadu             Tamil Nadu      Tamil Nadu   Tamil Nadu       Uttar Pradesh       Uttar Pradesh   Uttar Pradesh  Uttar Pradesh        Uttar Pradesh  Tamil Nadu            Tamil Nadu    Tamil Nadu     Tamil Nadu  Tamil Nadu     Kerala                  Kerala  Kerala            Kerala      Gujarat                      Gujarat       Gujarat                      Uttar Pradesh     Uttar Pradesh   Uttar Pradesh          Uttar Pradesh                       Puducherry        Puducherry                Puducherry             Maharashtra               Maharashtra  Maharashtra          Odisha        Odisha           Odisha               Bihar          Bihar                         Bihar                  Bihar         Bihar          West Bengal             West Bengal          West Bengal   West Bengal       Bihar              Bihar         Bihar        Bihar          Bihar              Uttar Pradesh  Uttar Pradesh        Karnataka              Karnataka  Karnataka               Maharashtra              Maharashtra  Maharashtra         Maharashtra             West Bengal         West Bengal        West Bengal  West Bengal     Chhattisgarh  Chhattisgarh          Chhattisgarh    Chhattisgarh      Chhattisgarh  Andhra Pradesh  Andhra Pradesh  Andhra Pradesh       Andhra Pradesh                Andhra Pradesh    Andhra Pradesh     Andhra Pradesh  Andhra Pradesh           Madhya Pradesh  Madhya Pradesh  Gujarat                          Gujarat              Gujarat       Jharkhand            Jharkhand     Jharkhand    Jharkhand     Jharkhand      Chhattisgarh    Chhattisgarh    Chhattisgarh          Rajasthan    Rajasthan           Rajasthan  Rajasthan               Tamil Nadu    Tamil Nadu         Tamil Nadu            Tamil Nadu       Tamil Nadu     Uttar Pradesh       Uttar Pradesh     Uttar Pradesh  Maharashtra           Maharashtra                Maharashtra                 Maharashtra                       West Bengal       West Bengal    West Bengal  West Bengal    Jharkhand    Jharkhand          Jharkhand            Madhya Pradesh     Madhya Pradesh   Madhya Pradesh   Maharashtra   Maharashtra          Maharashtra                            Maharashtra              Maharashtra             Maharashtra               Maharashtra           Maharashtra             Maharashtra              Madhya Pradesh   Madhya Pradesh          Madhya Pradesh      Madhya Pradesh         Uttar Pradesh    Uttar Pradesh  Uttar Pradesh              Uttar Pradesh        Uttar Pradesh          Uttar Pradesh  Haryana              Haryana                Haryana             Haryana               Gujarat                     Gujarat                       Gujarat                   Madhya Pradesh    Madhya Pradesh       Madhya Pradesh  Uttar Pradesh       Uttar Pradesh     Uttar Pradesh  Tamil Nadu     Tamil Nadu       Tamil Nadu           Tamil Nadu  Tamil Nadu  Uttar Pradesh  Uttar Pradesh  Uttar Pradesh  Uttar Pradesh        Bihar              Bihar            Bihar           Bihar            Bihar      Bihar          Bihar            Odisha            Odisha                Odisha            Uttar Pradesh             Uttar Pradesh          Uttar Pradesh          Maharashtra       Maharashtra               Maharashtra                 Punjab         Punjab               Punjab                   Punjab                Punjab               Uttar Pradesh         Uttar Pradesh     Uttar Pradesh       Bihar              Bihar          Bihar        Bihar            Chhattisgarh         Chhattisgarh    Chhattisgarh    Chhattisgarh  Bihar          Bihar        Bihar        Bihar         Maharashtra                                         Maharashtra               Maharashtra             Madhya Pradesh  Madhya Pradesh    Madhya Pradesh       Telangana         Telangana                 Telangana             Telangana         Madhya Pradesh  Madhya Pradesh  Madhya Pradesh      Madhya Pradesh    Madhya Pradesh      Uttar Pradesh     Uttar Pradesh        Uttar Pradesh        Bihar      Bihar            Bihar              Bihar             Bihar        Bihar             Bihar                Bihar              Meghalaya        Meghalaya       Meghalaya       Himachal Pradesh      Himachal Pradesh   Karnataka         Karnataka          Maharashtra              Maharashtra               Maharashtra            Maharashtra                  Maharashtra                 Maharashtra          Maharashtra             Maharashtra                 Maharashtra  Uttar Pradesh  Uttar Pradesh  Uttar Pradesh           Uttar Pradesh  Madhya Pradesh  Madhya Pradesh    Madhya Pradesh      Madhya Pradesh  Madhya Pradesh              Rajasthan              Rajasthan        Rajasthan  Sikkim            Sikkim              Sikkim                 Sikkim          Assam        Assam         Jharkhand   Jharkhand      Jharkhand     Jharkhand            Jharkhand           Jharkhand   Haryana        Haryana       Haryana             Haryana                Haryana          Bihar              Bihar      Bihar             Bihar      Bihar                Bihar                Uttar Pradesh  Uttar Pradesh  Uttar Pradesh  Tamil Nadu           Tamil Nadu  Tamil Nadu      Tamil Nadu        Tamil Nadu     Bihar         Bihar        Bihar            Bihar               Bihar           Maharashtra                                                Maharashtra                     Maharashtra                Haryana                 Haryana                Haryana                  Haryana         NCT OF Delhi    NCT OF Delhi   NCT OF Delhi  NCT OF Delhi     Goa                               Goa                     Goa          West Bengal      West Bengal    West Bengal     West Bengal       Andhra Pradesh             Andhra Pradesh    Andhra Pradesh  Andhra Pradesh  Jammu & Kashmir  Jammu & Kashmir  Jammu & Kashmir    Jammu & Kashmir         Tamil Nadu  Tamil Nadu      Tamil Nadu  Tamil Nadu   Tamil Nadu            Uttar Pradesh         Uttar Pradesh                 Uttar Pradesh    Uttar Pradesh  Odisha     Odisha         Odisha         Odisha             Bihar             Bihar           Bihar                Bihar                            Bihar             Bihar         Bihar                Bihar               Gujarat                  Gujarat                 Gujarat                     Gujarat                       Gujarat                       Gujarat   West Bengal        West Bengal              West Bengal     West Bengal            Uttarakhand            Uttarakhand   Uttarakhand  Tamil Nadu       Tamil Nadu        Tamil Nadu    Tamil Nadu      Tamil Nadu      Assam              Assam           Assam             Maharashtra            Maharashtra             Maharashtra                  Tamil Nadu           Tamil Nadu       Tamil Nadu     Tamil Nadu       Tamil Nadu    Tamil Nadu        Tamil Nadu              Tamil Nadu           Tamil Nadu     Tamil Nadu         Tamil Nadu      Tamil Nadu      Tamil Nadu    Tamil Nadu    Tamil Nadu  Tamil Nadu      Kerala              Kerala                 Kerala        Tamil Nadu             Tamil Nadu                   Tamil Nadu             Tamil Nadu                  Tamil Nadu           Kerala           Kerala                Kerala       Madhya Pradesh     Madhya Pradesh  Madhya Pradesh  Tamil Nadu             Tamil Nadu       Tamil Nadu               Tamil Nadu  Tamil Nadu      Tamil Nadu        Tamil Nadu          Tamil Nadu          Tamil Nadu  Tamil Nadu    Andhra Pradesh          Andhra Pradesh    Andhra Pradesh  Andhra Pradesh                 Andhra Pradesh     Tamil Nadu      Tamil Nadu       Tamil Nadu           Tamil Nadu    Tamil Nadu      Tamil Nadu     Tamil Nadu              Tamil Nadu    Tamil Nadu    Tamil Nadu  Rajasthan                 Rajasthan    Rajasthan          Tripura         Tripura                          Tripura             Tripura                    Tripura          Tripura        Tripura              Tripura              Karnataka        Karnataka        Karnataka    Meghalaya         Meghalaya         Meghalaya            Rajasthan       Rajasthan             Rajasthan            Rajasthan              Rajasthan      Jammu & Kashmir     Jammu & Kashmir     Jammu & Kashmir  Jammu & Kashmir  Jammu & Kashmir   Karnataka          Karnataka         Karnataka        Bihar          Bihar             Bihar       Bihar         Bihar                           Bihar      Bihar                  Bihar        Madhya Pradesh  Madhya Pradesh   West Bengal  West Bengal   West Bengal     West Bengal         Uttar Pradesh            Uttar Pradesh        Uttar Pradesh  Karnataka         Karnataka        Kerala            Kerala       Kerala            Gujarat          Gujarat                Bihar                                 Bihar                    Bihar     Bihar                      Bihar          Bihar         Bihar                    Bihar           Bihar         Bihar       Bihar         Bihar        Gujarat       Gujarat                       Gujarat                                Uttar Pradesh  Uttar Pradesh  Uttar Pradesh  Madhya Pradesh     Madhya Pradesh                  Madhya Pradesh              Andhra Pradesh            Andhra Pradesh              Andhra Pradesh           Andhra Pradesh  Andhra Pradesh                Tamil Nadu   Tamil Nadu         Tamil Nadu   Tamil Nadu    Tamil Nadu          Tamil Nadu  Tamil Nadu           Tamil Nadu      Tamil Nadu               Tamil Nadu           Andhra Pradesh       Andhra Pradesh       Andhra Pradesh         Andhra Pradesh          Andhra Pradesh        Andhra Pradesh          Andhra Pradesh                 Andhra Pradesh      Andhra Pradesh  Telangana          Telangana         Telangana            Telangana            Telangana            Maharashtra                 Maharashtra          Maharashtra                 Maharashtra                         Kerala        Kerala       NCT OF Delhi               NCT OF Delhi    NCT OF Delhi         Maharashtra                Maharashtra                Maharashtra          Maharashtra             Maharashtra             Maharashtra         Telangana  Telangana        Telangana\n",
            "SOYAM BAPU RAO  Godam Nagesh  RATHOD RAMESH  Satyapal Singh Baghel  Manoj Kumar Soni  Preeta Harit   Dr. SUJAY RADHAKRISHNA VIKHEPATIL  SANGRAM ARUNKAKA JAGTAP  SUDHAKAR LAXMAN AVHAD  Patel Hasmukhbhai Somabhai  Gitaben Patel  DR. KIRIT P. SOLANKI  RAJU PARMAR  TRIBHOVANDAS KARSANDAS VAGHELA  Bhagirath Chaudhary  Riju Jhunjhunwala  Durga Lal Regar  Vishram Babu  Devendra Singh 'Bhole'  Nisha Sachan   Rajaram Pal    Dhotre Sanjay Shamrao  Ambedkar (Adv) Prakash Yashwant  Hidayatullah Barakatullah Patel  Adv. A M ARIFF  Adv. SHANIMOL OSMAN  Dr. K. S. RADHAKRISHNAN  RAMYA HARIDAS  DR. P.K.BIJU  T.V.BABU  SATISH KUMAR GAUTAM  DR. AJEET BALIYAN  BIJENDRA SINGH CHAUDHARY  JOHN BARLA   DASRATH TIRKEY  MILI ORAON   MOHANLAL BASUMATA  Rita Bahuguna Joshi  Rajendra Singh Patel  Yogesh Shukla  Girdhar Gopal Tripathi  Ajay Tamta   Pradeep Tamta  Sunder Dhoni (Advocate)  Balak Nath  Bhanwar Jitendra Singh  Imran Khan  CHINTA ANURADHA  GANTI HARISH MADHUR (BALAYOGI)  D M R SEKHAR    RATTAN LAL KATARIA  SELJA    NARESH KUMAR  RAM PAL  Ritesh Pandey  Mukut Bihari   Rakesh         Smriti Irani   Rahul Gandhi   Navnit Ravi Rana  Adsul Anandrao Vithoba  Gunwant Deopare  Arun Motiramji Wankhade  Kachhadiya Naranbhai Bhikhabhai  Paresh Dhanani  Chauhan Ravjibhai Mulabhai  GURJEET SINGH AUJLA  HARDEEP SINGH PURI  KULDIP SINGH DHALIWAL  DASWINDER KAUR  KUNWAR DANISH ALI  KANWAR SINGH TANWAR  SACHIN CHOUDHARY  Dr.Beesetti Venkata Satyavathi  ADARI ANAND KUMAR  Chintala Partha Sarathi  Dr. Gandi Venkata Satyanarayana Rao (Dr Vikram)  PATEL MITESH RAMESHBHAI (BAKABHAI)  BHARATBHAI MADHAVSINH SOLANKI  Manish Tewari  Professor Prem Singh Chandumajra  Sodhi Vikram Singh  Narinder Singh Shergill  TALARI RANGAIAH  J.C. PAVAN REDDY  K.RAJIV REDDY   D.JAGADEESH     HASNAIN MASOODI  GHULAM AHMAD MIR  MEHBOOBA MUFTI   SOFI YOUSUF      CH. ZAFFAR ALI   GH. MOHD. WANI   KULDEEP RAI SHARMA         VISHAL JOLLY               PARITOSH KUMAR HALDAR      SANJAY MESHACK             PRAKASH MINJ               DHARMENDRA KASHYAP  RUCHIVIRA      KUNWAR SARVARAJ SINGH  S. JAGATHRAKSHAKAN  A.K. MOORTHY  N.G. PARTHIBAN  Y.R. PAVENDHAN  RAJENDRAN, N.  APARUPA PODDAR (AFRIN ALI)  TAPAN KUMAR RAY  SAKTI MOHAN MALIK  JYOTI KUMARI DAS  VISHNU PRASAD M K  ELUMALAI V  SENTHAMIZHAN G  TAMIZHARASI A  SHAJI V     PRADEEP KUMAR SINGH  SARFARAZ ALAM  R. K. Singh  Raju Yadav  Shiv das Singh  Raj Giri Bhagat  GODDETI. MADHAVI  KISHORE CHANDRA DEO  GANGULAIAH VAMPURU.  Dr. KOSURI KASI VISWANADHA VEERA VENKATA SATYANARAYANA REDDY  SHRUTI DEVI VYRICHERLA  KANGALA BALUDORA  NARAVA SATYAVATHI  Tapir Gao          Lowangcha Wanglat  Mongol Yomso       Bandey Mili        C. C. Singpho      KIREN RIJIJU       NABAM TUKI         JARJUM ETE         KHYODA APIK        SUBU KECHI         BABUL SUPRIYO  MOON MOON SEN  GOURANGA CHATTERJEE  BISWARUP MONDAL  MD. ZAHIR ALAM  Pramila Bisoyi  Anita Subhadarshini  Rama Krushna Panda  Adv. ADOOR PRAKASH  Dr. A. SAMPATH  SOBHASURENDRAN  SUSHIL KUMAR SINGH  Imtiaz Jaleel Syed  NARESH YADAV  UPENDRA PRASAD  Chandrakant Khaire  Harshwardhandada Raibhanji Jadhav  Zambad Subhash Manakchand  DHIRENDRA KUMAR SINGH  DR DHARMENDRA KUMAR  SANTOSH KUMAR SINHA  AVINASH KUMAR  YOGENDRA RAM  SOM PRAKASH  HOREN SING BEY  BIREN SINGH ENGTI  JONES INGTI KATHAR  HOLIRAM TERANG  LIENKHOCHON  Akhilesh Yadav  Dinesh Lal Yadav Nirahua  Dr. Sanghmitra Maurya  Dharmendra Yadav  Saleem Iqbal Shervani  Gaddigoudar Parvatagouda Chandanagouda  Veena Kashappanavar  Dr. SATYAPAL SINGH  JAYANT CHAUDHARY  ADHIR RANJAN CHOWDHURY  APURBA SARKAR (DAVID)  KRISHNA JOYARDAR  SAMIR BISWAS  ID MOHAMMAD  AKSHAIBAR LAL  SHABBIR BALMIKI  SAVITRI BAI PHULE  DR DHAL SINGH BISEN  MADHU BHAGAT    KANKAR MUNJARE  BODHSINGH BHAGAT  PRATAP CHANDRA SARANGI  RABINDRA KUMAR JENA  NAVAJYOTI PATNAIK  Virendra Singh  Sanatan Pandey  Vinod          Sukanta Majumdar  Arpita Ghosh  Ranen Barman  Abdus Sadek Sarkar  PARBATBHAI SAVABHAI PATEL  PARTHIBHAI GALBABHAI BHATOL  THAKOR SWARUPJI SARDARJI  TEJABHAI NETHIBHAI RABARI  PUROHIT SHYAMABEN NARANBHAI  R.K. SINGH PATEL  SHYAMA CHARAN GUPTA  BALKUMAR PATEL  CHHOTELAL      P. C. Mohan  Rizwan Arshad  Prakash Raj  D.V. Sadananda Gowda  Krishna Byregowda  D.K. SURESH  ASHWATHNARAYANGOWDA  DR CHINNAPPA Y CHIKKAHAGADE  TEJASVI SURYA  B.K.HARIPRASAD  SHANTANU THAKUR  MAMATA THAKUR  ALAKESH DAS  SOURAV PROSAD  GIRIDHARI YADAV  JAI PRAKASH NARAYAN YADAV  PUTUL KUMARI  MANOJ KUMAR SAH  PRAVIN KUMAR JHA  MRITUNJAY ROY  MD RAFIQUE ALAM  DR. SUBHAS SARKAR  SUBRATA MUKHERJEE  AMIYA PATRA  MILAN MANDI  Kamlesh Paswan  Sadal Prasad   KANAKMAL KATARA  TARACHAND BHAGORA  KANTILAL ROAT  BAPULAL    NITESH DAMOR  NANDIGAM SURESH  MALYADRI SRIRAM  K. DEVANAND     J.D. SEELAM     Upendra Singh Rawat  Ram Sagar Rawat  Tanuj Punia    Supriya Sule  Kanchan Rahul Kool  Padalkar Navanath  MOHAMMAD AKBAR LONE  RAJA AIJAZ ALI   ENGINEER RASHID  ABDUL QAYOOM WANI  HAJI FAROOQ AHMAD MIR  MOHD MAQBOOL WAR  SYED NAJEEB SHAH NAQVI  Dr. Kakoli Ghoshdastidar  Mrinal Kanti Debnath  Haripada Biswas  Subrata Dutta  S.S AHLUWALIA  DR. MAMTAZ SANGHAMITA  ABHAS RAY CHAUDHURI  RANAJIT MUKHERJEE  SUNIL KUMAR MONDAL  PARESH CHANDRA DAS  ISWAR CHANDRA DAS  SIDDHARTHA MAJUMDAR  PARBHUBHAI NAGARBHAI VASAVA  CHAUDHARI DR. TUSHARBHAI AMARSINHBHAI  SANTOSH KUMAR GANGWAR  BHAGWAT SARAN GANGWAR  PRAVEEN SINGH ARON  Suresh Pujari  Prasanna Acharya  Pradeep Kumar Debta  KAILASH CHOUDHARY  MANVENDRA SINGH  RAMESH KUMAR MEGHWAL  Abdul Khaleque  Kumar Deepak Das  Rafiqul Islam  Ashahak Ali Dewan  ARJUN SINGH  DINESH TRIVEDI  GARGI CHATTERJEE  MD. ALAM     Nusrat Jahan Ruhi  Sayantan Basu  Quazi Abdur Rahim  Pallab Sengupta  DEEPAK BAIJ   BAIDU RAM KASHYAP  RAMU RAM MOURYA  AAYTU RAM MANDAVI  SURESH KAWASI  PANEESH PRASAD NAG  MANGALARAM KARMA  HARISH CHANDRA ALIAS HARISH DWIVEDI  RAM PRASAD CHAUDHARY  RAJ KISHOR SINGH  VINOD KUMAR RAJBHAR  Harsimrat Kaur Badal  Amrinder Singh Raja Warring  Prof. Baljinder Kaur  Sukhpal Singh Khaira  Pritam Gopinathrao Munde  Bajrang Manohar Sonwane  Pro. Vishnu Jadhav  Chavhan Sampat Ramsing  Giriraj Singh  Kanhaiya Kumar  Mo. Tanweer Hassan  Saurabh  ANGADI SURESH CHANNABASAPPA  Dr.SADHUNAVAR  Y. DEVENDRAPPA  V. S. UGRAPPA  CHANDRA SEKHAR SAHU  BHRUGU BAXIPATRA  V.CHANDRASEKHAR NAIDU  DURGA DAS (D.D.) UIKEY  RAMU TEKAM (ADVOCATE)  ASHOK BHALAVI   RAMESH CHAND   RANGNATH MISHRA  RAMAKANT       MANJULATA MANDAL  AVIMANYU SETHI  MADHUMITA SETHI  AJAY KUMAR MANDAL  SHAILESH KUMAR ALIAS VULO MANDAL  Sunil Baburao Mendhe  Panchabudhe Nana Jairam  Dr. Vijaya Rajesh Nandurkar  K. N. Nanhe  Patle Rajendra Sahasram  RANJEETA KOLI  ABHIJEET KUMAR JATAV  SURAJ PRADHAN JATAV  Mansukhbhai Dhanjibhai Vasava  Sherkhan Abdulsakur Pathan  Chhotubhai Amarsinh Vasava  Sindha Kiritsinh Alias Jalamsinh Nathubava  DR.BHARATIBEN DHIRUBHAI SHIYAL  PATEL MANHARBHAI NAGJIBHAI (VASANI)  SUBHASH CHANDRA BAHERIA  RAM PAL SHARMA  SHIVLAL GURJAR  PAWAN KUMAR SHARMA  SANDHYA RAY     DEVASHISH       BABU RAM JAMOR  KAPIL MORESHWAR PATIL  TAWARE SURESH KASHINATH  PROF. (DR.) ARUN SAVANT  NITESH RAGHUNATH JADHAV  Dharambir Singh S/o Bhale Ram  Shruti Choudhry  Swati Yadav  Ramesh Rao Pilot  Komati Reddy Venkat Reddy  Dr. Boora Narsaiah Goud  P.V. Shyam Sunder Rao  Goda Sri Ramulu  Singapaka Lingam  SADHVI PRAGYA SINGH THAKUR  DIGVIJAYA SINGH  APARAJITA SARANGI  Arup Mohan Patnaik  JANARDAN PATI  BHAGWANTH KHUBA  ESHWAR B. KHANDRE  BABA BUKHARI  JIGAJINAGI RAMESH CHANDAPPA  DR. SUNITA DEVANAND CHAVAN  DHAREPPA MAHADEV ARDHAVAR  PUJARI SHRINATH SANGAPPA  MALOOK NAGAR   RAJA BHARATENDRA SINGH  NASIMUDDIN SIDDIQUI  ARJUN RAM MEGHWAL  MADAN GOPAL MEGHWAL  BHAIRA RAM  ARUN SAO      ATAL SHRIVASTAV  UTTAM DAS GUROO GOSAI  SATABDI ROY  DUDH KUMAR MONDAL  KARIM REZAUL  IMAM HOSSAIN  AHAMED FARUK  KHAN SAUMITRA  SHYAMAL SANTRA  KHAN SUNIL   KHAN NARAYAN CHANDRA  Sangeeta Kumari Singh Deo  Kalikesh Narayan Singh Deo  Samarendra Mishra  DINESH NAG  ASIT KUMAR MAL  DAS RAMPRASAD  RAM CHANDRA DOME  ABHIJIT SAHA  SIMANTA MONDAL  BHOLA SINGH    YOGESH VERMA   BANSHI SINGH   Jadhav Prataprao Ganpatrao  Dr. Rajendra Bhaskarrav Shingne  Siraskar Baliram Bhagwan  Ashwini Kumar Choubey  Jagadanand Singh  Sushil Kumar Singh  Uday Narayan Rai @ Luddu Rajbhar  BENNY BEHANAN  INNOCENT  A N RADHAKRISHNAN  V. SRINIVAS PRASAD  R. DHRUVANARAYANA  Dr. SHIVAKUMARA  Dr. Mahendra Nath Pandey  Sanjay Singh Chauhan  Shivkanya Kushwaha  Ramgovind      KIRRON KHER  PAWAN KUMAR BANSAL  HARMOHAN DHAWAN  PARVEEN KUMAR  HARSH VARDHAN  JAI PRAKASH AGARWAL  PANKAJ KUMAR GUPTA  Balubhau alias Suresh Narayan Dhanorkar  Ahir Hansraj Gangaram  Adv. Rajendra Shriramji Mahadole  SUNIL KUMAR SINGH  MANOJ KUMAR YADAV  SUBHASH PRASAD YADAV  ARJUN KUMAR  NAGESHWAR GANJHU  NANDLAL PRASAD  JAIDULA ANSARI  RAJENDRA SAHU  DAYANIDHI MARAN  SAM PAUL. S.R.  KAMEELA NASSER  Dr.KARTHIKEYAN. R  SHEIK MOHAMED @ DHEHLAN BAQAVI  Dr. KALANIDHI VEERASWAMY  ALAGAAPURAM R. MOHANRAJ  A. G. MOURYA  KALIYAMMAL.P  P.SANTHANA KRISHNAN  T.SUMATHY (A) THAMIZHACHI THANGAPANDIAN  Dr.J.JAYAVARDHAN  R.RANGARAJAN  A.J.SHERINE  Dr.E.SUBAYA (A) ESAKKI SUBAYA  Dr. G. Ranjith Reddy  Konda Vishweshwar Reddy  B. Janardhan Reddy  NAKUL KAMAL NATH  NATHANSAHA KAWRETI  MANMOHAN SHAH BATTI  GYANESHWAR GAJBHIYE  RATHVA GITABEN VAJESINGBHAI  RATHAVA RANJITSINH MOHANSINH  RATHVA FURKANBHAI BALAJIBHAI  THIRUMAAVALAVAN THOL  CHANDRASEKAR P  ELAVARASAN A  RAVI T      B.N.Bache Gowda  M.Veerappa Moily  Dr. C.S.Dwarakanath  S.Varalakshmi  ANNASAHEB SHANKAR JOLLE  PRAKASH BABANNA HUKKERI  MACHENDRA DAVALU KADAPURE  A NARAYANASWAMY  B N CHANDRAPPA  N. REDDEPPA     NARAMALLI SIVA PRASAD  CHEEMALA. RANGAPPA  C. PUNYAMURTHY  Chandra Prakash Joshi  Gopal Singh Shekhawat  RAHUL KASWAN  RAFIQUE MANDELIA  BALWAN POONIA  HARI SINGH  NATARAJAN. P.R  RADHAKRISHNAN. C.P  MAHENDRAN. R  KALYANA SUNDARAM. S  APPATHURAI. N.R.  NISITH PRAMANIK  ADHIKARY PARESH CHANDRA  GOBINDA CHANDRA ROY  PIYA ROY CHOWDHURY  T. R. V .S. RAMESH  Dr. R. GOVINDASAMY  K. THANGAVEL  R. CHITHRA  V. ANNAMALAI  BHARTRUHARI MAHTAB  PRAKASH MISHRA  PANCHANAN KANUNGO  DELKAR MOHANBHAI SANJIBHAI  PATEL NATUBHAI GOMANBHAI  TOKIYA PRABHUBHAI     PATEL ANKITA AMRUTBHAI  KURADA DEEPAKBHAI     DAYAT MANOJ RANCHOD   JASHVANTSINH SUMANBHAI BHABHOR  KATARA BABUBHAI KHIMABHAI  BHABHOR DHULABHAI DITABHAI  DEVDHA SAMSUBHAI KHATARABHAI  NALIN KUMAR KATEEL  MITHUN M RAI  MOHAMMED ELIYAS  LALUBHAI BABUBHAI PATEL  KETAN DAHYABHAI PATEL  PATEL UMESHBHAI BABUBHAI  PRAHALAD SINGH PATEL  PRATAP SINGH    JITTU KHARE \"BADAL\"  Gopal Jee Thakur  Abdul Bari Siddiqui  SAGUNI RAY  MD. MUKHTAR  RAJU BISTA   AMAR SINGH RAI  Sankar Malakar  SAMAN PATHAK  RAJESH SINGH  Jaskaur Meena  Savita Meena  Dwarka Prasad Maheshwara  G M SIDDESHWAR  H B MANJAPPA  RAMAPATI RAM TRIPATHI  MAHENDRA SINGH SOLANKY  PRAHLAD SINGH TIPANYA  BADRILAL \"AKELA\"  PASHUPATI NATH SINGH  KIRTI AZAD  CHATTARSINGH DARBAR  GIRWAL DINESH   GULSINGH RAMSINGH KAWACHE  DNV SENTHILKUMAR. S.  ANBUMANI RAMADOSS  PALANIAPPAN. P.  RUKMANIDEVI. R.  RAJASEKAR. D.  Pralhad Joshi  Vinay Kulkarni  REKHA VERMA    ARSHAD ILIYAS SIDDIQUI  KUNWAR JITIN PRASADA  MAHESH SAHOO  RUDRA NARAYAN PANY  RAJA KAMAKHYA PRASAD SINGH DEO  BADRUDDIN AJMAL  ABU TAHER BEPARI  ZABED ISLAM  Bhamre Subhash Ramrao  Kunalbaba Rohidas Patil  Nabi Ahmad Ahmad Dulla  ABHISHEK BANERJEE  NILANJAN ROY  Dr. FUAD HALIM  SOUMYA AICH ROY  RAMESWAR TELI  PABAN SINGH GHATOWAR  VELUSAMY, P.  JOTHI MURUGAN,P.  SUTHAKARAN, S. Dr.  Dr. Bharati Pravin Pawar  Dhanraj Haribhau Mahale  Gavit Jeeva Pandu  Bapu Kelu Barde  JAGDAMBIKA PAL  AFTAB ALAM     CHANDRASH ALIAS CHANDRESH KUMAR UPADHYAY  SOUGATA RAY  SAMIK BHATTACHARYA  NEPALDEB BHATTACHARYA  SAURAV SAHA  SUNIL SOREN  SHIBU SOREN  DR. SHRILAL KISKU  SENAPATI MURMU  ARJUN PUJHAR  SAMUEL TUDU  VIJAY BAGHEL  PRATIMA CHANDRAKAR  GEETANJALI SINGH  GAUTAM GAMBHIR  ARVINDER SINGH LOVELY  ATISHI        SANJAY KUMAR  KOTAGIRI SRIDHAR  MAGANTTI VENKATESWARA RAO BABU  JETTI GURUNADHA RAO  HIBI EDEN  P RAJEEV  ALPHONS KANNANTHANAM  GANESHAMURTHI A  MANIMARAN G  SARAVANAKUMAR A  SEETHALAKSHMI M K  SENTHILKUMAR K C  Rajveer Singh (Raju Bhaiya)  Ku. Devendra Singh Yadav  Dr RAM SHANKAR KATHERIA  KAMLESH KUMAR  ASHOK KUMAR DOHARE  LALLU SINGH    ANAND SEN      NIRMAL KHATRI  KRISHAN PAL  AVTAR SINGH BHADANA  MANDHIR MAAN  Mohammad Sadique  Gulzar Singh Ranike  Prof. Sadhu Singh  Master Baldev Singh  Mukesh Rajput  Manoj Agarwal  Salman Khurshid  AMAR SINGH  DARBARA SINGH GURU  MANWINDER SINGH GIASPURA  BANDEEP SINGH  NIRANJAN JYOTI  SUKHDEV PRASAD VERMA  RAKESH SACHAN  RAJKUMAR CHAHAR  RAJ BABBAR     SHREEBHAGWAN SHARMA  Dr. Chandra Sen Jadon  Akshay Yadav   Shivpal Singh Yadav  SUKHBIR SINGH BADAL  SHER SINGH GHUBAYA  HARJINDER SINGH KAKA SRAN  HANS RAJ GOLDEN  ASHOK MAHADEORAO NETE  Dr. NAMDEO DALLUJI USENDI  Dr. RAMESHKUMAR BABURAOJI GAJBE  HARICHANDRA NAGOJI MANGAM  DEORAO MONBA NANNAWARE  AMIT SHAH  Dr. C. J. CHAVDA  NIHAL CHAND  BHARAT RAM MEGHWAL  RAVTARAM   Tirath Singh Rawat  Manish Khanduri  QUEEN OJA  BOBBEETA SHARMA  UPAMANYU HAZARIKA  Dr. MAHESH SHARMA  SATVEER        Dr. ARVIND KUMAR SINGH  Vijay Kumar  Jitan Ram Manjhi  Vijay Kumar Chaudhary  Sheo Shankar  Dayanand Rajwanshi  Rakesh Chaudhari  Dilip Kumar  Rajesh Kumar Paswan  Prakash Chandra  Umesh Rajak  Sunil Paswan  ADHIKARI DEEPAK (DEV)  BHARATI GHOSH  TAPAN GANGULI  KHANDAKAR MD. SAIFULLAH (SAIFUL)  Vijay Kumar Singh  Suresh Bansal  Dolly Sharma   AFZAL ANSARI   MANOJ SINHA    RAMJI          AJIT PRATAP KUSHAWAHA  ATUL KUMAR SINGH  HARINARAYAN    MAHENDRA       BALKRISHNA     ATUL KUMAR SINGH  Chandra Prakash Choudhary  Jagarnath Mahto  Nishikant Dubey  Pradeep Yadav  Zaffar Obaid  K. Rangaiah  Birendra Kumar  KIRTI VARDHAN SINGH ALIAS RAJA BHAIYA  VINOD KUMAR ALIAS PANDIT SINGH  SMT KRISHNA PATEL  DR. ALOK KUMAR SUMAN  SURENDRA RAM  KUNAL KISHOR VIVEK  DINANATH MANJHI  SURENDRA RAM  DILIP KUMAR MANJHI  Ravindra Shyamnarayan Shukla alias Ravi Kishan  Rambhual Nishad  Madhusudan Tripathi  DR. UMESH G JADHAV  MALLIKARJUN KHARGE  KRISHNA PAL SINGH \"Dr. K. P. YADAV\"  JYOTIRADITYA M. SCINDIA  DHAKAD LOKENDRA SINGH RAJPOOT  Jayadev Galla   Modugula Venugopala Reddy  Bonaboyina Srinivasa Rao (Bonaboyina Srinivasa Yadav)  Shaik Mastanvali  SUNNY DEOL  SUNIL JAKHAR  PETER MASIH  LAL CHAND KATARU CHAK  RAO INDERJIT SINGH  CAPT. AJAY SINGH  CHAUDHARY RAIS AHMAD  VIVEK NARAYAN SHEJWALKAR  ASHOK SINGH     MAMTA BALVEER SINGH KUSHWAH  PASHU PATI KUMAR PARAS  SHIV CHANDRA RAM  RAJ KR. PASWAN  ARVIND PASWAN  UMESH DAS  RAJGIR PASWAN  ANURAG SINGH THAKUR  KUNWAR PUSHPENDRA SINGH CHANDEL  DILIP KUMAR SINGH  RAM LAL THAKUR    PRITAM SINGH LODHI KISAAN  SANJAY KUMAR SAHU  Jai Prakash    Usha Verma     Virendra Kumar  Ramesh Pokhriyal 'Nishank'  Ambrish Kumar  Dr. Antriksh Saini  PRAJWAL REVANNA  MANJU A    VINODRAJ K H  RAJVIR DILER   RAMJI LAL SUMAN  TRILOKI RAM    Dhairyasheel Sambhajirao Mane  Raju Anna Shetti  Aslam Badshahaji Sayyad  UDASI. S.C.  D.R. PATIL  JAYANT SINHA  GOPAL PRASAD SAHU  BHUBNESHWAR PRASAD MEHTA  MD. MOIN UDDIN AHMAD  RAMAVTAR MAHTO  KURUVA GORANTLA MADHAV  KRISTAPPA . NIMMALA  KAMAGANAHALLI THIPPESWAMY SREEDHAR (K.T.SREEDHAR)  MITTA PARTHASARATHI  Hemant Patil  Wankhede Subhashrao Bapurao  Mohan Fattusing Rathod  Sandesh Ramchandra Chavan  BRIJENDRA SINGH  DUSHYANT CHAUTALA  BHAVYA BISHNOI  SURINDER SHARMA  LOCKET CHATTERJEE  DR. RATNA DE (NAG)  PRADIP SAHA  PRATUL CHANDRA SAHA  UDAY PRATAP SINGH  SHAILENDRA DIWAN CHANDARBHAN SINGH  M.P. CHOUDHARY  SOM PARKASH  Dr. RAJ KUMAR CHABBEWAL  KHUSHI RAM  Dr. RAVJOT SINGH  Prasun Banerjee  Rantidev Sengupta  Sumitro Adhikary  SUVRA GHOSH  ASADUDDIN OWAISI  Dr. BHAGAVANTH RAO  PUSTHE SRIKANTH  MOHAMMED FEROZ KHAN  Adv. DEAN KURIAKOSE  Adv, JOICE GEORGE  BIJU KRISHNAN  SHANKAR LALWANI  PANKAJ SANGHVI  DR RAJKUMAR RANJAN SINGH  OINAM NABAKISHORE SINGH  MOIRANGTHEM NARA SINGH  RAJKUMAR SOMENDRO SINGH (KAIKU)  R.K. ANAND  RAKESH SINGH    Pt. VIVEK KRISHNA TANKHA  AD. RAMRAJ RAM  MIMI CHAKRABORTY  ANUPAM HAZRA  BIKASH RANJAN BHATTACHARYYA  RAJASHREE MALLICK  BIBHU PRASAD TARAI  PRATIMA MALLICK  CHANDESHWAR PRASAD  SURENDRA PRASAD YADAV  ARUN KUMAR  KUNTI DEVI  NITYA NAND SINGH  SUNIL KUMAR  ARBIND KUMAR  Ramcharan Bohra  Jyoti Khandelwal  COL. RAJYAVARDHAN RATHORE  KRISHNA POONIA  SARMISTHA SETHI  AMIYA KANTA MALLICK  MANAS JENA  Santokh Singh Chaudhary  Charanjit Singh Atwal  Balwinder Kumar  Justice (Retd.) Jora Singh  BHANU PRATAP SINGH VERMA  AJAY SINGH (PANKAJ)  BRIJLAL KHABRI  SHRAVAN KUMAR PAL  Unmesh Bhaiyyasaheb Patil  Gulabrao Baburao Deokar  Anjali Ratnakar Baviskar  Danve Raosaheb Dadarao  Autade Vilas Keshavrao  Dr. Sharadchandra Wankhede  Devaji Patel  Ratan Devasi  Dr. JAYANTA KUMAR ROY  BIJOY CHANDRA BARMAN  BHAGIRATH CHANDRA ROY  MANI KUMAR DARNAL  Jugal Kishore    Raman Bhalla     POONAMBEN HEMATBHAI MAADAM  KANDORIYA MULUBHAI RANMALBHAI  Bidyut Baran Mahato  Champai Soren  CHIRAG KUMAR PASWAN  BHUDEO CHOUDHARY  SUBHASH PASWAN  VIRENDRA KUMAR  VISHNU PRIYA  KHALILUR RAHAMAN  MAFUJA KHATUN  ABHIJIT MUKHERJEE  MD. ZULFIKAR ALI  DR. S.Q.R. ILYAS  GUHARAM AJGALLEY  RAVI PARASRAM BHARDWAJ  DAURAM RATNAKAR  SHYAM SINGH YADAV  KRISHNA PRATAP SINGH K.P.  DEO VRAT MISHRA  PRATIMA MONDAL  DR. ASHOK KANDARY  SUBHAS NASKAR  JAYKRISHNA HALDAR  TAPAN MONDAL  DUSHYANT SINGH  PRAMOD SHARMA  Ramprit Mandal  GULAB YADAV  Bipeen Kumar Singhwait  Devendra Prasad Yadav  Om Prakash Poddar  Ganpati Jha  Anurag Sharma  Shyam Sundar Singh  Shivsharan     Kunar Hembram  Birbaha Saren  Deblina Hembram  Jageswar Hembram  NARENDRA KUMAR  SHARWAN KUMAR S/O GOKAL RAM  Gajendra Singh Shekhawat  Vaibhav Gehlot  TOPON KUMAR GOGOI  SUSHANTA BORGOHAIN  KANAK GOGOI  CHUDASAMA RAJESHBHAI NARANBHAI  VANSH PUNJABHAI BHIMABHAI  DEVEN GOVINDBHAI VANVI  CHAVDA VINOD LAKHAMSHI  NARESH NARANBHAI MAHESHWARI  Y.S.Avinash Reddy  Adi Narayana Reddy Chadipirala  Pradeep Kumar  Tabassum Begum  Harendra Singh Malik  Brijbhusan Sharan Singh  Chandradev Ram Yadav  VANGA GEETHAVISWANATH  CHALAMALASETTY SUNIL  JYOTHULA VENKATESWARA RAO  BASANTA KUMAR PANDA  PUSPENDRA SINGH DEO  BHAKTA CHARAN DAS  KAMALINI YADAV  CHHABILAL NIAL  Gaurav Gogoi  Moni Madhab Mahanta  Sri Jiten Gogoi  Gautham Sigamani Pon  Sudhish L K  Komugi Maniyan M  Ganesh H    Dr. SHRIKANT EKNATH SHINDE  BABAJI BALARAM PATIL  SANJAY HEDAOO  RAVINDRA (PINTU) KENE  Selvam.G    Maragatham K  Sivaranjani.D  Munusamy A  ACHYUTANANDA SAMANTA  Mahameghabahan Aira Kharabela Swain  Manoj Kumar Acharya  Kishan Kapoor     Pawan Kajal       MOHAN MANDAVI  BIRESH THAKUR  SUBRAT PATHAK  DIMPLE YADAV   Vasanthakumar. H  RADHAKRISHNAN. P  JAINTEEN. V  LEKSHMANAN. E  K. SUDHAKARAN  P. K. SREEMATHI TEACHER  C. K. PADMANABHAN  Satyadev Pachauri  Sriprakash Jaiswal  Ram Kumar      Adhikari Sisir  Dr. Debasis Samanta  Paritosh Pattanayak  Dipak Kumar Das  MAHABALI SINGH  UPENDRA KUSHWAHA  RAJA RAM SINGH  RAJ NARAYAN TIWARI  MOHAMMAD ATAHAR HUSAIN  MAMTA PANDEY  MANOJ RAJORIA  SANJAY KUMAR  RAMKUMAR   KRIPANATH MALLAH  RADHESHYAM BISWAS  SWARUP DAS  BANDI SANJAY KUMAR  BOIANAPALLI VINOD KUMAR  Ponnam Prabhaker  DURVASA REDDY PAKALA  Sanjay Bhatia  Kuldip Sharma  Pankaj   Krishan Kumar Aggarwal  Dharmvir Padha  Jothimani S  Thambidurai M  Karuppaiya R  Thangavel P S N  Hariharan Dr R  Rajmohan Unnithan  K. P. Sathishchandran  Ravisha Thanthri Kuntar  DULAL CHANDRA GOSWAMI  TARIQ ANWAR  VINOD KUMAR SONKAR  INDRAJEET SAROJ  SHAILENDRA KUMAR PASI  GIRISH PASI    Anubhav Mohanty  BAIJAYANT PANDA  DHARANIDHAR NAYAK  Chandrani Murmu  Ananta Nayak  Mohan Kumar Hembram  JASBIR SINGH GILL (DIMPA)  BIBI JAGIR KAUR  PARAMJIT KAUR KHALRA  MANJINDER SINGH SIDHU  Choudhary Mehboob Ali Kaiser  Mukesh Sahani  Priadarshi Dinkar  Bandan Kumar Singh  Moni Kumar  Nagendra Singh Tyagi  Dhirendra Chaudhary  V.D. SHARMA (VISHNU DATT SHARMA)  MAHARANI KAVITA SINGH NATIRAJA  VEER SINGH PATEL  NAMA NAGESWR RAO  RENUKA CHOWDHURY  Boda Venkat  DEVAKI VASUDEVA RAO  NARALA SATYANARAYANA  GOKINAPALLI VENKATESWAR RAO  NANDKUMAR SINGH CHOUHAN (NANDU BHAIYA)  ARUN SUBHASH CHANDRA YADAV  DAYARAM KORKU (THAKUR DADA)  GAJENDRA UMRAO SINGH PATEL  DR. GOVIND SUBHAN MUJALDA  COMRADE JYOTI SUKHLAL GORE  AMIT KUMAR BALKE  Chauhan Devusinh  Bimal Shah  Ajay Kumar     Dr. Purvi Verma  Zafar Ali Naqvi  Vipnesh Shukla  ARJUN MUNDA  KALI CHARAN MUNDA  MEENAKSHI MUNDA  AJAY TOPNO  Dr. Mohammad Jawed  Syed Mahmood Ashraf  Akhtarul Iman  Rajesh Kumar Dubey  ANNPURNA DEVI  BABU LAL MARANDI  RAJ KUMAR YADAV  KANCHAN KUMARI  Naba Kumar Sarania  Pramila Rani Brahma  Urkhao Gwra Brahma  Sabda Ram Rabha  Biraj Deka  S. MUNISWAMY  K.H. MUNIYAPPA  Sanjay Sadashivrao Mandlik  Dhananjay Mahadik  Dr. Aruna Mohan Mali  Mala Roy     Chandra Kumar Bose  Nandini Mukherjee  Mita Chakraborty  BANDYOPADHYAY SUDIP  RAHUL (BISWAJIT) SINHA  KANINIKA BOSE (GHOSH)  SYED SHAHID IMAM  N.K.Premachandran  K.N.Balagopal  Adv.K.V.Sabu  KARADI SANGANNA AMARAPPA  K.RAJASHEKAR BASAVARAJ HITNAL  SAPTAGIRI SANKAR ULAKA  KAUSALYA HIKAKA  JAYARAM PANGI  BHASKAR MUTUKA  DAMODARA SABAR  BANAMALI MAJHI  RAJENDRA KENDRUKA  JYOTSNA CHARANDAS MAHANT  JYOTI NAND DUBEY  TULESHWAR HIRASINGH MARKAM  PARMIT SINGH  LAKHAN LAL DEWANGAN  OM BIRLA   RAMNARAIN MEENA  Thomas Chazhikadan  V.N. Vasavan  Adv. P.C Thomas  M.K.RAGHAVAN  A.PRADEEP KUMAR  Adv.PRAKASH BABU  Dr.A.CHELLAKUMAR  K.P.MUNUSAMY  MADHUSOODHANAN.N  SRI KARUNYA SUBRAHMANYAM  MAHUA MOITRA  KALYAN CHAUBEY  JHA SHANTANU  INTAJ ALI SHAH  AYUSHMAN DOCTOR SANJEEV KUMAR  KOTLA JAYA SURYA PRAKASH REDDY  AHMED ALI KHAN  Dr. PARTHASARATHI VALMIKI  K. PRABHAKARA REDDY  NAYAB SINGH  NIRMAL SINGH  SHASHI   JAI BHAGWAN SHARMA (DD)  ARJUN SINGH CHAUTALA  VIJAY KUMAR DUBEY  N.P. KUSHWAHA ALIAS NATHUNI PRASAD KUSHWAHA  KUNWER RATANJIT PRATAP NARAYAN SINGH  Jamyang Tsering Namgyal  Sajjad Hussain   Asgar Ali Karbalai  Rigzin Spalbar   PRADAN BARUAH  ANIL BORGOHAIN  ARUP KALITA  MOHAMMED FAIZAL PP  HAMDULLAH SAYEED  DR. MOHAMMED SADIQUE KP  Sangeeta Azad  Neelam Sonker  Dr. Deelip Kumar Saroj  Pankaj Mohan Sonkar  Sudhakar Tukaram Shrangare  Kamant Machhindra Gunwantrao  Ram Garkar   SUDARSHAN BHAGAT  SUKHDEO BHAGAT  DEOKUMAR DHAN  SANJAY ORAON  DINESH ORAON  RAGHUNATH MAHLI  Rajnath Singh  Poonam Shatrughan Sinha  Acharya Pramod Krishnam  RAVNEET SINGH BITTU  SIMARJEET SINGH BAINS  MAHESHINDER SINGH GREWAL  PROF. TEJ PAL SINGH GILL  Bholanath (B.P. Saroj)  Tribhuvan Ram (T.Ram)  Raj Nath       BALASHOWRY VALLABHANENI  KONAKALLA NARAYANA RAO  BANDREDDI RAMAKRISHNA  Ranjeetsinha Hindurao Naik- Nimbalkar  Sanjaymama Vitthalrao Shinde  Adv. Vijayrao More  Daulat Umaji Shitole  Dinesh Chandra Yadav  Sharad Yadav  Rajesh Ranjan @ Pappu Yadav  Suman Kumar Jha  ASHOK KUMAR YADAV  DR. SHAKEEL AHMAD  HEMA JHA  ABUBAKAR RAHMANI  ANAND KUMAR JHA  VENKATESAN S  RAJ SATYEN V.V.R  DAVID ANNADURAI K  ALAGAR M    PANDIAMMAL J  Kavitha Malothu  Balaram Naik Porika  Arun Kumar Mypathi  Kalluri. Venkateswara Rao.  Jatothu Hussain  Balu Nayak Bhukya  Uke Kousalya  PANKAJ CHOUDHARY  Janardan Singh 'Sigriwal\"  Randhir Kumar Singh  AKHILESH       SUPRIYA SHRINATE  Anirudh Prasad alias Sadhu Yadav  M.K. Singh Rathour  Dr. Shree Bhagwan Singh  CHUNNI LAL SAHU  DHANENDRA SAHU  DEVENDAR SINGH THAKUR (RAJPUT)  MANNE SRINIVAS REDDY  ARUNA D.K  CHALLA VAMSHI CHAND REDDY  SHARDABEN ANILBHAI PATEL  A. J. Patel  MULAYAM SINGH YADAV  PREM SINGH SHAKYA  P.K. Kunhalikutty  V.P. Sanu  Unnikrishnan  Abdul Majeed Faizy  ABU HASEM KHAN CHOWDHURY (DALU)  SREERUPA MITRA CHAUDHURY  MD. MOAZZEM HOSSAIN  KHAGEN MURMU  MAUSAM NOOR  ISHA KHAN CHOUDHURY  BISWANATH GHOSH  ANUMULA REVANTH REDDY  RAJASHEKAR REDDY MARRI  RAMCHANDER RAO NARAPARAJU  MAHENDER REDDY BONGUNOORI  RAM SWAROOP SHARMA  AASHRAY SHARMA    DALEEP SINGH KAITH  FAGGAN SINGH KULASTE  KAMAL SINGH MARAVI  DADA RAMGULAM UIKEY  CHANDRA SINGH KUSHRAM  BHARAT SINGH POOSAM  Sudheer Gupta   Meenakshi Natarajan  SUMALATHA AMBAREESH  NIKHIL KUMARASWAMY  M.L. SHASHIKUMAR  DILIP SAIKIA  BHUBANESWAR KALITA  PRODEEP KUMAR DAIMARY  HEMA MALINI    KUNWAR NARENDRA SINGH  MAHESH PATHAK  CHOUDHURY MOHAN JATUA  SHYAMAPRASAD HALDER  DR. SARAT CHANDRA HALDAR  KRITTIBAS SARDAR  SHRIRANG APPA CHANDU BARNE  PARTH AJIT PAWAR  RAJARAM NARAYAN PATIL  KODIKUNNIL SURESH  CHITTAYAM GOPAKUMAR  THAZHAVA SAHADEVAN  RAMALINGAM. S  ASAIMANI. S  SENTHAMIZHAN. S  SUBHASHINI. K  REFAYUDEEN. M  BISHWESWAR TUDU  DR DEBASHIS MARNDI  ANJANI SOREN  PARBATI PURTY  Kotha Prabhakar Reddy  Anil Kumar Gali  Madavaneni Raghunandan Rao  Thummalapally Pruthviraj  Gajabhinkar Bansilal  Bangaru Krishna  Dilip Ghosh  Manas Ranjan Bhunia  Biplab Bhatta  Sambhunath Chattapadhyay  RAJENDRA AGARWAL  HAJI MOHAMMAD YAQOOB  HARENDRA AGARWAL  Anupriya Singh Patel  Ramcharitra Nishad  Lalitesh Pati Tripathi  Radheshyam Inshan  Ashok Kumar Rawat  Dr Neelu Satyarthi  Manjari Rahi   C LALROSANGA  LALNGHINGLOVA HMAR  NIRUPAM CHAKMA  TBC LALVENCHHUNGA  LAL HRIATRENGA CHHANGTE  Kaushal Kishore  C. L. Verma    R. K. Chaudhary  Dr. S.T. HASAN  KUNWAR SARVESH KUMAR  IMRAN PRATAPGARHI  NARENDRA SINGH TOMAR  RAMNIWAS RAWAT  KARTAR SINGH BHADANA  Gopal Shetty  Urmila Matondkar  Thorat Sunil Uttamrao  POONAM MAHAJAN  DUTT PRIYA SUNIL  ABDUR REHMAN ANJARIA  Manoj Kotak  Patil Sanjay Dina  Niharika Prakashchandra Khondalay  Gajanan Kirtikar  Sanjay Nirupam  Suresh Sundar Shetty  Arvind Ganpat Sawant  Deora Milind Murli  Dr. Anil Kumar  Rahul Ramesh Shewale  Eknath M. Gaikwad  Bhosale Sanjay Sushil  Ahmed Shakil Sagir Ahmed Shaikh  RAJIV RANJAN SINGH ALIAS LALAN SINGH  NILAM DEVI  AMARJIT PATEL  DINA SAW  UCHIT KUMAR  DR. RAJESH KUMAR RATNAKAR  KUMAR NAVNEET HIMANSHU  ABU TAHER KHAN  ABU HENA, S/O - LATE ABDUS SATTAR  HUMAYUN KABIR  BADARUDDOZA KHAN  Sanjeev Kumar Balyan  Ajit Singh     Ajay Nishad  Raj Bhushan Choudhary  Sukhdeo Prasad  Sudhir Kumar Jha  PRATHAP SIMHA  C.H.VIJAYASHANKAR  DR. B. CHANDRA (CHANDREGOWDA)  RAMESH CHANDRA MAJHI  PRADEEP KUMAR MAJHI  BALABHADRA MAJHI  CHANDRADHWAJ MAJHI  Tokheho Yepthomi  K L Chishi  Hayithung Tungoe  SELVARAJ M  SARAVANAN M  SENGODI T   MALATHI P   GURUVIAH K  POTHUGANTI RAMULU  DR MALLU RAVI  SHRUTHI BANGARU ALIAS BANGARU SHRUTHI  B YOSEF    SRINIVAS BUDDULA  HANUMAN BENIWAL  DR. JYOTI MIRDHA  SAROJ PRAJAPAT  GIRISH CHANDRA  DR. YASHWANT SINGH  OMVATI DEVI    NITIN JAIRAM GADKARI  NANA PATOLE  MOHAMMAD JAMAL  MANOHAR Alias SAGAR PUNDLIKRAO DABRASE  Ajay Bhatt   Harish Rawat  Er. Navneet Agarwal  Kaushlendra Kumar  Ashok Kumar Azad  Ramvilaf Paswan  Brahamdev Prasad  Shashi Kumar  Rakesh Paswan  UTTAM KUMAR REDDY NALAMADA  VEMIREDDY NARASIMHA REDDY  GARLAPATI JITHENDRA KUMAR  MALLU LAXMI  CHINRAJ A.K.P  KALIAPPAN P  BASKAR B    THANGAVELU R  SAMINATHAN P.P  Prataprao Patil Chikhalikar  Ashok Shankarrao Chavan  Bhinge Yashpal Narsingrao  Dr. Heena Vijaykumar Gavit  Adv. K. C. Padavi  Anturlikar Sushil Suresh  Dr. Natawadkar Suhas Jayant  POCHA . BRAHMANANDA REDDY  MANDRA SIVANANDA REDDY  S.P.Y. REDDY    JANGITE LAKSHMI NARASIMHA YADAV  LAVU SRI KRISHNA DEVARAYALU  RAYAPATI SAMBASIVARAO  NAYUB KAMAL SHAIK  KANNA LAKSHMI NARAYANA  KANUMURU RAGHU RAMA KRISHNA RAJU  V.V. SIVA RAMA RAJU (KALAVAPUDI SIVA)  NAGABABU KONIDELA  KANUMURU BAPIRAJU  PYDIKONDALA MANIKYALA RAO  Godse Hemant Tukaram  Sameer Magan Bhujbal  Adv. Kokate Manikrao Shivajirao  Pavan Chandrakant Pawar  C. R. Patil  PATEL DHARMESHBHAI BHIMBHAI  Chandan Singh  Vibha Devi  Rajesh Kumar  Vishnu Dev Yadav  Adala Prabhakara Reddy  Beeda Masthan Rao  Chandra Rajagopal  MEENAKASHI LEKHI  AJAY MAKAN    BRIJESH GOYAL  RAJA, A.    THIYAGARAJAN, M.  RAJENTHIRAN, N.  RAMASWAMY, M.  ARVIND DHARMAPURI  KALVAKUNTLA KAVITHA  MADHU GOUD YASKHI  MANOJ TIWARI  SHEILA DIKSHIT  DILIP PANDEY  RAJVEER SINGH  SHRIPAD YESSO NAIK  GIRISH RAYA CHODANKAR  DATTATRAYA PADGAONKAR  HANS RAJ HANS  GUGAN SINGH   RAJESH LILOTHIA  Pradyut Bordoloi  Sri Rupak Sharma  MAGUNTA SREENIVASULU REDDY  SIDDA RAGHAVA RAO  BELLAMKONDA SAIBABU  Omprakash Bhupalsinh Alias Pawan Rajenimbalkar  Ranajagjitsinha Padmasinha Patil  Arjun (Dada) Salgar  Lorho S. Pfoze  Houlim Shokhopao Mate  K. James  Thangminlien Kipgen  Ashang Kasar  V K SREEKANDAN  M B RAJESH  KRISHNAKUMAR C  VISHNU DAYAL RAM  GHURAN RAM  ANJANA BHUIYAN  DINESH RAM  VIJAY KUMAR  RAM JI PASWAN  AMINDRA PASWAN  Rajendra Dhedya Gavit  Baliram Sukur Jadhav  Dattaram Jayram Karbat  Suresh Arjun Padavi  Sanjay Laxman Tambda  P. P. CHAUDHARY  BADRIRAM JAKHAR  Ratansinh Magansinh Rathod  Khant Vechatbhai Kuberbhai  JADHAV SANJAY (BANDU) HARIBHAU  RAJESH UTTAMRAO VITEKAR  ALAMGIR MOHD. KHAN  COM. RAJAN KSHIRSAGAR  DR. SANJAY JAISWAL  BRIJESH KUMAR KUSHWAHA  RAKESH KUMAR  SANJAY KUMAR PATEL  RAM KRIPAL YADAV  MISHA BHARTI  MD. KALIMULLAH  DABHI BHARATSINHJI SHANKARJI  JAGDISH THAKOR  ANTO ANTONY  VEENA GEORGE  K SURENDRAN  Preneet Kaur  Surjit Singh Rakhra  Dharam Vira Gandhi  Neena Mittal  RAVI SHANKAR PRASAD  SHATRUGHAN SINHA  Venkatesh Netha Borlakunta  Agam Chandrasekhar  S.Kumar    Kuntala Narsaiah  Bala Kalyan Panja  Dr.PAARIVENDHAR, T. R  SIVAPATHY, N.R  SHANTHI, K.  RAJASEKARAN, M.  Keshari Devi Patel  Pandhari Yadav  Pankaj Patel   Feroze Varun Gandhi  Hemraj Verma   SHANMUGA SUNDARAM. K  MAHENDRAN. C  MOOKAMBIKA. R  SANUJA. U   MUTHUKUMAR. S  E. T. Mohammed Basheer  Rema    Adv. K.C. Nazeer  Sameera PA  RAMESHBHAI LAVJIBHAI DHADUK  LALIT VASOYA  SAMATBHAI GOVABHAI KADAVALA  SANGAM LAL GUPTA  ASHOK TRIPATHI  RAJKUMARI RATNA SINGH  AKSHAY PRATAP SINGH ALIAS GOPAL JI  Ve. VAITHILINGAM  Dr. NARAYANASAMY KESAVAN  Dr.M.A.S. SUBRAMANIAN  Girish Bhalchandra Bapat  Mohan Joshi  Anil Narayan Jadhav  PINAKI MISRA  Dr Sambit Patra  SATYA PRAKASH NAYAK  SANTOSH KUMAR  UDAY SINGH ALIAS PAPPU SINGH  SHUBHASH KUMAR THAKUR  SAGEER AHMAD  JITENDRA URAB  JYOTIRMAY SINGH MAHATO  Dr. MRIGANKA MAHATO  NEPAL MAHATA  BIR SINGH MAHATO  RADHA MOHAN SINGH  Satyam Yadav  Shobha Devi  Sachin Paswan  Prabhakar Jaiswal  SONIA GANDHI   DINESH PRATAP SINGH  RAJA AMARESHWARA NAIK  B. V NAIK  B. VENKANAGOUDA NAYAKA  Tatkare Sunil Dattatray  Anant Geete  Suman Bhaskar Koli  Subhash Janardan Patil  DEBASREE CHAUDHURI  AGARWAL KANAIALAL  MD. SALIM    DEEPA DASMUNSI  GOMATI SAI    LALJEET SINGH RATHIA  INNOCENT KUJUR  Sunil Kumar Soni  Pramod Dubey  MARGANI BHARAT  MAGANTI ROOPA   AKULA SATYANARAYANA  NALLURI VIJAYA SRINIVASA RAO  P.V.MIDHUN REDDY  D A SATHYA PRABHA  SYED MUKARRAM   M.SHAJAHAN BASHA (JAHA)  RODMAL NAGAR    MONA SUSTANI    KUNDARIA MOHANBHAI KALYANJIBHAI  KAGATHARA LALITBHAI  VIJAY PARMAR  VIJAY KUMAR HANSDAK  HEMLAL MURMU  GOPIN SOREN  MONIKA KISKU  MANDAL HANSDA  SANTOSH PANDEY  BHOLA RAM SAHU  RAVITA LAKRA (DHRUV)  Diya Kumari  Devkinandan (Kaka)  Chenaram   Chandra Prakash Tanwar  K. NAVASKANI  NAINAR NAGENTHRAN  V.D.N. ANANDH. B.E.,  T. BHUVANESWARI  VIJAYA BASKAR  Mohammad Azam Khan  Jayaprada Nahata  Sanjay Kapoor  Krupal Balaji Tumane  Kishore Uttamrao Gajbhiye  Subhash Dharamdas Gajbhiye  Kiran Premkumar Rodge (Patankar)  JAGANNATH SARKAR  RUPALI BISWAS  BISWAS RAMA  MINATI BISWAS  SANJAY SETH  SUBODH KANT SAHAY  RAM TAHAL CHOUDHARY  GUMAN SINGH DAMOR  KANTILAL BHURIA  KAMLESHWAR BHIL  Vinayak Raut  Nilesh Narayan Rane  Navinchandra Bhalchandra Bandivadekar  Maruti Ramchandra Joshi  Nilesh Bhikaji Bhatade  Rajesh Dilipkumar Jadhav  Khadse Raksha Nikhil  Dr.Ulhas Vasudeo Patil  Nitin Pralhad Kandelkar  JANARDAN MISHRA  SIDDHARTH TIWARI \"RAJ\"  VIKASH SINGH PATEL  GIRIJESH SINGH SENGER  PAKAURI LAL KOL  BHAI LAL       BHAGWATI PRASAD CHAUDHARI  ANUJ KUMAR KANAUJIA  ASHOK KUMAR KANAUJIYA  S R DARAPURI   ARVIND KUMAR SHARMA  DEEPENDER SINGH HOODA  KISHAN LAL PANCHAL  PRADEEP KUMAR DESWAL  RATHOD DIPSINH SHANKARSINH  THAKOR RAJENDRASINH SHIVSINH  RAVAL RAJUBHAI PUNJABHAI  RAJBAHADUR SINGH  PRABHU SINGH THAKUR  RAJKUMAR YADAV  HAJI FAZLUR REHMAN  RAGHAV LAKHANPAL  IMRAN MASOOD   PARTHIBAN.S.R  SARAVANAN.K.R.S  PRABHU MANIKANDAN.M  SELVAM.S.K  RASA.A      RAVINDER       R S KUSHWAHA   RAJARAM        RAJESH KUMAR MISHRA  Ramchandra Paswan  Dr. Ashok Kumar  Vidya Nand Ram  Suraj Kumar Das  Asha Devi  Mantesh Kumar  Vijay Kumar Ram  NITESH GANGA DEB  NALINI KANTA PRADHAN  SARAT PATTANAYAK  DR. SHAFIQUR REHMAN BARQ  PARAMESHVAR LAL SAINI  MAJOR JAGAT PAL SINGH  Sanjaykaka Patil  Vishal Prakashbapu Patil  Gopichand Kundlik Padalkar  BHAGWANT MANN  KEWAL SINGH DHILLON  PARMINDER SINGH DHINDSA  SIMRANJIT SINGH MANN  JASRAJ SINGH LONGIA  PRAVEEN KUMAR NISHAD  BHEESHMA SHANKAR  BHAL CHANDRA YADAV  Rajiv Pratap Rudy  Chandrika Roy  Sheojee Ram  Shiv Brat Singh  Renuka Singh Saruta  Khel Sai Singh  Asha Devi Poya  Maya Bhagat   CHHEDI PASWAN  MEIRA KUMAR  MANOJ KUMAR  ASHOK BAITHA  SHRIMANT CHH. UDAYANRAJE PRATAPSINHMAHARAJ BHONSLE  NARENDRA ANNASAHEB PATIL  SAHADEO KERAPPA AIWALE  GANESH SINGH    RAJARAM TRIPATHI  ACCHE LAL KUSHAWAHA  G . KISHAN REDDY  TALASANI SAI KIRAN YADAV  ANJAN KUMAR YADAV. M  N . SHANKAR GOUD  HIMADRI SINGH   PRAMILA SINGH   BAHAN KESHKALI KOL  MOHDAL SINGH PAV  VIMAL SINGH KORCHE  Arun Kumar Sagar  Amar Chandra Jauhar  Brahm Swaroop Sagar  RAMA DEVI  SYED FAISAL ALI  Kedar Nath Prasad  Raj Kumar Parsad  Shamim Alam  Mukesh Kumar Jha  Vijay Nandan Paswan  Anil Kumar Tiwari  VINCENT H. PALA  JEMINO MAWTHOH  SANBOR SHULLAI  SURESH KUMAR KASHYAP  DHANI RAM SHANDIL  B.Y.RAGHAVENDRA.  S.MADHUBANGARAPPA  SADASHIV KISAN LOKHANDE  KAMBLE BHAUSAHEB MALHARI  SANJAY LAXMAN SUKHDAN  WAKCHAURE BHAUSAHEB RAJARAM  Adv. BANSI BHAURAO SATPUTE  PRADIP SUNIL SARODE  Dr. Amol Ramsing Kolhe  Adhalrao Shivaji Dattatrey  Ovhal Rahul  RAM SHIROMANI  DADDAN MISHRA  DHIRENDRA PRATAP SINGH  NABBAN KHAN    Riti Pathak     Ajay Arjun Singh  Com. Sanjay Namdeo  Ram Lal Panika  Fatte Bahadur Singh Markam  Sumedhanand Saraswati  Subhash Maharia  Amraram    INDRA HANG SUBBA  DEK BAHADUR KATWAL  LATEN TSHERING SHERPA  BHARAT BASNETT  RAJDEEP ROY  SUSHMITA DEV  GEETA KORA  LAXMAN GILUWA  PUSHPA SINKU  PRATAP SINGH BANARA  PARDESHI LAL MUNDA  ANIL SOREN  Sunita Duggal  Ashok Tanwar  Nirmal Singh Malri  Charanjeet Singh Rori  Janak Raj Atwal  Sunil Kumar Pintu  Arjun Ray  Dharmendra Kumar  Vinod Sah  Mahesh Nandan Singh  Ramesh Kumar Mishra  Rajesh Verma   Nakul Dubey    Qaiser Jahan   KARTI P CHIDAMBARAM  H.RAJA      V.SAKTHI PRIYA  KAVINGNAR SNEKAN  P.RAJENDHIRAN  Kavita Singh  Hena Shahab  Amar Nath Yadav  Upendra Kumar Giri  Madhuri Pandey  SHRI. SHA. BRA. DR. JAI SIDHESHWAR SHIVACHARY MAHASWAMIJI  SHINDE SUSHILKUMAR SAMBHAJIRAO  AMBEDKAR PRAKASH YASHVANT  RAMESH CHANDER KAUSHIK  BHUPINDER SINGH HOODA  DIGVIJAY SINGH CHAUTALA  RAJ BALA SAINI  RAMESH BIDHURI  RAGHAV CHADHA  VIJENDER      SIDDHANT GAUTAM  COSME FRANCISCO CAITANO SARDINHA  ADV. NARENDRA SAWAIKAR  ELVIS GOMES  KALYAN BANERJEE  DEBJIT SARKAR  TIRTHANKAR RAY  DEBABRATA BISWAS  KINJARAPU RAM MOHAN NAIDU  DUVVADA SRINIVAS  METTA RAMARAO   DOLA JAGAN      Farooq Abdullah  Aga Syed Mohsin  Irfan Raza Ansari  Sheikh Khalid Jehangir  Baalu.T.R.  Vaithilingam A  Sridhar M   Mahendran.H  Tambaram Narayanan G  MANEKA SANJAI GANDHI  CHANDRA BHADRA SINGH \"SSONU\"  Dr. SANJAY SINH  KAMLA DEVI     Jual Oram  Sunita Biswal  George Tirkey  Miss Juspin Lakra  Dileshwar Kamait  Ranjeet Ranjan  Dinesh Prasad Yadav  Rajesh Kumar S/O- Yugeshwar Sah  Binod Kumar Sahu  Anand Pathak  Md. Abul Kalam Azad  Sandip Kumar Singh  Darshana Vikram Jardosh  Ashok Patel (Adhevada)  Dr. MUNJAPARA MAHENDRABHAI  KOLI PATEL SOMABHAI GANDALAL  ADVOCATE SHAILESH N. SOLANKI  DOST MER  Adhikari Dibyendu  Sidharthashankar Naskar  Sk Ibrahim Ali  Lakshman Chandra Seth  MALA RAJYA LAXMI SHAH  PRITAM SINGH  GOPAL MANI   DHANUSH.M.KUMAR  Dr.KRISHNASAMY.K  PONNUTHAI. S  MATHIVANAN.S.S  MUNESHWARAN. K  PALLAB LOCHAN DAS  M.G.V.K. BHANU  BIJOY KUMAR TIRU  RAJAN BABURAO VICHARE  ANAND PRAKASH PARANJPE  MALLIKARJUN SAIBANNA PUJARI  PALANIMANICKAM,S.S.  NATARAJAN,N.R .  MURUGESAN, P.  KRISHNAKUMAR,N.  SELVARAJ,R .  SAMPATH RAMADOSS  RAVEENDRANATH KUMAR, P  ELANGOVAN, E.V.K.S.  SHAGUL HAMEED  RADHAKRISHNAN, S.  Dr.K.Jayakumar  Dr.P.Venugopal  Logarangan.M  M.VETRISELVI  Pon.Raja    R.Anbuchezhian  Dr. SHASHI THAROOR  KUMMANAM RAJASEKHARAN  C. DIVAKARAN  KANIMOZHI KARUNANIDHI  DR. TAMILISAI SOUNDARARAJAN  Dr. BHUVANESWARAN, M.  CHRISTANTINE RAJASEKAR, S.  PON KUMARAN, T.P.S.  T. N. PRATHAPAN  RAJAJI MATHEW THOMAS  SURESH GOPI  Dr Virendra Kumar  Ahirwar Kiran   R.D. Prajapati  Thirunavukkarasar. SU  DR.Elangovan. V  Sarubala. R. Thondaiman  Vinoth. V   Anandharaja. V  GNANATHIRAVIAM S  PAUL MANOJ PANDIAN  MICHAEL RAYAPPAN S  SATHYA B    VENNIMALAI M  Balli Durga Prasad Rao  Panabaka Lakshmi  Chintamohan     Doctor Daggumati Sreehari Rao  Bommi Srihari Rao  SUBBARAYAN, K.  ANANDAN, M.S.M.  CHANDIRAKUMAR, V.S.  SELVAM, S.R.  JAGANATHAN, P.  ANNADURAI C N  AGRI KRISHNAMURTHY S S  GNANASEKAR A  RAMESHBABU R  ARUL R      Sukhbir Singh Jaunapuria  Namonarayan  Laxmi Kant Bairwa  Rebati Tripura  Maharaj kumari Pragya DebBurman  Jitendra Chaudhury  Narendra Chandra DebBarma  Pratima Bhoumik  Subal Bhowmik  Sankar Prasad Datta  Brishaketu Debbarma  G. S. BASAVARAJ  H. D. DEVEGOWDA  N. SHIVANNA  AGATHA K. SANGMA  DR. MUKUL SANGMA  RIKMAN GARREY MOMIN  ARJUNLAL MEENA  RAGHUVIR SINGH MEENA  BIRDHI LAL CHHANWAL  GHANSHYAM SINGH TAWAR  KESULAL MEENA  DR. JITENDRA SINGH  VIKRAMADITYA SINGH  HARSH DEV SINGH  LAL SINGH        TILAK RAJ BHAGAT  SHOBHA KARANDLAJE  PRAMOD MADHWARAJ  P. PARAMESHWARA  Nityanand Rai  Upendra Kushwaha  Ajay Kumar  Mamta Kumari  Allamaa Shiblee Nomanee Halami  MD. Anwar  Dr. Ajay Singh Almust  Navin Kumar  ANIL FIROJIYA   BABULAL MALVIYA  SAJDA AHMED  JOY BANERJEE  MAKSUDA KHATUN  Shoma Ranisree Roy  Swami Sakshi Ji Maharaj  Arun Shanker Shukla  Annu Tandon    ANANTKUMAR HEGDE  ANAND ASNOTIKAR  K. MURALEEDHARAN  P.JAYARAJAN  ADV.V.K.SAJEEVAN  RANJANBEN BHATT  PRASHANT PATEL (TIKO)  Veena Devi (W/o Dinesh Prasad Singh)  Raghuvansh Prasad Singh  Abha Rai  Ismohamad alias Md. Munna  Shankar Mahto  Pankaj Kumar  BAIDYANATH PRASAD MAHTO  SHASHWAT KEDAR  DEEPAK YADAV  SURESH SAH  RAKESH KEWAT  SUSHMA DEVI  Dr.K.C.PATEL  CHAUDHARI JITUBHAI HARJIBHAI  KISHORBHAI RAMANBHAI PATEL (Rajubhai)  NARENDRA MODI  SHALINI YADAV  AJAY RAI       Ramakant Bhargava  Shailendra Rameshchandra Patel  Geetawali Er. P.S. Ahirwar  KESINENI SRINIVAS (NANI)  POTLURI.V.PRASAD ( P V P )  Muttamsetty Prasad babu  KILARU DILEEP   NARAHARISETTY. NARASIMHARAO.  RAVIKUMAR D  VADIVEL RAVANAN S  GANAPATHY N  PRAKALATHA D  ANBIN POYYAMOZHI S  ARASAN K    MANICKAM TAGORE, B.  ALAGARSAMY, R.  PARAMASIVA IYYAPPAN, S.  ARULMOZHITHEVAN, K.  M V V SATYANARAYANA  BHARAT MATHUKUMILLI  V.V. LAKSHMI NARAYANA  DAGGUBATI PURANDESWARI  PEDADA. RAMANIKUMARI  Bellana Chandra Sekhar  Ashok Gajapathi Raju Pusapati  Mukka Srinivas Rao  Adiraju Yedla   DAYAKAR PASUNOORI  DOMMATI SAMBAIAH  CHINTHA SAMBAMURTHY  BUNGA JYOTHI RAMANA  UPENDER JERIPOTHULA  Ramdas Chandrabhanji Tadas  Charulata Rao Tokas  Dhanraj Kothiramji Wanjari  Agrawal Shaileshkumar Premkishorji  Rahul Gandhi  P.P. Suneer  PARVESH SAHIB SINGH VERMA  MAHABAL MISHRA  BALBIR SINGH JAKHAR  Bhavana Pundlikrao Gawali  Thakre Manikrao Govindrao  Pravin Govind Pawar  Parashram Bhaosing Ade  Vaishali Sudhakar Yede  Anil Jayram Rathod  B.B.PATIL  MADAN MOHAN RAO  BANALA LAXMA REDDY\n",
            "1               0             0              1                      0                 0              1                                  0                        0                      1                           0              1                     0            0                               1                    0                  0                0             1                       0              0              1                      0                                0                                1               0                    0                        1              0             0         1                    0                  0                         1            0               0            0                  1                    0                     0              0                       1            0              0                        1           0                       0           1                0                               0               1                   0        0             0        1              0              0              1              0              1                 0                       0                0                        1                                0               0                           1                    0                   0                      0               1                  0                    0                 1                               0                  0                        0                                                1                                   0                              1              0                                 0                   0                        1                0                 0               0               1                0                 0                0                0                0                1                          0                          0                          0                          0                          1                   0              0                      1                   0             0               0               0              1                           0                0                  0                 1                  0           0               0              0           1                    0              1            0           0               0                1                 0                    0                    0                                                             0                       0                 0                  1                  0                  0                  0                  0                  1                  0                  0                  0                  0                  1              0              0                    0                0               1               0                    0                   1                   0               0               1                   1                   1             0               0                   0                                  0                          0                      0                    0                    0              0             0            1               0                  0                   0               0            1               0                         0                      0                 0                      1                                       0                    1                   0                 1                       0                      0                 0             0            1              0                0                  1                    0               0               0                 1                       0                    0                  1               0               0              1                 0             0             0                   1                          0                            0                         0                          0                            1                 0                    0               0              1            0              0            1                     0                  1            0                    0                            1              0               1                0              0            0              1                0                          0             0                0                 0              0                1                  0                  0            0            1               0              1                0                  0              0          0             1                0                0               0               1                    0                0              1             0                   0                  1                    0                0                0                  0                      0                 0                       1                         0                     0                0              1              0                      0                    0                  1                   0                   0                  0                    1                            0                                      1                      0                      0                   1              0                 0                    1                  0                0                     1               0                 0              0                  1            0               0                 0            1                  0              0                  0                1             0                  0                0                  0              0                   0                 1                                    0                     0                 0                    1                     0                            0                     0                     1                         0                        0                   0                       1              0               0                   0        1                            0              1               0              1                    0                 0                      1                       0                      0               1              0                0              1                 0               0                1                  0                                 1                     0                        0                            0            0                        1              0                     0                    1                              0                           0                           0                                           1                               0                                    1                        0               0               0                   1               0               0               1                      0                        0                        0                        1                              0                0            0                 1                          0                        0                      0                0                 1                           0                1                  0                   0              1                0                  0             1                            0                           0                          0                         1              0                       0                    1                  0                    0           1             0                0                      1            0                  0             0             0             1              0               0            0                     1                          0                           0                  0           1               0              0                 0             0               1              0              0              1                           0                                0                         1                      0                 0                   0                                 1              0         0                  1                   0                  0                1                         0                     0                   0              1            0                   0                0              1              0                    0                   1                                        0                      0                                 1                  0                  0                     0            0                 0               0               0              1                0               0               0                  0                               1                         0                        0             0             0                    1                                        0                 0             0            0                              1                     0                        0                   1                 0                   0                    0                    1                            0                             0                             1                     0               0             0           1                0                 0                    0              1                        0                        0                          1                0               1               0                      0                   0               1                      0                      1             0                 0              0           1               0                   0             0                    0                 1                0                        0                    0                   1                   0                   0             0           0             1                   0               0                  1                           0                         0                     0                       0                     0                     1                               0                          0                           0                             1                   0             0                1                        0                      0                         1                     0               0                    1                 0                    0           0            1            0               0               0             0             1              0             0                         1               0             1                      1                       0                      0                 1                     0           1                    0               0                          1                     0                  0                0                0              1              0               1              0                       0                     1             0                   0                               1                0                 0            1                      0                        0                       1                  0             0               0                1              0                     1             0                 0                   1                         0                        0                  0                1               0              0                                         1            0                   0                      0            1            0            0                  0               0             0            1             0                   0                 1               0                      0             0             1                 0                               0                    1          0         0                     1                0            0                0                  0                 1                            0                         0                        0              0                   1              0              0              1            0                    0             1                 0                    0                  0                    1              0              0                1           0                   0                         0              1               0                     0              1                0              0                    1                      0              0                    1                    0                   0                          0                1                      0                          0                                0                          0                       1          0                 1            0                   0          1                   0                1          0                0                  1                  0              0                       1            0                 0                      0             0                   0                 0            0                    0                0            0             1                      0              0              0                                 1                  0              0              1              0              0              0                      1                 0              0              0              0                 1                          0                1                0              0             0            0               1                                      0                               0                  1                     0             0                   0                0             0                   1                                               0                0                    1                   0                   1                                    0                        0                              1               0                          0                                                      0                 1           0             0            0                      1                   0                 0                     1                         0               0                            1                       0                 0               0              0          0              1                    1                                0                  0                 0                          0                  1              0              0               1                           0              0                   1                0          0             1              0                0              1                              0                 0                        1            0           1             0                  0                         0                     0               1                       0                    0                                                  0                    1             0                            0                       0                          1                0                  0               0                1                  0                   0            0                    1                  0                                   0               1            0                        0           0                 1                0                  0                 0            1                 0                   0                0                    1                    0                  0              1                0               1                         0                        0                       0                                0           1               0                         0               1                 0             0                            1                  0                   0                1                   0                      0           0           0                 0            0             1                0                 1                          0               1                0                    0           1                        0                      0                0                           1                         0                    0               0                  1                          0                        0                         0                       0                       0                           1             0             1                      0                     0                      0                  1                0                1                           0                              1                    0              1                    0                 0               0               0             1                 0              0                  0                 0                 1                 0                       0                1                  0                          0                1               0                  0              0                  0             1               0              1               0            0                       0                      0                  0            1              0                   0              1              0              0                0                 1               0                            1                         0               1                  0                   0            1                               0                          0                       1                       0                            1                  0                               1              0               0                     1                        0                     1                      0                     0                          1                    0                    0                  0               0               1             0                    0                1                     0            0                 0           1                           0                     0              0                      1           0             0              0           1                     0                                    0                    1                 0                 1              0              1              0              1                 0                 0            0              1              0                        0                  1                  0                   0              1               0                    0                    0                1               0                 0               0                   0                       0             1              0             0          1                 0                  0           1                   0                        0                 0                     1              0              0        0                       0               1            0              0             0                0               1                  0                      0                        1                      0            1                   0                0                      0              1                0                0                  0                0             0                    1                          0                0                     0                      1                             0              0                  0                   0           0                     0                    1                                 0                               0                 1                 0                 0            0                    0                     0                            1                                       0                           0                            1                           0                          0                           0                 1                 0           1              0                0                0               1            0                  0                0           1                   0                    0              0                   1              0                 0                0               1                   0                    0                   0                0           1             0               1                           0                  0                     1            0                   0                  0                 1                    0                       0                      0                 1                  0              0             1                         0                              1                       0                0              0               0               0               0                  1                         0                 0                           0             0                    1          0                1                   0             0                1             0                0                 1                 0             0                 0                         1             0               0             0               1                              0                               0               0                          0                    1            0             0        0                        0                     1                  0                                            0                                     1                        0                0                   0                1              0               0            1                   0                 0                        1              0              0                       0                    1                           0                             0            1                 0               0              0             0             0                1              0                        0                        1                    0                      0                         0                         1                       0                      0              1                        0                       0                      1                                      0                             0                   0                     1                     0             0                            0                1                  0                  0         0                 0                1             0                 0                  0           0             1                0                    0                   0                           0                0                  0             1                 1                          0                    0              0                 0                                 0                   0                        1                0               0                               1                     0          0                          1                         0            1                    0                  1                  0          0             0                   1                                0                         0                    1             0            0                    0                1                      0                       0                          0                          1                   0                 0                   1                     0                   0                    0                      0                    1               0                    1                    0                   0                 1             0                   0                      1              0                      0              1                      0                    0                         0                 1                           0                 0                      1                  0                    0                   1              0            0                0              0              1                0                   0             0              1                      0                0                           0                         0                     0                1            0                    0              0                         1                 0                     0                 1                     0                   0                       0                  1                  0                   0              1             0                   0               0                  0                        1                0              0                1               0                     0                  1                     0               0                     1             0                 0                      1               0                 0                     1            0                  0                                  1                 0               0                     1                     0                   0               1                     0                  0                      0                                1                                     0           0              0         0            0                          0                       1               0                                  0              0                 1                     0              1            0                      0               0                 1              0                  0                              1                     0                    0                 0                   1                 0           0                 1           0            0           0           0           1                  0              0                                      0          0                 1                0                 0               1               0                   0              1                     0            0               0                                       1            0             0                    1                  0                 0                0                 0             0              1                           0                          0                          0            1              0            0           0             0               1                            0                        0                          1                           0                  0                         0                            1                          0                       0               0                                1                            0                      0                  0                       1                                 0                                      0                  0                  0                          1                     0                     0                                0                        1            0                            1              0           0             0                 1                       0                  0                  1                 0             0              1           0                 0                0              1                  0                    0                  1             0               0             0              1                   0                      0                      1              0             0                1                 0                 1                           0                  0                    1                                               0                                 0                    1               0                      0         0                    0             1               0           0               1                 0           0               0           0            0              0               1                      0                     0                       0                    0                     1                0                1                           0                           1                               0                        0                   0                      1                   0                       0             0                   1                 0             0               1                             0               1            0             0            1             0                    0                   0             1                    0                 1                           0                   0          0                 0                  1                      0               0            0                1                   0               0              1                    0              1                     0             0              0           0              1                       0       0                 0           1                            0             0                            1                 0               0                      0                                   1                 0                         0                      1                         0            0                    1             0                0                    1              0                             0                      0             0              1                       0                    0             0                 1                  0             0            0              0                  1              0                    1                      0          0                       1                        0            0                   0                       1                   0                  0            0               1             0                     0               1                 0             1               0               0                    0                             1                 0                  0               0                        1               0               1                                0                    0             1                    0             0            0             0              1               0               0                     1            0                   0          0                       1             0                  0                     0                0              1                   0                 0              1                     0                          0                           0                                 1                 0              0            0              1            0                  0                    1                  0                0                1             0                    0                                      0                        0                       0                         1                     0                       0                        1                0                       0                   0                      1                0              0                          0                    0                      0              1                    0                      0                   0                     1                           0                             0                         1                 0                    0               1                   0                 0              1              0                0                    0           0           1              0              0              0                    1                  0                0               0                0          0              0                1                 0                     0                 1                         0                      0                      1                 0                         0                           1              0                    0                        0                     0                    1                     0                 0                   1                  0              0            0                1                    0               0               0             1              0            0            0             1                                                   0                         0                       1               0                 0                    1                 0                         0                     0                 1               0               0                   0                 0                   1                 0                    0                    1          0                0                  0                 0            0                 0                    0                  1                0               0               1                     0                  1                 0                  1                        0                         0                      0                            0                           0                    1                       0                           0            1              0              0                       0              1               0                 0                   0               0                           1                      0                0          1                 0                   0                      0               1            0             1           0              0             0                    0                   0           1              0             0                   0                      0                1                  0          0                 0          0                    0                    1              0              0              1                    0           0               0                 0              1             0            0                0                   0               1                                                          0                               0                          1                       0                      0                        0               1               0              0             0                1                                 0                       0            1                0              0               0                 1                          0                 0               0               1                0                0                  0                       1           0               0           0            0                     1                     0                             0                0              1          0              0              0                  1                 0               0                    0                                0                 0             0                    0                   1                        0                       1                           0                             0                             0         1                  0                        0               0                      1                      0             0            1                0                 0             0               0               1                  0               0                 1                      0                       0                            1                    0                0              0                0             0                 1                       0                    0              0                  1               0               0             0             0           0               1                   0                      0             1                      0                            0                      0                           0                    1                0                     0            1                  0               0               1                      0                0                        0           0               1                 0                   0                   0           0             1                       0                 0               0                              0                  1               0                0                    0             0               1              0                       0             0             0           1                         0            0                  1               0                                0                   0                          1                0              0                    0                    1                0                0            1                 0                 0                    1               0                     0                    0                      0              1                   0                   0                0                0                 1                  0                 0                1              0                 0           0             0                               0          0                      0            1               0                1            0             0               0                   1                        0                    0              1                 0                1                 0            0                 1                0                      1                                     0                        0         0                          0              0             1                        0               0             0           0             0            1             0                             0                                      1              0              0              1                  0                               0                           1                         0                           0                        0               0                             1            0                  0            0             0                   0           1                    0               0                        0                    1                    0                    0                      0                       0                     1                       0                              0                   0               1                  0                 0                    0                    0                    1                           0                    0                           0                                   1             0            1                          0               0                    1                          0                          0                    0                       0                       0                   1          0                0\n",
            "--------------  ------------  -------------  ---------------------  ----------------  -------------  ---------------------------------  -----------------------  ---------------------  --------------------------  -------------  --------------------  -----------  ------------------------------  -------------------  -----------------  ---------------  ------------  ----------------------  -------------  -------------  ---------------------  -------------------------------  -------------------------------  --------------  -------------------  -----------------------  -------------  ------------  --------  -------------------  -----------------  ------------------------  -----------  --------------  -----------  -----------------  -------------------  --------------------  -------------  ----------------------  -----------  -------------  -----------------------  ----------  ----------------------  ----------  ---------------  ------------------------------  --------------  ------------------  -------  ------------  -------  -------------  -------------  -------------  -------------  -------------  ----------------  ----------------------  ---------------  -----------------------  -------------------------------  --------------  --------------------------  -------------------  ------------------  ---------------------  --------------  -----------------  -------------------  ----------------  ------------------------------  -----------------  -----------------------  -----------------------------------------------  ----------------------------------  -----------------------------  -------------  --------------------------------  ------------------  -----------------------  ---------------  ----------------  --------------  --------------  ---------------  ----------------  ---------------  ---------------  ---------------  ---------------  -------------------------  -------------------------  -------------------------  -------------------------  -------------------------  ------------------  -------------  ---------------------  ------------------  ------------  --------------  --------------  -------------  --------------------------  ---------------  -----------------  ----------------  -----------------  ----------  --------------  -------------  ----------  -------------------  -------------  -----------  ----------  --------------  ---------------  ----------------  -------------------  -------------------  ------------------------------------------------------------  ----------------------  ----------------  -----------------  -----------------  -----------------  -----------------  -----------------  -----------------  -----------------  -----------------  -----------------  -----------------  -----------------  -------------  -------------  -------------------  ---------------  --------------  --------------  -------------------  ------------------  ------------------  --------------  --------------  ------------------  ------------------  ------------  --------------  ------------------  ---------------------------------  -------------------------  ---------------------  -------------------  -------------------  -------------  ------------  -----------  --------------  -----------------  ------------------  --------------  -----------  --------------  ------------------------  ---------------------  ----------------  ---------------------  --------------------------------------  -------------------  ------------------  ----------------  ----------------------  ---------------------  ----------------  ------------  -----------  -------------  ---------------  -----------------  -------------------  --------------  --------------  ----------------  ----------------------  -------------------  -----------------  --------------  --------------  -------------  ----------------  ------------  ------------  ------------------  -------------------------  ---------------------------  ------------------------  -------------------------  ---------------------------  ----------------  -------------------  --------------  -------------  -----------  -------------  -----------  --------------------  -----------------  -----------  -------------------  ---------------------------  -------------  --------------  ---------------  -------------  -----------  -------------  ---------------  -------------------------  ------------  ---------------  ----------------  -------------  ---------------  -----------------  -----------------  -----------  -----------  --------------  -------------  ---------------  -----------------  -------------  ---------  ------------  ---------------  ---------------  --------------  --------------  -------------------  ---------------  -------------  ------------  ------------------  -----------------  -------------------  ---------------  ---------------  -----------------  ---------------------  ----------------  ----------------------  ------------------------  --------------------  ---------------  -------------  -------------  ---------------------  -------------------  -----------------  ------------------  ------------------  -----------------  -------------------  ---------------------------  -------------------------------------  ---------------------  ---------------------  ------------------  -------------  ----------------  -------------------  -----------------  ---------------  --------------------  --------------  ----------------  -------------  -----------------  -----------  --------------  ----------------  -----------  -----------------  -------------  -----------------  ---------------  ------------  -----------------  ---------------  -----------------  -------------  ------------------  ----------------  -----------------------------------  --------------------  ----------------  -------------------  --------------------  ---------------------------  --------------------  --------------------  ------------------------  -----------------------  ------------------  ----------------------  -------------  --------------  ------------------  -------  ---------------------------  -------------  --------------  -------------  -------------------  ----------------  ---------------------  ----------------------  ---------------------  --------------  -------------  ---------------  -------------  ----------------  --------------  ---------------  -----------------  --------------------------------  --------------------  -----------------------  ---------------------------  -----------  -----------------------  -------------  --------------------  -------------------  -----------------------------  --------------------------  --------------------------  ------------------------------------------  ------------------------------  -----------------------------------  -----------------------  --------------  --------------  ------------------  --------------  --------------  --------------  ---------------------  -----------------------  -----------------------  -----------------------  -----------------------------  ---------------  -----------  ----------------  -------------------------  -----------------------  ---------------------  ---------------  ----------------  --------------------------  ---------------  -----------------  ------------------  -------------  ---------------  -----------------  ------------  ---------------------------  --------------------------  -------------------------  ------------------------  -------------  ----------------------  -------------------  -----------------  -------------------  ----------  ------------  ---------------  ---------------------  -----------  -----------------  ------------  ------------  ------------  -------------  --------------  -----------  --------------------  -------------------------  --------------------------  -----------------  ----------  --------------  -------------  ----------------  ------------  --------------  -------------  -------------  -------------  --------------------------  -------------------------------  ------------------------  ---------------------  ----------------  ------------------  --------------------------------  -------------  --------  -----------------  ------------------  -----------------  ---------------  ------------------------  --------------------  ------------------  -------------  -----------  ------------------  ---------------  -------------  -------------  -------------------  ------------------  ---------------------------------------  ---------------------  --------------------------------  -----------------  -----------------  --------------------  -----------  ----------------  --------------  --------------  -------------  ---------------  --------------  --------------  -----------------  ------------------------------  ------------------------  -----------------------  ------------  ------------  -------------------  ---------------------------------------  ----------------  ------------  -----------  -----------------------------  --------------------  -----------------------  ------------------  ----------------  ------------------  -------------------  -------------------  ---------------------------  ----------------------------  ----------------------------  --------------------  --------------  ------------  ----------  ---------------  ----------------  -------------------  -------------  -----------------------  -----------------------  -------------------------  ---------------  --------------  --------------  ---------------------  ------------------  --------------  ---------------------  ---------------------  ------------  ----------------  -------------  ----------  --------------  ------------------  ------------  -------------------  ----------------  ---------------  -----------------------  -------------------  ------------------  ------------------  ------------------  ------------  ----------  ------------  ------------------  --------------  -----------------  --------------------------  ------------------------  --------------------  ----------------------  --------------------  --------------------  ------------------------------  -------------------------  --------------------------  ----------------------------  ------------------  ------------  ---------------  -----------------------  ---------------------  ------------------------  --------------------  --------------  -------------------  ----------------  -------------------  ----------  -----------  -----------  --------------  --------------  ------------  ------------  -------------  ------------  ------------------------  --------------  ------------  ---------------------  ----------------------  ---------------------  ----------------  --------------------  ----------  -------------------  --------------  -------------------------  --------------------  -----------------  ---------------  ---------------  -------------  -------------  --------------  -------------  ----------------------  --------------------  ------------  ------------------  ------------------------------  ---------------  ----------------  -----------  ---------------------  -----------------------  ----------------------  -----------------  ------------  --------------  ---------------  -------------  --------------------  ------------  ----------------  ------------------  ------------------------  -----------------------  -----------------  ---------------  --------------  -------------  ----------------------------------------  -----------  ------------------  ---------------------  -----------  -----------  -----------  -----------------  --------------  ------------  -----------  ------------  ------------------  ----------------  --------------  ---------------------  ------------  ------------  ----------------  ------------------------------  -------------------  ---------  --------  --------------------  ---------------  -----------  ---------------  -----------------  ----------------  ---------------------------  ------------------------  -----------------------  -------------  ------------------  -------------  -------------  -------------  -----------  -------------------  ------------  ----------------  -------------------  -----------------  -------------------  -------------  -------------  ---------------  ----------  ------------------  ------------------------  -------------  --------------  --------------------  -------------  ---------------  -------------  -------------------  ---------------------  -------------  -------------------  -------------------  ------------------  -------------------------  ---------------  ---------------------  -------------------------  -------------------------------  -------------------------  ----------------------  ---------  ----------------  -----------  ------------------  ---------  ------------------  ---------------  ---------  ---------------  -----------------  -----------------  -------------  ----------------------  -----------  ----------------  ---------------------  ------------  ------------------  ----------------  -----------  -------------------  ---------------  -----------  ------------  ---------------------  -------------  -------------  --------------------------------  -----------------  -------------  -------------  -------------  -------------  -------------  ---------------------  ----------------  -------------  -------------  -------------  ----------------  -------------------------  ---------------  ---------------  -------------  ------------  -----------  --------------  -------------------------------------  ------------------------------  -----------------  --------------------  ------------  ------------------  ---------------  ------------  ------------------  ----------------------------------------------  ---------------  -------------------  ------------------  ------------------  -----------------------------------  -----------------------  -----------------------------  --------------  -------------------------  -----------------------------------------------------  ----------------  ----------  ------------  -----------  ---------------------  ------------------  ----------------  --------------------  ------------------------  --------------  ---------------------------  ----------------------  ----------------  --------------  -------------  ---------  -------------  -------------------  -------------------------------  -----------------  ----------------  -------------------------  -----------------  -------------  -------------  --------------  --------------------------  -------------  ------------------  ---------------  ---------  ------------  -------------  ---------------  -------------  -----------------------------  ----------------  -----------------------  -----------  ----------  ------------  -----------------  ------------------------  --------------------  --------------  ----------------------  -------------------  -------------------------------------------------  -------------------  ------------  ---------------------------  ----------------------  -------------------------  ---------------  -----------------  --------------  ---------------  -----------------  ------------------  -----------  -------------------  -----------------  ----------------------------------  --------------  -----------  -----------------------  ----------  ----------------  ---------------  -----------------  ----------------  -----------  ----------------  ------------------  ---------------  -------------------  -------------------  -----------------  -------------  ---------------  --------------  ------------------------  -----------------------  ----------------------  -------------------------------  ----------  --------------  ------------------------  --------------  ----------------  ------------  ---------------------------  -----------------  ------------------  ---------------  ------------------  ---------------------  ----------  ----------  ----------------  -----------  ------------  ---------------  ----------------  -------------------------  --------------  ---------------  -------------------  ----------  -----------------------  ---------------------  ---------------  --------------------------  ------------------------  -------------------  --------------  -----------------  -------------------------  -----------------------  ------------------------  ----------------------  ----------------------  --------------------------  ------------  ------------  ---------------------  --------------------  ---------------------  -----------------  ---------------  ---------------  --------------------------  -----------------------------  -------------------  -------------  -------------------  ----------------  --------------  --------------  ------------  ----------------  -------------  -----------------  ----------------  ----------------  ----------------  ----------------------  ---------------  -----------------  -------------------------  ---------------  --------------  -----------------  -------------  -----------------  ------------  --------------  -------------  --------------  -----------  ----------------------  ---------------------  -----------------  -----------  -------------  ------------------  -------------  -------------  -------------  ---------------  ----------------  --------------  ---------------------------  ------------------------  --------------  -----------------  ------------------  -----------  ------------------------------  -------------------------  ----------------------  ----------------------  ---------------------------  -----------------  ------------------------------  -------------  --------------  --------------------  -----------------------  --------------------  ---------------------  --------------------  -------------------------  -------------------  -------------------  -----------------  --------------  --------------  ------------  -------------------  ---------------  --------------------  -----------  ----------------  ----------  --------------------------  --------------------  -------------  ---------------------  ----------  ------------  -------------  ----------  --------------------  -----------------------------------  -------------------  ----------------  ----------------  -------------  -------------  -------------  -------------  ----------------  ----------------  -----------  -------------  -------------  -----------------------  -----------------  -----------------  ------------------  -------------  --------------  -------------------  -------------------  ---------------  --------------  ----------------  --------------  ------------------  ----------------------  ------------  -------------  ------------  ---------  ----------------  -----------------  ----------  ------------------  -----------------------  ----------------  --------------------  -------------  -------------  -------  ----------------------  --------------  -----------  -------------  ------------  ---------------  --------------  -----------------  ---------------------  -----------------------  ---------------------  -----------  ------------------  ---------------  ---------------------  -------------  ---------------  ---------------  -----------------  ---------------  ------------  -------------------  -------------------------  ---------------  --------------------  ---------------------  ----------------------------  -------------  -----------------  ------------------  ----------  --------------------  -------------------  --------------------------------  ------------------------------  ----------------  ----------------  ----------------  -----------  -------------------  --------------------  ---------------------------  --------------------------------------  --------------------------  ---------------------------  --------------------------  -------------------------  --------------------------  ----------------  ----------------  ----------  -------------  ---------------  ---------------  --------------  -----------  -----------------  ---------------  ----------  ------------------  -------------------  -------------  ------------------  -------------  ----------------  ---------------  --------------  ------------------  -------------------  ------------------  ---------------  ----------  ------------  --------------  --------------------------  -----------------  --------------------  -----------  ------------------  -----------------  ----------------  -------------------  ----------------------  ---------------------  ----------------  -----------------  -------------  ------------  ------------------------  -----------------------------  ----------------------  ---------------  -------------  --------------  --------------  --------------  -----------------  ------------------------  ----------------  --------------------------  ------------  -------------------  ---------  ---------------  ------------------  ------------  ---------------  ------------  ---------------  ----------------  ----------------  ------------  ----------------  ------------------------  ------------  --------------  ------------  --------------  -----------------------------  ------------------------------  --------------  -------------------------  -------------------  -----------  ------------  -------  -----------------------  --------------------  -----------------  -------------------------------------------  ------------------------------------  -----------------------  ---------------  ------------------  ---------------  -------------  --------------  -----------  ------------------  ----------------  -----------------------  -------------  -------------  ----------------------  -------------------  --------------------------  ----------------------------  -----------  ----------------  --------------  -------------  ------------  ------------  ---------------  -------------  -----------------------  -----------------------  -------------------  ---------------------  ------------------------  ------------------------  ----------------------  ---------------------  -------------  -----------------------  ----------------------  ---------------------  -------------------------------------  ----------------------------  ------------------  --------------------  --------------------  ------------  ---------------------------  ---------------  -----------------  -----------------  --------  ----------------  ---------------  ------------  ----------------  -----------------  ----------  ------------  ---------------  -------------------  ------------------  --------------------------  ---------------  -----------------  ------------  ----------------  -------------------------  -------------------  -------------  ----------------  --------------------------------  ------------------  -----------------------  ---------------  --------------  ------------------------------  --------------------  ---------  -------------------------  ------------------------  -----------  -------------------  -----------------  -----------------  ---------  ------------  ------------------  -------------------------------  ------------------------  -------------------  ------------  -----------  -------------------  ---------------  ---------------------  ----------------------  -------------------------  -------------------------  ------------------  ----------------  ------------------  --------------------  ------------------  -------------------  ---------------------  -------------------  --------------  -------------------  -------------------  ------------------  ----------------  ------------  ------------------  ---------------------  -------------  ---------------------  -------------  ---------------------  -------------------  ------------------------  ----------------  --------------------------  ----------------  ---------------------  -----------------  -------------------  ------------------  -------------  -----------  ---------------  -------------  -------------  ---------------  ------------------  ------------  -------------  ---------------------  ---------------  --------------------------  ------------------------  --------------------  ---------------  -----------  -------------------  -------------  ------------------------  ----------------  --------------------  ----------------  --------------------  ------------------  ----------------------  -----------------  -----------------  ------------------  -------------  ------------  ------------------  --------------  -----------------  -----------------------  ---------------  -------------  ---------------  --------------  --------------------  -----------------  --------------------  --------------  --------------------  ------------  ----------------  ---------------------  --------------  ----------------  --------------------  -----------  -----------------  ---------------------------------  ----------------  --------------  --------------------  --------------------  ------------------  --------------  --------------------  -----------------  ---------------------  -------------------------------  ------------------------------------  ----------  -------------  --------  -----------  -------------------------  ----------------------  --------------  ---------------------------------  -------------  ----------------  --------------------  -------------  -----------  ---------------------  --------------  ----------------  -------------  -----------------  -----------------------------  --------------------  -------------------  ----------------  ------------------  ----------------  ----------  ----------------  ----------  -----------  ----------  ----------  ----------  -----------------  -------------  -------------------------------------  ---------  ----------------  ---------------  ----------------  --------------  --------------  ------------------  -------------  --------------------  -----------  --------------  --------------------------------------  -----------  ------------  -------------------  -----------------  ----------------  ---------------  ----------------  ------------  -------------  --------------------------  -------------------------  -------------------------  -----------  -------------  -----------  ----------  ------------  --------------  ---------------------------  -----------------------  -------------------------  --------------------------  -----------------  ------------------------  ---------------------------  -------------------------  ----------------------  --------------  -------------------------------  ---------------------------  ---------------------  -----------------  ----------------------  --------------------------------  -------------------------------------  -----------------  -----------------  -------------------------  --------------------  --------------------  -------------------------------  -----------------------  -----------  ---------------------------  -------------  ----------  ------------  ----------------  ----------------------  -----------------  -----------------  ----------------  ------------  -------------  ----------  ----------------  ---------------  -------------  -----------------  -------------------  -----------------  ------------  --------------  ------------  -------------  ------------------  ---------------------  ---------------------  -------------  ------------  ---------------  ----------------  ----------------  --------------------------  -----------------  -------------------  ----------------------------------------------  --------------------------------  -------------------  --------------  ---------------------  --------  -------------------  ------------  --------------  ----------  --------------  ----------------  ----------  --------------  ----------  -----------  -------------  --------------  ---------------------  --------------------  ----------------------  -------------------  --------------------  ---------------  ---------------  --------------------------  --------------------------  ------------------------------  -----------------------  ------------------  ---------------------  ------------------  ----------------------  ------------  ------------------  ----------------  ------------  --------------  ----------------------------  --------------  -----------  ------------  -----------  ------------  -------------------  ------------------  ------------  -------------------  ----------------  --------------------------  ------------------  ---------  ----------------  -----------------  ---------------------  --------------  -----------  ---------------  ------------------  --------------  -------------  -------------------  -------------  --------------------  ------------  -------------  ----------  -------------  ----------------------  ------  ----------------  ----------  ---------------------------  ------------  ---------------------------  ----------------  --------------  ---------------------  ----------------------------------  ----------------  ------------------------  ---------------------  ------------------------  -----------  -------------------  ------------  ---------------  -------------------  -------------  ----------------------------  ---------------------  ------------  -------------  ----------------------  -------------------  ------------  ----------------  -----------------  ------------  -----------  -------------  -----------------  -------------  -------------------  ---------------------  ---------  ----------------------  -----------------------  -----------  ------------------  ----------------------  ------------------  -----------------  -----------  --------------  ------------  --------------------  --------------  ----------------  ------------  --------------  --------------  -------------------  ----------------------------  ----------------  -----------------  --------------  -----------------------  --------------  --------------  -------------------------------  -------------------  ------------  -------------------  ------------  -----------  ------------  -------------  --------------  --------------  --------------------  -----------  ------------------  ---------  ----------------------  ------------  -----------------  --------------------  ---------------  -------------  ------------------  ----------------  -------------  --------------------  -------------------------  --------------------------  --------------------------------  ----------------  -------------  -----------  -------------  -----------  -----------------  -------------------  -----------------  ---------------  ---------------  ------------  -------------------  -------------------------------------  -----------------------  ----------------------  ------------------------  --------------------  ----------------------  -----------------------  ---------------  ----------------------  ------------------  ---------------------  ---------------  -------------  -------------------------  -------------------  ---------------------  -------------  -------------------  ---------------------  ------------------  --------------------  --------------------------  ----------------------------  ------------------------  ----------------  -------------------  --------------  ------------------  ----------------  -------------  -------------  ---------------  -------------------  ----------  ----------  -------------  -------------  -------------  -------------------  -----------------  ---------------  --------------  ---------------  ---------  -------------  ---------------  ----------------  --------------------  ----------------  ------------------------  ---------------------  ---------------------  ----------------  ------------------------  --------------------------  -------------  -------------------  -----------------------  --------------------  -------------------  --------------------  ----------------  ------------------  -----------------  -------------  -----------  ---------------  -------------------  --------------  --------------  ------------  -------------  -----------  -----------  ------------  --------------------------------------------------  ------------------------  ----------------------  --------------  ----------------  -------------------  ----------------  ------------------------  --------------------  ----------------  --------------  --------------  ------------------  ----------------  ------------------  ----------------  -------------------  -------------------  ---------  ---------------  -----------------  ----------------  -----------  ----------------  -------------------  -----------------  ---------------  --------------  --------------  --------------------  -----------------  ----------------  -----------------  -----------------------  ------------------------  ---------------------  ---------------------------  --------------------------  -------------------  ----------------------  --------------------------  -----------  -------------  -------------  ----------------------  -------------  --------------  ----------------  ------------------  --------------  --------------------------  ---------------------  ---------------  ---------  ----------------  ------------------  ---------------------  --------------  -----------  ------------  ----------  -------------  ------------  -------------------  ------------------  ----------  -------------  ------------  ------------------  ---------------------  ---------------  -----------------  ---------  ----------------  ---------  -------------------  -------------------  -------------  -------------  -------------  -------------------  ----------  --------------  ----------------  -------------  ------------  -----------  ---------------  ------------------  --------------  ---------------------------------------------------------  ------------------------------  -------------------------  ----------------------  ---------------------  -----------------------  --------------  --------------  -------------  ------------  ---------------  --------------------------------  ----------------------  -----------  ---------------  -------------  --------------  ----------------  -------------------------  ----------------  --------------  --------------  ---------------  ---------------  -----------------  ----------------------  ----------  --------------  ----------  -----------  --------------------  --------------------  ----------------------------  ---------------  -------------  ---------  -------------  -------------  -----------------  ----------------  --------------  -------------------  -------------------------------  ----------------  ------------  -------------------  ------------------  -----------------------  ----------------------  --------------------------  ----------------------------  ----------------------------  --------  -----------------  -----------------------  --------------  ---------------------  ---------------------  ------------  -----------  ---------------  ----------------  ------------  --------------  --------------  -----------------  --------------  ----------------  ---------------------  ----------------------  ---------------------------  -------------------  ---------------  -------------  ---------------  ------------  ----------------  ----------------------  -------------------  -------------  -----------------  --------------  --------------  ------------  ------------  ----------  --------------  ------------------  ---------------------  ------------  ---------------------  ---------------------------  ---------------------  --------------------------  -------------------  ---------------  --------------------  -----------  -----------------  --------------  --------------  ---------------------  ---------------  -----------------------  ----------  --------------  ----------------  ------------------  ------------------  ----------  ------------  ----------------------  ----------------  --------------  -----------------------------  -----------------  --------------  ---------------  -------------------  ------------  --------------  -------------  ----------------------  ------------  ------------  ----------  ------------------------  -----------  -----------------  --------------  -------------------------------  ------------------  -------------------------  ---------------  -------------  -------------------  -------------------  ---------------  ---------------  -----------  ----------------  ----------------  -------------------  --------------  --------------------  -------------------  ---------------------  -------------  ------------------  ------------------  ---------------  ---------------  ----------------  -----------------  ----------------  ---------------  -------------  ----------------  ----------  ------------  ------------------------------  ---------  ---------------------  -----------  --------------  ---------------  -----------  ------------  --------------  ------------------  -----------------------  -------------------  -------------  ----------------  ---------------  ----------------  -----------  ----------------  ---------------  ---------------------  ------------------------------------  -----------------------  --------  -------------------------  -------------  ------------  -----------------------  --------------  ------------  ----------  ------------  -----------  ------------  ----------------------------  -------------------------------------  -------------  -------------  -------------  -----------------  ------------------------------  --------------------------  ------------------------  --------------------------  -----------------------  --------------  ----------------------------  -----------  -----------------  -----------  ------------  ------------------  ----------  -------------------  --------------  -----------------------  -------------------  -------------------  -------------------  ---------------------  ----------------------  --------------------  ----------------------  -----------------------------  ------------------  --------------  -----------------  ----------------  -------------------  -------------------  -------------------  --------------------------  -------------------  --------------------------  ----------------------------------  ------------  -----------  -------------------------  --------------  -------------------  -------------------------  -------------------------  -------------------  ----------------------  ----------------------  ------------------  ---------  ---------------  ------------------\n"
          ]
        }
      ]
    }
  ]
}