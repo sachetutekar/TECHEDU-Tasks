{
  "nbformat": 4,
  "nbformat_minor": 0,
  "metadata": {
    "colab": {
      "name": "EDA_NetflixSharePrices.ipynb",
      "provenance": [],
      "collapsed_sections": []
    },
    "kernelspec": {
      "name": "python3",
      "display_name": "Python 3"
    },
    "language_info": {
      "name": "python"
    }
  },
  "cells": [
    {
      "cell_type": "markdown",
      "metadata": {
        "id": "-SdXoTqhvChh"
      },
      "source": [
        "#**Name: Sachet Utekar**"
      ]
    },
    {
      "cell_type": "markdown",
      "metadata": {
        "id": "mNZHxloewSn6"
      },
      "source": [
        "##**Task 1: Netflix Share Prices**"
      ]
    },
    {
      "cell_type": "markdown",
      "metadata": {
        "id": "aTdJfJMbvDOB"
      },
      "source": [
        "##**Dataset Link:** https://bit.ly/3DMcgMK  "
      ]
    },
    {
      "cell_type": "markdown",
      "metadata": {
        "id": "XmHK48syuikQ"
      },
      "source": [
        "##**Importing libraries and taking care of warnings**"
      ]
    },
    {
      "cell_type": "code",
      "metadata": {
        "id": "HHip2ibCuJ60"
      },
      "source": [
        "import numpy as np\n",
        "import pandas as pd\n",
        "import matplotlib.pyplot as plt\n",
        "import seaborn as sb\n",
        "import warnings\n",
        "warnings.filterwarnings(\"ignore\")\n",
        "%matplotlib inline"
      ],
      "execution_count": null,
      "outputs": []
    },
    {
      "cell_type": "markdown",
      "metadata": {
        "id": "4d0_YbPzpAAA"
      },
      "source": [
        "##**Importing Dataset**"
      ]
    },
    {
      "cell_type": "code",
      "metadata": {
        "colab": {
          "base_uri": "https://localhost:8080/",
          "height": 206
        },
        "id": "Lq3dTpgzukbt",
        "outputId": "5edac23f-c0cb-4b9d-c562-d3308ee45976"
      },
      "source": [
        "dataset = pd.read_csv('/content/netflix.csv', header = 0)\n",
        "dataset.head(5)"
      ],
      "execution_count": null,
      "outputs": [
        {
          "output_type": "execute_result",
          "data": {
            "text/html": [
              "<div>\n",
              "<style scoped>\n",
              "    .dataframe tbody tr th:only-of-type {\n",
              "        vertical-align: middle;\n",
              "    }\n",
              "\n",
              "    .dataframe tbody tr th {\n",
              "        vertical-align: top;\n",
              "    }\n",
              "\n",
              "    .dataframe thead th {\n",
              "        text-align: right;\n",
              "    }\n",
              "</style>\n",
              "<table border=\"1\" class=\"dataframe\">\n",
              "  <thead>\n",
              "    <tr style=\"text-align: right;\">\n",
              "      <th></th>\n",
              "      <th>Date</th>\n",
              "      <th>High</th>\n",
              "      <th>Low</th>\n",
              "      <th>Open</th>\n",
              "      <th>Close</th>\n",
              "      <th>Volume</th>\n",
              "      <th>Adj Close</th>\n",
              "    </tr>\n",
              "  </thead>\n",
              "  <tbody>\n",
              "    <tr>\n",
              "      <th>0</th>\n",
              "      <td>2002-05-23</td>\n",
              "      <td>1.242857</td>\n",
              "      <td>1.145714</td>\n",
              "      <td>1.156429</td>\n",
              "      <td>1.196429</td>\n",
              "      <td>104790000.0</td>\n",
              "      <td>1.196429</td>\n",
              "    </tr>\n",
              "    <tr>\n",
              "      <th>1</th>\n",
              "      <td>2002-05-24</td>\n",
              "      <td>1.225000</td>\n",
              "      <td>1.197143</td>\n",
              "      <td>1.214286</td>\n",
              "      <td>1.210000</td>\n",
              "      <td>11104800.0</td>\n",
              "      <td>1.210000</td>\n",
              "    </tr>\n",
              "    <tr>\n",
              "      <th>2</th>\n",
              "      <td>2002-05-28</td>\n",
              "      <td>1.232143</td>\n",
              "      <td>1.157143</td>\n",
              "      <td>1.213571</td>\n",
              "      <td>1.157143</td>\n",
              "      <td>6609400.0</td>\n",
              "      <td>1.157143</td>\n",
              "    </tr>\n",
              "    <tr>\n",
              "      <th>3</th>\n",
              "      <td>2002-05-29</td>\n",
              "      <td>1.164286</td>\n",
              "      <td>1.085714</td>\n",
              "      <td>1.164286</td>\n",
              "      <td>1.103571</td>\n",
              "      <td>6757800.0</td>\n",
              "      <td>1.103571</td>\n",
              "    </tr>\n",
              "    <tr>\n",
              "      <th>4</th>\n",
              "      <td>2002-05-30</td>\n",
              "      <td>1.107857</td>\n",
              "      <td>1.071429</td>\n",
              "      <td>1.107857</td>\n",
              "      <td>1.071429</td>\n",
              "      <td>10154200.0</td>\n",
              "      <td>1.071429</td>\n",
              "    </tr>\n",
              "  </tbody>\n",
              "</table>\n",
              "</div>"
            ],
            "text/plain": [
              "         Date      High       Low      Open     Close       Volume  Adj Close\n",
              "0  2002-05-23  1.242857  1.145714  1.156429  1.196429  104790000.0   1.196429\n",
              "1  2002-05-24  1.225000  1.197143  1.214286  1.210000   11104800.0   1.210000\n",
              "2  2002-05-28  1.232143  1.157143  1.213571  1.157143    6609400.0   1.157143\n",
              "3  2002-05-29  1.164286  1.085714  1.164286  1.103571    6757800.0   1.103571\n",
              "4  2002-05-30  1.107857  1.071429  1.107857  1.071429   10154200.0   1.071429"
            ]
          },
          "metadata": {},
          "execution_count": 2
        }
      ]
    },
    {
      "cell_type": "markdown",
      "metadata": {
        "id": "rVoySqCcptzu"
      },
      "source": [
        "##**Analysing the Data**"
      ]
    },
    {
      "cell_type": "code",
      "metadata": {
        "colab": {
          "base_uri": "https://localhost:8080/"
        },
        "id": "jLI7duE8ok_T",
        "outputId": "d0cc2b00-6d4f-4d8b-c733-78b38e6999cf"
      },
      "source": [
        "#getting the shape of the data\n",
        "#(rows * columns)\n",
        "dataset.shape"
      ],
      "execution_count": null,
      "outputs": [
        {
          "output_type": "execute_result",
          "data": {
            "text/plain": [
              "(4856, 7)"
            ]
          },
          "metadata": {},
          "execution_count": 3
        }
      ]
    },
    {
      "cell_type": "code",
      "metadata": {
        "colab": {
          "base_uri": "https://localhost:8080/",
          "height": 300
        },
        "id": "mDeDuDSmoyWJ",
        "outputId": "12ec96c3-648c-4d29-f45e-053e407664d1"
      },
      "source": [
        "dataset.describe() #describing the dataset"
      ],
      "execution_count": null,
      "outputs": [
        {
          "output_type": "execute_result",
          "data": {
            "text/html": [
              "<div>\n",
              "<style scoped>\n",
              "    .dataframe tbody tr th:only-of-type {\n",
              "        vertical-align: middle;\n",
              "    }\n",
              "\n",
              "    .dataframe tbody tr th {\n",
              "        vertical-align: top;\n",
              "    }\n",
              "\n",
              "    .dataframe thead th {\n",
              "        text-align: right;\n",
              "    }\n",
              "</style>\n",
              "<table border=\"1\" class=\"dataframe\">\n",
              "  <thead>\n",
              "    <tr style=\"text-align: right;\">\n",
              "      <th></th>\n",
              "      <th>High</th>\n",
              "      <th>Low</th>\n",
              "      <th>Open</th>\n",
              "      <th>Close</th>\n",
              "      <th>Volume</th>\n",
              "      <th>Adj Close</th>\n",
              "    </tr>\n",
              "  </thead>\n",
              "  <tbody>\n",
              "    <tr>\n",
              "      <th>count</th>\n",
              "      <td>4856.000000</td>\n",
              "      <td>4856.000000</td>\n",
              "      <td>4856.000000</td>\n",
              "      <td>4856.000000</td>\n",
              "      <td>4.856000e+03</td>\n",
              "      <td>4856.000000</td>\n",
              "    </tr>\n",
              "    <tr>\n",
              "      <th>mean</th>\n",
              "      <td>104.417595</td>\n",
              "      <td>101.223064</td>\n",
              "      <td>102.841799</td>\n",
              "      <td>102.882117</td>\n",
              "      <td>1.686502e+07</td>\n",
              "      <td>102.882117</td>\n",
              "    </tr>\n",
              "    <tr>\n",
              "      <th>std</th>\n",
              "      <td>155.588870</td>\n",
              "      <td>151.003701</td>\n",
              "      <td>153.329766</td>\n",
              "      <td>153.379795</td>\n",
              "      <td>1.939578e+07</td>\n",
              "      <td>153.379795</td>\n",
              "    </tr>\n",
              "    <tr>\n",
              "      <th>min</th>\n",
              "      <td>0.410714</td>\n",
              "      <td>0.346429</td>\n",
              "      <td>0.377857</td>\n",
              "      <td>0.372857</td>\n",
              "      <td>2.856000e+05</td>\n",
              "      <td>0.372857</td>\n",
              "    </tr>\n",
              "    <tr>\n",
              "      <th>25%</th>\n",
              "      <td>3.971072</td>\n",
              "      <td>3.830357</td>\n",
              "      <td>3.892857</td>\n",
              "      <td>3.893929</td>\n",
              "      <td>6.333750e+06</td>\n",
              "      <td>3.893929</td>\n",
              "    </tr>\n",
              "    <tr>\n",
              "      <th>50%</th>\n",
              "      <td>20.756429</td>\n",
              "      <td>20.010715</td>\n",
              "      <td>20.446428</td>\n",
              "      <td>20.429286</td>\n",
              "      <td>1.089410e+07</td>\n",
              "      <td>20.429286</td>\n",
              "    </tr>\n",
              "    <tr>\n",
              "      <th>75%</th>\n",
              "      <td>125.750000</td>\n",
              "      <td>122.302502</td>\n",
              "      <td>124.007502</td>\n",
              "      <td>123.742502</td>\n",
              "      <td>2.021828e+07</td>\n",
              "      <td>123.742502</td>\n",
              "    </tr>\n",
              "    <tr>\n",
              "      <th>max</th>\n",
              "      <td>598.760010</td>\n",
              "      <td>583.679993</td>\n",
              "      <td>585.799988</td>\n",
              "      <td>589.520081</td>\n",
              "      <td>3.234140e+08</td>\n",
              "      <td>589.520081</td>\n",
              "    </tr>\n",
              "  </tbody>\n",
              "</table>\n",
              "</div>"
            ],
            "text/plain": [
              "              High          Low  ...        Volume    Adj Close\n",
              "count  4856.000000  4856.000000  ...  4.856000e+03  4856.000000\n",
              "mean    104.417595   101.223064  ...  1.686502e+07   102.882117\n",
              "std     155.588870   151.003701  ...  1.939578e+07   153.379795\n",
              "min       0.410714     0.346429  ...  2.856000e+05     0.372857\n",
              "25%       3.971072     3.830357  ...  6.333750e+06     3.893929\n",
              "50%      20.756429    20.010715  ...  1.089410e+07    20.429286\n",
              "75%     125.750000   122.302502  ...  2.021828e+07   123.742502\n",
              "max     598.760010   583.679993  ...  3.234140e+08   589.520081\n",
              "\n",
              "[8 rows x 6 columns]"
            ]
          },
          "metadata": {},
          "execution_count": 4
        }
      ]
    },
    {
      "cell_type": "code",
      "metadata": {
        "colab": {
          "base_uri": "https://localhost:8080/"
        },
        "id": "3TcDkYf3ouCU",
        "outputId": "24af6246-454b-40bf-b0ce-bc6b3b8e4ffd"
      },
      "source": [
        "dataset.info() #information regarding the dataset"
      ],
      "execution_count": null,
      "outputs": [
        {
          "output_type": "stream",
          "name": "stdout",
          "text": [
            "<class 'pandas.core.frame.DataFrame'>\n",
            "RangeIndex: 4856 entries, 0 to 4855\n",
            "Data columns (total 7 columns):\n",
            " #   Column     Non-Null Count  Dtype  \n",
            "---  ------     --------------  -----  \n",
            " 0   Date       4856 non-null   object \n",
            " 1   High       4856 non-null   float64\n",
            " 2   Low        4856 non-null   float64\n",
            " 3   Open       4856 non-null   float64\n",
            " 4   Close      4856 non-null   float64\n",
            " 5   Volume     4856 non-null   float64\n",
            " 6   Adj Close  4856 non-null   float64\n",
            "dtypes: float64(6), object(1)\n",
            "memory usage: 265.7+ KB\n"
          ]
        }
      ]
    },
    {
      "cell_type": "code",
      "metadata": {
        "colab": {
          "base_uri": "https://localhost:8080/"
        },
        "id": "v-O-v6BNo4jn",
        "outputId": "31ff3c75-dcac-410f-a9ca-fd4bdff64a60"
      },
      "source": [
        "dataset.isna().any() #checking for missing values"
      ],
      "execution_count": null,
      "outputs": [
        {
          "output_type": "execute_result",
          "data": {
            "text/plain": [
              "Date         False\n",
              "High         False\n",
              "Low          False\n",
              "Open         False\n",
              "Close        False\n",
              "Volume       False\n",
              "Adj Close    False\n",
              "dtype: bool"
            ]
          },
          "metadata": {},
          "execution_count": 6
        }
      ]
    },
    {
      "cell_type": "code",
      "metadata": {
        "colab": {
          "base_uri": "https://localhost:8080/"
        },
        "id": "gwNCpJDepAYw",
        "outputId": "ea1da6a3-b0af-4038-9252-f7711f8a283d"
      },
      "source": [
        "dataset.nunique() #finding out unique records"
      ],
      "execution_count": null,
      "outputs": [
        {
          "output_type": "execute_result",
          "data": {
            "text/plain": [
              "Date         4856\n",
              "High         4304\n",
              "Low          4292\n",
              "Open         4327\n",
              "Close        4390\n",
              "Volume       4717\n",
              "Adj Close    4390\n",
              "dtype: int64"
            ]
          },
          "metadata": {},
          "execution_count": 7
        }
      ]
    },
    {
      "cell_type": "markdown",
      "metadata": {
        "id": "ByxH7pB4p6lB"
      },
      "source": [
        "##**Visualising the Closing Price**"
      ]
    },
    {
      "cell_type": "code",
      "metadata": {
        "colab": {
          "base_uri": "https://localhost:8080/",
          "height": 513
        },
        "id": "Ap8xgIuipWH0",
        "outputId": "0b16eef4-1bc5-46e1-9e41-9a7e2034d80e"
      },
      "source": [
        "plt.figure(figsize = (15,8))\n",
        "plt.title('Netflix')\n",
        "plt.xlabel('Days')\n",
        "plt.ylabel('Close Price ($)')\n",
        "plt.plot(dataset['Close'])\n",
        "plt.show()"
      ],
      "execution_count": null,
      "outputs": [
        {
          "output_type": "display_data",
          "data": {
            "image/png": "[encoded data removed]",
            "text/plain": [
              "<Figure size 1080x576 with 1 Axes>"
            ]
          },
          "metadata": {
            "needs_background": "light"
          }
        }
      ]
    },
    {
      "cell_type": "code",
      "metadata": {
        "colab": {
          "base_uri": "https://localhost:8080/",
          "height": 206
        },
        "id": "ivkoI2WOw_e_",
        "outputId": "5e4f2a80-d556-49a0-dd8a-175dbfa38197"
      },
      "source": [
        "df = dataset[['Close']] #Analysing the close column having closing price\n",
        "df.head()"
      ],
      "execution_count": null,
      "outputs": [
        {
          "output_type": "execute_result",
          "data": {
            "text/html": [
              "<div>\n",
              "<style scoped>\n",
              "    .dataframe tbody tr th:only-of-type {\n",
              "        vertical-align: middle;\n",
              "    }\n",
              "\n",
              "    .dataframe tbody tr th {\n",
              "        vertical-align: top;\n",
              "    }\n",
              "\n",
              "    .dataframe thead th {\n",
              "        text-align: right;\n",
              "    }\n",
              "</style>\n",
              "<table border=\"1\" class=\"dataframe\">\n",
              "  <thead>\n",
              "    <tr style=\"text-align: right;\">\n",
              "      <th></th>\n",
              "      <th>Close</th>\n",
              "    </tr>\n",
              "  </thead>\n",
              "  <tbody>\n",
              "    <tr>\n",
              "      <th>0</th>\n",
              "      <td>1.196429</td>\n",
              "    </tr>\n",
              "    <tr>\n",
              "      <th>1</th>\n",
              "      <td>1.210000</td>\n",
              "    </tr>\n",
              "    <tr>\n",
              "      <th>2</th>\n",
              "      <td>1.157143</td>\n",
              "    </tr>\n",
              "    <tr>\n",
              "      <th>3</th>\n",
              "      <td>1.103571</td>\n",
              "    </tr>\n",
              "    <tr>\n",
              "      <th>4</th>\n",
              "      <td>1.071429</td>\n",
              "    </tr>\n",
              "  </tbody>\n",
              "</table>\n",
              "</div>"
            ],
            "text/plain": [
              "      Close\n",
              "0  1.196429\n",
              "1  1.210000\n",
              "2  1.157143\n",
              "3  1.103571\n",
              "4  1.071429"
            ]
          },
          "metadata": {},
          "execution_count": 9
        }
      ]
    },
    {
      "cell_type": "markdown",
      "metadata": {
        "id": "wLqFQdCSqMkk"
      },
      "source": [
        "##**Prediction**"
      ]
    },
    {
      "cell_type": "code",
      "metadata": {
        "colab": {
          "base_uri": "https://localhost:8080/",
          "height": 206
        },
        "id": "oWQufz7UymFg",
        "outputId": "26c29662-a308-4732-b611-d3be2c8eb75a"
      },
      "source": [
        "#Create a variable to predict the 'X' days out into future\n",
        "future_days = 25\n",
        "\n",
        "#Create a new Column (target) shifted 'X units/days up\n",
        "df['Prediction'] = df[['Close']].shift(-future_days)\n",
        "df.head(5)"
      ],
      "execution_count": null,
      "outputs": [
        {
          "output_type": "execute_result",
          "data": {
            "text/html": [
              "<div>\n",
              "<style scoped>\n",
              "    .dataframe tbody tr th:only-of-type {\n",
              "        vertical-align: middle;\n",
              "    }\n",
              "\n",
              "    .dataframe tbody tr th {\n",
              "        vertical-align: top;\n",
              "    }\n",
              "\n",
              "    .dataframe thead th {\n",
              "        text-align: right;\n",
              "    }\n",
              "</style>\n",
              "<table border=\"1\" class=\"dataframe\">\n",
              "  <thead>\n",
              "    <tr style=\"text-align: right;\">\n",
              "      <th></th>\n",
              "      <th>Close</th>\n",
              "      <th>Prediction</th>\n",
              "    </tr>\n",
              "  </thead>\n",
              "  <tbody>\n",
              "    <tr>\n",
              "      <th>0</th>\n",
              "      <td>1.196429</td>\n",
              "      <td>0.999286</td>\n",
              "    </tr>\n",
              "    <tr>\n",
              "      <th>1</th>\n",
              "      <td>1.210000</td>\n",
              "      <td>1.027857</td>\n",
              "    </tr>\n",
              "    <tr>\n",
              "      <th>2</th>\n",
              "      <td>1.157143</td>\n",
              "      <td>1.172857</td>\n",
              "    </tr>\n",
              "    <tr>\n",
              "      <th>3</th>\n",
              "      <td>1.103571</td>\n",
              "      <td>1.214286</td>\n",
              "    </tr>\n",
              "    <tr>\n",
              "      <th>4</th>\n",
              "      <td>1.071429</td>\n",
              "      <td>1.276429</td>\n",
              "    </tr>\n",
              "  </tbody>\n",
              "</table>\n",
              "</div>"
            ],
            "text/plain": [
              "      Close  Prediction\n",
              "0  1.196429    0.999286\n",
              "1  1.210000    1.027857\n",
              "2  1.157143    1.172857\n",
              "3  1.103571    1.214286\n",
              "4  1.071429    1.276429"
            ]
          },
          "metadata": {},
          "execution_count": 10
        }
      ]
    },
    {
      "cell_type": "code",
      "metadata": {
        "id": "nCNzmbdE1OTk"
      },
      "source": [
        "#Create the feature dataset(X) and convert it to a numpy array\n",
        "X = np.array(df.drop(['Prediction'],1))[:-future_days]"
      ],
      "execution_count": null,
      "outputs": []
    },
    {
      "cell_type": "code",
      "metadata": {
        "colab": {
          "base_uri": "https://localhost:8080/"
        },
        "id": "C_UaS_EK2Bxk",
        "outputId": "f909c0c9-cbb4-465b-a7f2-d9133e3c2138"
      },
      "source": [
        "X"
      ],
      "execution_count": null,
      "outputs": [
        {
          "output_type": "execute_result",
          "data": {
            "text/plain": [
              "array([[  1.19642901],\n",
              "       [  1.21000004],\n",
              "       [  1.157143  ],\n",
              "       ...,\n",
              "       [519.29998779],\n",
              "       [514.25      ],\n",
              "       [517.57000732]])"
            ]
          },
          "metadata": {},
          "execution_count": 12
        }
      ]
    },
    {
      "cell_type": "code",
      "metadata": {
        "id": "qPVD5sWh2Fvt"
      },
      "source": [
        "#Create the target dataset(y) and convert into numpy array and get all target values except last 'X' rows/days\n",
        "\n",
        "y = np.array(df['Prediction'])[:-future_days]"
      ],
      "execution_count": null,
      "outputs": []
    },
    {
      "cell_type": "code",
      "metadata": {
        "colab": {
          "base_uri": "https://localhost:8080/"
        },
        "id": "6LOCV07d2gX1",
        "outputId": "b737f786-d55a-4b68-f04e-5dfebce0291e"
      },
      "source": [
        "y"
      ],
      "execution_count": null,
      "outputs": [
        {
          "output_type": "execute_result",
          "data": {
            "text/plain": [
              "array([  0.999286  ,   1.02785695,   1.17285705, ..., 582.07000732,\n",
              "       588.54998779, 589.52008057])"
            ]
          },
          "metadata": {},
          "execution_count": 14
        }
      ]
    },
    {
      "cell_type": "markdown",
      "metadata": {
        "id": "tOqcC2KYqm0r"
      },
      "source": [
        "##**Importing necessary libraries for regression, splitting and plotting graph** "
      ]
    },
    {
      "cell_type": "code",
      "metadata": {
        "id": "Hhto-obQ2zSA"
      },
      "source": [
        "from sklearn.tree import DecisionTreeRegressor\n",
        "from sklearn.linear_model import LinearRegression\n",
        "from sklearn.model_selection import train_test_split\n",
        "import matplotlib.pyplot as plt\n",
        "plt.style.use('bmh')"
      ],
      "execution_count": null,
      "outputs": []
    },
    {
      "cell_type": "code",
      "metadata": {
        "id": "928UgKCc2_ph"
      },
      "source": [
        "#Spliting the data into 80% training and 20% testing sets resp\n",
        "X_train, X_test, y_train , y_test = train_test_split(X, y, test_size = 0.2, random_state = 0)"
      ],
      "execution_count": null,
      "outputs": []
    },
    {
      "cell_type": "code",
      "metadata": {
        "id": "iyjcT1qU5OtO"
      },
      "source": [
        "#Create models\n",
        "#Create a Descison Tree regressor model\n",
        "tree = DecisionTreeRegressor().fit(X_train,y_train)\n",
        "\n",
        "#Create a Linear Regression model\n",
        "lr = LinearRegression().fit(X_train,y_train)"
      ],
      "execution_count": null,
      "outputs": []
    },
    {
      "cell_type": "code",
      "metadata": {
        "colab": {
          "base_uri": "https://localhost:8080/"
        },
        "id": "G3tsUZSv5UDF",
        "outputId": "4a35dc5b-1cf7-4fb9-c96a-b6f322d99c61"
      },
      "source": [
        "#Get the last rows of feature data set\n",
        "x_future = df.drop(['Prediction'],1)[:-future_days]\n",
        "x_future = x_future.tail(future_days)\n",
        "x_future = np.array(x_future)\n",
        "x_future"
      ],
      "execution_count": null,
      "outputs": [
        {
          "output_type": "execute_result",
          "data": {
            "text/plain": [
              "array([[527.07000732],\n",
              "       [533.0300293 ],\n",
              "       [533.5       ],\n",
              "       [528.21002197],\n",
              "       [533.53997803],\n",
              "       [533.97998047],\n",
              "       [541.64001465],\n",
              "       [535.96002197],\n",
              "       [530.76000977],\n",
              "       [535.97998047],\n",
              "       [537.30999756],\n",
              "       [540.67999268],\n",
              "       [547.95001221],\n",
              "       [542.95001221],\n",
              "       [530.30999756],\n",
              "       [532.2800293 ],\n",
              "       [531.04998779],\n",
              "       [513.63000488],\n",
              "       [511.76998901],\n",
              "       [515.40997314],\n",
              "       [516.48999023],\n",
              "       [518.90997314],\n",
              "       [519.29998779],\n",
              "       [514.25      ],\n",
              "       [517.57000732]])"
            ]
          },
          "metadata": {},
          "execution_count": 18
        }
      ]
    },
    {
      "cell_type": "code",
      "metadata": {
        "colab": {
          "base_uri": "https://localhost:8080/"
        },
        "id": "lRS79Av35ZcY",
        "outputId": "c151df60-cad9-48af-fe26-60ff9842a55f"
      },
      "source": [
        "#Show the model tree Prediction\n",
        "tree_prediction = tree.predict(x_future)\n",
        "print(tree_prediction)\n",
        "\n",
        "print()\n",
        "\n",
        "#Show the model linear regrssion prediction\n",
        "lr_prediction = lr.predict(x_future)\n",
        "print(lr_prediction)"
      ],
      "execution_count": null,
      "outputs": [
        {
          "output_type": "stream",
          "name": "stdout",
          "text": [
            "[515.15002441 510.82000732 517.34997559 524.89001465 520.54998779\n",
            " 519.9699707  515.84002686 512.40002441 488.23999023 512.40002441\n",
            " 517.91998291 518.90997314 521.86999512 543.71002197 488.23999023\n",
            " 553.33001709 552.15997314 547.58001709 550.11999512 558.91998291\n",
            " 552.7800293  569.19000244 582.07000732 588.54998779 589.52008057]\n",
            "\n",
            "[534.93453739 540.96603214 541.44163875 536.08822313 541.48209619\n",
            " 541.92737516 549.67926872 543.93116138 538.66879046 543.95135922\n",
            " 545.29732592 548.70773413 556.06493597 551.00497581 538.21338169\n",
            " 540.20703812 538.96224591 521.333362   519.45104076 523.1346757\n",
            " 524.22764439 526.67664781 527.07133953 521.96079212 525.32061308]\n"
          ]
        }
      ]
    },
    {
      "cell_type": "markdown",
      "metadata": {
        "id": "lepKrqkielRg"
      },
      "source": [
        "#**Data Visualisation**"
      ]
    },
    {
      "cell_type": "markdown",
      "metadata": {
        "id": "sTGVqF-grwCa"
      },
      "source": [
        "##**Visualizing Tree Model Prediction**"
      ]
    },
    {
      "cell_type": "code",
      "metadata": {
        "colab": {
          "base_uri": "https://localhost:8080/",
          "height": 513
        },
        "id": "a2aimUII5quu",
        "outputId": "0643b9ba-4d23-4ddc-f094-c9edacfee945"
      },
      "source": [
        "#Visualize the data\n",
        "Prediction = tree_prediction\n",
        "\n",
        "valid = df[X.shape[0]:]\n",
        "valid['Prediction'] = Prediction\n",
        "\n",
        "plt.figure(figsize = (16,8))\n",
        "plt.title(\"Model\")\n",
        "plt.xlabel(\"Days\")\n",
        "plt.ylabel(\"Close Price USD\")\n",
        "plt.plot(df['Close'])\n",
        "plt.plot(valid[['Close','Prediction']])\n",
        "plt.legend(['Orig','Val','Pred']);"
      ],
      "execution_count": null,
      "outputs": [
        {
          "output_type": "display_data",
          "data": {
            "image/png": "[encoded data removed]",
            "text/plain": [
              "<Figure size 1152x576 with 1 Axes>"
            ]
          },
          "metadata": {
            "needs_background": "light"
          }
        }
      ]
    },
    {
      "cell_type": "markdown",
      "metadata": {
        "id": "mX9KBsZRsfvO"
      },
      "source": [
        "##**Visualizing Linear Model Regression Prediction**"
      ]
    },
    {
      "cell_type": "code",
      "metadata": {
        "colab": {
          "base_uri": "https://localhost:8080/",
          "height": 513
        },
        "id": "lKvPCBZWEw3S",
        "outputId": "310131b0-050f-4dfd-b583-9fd4c568093b"
      },
      "source": [
        "#Visualize the data\n",
        "Prediction = lr_prediction\n",
        "\n",
        "valid = df[X.shape[0]:]\n",
        "valid['Prediction'] = Prediction\n",
        "\n",
        "plt.figure(figsize = (16,8))\n",
        "plt.title(\"Model\")\n",
        "plt.xlabel(\"Days\")\n",
        "plt.ylabel(\"Close Price USD\")\n",
        "plt.plot(df['Close'])\n",
        "plt.plot(valid[['Close','Prediction']])\n",
        "plt.legend(['Orig','Val','Pred']);"
      ],
      "execution_count": null,
      "outputs": [
        {
          "output_type": "display_data",
          "data": {
            "image/png": "[encoded data removed]",
            "text/plain": [
              "<Figure size 1152x576 with 1 Axes>"
            ]
          },
          "metadata": {
            "needs_background": "light"
          }
        }
      ]
    },
    {
      "cell_type": "code",
      "metadata": {
        "id": "QALZS8BSExX0"
      },
      "source": [
        ""
      ],
      "execution_count": null,
      "outputs": []
    }
  ]
}